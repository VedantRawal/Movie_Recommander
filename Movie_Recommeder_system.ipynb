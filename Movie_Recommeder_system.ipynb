{
 "cells": [
  {
   "cell_type": "markdown",
   "id": "775e802c",
   "metadata": {},
   "source": [
    "# Importing Libraries"
   ]
  },
  {
   "cell_type": "code",
   "execution_count": 1,
   "id": "398cbb6e",
   "metadata": {},
   "outputs": [],
   "source": [
    "import numpy as np\n",
    "import pandas as pd\n",
    "import matplotlib.pyplot as plt\n",
    "import seaborn as sns\n",
    "import warnings\n",
    "warnings.filterwarnings(\"ignore\")\n",
    "\n",
    "import neattext.functions as nfx\n",
    "from sklearn.feature_extraction.text import CountVectorizer,TfidfVectorizer\n",
    "from sklearn.model_selection import train_test_split,cross_val_score\n",
    "from sklearn.pipeline import Pipeline\n",
    "from sklearn.naive_bayes import MultinomialNB\n",
    "from sklearn.linear_model import LogisticRegression\n",
    "from sklearn.neural_network import MLPClassifier\n",
    "from sklearn.tree import DecisionTreeClassifier\n",
    "\n",
    "from sklearn.metrics import accuracy_score, classification_report\n",
    "from sklearn.metrics import confusion_matrix\n",
    "from sklearn.model_selection import train_test_split,cross_val_score\n",
    "from sklearn.multioutput import MultiOutputClassifier\n",
    "import joblib"
   ]
  },
  {
   "cell_type": "markdown",
   "id": "c3d06e46",
   "metadata": {},
   "source": [
    "# Load DataSet"
   ]
  },
  {
   "cell_type": "code",
   "execution_count": 2,
   "id": "46f71e2e",
   "metadata": {},
   "outputs": [],
   "source": [
    "movies = pd.read_csv('netflix_titles.csv')"
   ]
  },
  {
   "cell_type": "code",
   "execution_count": 3,
   "id": "50a2f5c7",
   "metadata": {},
   "outputs": [
    {
     "data": {
      "text/html": [
       "<div>\n",
       "<style scoped>\n",
       "    .dataframe tbody tr th:only-of-type {\n",
       "        vertical-align: middle;\n",
       "    }\n",
       "\n",
       "    .dataframe tbody tr th {\n",
       "        vertical-align: top;\n",
       "    }\n",
       "\n",
       "    .dataframe thead th {\n",
       "        text-align: right;\n",
       "    }\n",
       "</style>\n",
       "<table border=\"1\" class=\"dataframe\">\n",
       "  <thead>\n",
       "    <tr style=\"text-align: right;\">\n",
       "      <th></th>\n",
       "      <th>show_id</th>\n",
       "      <th>type</th>\n",
       "      <th>title</th>\n",
       "      <th>director</th>\n",
       "      <th>cast</th>\n",
       "      <th>country</th>\n",
       "      <th>date_added</th>\n",
       "      <th>release_year</th>\n",
       "      <th>rating</th>\n",
       "      <th>duration</th>\n",
       "      <th>listed_in</th>\n",
       "      <th>description</th>\n",
       "    </tr>\n",
       "  </thead>\n",
       "  <tbody>\n",
       "    <tr>\n",
       "      <th>0</th>\n",
       "      <td>s1</td>\n",
       "      <td>Movie</td>\n",
       "      <td>Dick Johnson Is Dead</td>\n",
       "      <td>Kirsten Johnson</td>\n",
       "      <td>NaN</td>\n",
       "      <td>United States</td>\n",
       "      <td>September 25, 2021</td>\n",
       "      <td>2020</td>\n",
       "      <td>PG-13</td>\n",
       "      <td>90 min</td>\n",
       "      <td>Documentaries</td>\n",
       "      <td>As her father nears the end of his life, filmm...</td>\n",
       "    </tr>\n",
       "    <tr>\n",
       "      <th>1</th>\n",
       "      <td>s2</td>\n",
       "      <td>TV Show</td>\n",
       "      <td>Blood &amp; Water</td>\n",
       "      <td>NaN</td>\n",
       "      <td>Ama Qamata, Khosi Ngema, Gail Mabalane, Thaban...</td>\n",
       "      <td>South Africa</td>\n",
       "      <td>September 24, 2021</td>\n",
       "      <td>2021</td>\n",
       "      <td>TV-MA</td>\n",
       "      <td>2 Seasons</td>\n",
       "      <td>International TV Shows, TV Dramas, TV Mysteries</td>\n",
       "      <td>After crossing paths at a party, a Cape Town t...</td>\n",
       "    </tr>\n",
       "    <tr>\n",
       "      <th>2</th>\n",
       "      <td>s3</td>\n",
       "      <td>TV Show</td>\n",
       "      <td>Ganglands</td>\n",
       "      <td>Julien Leclercq</td>\n",
       "      <td>Sami Bouajila, Tracy Gotoas, Samuel Jouy, Nabi...</td>\n",
       "      <td>NaN</td>\n",
       "      <td>September 24, 2021</td>\n",
       "      <td>2021</td>\n",
       "      <td>TV-MA</td>\n",
       "      <td>1 Season</td>\n",
       "      <td>Crime TV Shows, International TV Shows, TV Act...</td>\n",
       "      <td>To protect his family from a powerful drug lor...</td>\n",
       "    </tr>\n",
       "    <tr>\n",
       "      <th>3</th>\n",
       "      <td>s4</td>\n",
       "      <td>TV Show</td>\n",
       "      <td>Jailbirds New Orleans</td>\n",
       "      <td>NaN</td>\n",
       "      <td>NaN</td>\n",
       "      <td>NaN</td>\n",
       "      <td>September 24, 2021</td>\n",
       "      <td>2021</td>\n",
       "      <td>TV-MA</td>\n",
       "      <td>1 Season</td>\n",
       "      <td>Docuseries, Reality TV</td>\n",
       "      <td>Feuds, flirtations and toilet talk go down amo...</td>\n",
       "    </tr>\n",
       "    <tr>\n",
       "      <th>4</th>\n",
       "      <td>s5</td>\n",
       "      <td>TV Show</td>\n",
       "      <td>Kota Factory</td>\n",
       "      <td>NaN</td>\n",
       "      <td>Mayur More, Jitendra Kumar, Ranjan Raj, Alam K...</td>\n",
       "      <td>India</td>\n",
       "      <td>September 24, 2021</td>\n",
       "      <td>2021</td>\n",
       "      <td>TV-MA</td>\n",
       "      <td>2 Seasons</td>\n",
       "      <td>International TV Shows, Romantic TV Shows, TV ...</td>\n",
       "      <td>In a city of coaching centers known to train I...</td>\n",
       "    </tr>\n",
       "    <tr>\n",
       "      <th>...</th>\n",
       "      <td>...</td>\n",
       "      <td>...</td>\n",
       "      <td>...</td>\n",
       "      <td>...</td>\n",
       "      <td>...</td>\n",
       "      <td>...</td>\n",
       "      <td>...</td>\n",
       "      <td>...</td>\n",
       "      <td>...</td>\n",
       "      <td>...</td>\n",
       "      <td>...</td>\n",
       "      <td>...</td>\n",
       "    </tr>\n",
       "    <tr>\n",
       "      <th>8802</th>\n",
       "      <td>s8803</td>\n",
       "      <td>Movie</td>\n",
       "      <td>Zodiac</td>\n",
       "      <td>David Fincher</td>\n",
       "      <td>Mark Ruffalo, Jake Gyllenhaal, Robert Downey J...</td>\n",
       "      <td>United States</td>\n",
       "      <td>November 20, 2019</td>\n",
       "      <td>2007</td>\n",
       "      <td>R</td>\n",
       "      <td>158 min</td>\n",
       "      <td>Cult Movies, Dramas, Thrillers</td>\n",
       "      <td>A political cartoonist, a crime reporter and a...</td>\n",
       "    </tr>\n",
       "    <tr>\n",
       "      <th>8803</th>\n",
       "      <td>s8804</td>\n",
       "      <td>TV Show</td>\n",
       "      <td>Zombie Dumb</td>\n",
       "      <td>NaN</td>\n",
       "      <td>NaN</td>\n",
       "      <td>NaN</td>\n",
       "      <td>July 1, 2019</td>\n",
       "      <td>2018</td>\n",
       "      <td>TV-Y7</td>\n",
       "      <td>2 Seasons</td>\n",
       "      <td>Kids' TV, Korean TV Shows, TV Comedies</td>\n",
       "      <td>While living alone in a spooky town, a young g...</td>\n",
       "    </tr>\n",
       "    <tr>\n",
       "      <th>8804</th>\n",
       "      <td>s8805</td>\n",
       "      <td>Movie</td>\n",
       "      <td>Zombieland</td>\n",
       "      <td>Ruben Fleischer</td>\n",
       "      <td>Jesse Eisenberg, Woody Harrelson, Emma Stone, ...</td>\n",
       "      <td>United States</td>\n",
       "      <td>November 1, 2019</td>\n",
       "      <td>2009</td>\n",
       "      <td>R</td>\n",
       "      <td>88 min</td>\n",
       "      <td>Comedies, Horror Movies</td>\n",
       "      <td>Looking to survive in a world taken over by zo...</td>\n",
       "    </tr>\n",
       "    <tr>\n",
       "      <th>8805</th>\n",
       "      <td>s8806</td>\n",
       "      <td>Movie</td>\n",
       "      <td>Zoom</td>\n",
       "      <td>Peter Hewitt</td>\n",
       "      <td>Tim Allen, Courteney Cox, Chevy Chase, Kate Ma...</td>\n",
       "      <td>United States</td>\n",
       "      <td>January 11, 2020</td>\n",
       "      <td>2006</td>\n",
       "      <td>PG</td>\n",
       "      <td>88 min</td>\n",
       "      <td>Children &amp; Family Movies, Comedies</td>\n",
       "      <td>Dragged from civilian life, a former superhero...</td>\n",
       "    </tr>\n",
       "    <tr>\n",
       "      <th>8806</th>\n",
       "      <td>s8807</td>\n",
       "      <td>Movie</td>\n",
       "      <td>Zubaan</td>\n",
       "      <td>Mozez Singh</td>\n",
       "      <td>Vicky Kaushal, Sarah-Jane Dias, Raaghav Chanan...</td>\n",
       "      <td>India</td>\n",
       "      <td>March 2, 2019</td>\n",
       "      <td>2015</td>\n",
       "      <td>TV-14</td>\n",
       "      <td>111 min</td>\n",
       "      <td>Dramas, International Movies, Music &amp; Musicals</td>\n",
       "      <td>A scrappy but poor boy worms his way into a ty...</td>\n",
       "    </tr>\n",
       "  </tbody>\n",
       "</table>\n",
       "<p>8807 rows × 12 columns</p>\n",
       "</div>"
      ],
      "text/plain": [
       "     show_id     type                  title         director  \\\n",
       "0         s1    Movie   Dick Johnson Is Dead  Kirsten Johnson   \n",
       "1         s2  TV Show          Blood & Water              NaN   \n",
       "2         s3  TV Show              Ganglands  Julien Leclercq   \n",
       "3         s4  TV Show  Jailbirds New Orleans              NaN   \n",
       "4         s5  TV Show           Kota Factory              NaN   \n",
       "...      ...      ...                    ...              ...   \n",
       "8802   s8803    Movie                 Zodiac    David Fincher   \n",
       "8803   s8804  TV Show            Zombie Dumb              NaN   \n",
       "8804   s8805    Movie             Zombieland  Ruben Fleischer   \n",
       "8805   s8806    Movie                   Zoom     Peter Hewitt   \n",
       "8806   s8807    Movie                 Zubaan      Mozez Singh   \n",
       "\n",
       "                                                   cast        country  \\\n",
       "0                                                   NaN  United States   \n",
       "1     Ama Qamata, Khosi Ngema, Gail Mabalane, Thaban...   South Africa   \n",
       "2     Sami Bouajila, Tracy Gotoas, Samuel Jouy, Nabi...            NaN   \n",
       "3                                                   NaN            NaN   \n",
       "4     Mayur More, Jitendra Kumar, Ranjan Raj, Alam K...          India   \n",
       "...                                                 ...            ...   \n",
       "8802  Mark Ruffalo, Jake Gyllenhaal, Robert Downey J...  United States   \n",
       "8803                                                NaN            NaN   \n",
       "8804  Jesse Eisenberg, Woody Harrelson, Emma Stone, ...  United States   \n",
       "8805  Tim Allen, Courteney Cox, Chevy Chase, Kate Ma...  United States   \n",
       "8806  Vicky Kaushal, Sarah-Jane Dias, Raaghav Chanan...          India   \n",
       "\n",
       "              date_added  release_year rating   duration  \\\n",
       "0     September 25, 2021          2020  PG-13     90 min   \n",
       "1     September 24, 2021          2021  TV-MA  2 Seasons   \n",
       "2     September 24, 2021          2021  TV-MA   1 Season   \n",
       "3     September 24, 2021          2021  TV-MA   1 Season   \n",
       "4     September 24, 2021          2021  TV-MA  2 Seasons   \n",
       "...                  ...           ...    ...        ...   \n",
       "8802   November 20, 2019          2007      R    158 min   \n",
       "8803        July 1, 2019          2018  TV-Y7  2 Seasons   \n",
       "8804    November 1, 2019          2009      R     88 min   \n",
       "8805    January 11, 2020          2006     PG     88 min   \n",
       "8806       March 2, 2019          2015  TV-14    111 min   \n",
       "\n",
       "                                              listed_in  \\\n",
       "0                                         Documentaries   \n",
       "1       International TV Shows, TV Dramas, TV Mysteries   \n",
       "2     Crime TV Shows, International TV Shows, TV Act...   \n",
       "3                                Docuseries, Reality TV   \n",
       "4     International TV Shows, Romantic TV Shows, TV ...   \n",
       "...                                                 ...   \n",
       "8802                     Cult Movies, Dramas, Thrillers   \n",
       "8803             Kids' TV, Korean TV Shows, TV Comedies   \n",
       "8804                            Comedies, Horror Movies   \n",
       "8805                 Children & Family Movies, Comedies   \n",
       "8806     Dramas, International Movies, Music & Musicals   \n",
       "\n",
       "                                            description  \n",
       "0     As her father nears the end of his life, filmm...  \n",
       "1     After crossing paths at a party, a Cape Town t...  \n",
       "2     To protect his family from a powerful drug lor...  \n",
       "3     Feuds, flirtations and toilet talk go down amo...  \n",
       "4     In a city of coaching centers known to train I...  \n",
       "...                                                 ...  \n",
       "8802  A political cartoonist, a crime reporter and a...  \n",
       "8803  While living alone in a spooky town, a young g...  \n",
       "8804  Looking to survive in a world taken over by zo...  \n",
       "8805  Dragged from civilian life, a former superhero...  \n",
       "8806  A scrappy but poor boy worms his way into a ty...  \n",
       "\n",
       "[8807 rows x 12 columns]"
      ]
     },
     "execution_count": 3,
     "metadata": {},
     "output_type": "execute_result"
    }
   ],
   "source": [
    "movies"
   ]
  },
  {
   "cell_type": "code",
   "execution_count": 4,
   "id": "75d411c3",
   "metadata": {},
   "outputs": [
    {
     "name": "stdout",
     "output_type": "stream",
     "text": [
      "<class 'pandas.core.frame.DataFrame'>\n",
      "RangeIndex: 8807 entries, 0 to 8806\n",
      "Data columns (total 12 columns):\n",
      " #   Column        Non-Null Count  Dtype \n",
      "---  ------        --------------  ----- \n",
      " 0   show_id       8807 non-null   object\n",
      " 1   type          8807 non-null   object\n",
      " 2   title         8807 non-null   object\n",
      " 3   director      6173 non-null   object\n",
      " 4   cast          7982 non-null   object\n",
      " 5   country       7976 non-null   object\n",
      " 6   date_added    8797 non-null   object\n",
      " 7   release_year  8807 non-null   int64 \n",
      " 8   rating        8803 non-null   object\n",
      " 9   duration      8804 non-null   object\n",
      " 10  listed_in     8807 non-null   object\n",
      " 11  description   8807 non-null   object\n",
      "dtypes: int64(1), object(11)\n",
      "memory usage: 825.8+ KB\n"
     ]
    }
   ],
   "source": [
    "movies.info()"
   ]
  },
  {
   "cell_type": "markdown",
   "id": "81974bc7",
   "metadata": {},
   "source": [
    "# Preprocessing"
   ]
  },
  {
   "cell_type": "code",
   "execution_count": 5,
   "id": "03b91ecd",
   "metadata": {},
   "outputs": [],
   "source": [
    "# Drop Null Values\n",
    "movies=movies.dropna().reset_index(drop=True)"
   ]
  },
  {
   "cell_type": "code",
   "execution_count": 6,
   "id": "2f56d381",
   "metadata": {},
   "outputs": [
    {
     "data": {
      "text/html": [
       "<div>\n",
       "<style scoped>\n",
       "    .dataframe tbody tr th:only-of-type {\n",
       "        vertical-align: middle;\n",
       "    }\n",
       "\n",
       "    .dataframe tbody tr th {\n",
       "        vertical-align: top;\n",
       "    }\n",
       "\n",
       "    .dataframe thead th {\n",
       "        text-align: right;\n",
       "    }\n",
       "</style>\n",
       "<table border=\"1\" class=\"dataframe\">\n",
       "  <thead>\n",
       "    <tr style=\"text-align: right;\">\n",
       "      <th></th>\n",
       "      <th>show_id</th>\n",
       "      <th>type</th>\n",
       "      <th>title</th>\n",
       "      <th>director</th>\n",
       "      <th>cast</th>\n",
       "      <th>country</th>\n",
       "      <th>date_added</th>\n",
       "      <th>release_year</th>\n",
       "      <th>rating</th>\n",
       "      <th>duration</th>\n",
       "      <th>listed_in</th>\n",
       "      <th>description</th>\n",
       "    </tr>\n",
       "  </thead>\n",
       "  <tbody>\n",
       "    <tr>\n",
       "      <th>0</th>\n",
       "      <td>s8</td>\n",
       "      <td>Movie</td>\n",
       "      <td>Sankofa</td>\n",
       "      <td>Haile Gerima</td>\n",
       "      <td>Kofi Ghanaba, Oyafunmike Ogunlano, Alexandra D...</td>\n",
       "      <td>United States, Ghana, Burkina Faso, United Kin...</td>\n",
       "      <td>September 24, 2021</td>\n",
       "      <td>1993</td>\n",
       "      <td>TV-MA</td>\n",
       "      <td>125 min</td>\n",
       "      <td>Dramas, Independent Movies, International Movies</td>\n",
       "      <td>On a photo shoot in Ghana, an American model s...</td>\n",
       "    </tr>\n",
       "    <tr>\n",
       "      <th>1</th>\n",
       "      <td>s9</td>\n",
       "      <td>TV Show</td>\n",
       "      <td>The Great British Baking Show</td>\n",
       "      <td>Andy Devonshire</td>\n",
       "      <td>Mel Giedroyc, Sue Perkins, Mary Berry, Paul Ho...</td>\n",
       "      <td>United Kingdom</td>\n",
       "      <td>September 24, 2021</td>\n",
       "      <td>2021</td>\n",
       "      <td>TV-14</td>\n",
       "      <td>9 Seasons</td>\n",
       "      <td>British TV Shows, Reality TV</td>\n",
       "      <td>A talented batch of amateur bakers face off in...</td>\n",
       "    </tr>\n",
       "    <tr>\n",
       "      <th>2</th>\n",
       "      <td>s10</td>\n",
       "      <td>Movie</td>\n",
       "      <td>The Starling</td>\n",
       "      <td>Theodore Melfi</td>\n",
       "      <td>Melissa McCarthy, Chris O'Dowd, Kevin Kline, T...</td>\n",
       "      <td>United States</td>\n",
       "      <td>September 24, 2021</td>\n",
       "      <td>2021</td>\n",
       "      <td>PG-13</td>\n",
       "      <td>104 min</td>\n",
       "      <td>Comedies, Dramas</td>\n",
       "      <td>A woman adjusting to life after a loss contend...</td>\n",
       "    </tr>\n",
       "    <tr>\n",
       "      <th>3</th>\n",
       "      <td>s13</td>\n",
       "      <td>Movie</td>\n",
       "      <td>Je Suis Karl</td>\n",
       "      <td>Christian Schwochow</td>\n",
       "      <td>Luna Wedler, Jannis Niewöhner, Milan Peschel, ...</td>\n",
       "      <td>Germany, Czech Republic</td>\n",
       "      <td>September 23, 2021</td>\n",
       "      <td>2021</td>\n",
       "      <td>TV-MA</td>\n",
       "      <td>127 min</td>\n",
       "      <td>Dramas, International Movies</td>\n",
       "      <td>After most of her family is murdered in a terr...</td>\n",
       "    </tr>\n",
       "    <tr>\n",
       "      <th>4</th>\n",
       "      <td>s25</td>\n",
       "      <td>Movie</td>\n",
       "      <td>Jeans</td>\n",
       "      <td>S. Shankar</td>\n",
       "      <td>Prashanth, Aishwarya Rai Bachchan, Sri Lakshmi...</td>\n",
       "      <td>India</td>\n",
       "      <td>September 21, 2021</td>\n",
       "      <td>1998</td>\n",
       "      <td>TV-14</td>\n",
       "      <td>166 min</td>\n",
       "      <td>Comedies, International Movies, Romantic Movies</td>\n",
       "      <td>When the father of the man she loves insists t...</td>\n",
       "    </tr>\n",
       "    <tr>\n",
       "      <th>...</th>\n",
       "      <td>...</td>\n",
       "      <td>...</td>\n",
       "      <td>...</td>\n",
       "      <td>...</td>\n",
       "      <td>...</td>\n",
       "      <td>...</td>\n",
       "      <td>...</td>\n",
       "      <td>...</td>\n",
       "      <td>...</td>\n",
       "      <td>...</td>\n",
       "      <td>...</td>\n",
       "      <td>...</td>\n",
       "    </tr>\n",
       "    <tr>\n",
       "      <th>5327</th>\n",
       "      <td>s8802</td>\n",
       "      <td>Movie</td>\n",
       "      <td>Zinzana</td>\n",
       "      <td>Majid Al Ansari</td>\n",
       "      <td>Ali Suliman, Saleh Bakri, Yasa, Ali Al-Jabri, ...</td>\n",
       "      <td>United Arab Emirates, Jordan</td>\n",
       "      <td>March 9, 2016</td>\n",
       "      <td>2015</td>\n",
       "      <td>TV-MA</td>\n",
       "      <td>96 min</td>\n",
       "      <td>Dramas, International Movies, Thrillers</td>\n",
       "      <td>Recovering alcoholic Talal wakes up inside a s...</td>\n",
       "    </tr>\n",
       "    <tr>\n",
       "      <th>5328</th>\n",
       "      <td>s8803</td>\n",
       "      <td>Movie</td>\n",
       "      <td>Zodiac</td>\n",
       "      <td>David Fincher</td>\n",
       "      <td>Mark Ruffalo, Jake Gyllenhaal, Robert Downey J...</td>\n",
       "      <td>United States</td>\n",
       "      <td>November 20, 2019</td>\n",
       "      <td>2007</td>\n",
       "      <td>R</td>\n",
       "      <td>158 min</td>\n",
       "      <td>Cult Movies, Dramas, Thrillers</td>\n",
       "      <td>A political cartoonist, a crime reporter and a...</td>\n",
       "    </tr>\n",
       "    <tr>\n",
       "      <th>5329</th>\n",
       "      <td>s8805</td>\n",
       "      <td>Movie</td>\n",
       "      <td>Zombieland</td>\n",
       "      <td>Ruben Fleischer</td>\n",
       "      <td>Jesse Eisenberg, Woody Harrelson, Emma Stone, ...</td>\n",
       "      <td>United States</td>\n",
       "      <td>November 1, 2019</td>\n",
       "      <td>2009</td>\n",
       "      <td>R</td>\n",
       "      <td>88 min</td>\n",
       "      <td>Comedies, Horror Movies</td>\n",
       "      <td>Looking to survive in a world taken over by zo...</td>\n",
       "    </tr>\n",
       "    <tr>\n",
       "      <th>5330</th>\n",
       "      <td>s8806</td>\n",
       "      <td>Movie</td>\n",
       "      <td>Zoom</td>\n",
       "      <td>Peter Hewitt</td>\n",
       "      <td>Tim Allen, Courteney Cox, Chevy Chase, Kate Ma...</td>\n",
       "      <td>United States</td>\n",
       "      <td>January 11, 2020</td>\n",
       "      <td>2006</td>\n",
       "      <td>PG</td>\n",
       "      <td>88 min</td>\n",
       "      <td>Children &amp; Family Movies, Comedies</td>\n",
       "      <td>Dragged from civilian life, a former superhero...</td>\n",
       "    </tr>\n",
       "    <tr>\n",
       "      <th>5331</th>\n",
       "      <td>s8807</td>\n",
       "      <td>Movie</td>\n",
       "      <td>Zubaan</td>\n",
       "      <td>Mozez Singh</td>\n",
       "      <td>Vicky Kaushal, Sarah-Jane Dias, Raaghav Chanan...</td>\n",
       "      <td>India</td>\n",
       "      <td>March 2, 2019</td>\n",
       "      <td>2015</td>\n",
       "      <td>TV-14</td>\n",
       "      <td>111 min</td>\n",
       "      <td>Dramas, International Movies, Music &amp; Musicals</td>\n",
       "      <td>A scrappy but poor boy worms his way into a ty...</td>\n",
       "    </tr>\n",
       "  </tbody>\n",
       "</table>\n",
       "<p>5332 rows × 12 columns</p>\n",
       "</div>"
      ],
      "text/plain": [
       "     show_id     type                          title             director  \\\n",
       "0         s8    Movie                        Sankofa         Haile Gerima   \n",
       "1         s9  TV Show  The Great British Baking Show      Andy Devonshire   \n",
       "2        s10    Movie                   The Starling       Theodore Melfi   \n",
       "3        s13    Movie                   Je Suis Karl  Christian Schwochow   \n",
       "4        s25    Movie                          Jeans           S. Shankar   \n",
       "...      ...      ...                            ...                  ...   \n",
       "5327   s8802    Movie                        Zinzana      Majid Al Ansari   \n",
       "5328   s8803    Movie                         Zodiac        David Fincher   \n",
       "5329   s8805    Movie                     Zombieland      Ruben Fleischer   \n",
       "5330   s8806    Movie                           Zoom         Peter Hewitt   \n",
       "5331   s8807    Movie                         Zubaan          Mozez Singh   \n",
       "\n",
       "                                                   cast  \\\n",
       "0     Kofi Ghanaba, Oyafunmike Ogunlano, Alexandra D...   \n",
       "1     Mel Giedroyc, Sue Perkins, Mary Berry, Paul Ho...   \n",
       "2     Melissa McCarthy, Chris O'Dowd, Kevin Kline, T...   \n",
       "3     Luna Wedler, Jannis Niewöhner, Milan Peschel, ...   \n",
       "4     Prashanth, Aishwarya Rai Bachchan, Sri Lakshmi...   \n",
       "...                                                 ...   \n",
       "5327  Ali Suliman, Saleh Bakri, Yasa, Ali Al-Jabri, ...   \n",
       "5328  Mark Ruffalo, Jake Gyllenhaal, Robert Downey J...   \n",
       "5329  Jesse Eisenberg, Woody Harrelson, Emma Stone, ...   \n",
       "5330  Tim Allen, Courteney Cox, Chevy Chase, Kate Ma...   \n",
       "5331  Vicky Kaushal, Sarah-Jane Dias, Raaghav Chanan...   \n",
       "\n",
       "                                                country          date_added  \\\n",
       "0     United States, Ghana, Burkina Faso, United Kin...  September 24, 2021   \n",
       "1                                        United Kingdom  September 24, 2021   \n",
       "2                                         United States  September 24, 2021   \n",
       "3                               Germany, Czech Republic  September 23, 2021   \n",
       "4                                                 India  September 21, 2021   \n",
       "...                                                 ...                 ...   \n",
       "5327                       United Arab Emirates, Jordan       March 9, 2016   \n",
       "5328                                      United States   November 20, 2019   \n",
       "5329                                      United States    November 1, 2019   \n",
       "5330                                      United States    January 11, 2020   \n",
       "5331                                              India       March 2, 2019   \n",
       "\n",
       "      release_year rating   duration  \\\n",
       "0             1993  TV-MA    125 min   \n",
       "1             2021  TV-14  9 Seasons   \n",
       "2             2021  PG-13    104 min   \n",
       "3             2021  TV-MA    127 min   \n",
       "4             1998  TV-14    166 min   \n",
       "...            ...    ...        ...   \n",
       "5327          2015  TV-MA     96 min   \n",
       "5328          2007      R    158 min   \n",
       "5329          2009      R     88 min   \n",
       "5330          2006     PG     88 min   \n",
       "5331          2015  TV-14    111 min   \n",
       "\n",
       "                                             listed_in  \\\n",
       "0     Dramas, Independent Movies, International Movies   \n",
       "1                         British TV Shows, Reality TV   \n",
       "2                                     Comedies, Dramas   \n",
       "3                         Dramas, International Movies   \n",
       "4      Comedies, International Movies, Romantic Movies   \n",
       "...                                                ...   \n",
       "5327           Dramas, International Movies, Thrillers   \n",
       "5328                    Cult Movies, Dramas, Thrillers   \n",
       "5329                           Comedies, Horror Movies   \n",
       "5330                Children & Family Movies, Comedies   \n",
       "5331    Dramas, International Movies, Music & Musicals   \n",
       "\n",
       "                                            description  \n",
       "0     On a photo shoot in Ghana, an American model s...  \n",
       "1     A talented batch of amateur bakers face off in...  \n",
       "2     A woman adjusting to life after a loss contend...  \n",
       "3     After most of her family is murdered in a terr...  \n",
       "4     When the father of the man she loves insists t...  \n",
       "...                                                 ...  \n",
       "5327  Recovering alcoholic Talal wakes up inside a s...  \n",
       "5328  A political cartoonist, a crime reporter and a...  \n",
       "5329  Looking to survive in a world taken over by zo...  \n",
       "5330  Dragged from civilian life, a former superhero...  \n",
       "5331  A scrappy but poor boy worms his way into a ty...  \n",
       "\n",
       "[5332 rows x 12 columns]"
      ]
     },
     "execution_count": 6,
     "metadata": {},
     "output_type": "execute_result"
    }
   ],
   "source": [
    "movies"
   ]
  },
  {
   "cell_type": "code",
   "execution_count": 7,
   "id": "265554ad",
   "metadata": {},
   "outputs": [
    {
     "name": "stdout",
     "output_type": "stream",
     "text": [
      "              Unique counts\n",
      "show_id                5332\n",
      "type                      2\n",
      "title                  5332\n",
      "director               3945\n",
      "cast                   5200\n",
      "country                 604\n",
      "date_added             1453\n",
      "release_year             72\n",
      "rating                   14\n",
      "duration                198\n",
      "listed_in               335\n",
      "description            5321\n"
     ]
    }
   ],
   "source": [
    "#Identify the unique values\n",
    "dict = {}\n",
    "for i in list(movies.columns):\n",
    "    dict[i] = movies[i].value_counts().shape[0]\n",
    "    \n",
    "print(pd.DataFrame(dict,index = [\"Unique counts\"]).transpose())"
   ]
  },
  {
   "cell_type": "code",
   "execution_count": 8,
   "id": "3de69e33",
   "metadata": {},
   "outputs": [
    {
     "data": {
      "text/html": [
       "<div>\n",
       "<style scoped>\n",
       "    .dataframe tbody tr th:only-of-type {\n",
       "        vertical-align: middle;\n",
       "    }\n",
       "\n",
       "    .dataframe tbody tr th {\n",
       "        vertical-align: top;\n",
       "    }\n",
       "\n",
       "    .dataframe thead th {\n",
       "        text-align: right;\n",
       "    }\n",
       "</style>\n",
       "<table border=\"1\" class=\"dataframe\">\n",
       "  <thead>\n",
       "    <tr style=\"text-align: right;\">\n",
       "      <th></th>\n",
       "      <th>Columns</th>\n",
       "      <th>Missing values</th>\n",
       "    </tr>\n",
       "  </thead>\n",
       "  <tbody>\n",
       "    <tr>\n",
       "      <th>0</th>\n",
       "      <td>show_id</td>\n",
       "      <td>0</td>\n",
       "    </tr>\n",
       "    <tr>\n",
       "      <th>1</th>\n",
       "      <td>type</td>\n",
       "      <td>0</td>\n",
       "    </tr>\n",
       "    <tr>\n",
       "      <th>2</th>\n",
       "      <td>title</td>\n",
       "      <td>0</td>\n",
       "    </tr>\n",
       "    <tr>\n",
       "      <th>3</th>\n",
       "      <td>director</td>\n",
       "      <td>0</td>\n",
       "    </tr>\n",
       "    <tr>\n",
       "      <th>4</th>\n",
       "      <td>cast</td>\n",
       "      <td>0</td>\n",
       "    </tr>\n",
       "    <tr>\n",
       "      <th>5</th>\n",
       "      <td>country</td>\n",
       "      <td>0</td>\n",
       "    </tr>\n",
       "    <tr>\n",
       "      <th>6</th>\n",
       "      <td>date_added</td>\n",
       "      <td>0</td>\n",
       "    </tr>\n",
       "    <tr>\n",
       "      <th>7</th>\n",
       "      <td>release_year</td>\n",
       "      <td>0</td>\n",
       "    </tr>\n",
       "    <tr>\n",
       "      <th>8</th>\n",
       "      <td>rating</td>\n",
       "      <td>0</td>\n",
       "    </tr>\n",
       "    <tr>\n",
       "      <th>9</th>\n",
       "      <td>duration</td>\n",
       "      <td>0</td>\n",
       "    </tr>\n",
       "    <tr>\n",
       "      <th>10</th>\n",
       "      <td>listed_in</td>\n",
       "      <td>0</td>\n",
       "    </tr>\n",
       "    <tr>\n",
       "      <th>11</th>\n",
       "      <td>description</td>\n",
       "      <td>0</td>\n",
       "    </tr>\n",
       "  </tbody>\n",
       "</table>\n",
       "</div>"
      ],
      "text/plain": [
       "         Columns  Missing values\n",
       "0        show_id               0\n",
       "1           type               0\n",
       "2          title               0\n",
       "3       director               0\n",
       "4           cast               0\n",
       "5        country               0\n",
       "6     date_added               0\n",
       "7   release_year               0\n",
       "8         rating               0\n",
       "9       duration               0\n",
       "10     listed_in               0\n",
       "11   description               0"
      ]
     },
     "execution_count": 8,
     "metadata": {},
     "output_type": "execute_result"
    }
   ],
   "source": [
    "#Identify the missing values\n",
    "\n",
    "temp = movies.isnull().sum()\n",
    "uniq = pd.DataFrame({'Columns': temp.index, 'Missing values': temp.values})\n",
    "uniq"
   ]
  },
  {
   "cell_type": "markdown",
   "id": "6cc11f8b",
   "metadata": {},
   "source": [
    "# EDA"
   ]
  },
  {
   "cell_type": "markdown",
   "id": "8686bfb4",
   "metadata": {},
   "source": [
    "# Analysis of Movies vs TV Shows"
   ]
  },
  {
   "cell_type": "code",
   "execution_count": 9,
   "id": "796da7bc",
   "metadata": {},
   "outputs": [],
   "source": [
    "netflix_shows=movies[movies['type']=='TV Show']\n",
    "netflix_movies=movies[movies['type']=='Movie']"
   ]
  },
  {
   "cell_type": "code",
   "execution_count": 10,
   "id": "b6938183",
   "metadata": {},
   "outputs": [
    {
     "data": {
      "text/html": [
       "<div>\n",
       "<style scoped>\n",
       "    .dataframe tbody tr th:only-of-type {\n",
       "        vertical-align: middle;\n",
       "    }\n",
       "\n",
       "    .dataframe tbody tr th {\n",
       "        vertical-align: top;\n",
       "    }\n",
       "\n",
       "    .dataframe thead th {\n",
       "        text-align: right;\n",
       "    }\n",
       "</style>\n",
       "<table border=\"1\" class=\"dataframe\">\n",
       "  <thead>\n",
       "    <tr style=\"text-align: right;\">\n",
       "      <th></th>\n",
       "      <th>show_id</th>\n",
       "      <th>type</th>\n",
       "      <th>title</th>\n",
       "      <th>director</th>\n",
       "      <th>cast</th>\n",
       "      <th>country</th>\n",
       "      <th>date_added</th>\n",
       "      <th>release_year</th>\n",
       "      <th>rating</th>\n",
       "      <th>duration</th>\n",
       "      <th>listed_in</th>\n",
       "      <th>description</th>\n",
       "    </tr>\n",
       "  </thead>\n",
       "  <tbody>\n",
       "    <tr>\n",
       "      <th>1</th>\n",
       "      <td>s9</td>\n",
       "      <td>TV Show</td>\n",
       "      <td>The Great British Baking Show</td>\n",
       "      <td>Andy Devonshire</td>\n",
       "      <td>Mel Giedroyc, Sue Perkins, Mary Berry, Paul Ho...</td>\n",
       "      <td>United Kingdom</td>\n",
       "      <td>September 24, 2021</td>\n",
       "      <td>2021</td>\n",
       "      <td>TV-14</td>\n",
       "      <td>9 Seasons</td>\n",
       "      <td>British TV Shows, Reality TV</td>\n",
       "      <td>A talented batch of amateur bakers face off in...</td>\n",
       "    </tr>\n",
       "    <tr>\n",
       "      <th>92</th>\n",
       "      <td>s199</td>\n",
       "      <td>TV Show</td>\n",
       "      <td>King of Boys: The Return of the King</td>\n",
       "      <td>Kemi Adetiba</td>\n",
       "      <td>Sola Sobowale, Toni Tones, Richard Mofe-Damijo...</td>\n",
       "      <td>Nigeria</td>\n",
       "      <td>August 27, 2021</td>\n",
       "      <td>2021</td>\n",
       "      <td>TV-MA</td>\n",
       "      <td>1 Season</td>\n",
       "      <td>Crime TV Shows, International TV Shows, TV Dramas</td>\n",
       "      <td>Alhaja Eniola Salami starts anew and sets her ...</td>\n",
       "    </tr>\n",
       "    <tr>\n",
       "      <th>120</th>\n",
       "      <td>s274</td>\n",
       "      <td>TV Show</td>\n",
       "      <td>Gone for Good</td>\n",
       "      <td>Juan Carlos Medina</td>\n",
       "      <td>Finnegan Oldfield, Nicolas Duvauchelle, Guilla...</td>\n",
       "      <td>France</td>\n",
       "      <td>August 13, 2021</td>\n",
       "      <td>2021</td>\n",
       "      <td>TV-MA</td>\n",
       "      <td>1 Season</td>\n",
       "      <td>Crime TV Shows, International TV Shows, TV Dramas</td>\n",
       "      <td>Ten years after losing two loved ones, a man i...</td>\n",
       "    </tr>\n",
       "    <tr>\n",
       "      <th>121</th>\n",
       "      <td>s277</td>\n",
       "      <td>TV Show</td>\n",
       "      <td>Valeria</td>\n",
       "      <td>Inma Torrente</td>\n",
       "      <td>Diana Gómez, Silma López, Paula Malia, Teresa ...</td>\n",
       "      <td>Spain</td>\n",
       "      <td>August 13, 2021</td>\n",
       "      <td>2021</td>\n",
       "      <td>TV-MA</td>\n",
       "      <td>2 Seasons</td>\n",
       "      <td>International TV Shows, Romantic TV Shows, Spa...</td>\n",
       "      <td>A writer in creative and marital crises finds ...</td>\n",
       "    </tr>\n",
       "    <tr>\n",
       "      <th>131</th>\n",
       "      <td>s298</td>\n",
       "      <td>TV Show</td>\n",
       "      <td>Navarasa</td>\n",
       "      <td>Bejoy Nambiar, Priyadarshan, Karthik Narain, V...</td>\n",
       "      <td>Suriya, Vijay Sethupathi, Revathy, Prakash Raj...</td>\n",
       "      <td>India</td>\n",
       "      <td>August 6, 2021</td>\n",
       "      <td>2021</td>\n",
       "      <td>TV-MA</td>\n",
       "      <td>1 Season</td>\n",
       "      <td>TV Shows</td>\n",
       "      <td>From amusement to awe, the nine human emotions...</td>\n",
       "    </tr>\n",
       "    <tr>\n",
       "      <th>...</th>\n",
       "      <td>...</td>\n",
       "      <td>...</td>\n",
       "      <td>...</td>\n",
       "      <td>...</td>\n",
       "      <td>...</td>\n",
       "      <td>...</td>\n",
       "      <td>...</td>\n",
       "      <td>...</td>\n",
       "      <td>...</td>\n",
       "      <td>...</td>\n",
       "      <td>...</td>\n",
       "      <td>...</td>\n",
       "    </tr>\n",
       "    <tr>\n",
       "      <th>4880</th>\n",
       "      <td>s8173</td>\n",
       "      <td>TV Show</td>\n",
       "      <td>Th Eena Meena Deeka Chase Comedy Show</td>\n",
       "      <td>Dheeraj Berry</td>\n",
       "      <td>Sanjay Keni, Priya Raina</td>\n",
       "      <td>India</td>\n",
       "      <td>March 31, 2018</td>\n",
       "      <td>2015</td>\n",
       "      <td>TV-Y7</td>\n",
       "      <td>1 Season</td>\n",
       "      <td>Kids' TV, TV Comedies</td>\n",
       "      <td>A hungry fox and three resourceful, surprising...</td>\n",
       "    </tr>\n",
       "    <tr>\n",
       "      <th>4906</th>\n",
       "      <td>s8215</td>\n",
       "      <td>TV Show</td>\n",
       "      <td>The Blue Planet: A Natural History of the Oceans</td>\n",
       "      <td>Alastair Fothergill</td>\n",
       "      <td>David Attenborough</td>\n",
       "      <td>United Kingdom</td>\n",
       "      <td>October 10, 2015</td>\n",
       "      <td>2001</td>\n",
       "      <td>TV-G</td>\n",
       "      <td>1 Season</td>\n",
       "      <td>British TV Shows, Docuseries, International TV...</td>\n",
       "      <td>David Attenborough narrates this definitive ex...</td>\n",
       "    </tr>\n",
       "    <tr>\n",
       "      <th>4969</th>\n",
       "      <td>s8294</td>\n",
       "      <td>TV Show</td>\n",
       "      <td>The Fear</td>\n",
       "      <td>Michael Samuels</td>\n",
       "      <td>Peter Mullan, Anastasia Hille, Harry Lloyd, Pa...</td>\n",
       "      <td>United Kingdom</td>\n",
       "      <td>March 31, 2017</td>\n",
       "      <td>2012</td>\n",
       "      <td>TV-MA</td>\n",
       "      <td>1 Season</td>\n",
       "      <td>British TV Shows, Crime TV Shows, TV Dramas</td>\n",
       "      <td>Richie Beckett is an aging Brighton crime boss...</td>\n",
       "    </tr>\n",
       "    <tr>\n",
       "      <th>4977</th>\n",
       "      <td>s8303</td>\n",
       "      <td>TV Show</td>\n",
       "      <td>The Five</td>\n",
       "      <td>Mark Tonderai</td>\n",
       "      <td>Tom Cullen, O.T. Fagbenle, Lee Ingleby, Sarah ...</td>\n",
       "      <td>United Kingdom</td>\n",
       "      <td>September 15, 2017</td>\n",
       "      <td>2016</td>\n",
       "      <td>TV-MA</td>\n",
       "      <td>1 Season</td>\n",
       "      <td>British TV Shows, Crime TV Shows, TV Dramas</td>\n",
       "      <td>Twenty years after 5-year-old Jesse disappears...</td>\n",
       "    </tr>\n",
       "    <tr>\n",
       "      <th>5184</th>\n",
       "      <td>s8600</td>\n",
       "      <td>TV Show</td>\n",
       "      <td>Toast of London</td>\n",
       "      <td>Michael Cumming</td>\n",
       "      <td>Matt Berry, Robert Bathurst, Doon Mackichan, S...</td>\n",
       "      <td>United Kingdom</td>\n",
       "      <td>September 1, 2017</td>\n",
       "      <td>2015</td>\n",
       "      <td>TV-MA</td>\n",
       "      <td>3 Seasons</td>\n",
       "      <td>British TV Shows, Classic &amp; Cult TV, TV Comedies</td>\n",
       "      <td>After a divorce and fatal career move, a class...</td>\n",
       "    </tr>\n",
       "  </tbody>\n",
       "</table>\n",
       "<p>147 rows × 12 columns</p>\n",
       "</div>"
      ],
      "text/plain": [
       "     show_id     type                                             title  \\\n",
       "1         s9  TV Show                     The Great British Baking Show   \n",
       "92      s199  TV Show              King of Boys: The Return of the King   \n",
       "120     s274  TV Show                                     Gone for Good   \n",
       "121     s277  TV Show                                           Valeria   \n",
       "131     s298  TV Show                                          Navarasa   \n",
       "...      ...      ...                                               ...   \n",
       "4880   s8173  TV Show             Th Eena Meena Deeka Chase Comedy Show   \n",
       "4906   s8215  TV Show  The Blue Planet: A Natural History of the Oceans   \n",
       "4969   s8294  TV Show                                          The Fear   \n",
       "4977   s8303  TV Show                                          The Five   \n",
       "5184   s8600  TV Show                                   Toast of London   \n",
       "\n",
       "                                               director  \\\n",
       "1                                       Andy Devonshire   \n",
       "92                                         Kemi Adetiba   \n",
       "120                                  Juan Carlos Medina   \n",
       "121                                       Inma Torrente   \n",
       "131   Bejoy Nambiar, Priyadarshan, Karthik Narain, V...   \n",
       "...                                                 ...   \n",
       "4880                                      Dheeraj Berry   \n",
       "4906                                Alastair Fothergill   \n",
       "4969                                    Michael Samuels   \n",
       "4977                                      Mark Tonderai   \n",
       "5184                                    Michael Cumming   \n",
       "\n",
       "                                                   cast         country  \\\n",
       "1     Mel Giedroyc, Sue Perkins, Mary Berry, Paul Ho...  United Kingdom   \n",
       "92    Sola Sobowale, Toni Tones, Richard Mofe-Damijo...         Nigeria   \n",
       "120   Finnegan Oldfield, Nicolas Duvauchelle, Guilla...          France   \n",
       "121   Diana Gómez, Silma López, Paula Malia, Teresa ...           Spain   \n",
       "131   Suriya, Vijay Sethupathi, Revathy, Prakash Raj...           India   \n",
       "...                                                 ...             ...   \n",
       "4880                           Sanjay Keni, Priya Raina           India   \n",
       "4906                                 David Attenborough  United Kingdom   \n",
       "4969  Peter Mullan, Anastasia Hille, Harry Lloyd, Pa...  United Kingdom   \n",
       "4977  Tom Cullen, O.T. Fagbenle, Lee Ingleby, Sarah ...  United Kingdom   \n",
       "5184  Matt Berry, Robert Bathurst, Doon Mackichan, S...  United Kingdom   \n",
       "\n",
       "              date_added  release_year rating   duration  \\\n",
       "1     September 24, 2021          2021  TV-14  9 Seasons   \n",
       "92       August 27, 2021          2021  TV-MA   1 Season   \n",
       "120      August 13, 2021          2021  TV-MA   1 Season   \n",
       "121      August 13, 2021          2021  TV-MA  2 Seasons   \n",
       "131       August 6, 2021          2021  TV-MA   1 Season   \n",
       "...                  ...           ...    ...        ...   \n",
       "4880      March 31, 2018          2015  TV-Y7   1 Season   \n",
       "4906    October 10, 2015          2001   TV-G   1 Season   \n",
       "4969      March 31, 2017          2012  TV-MA   1 Season   \n",
       "4977  September 15, 2017          2016  TV-MA   1 Season   \n",
       "5184   September 1, 2017          2015  TV-MA  3 Seasons   \n",
       "\n",
       "                                              listed_in  \\\n",
       "1                          British TV Shows, Reality TV   \n",
       "92    Crime TV Shows, International TV Shows, TV Dramas   \n",
       "120   Crime TV Shows, International TV Shows, TV Dramas   \n",
       "121   International TV Shows, Romantic TV Shows, Spa...   \n",
       "131                                            TV Shows   \n",
       "...                                                 ...   \n",
       "4880                              Kids' TV, TV Comedies   \n",
       "4906  British TV Shows, Docuseries, International TV...   \n",
       "4969        British TV Shows, Crime TV Shows, TV Dramas   \n",
       "4977        British TV Shows, Crime TV Shows, TV Dramas   \n",
       "5184   British TV Shows, Classic & Cult TV, TV Comedies   \n",
       "\n",
       "                                            description  \n",
       "1     A talented batch of amateur bakers face off in...  \n",
       "92    Alhaja Eniola Salami starts anew and sets her ...  \n",
       "120   Ten years after losing two loved ones, a man i...  \n",
       "121   A writer in creative and marital crises finds ...  \n",
       "131   From amusement to awe, the nine human emotions...  \n",
       "...                                                 ...  \n",
       "4880  A hungry fox and three resourceful, surprising...  \n",
       "4906  David Attenborough narrates this definitive ex...  \n",
       "4969  Richie Beckett is an aging Brighton crime boss...  \n",
       "4977  Twenty years after 5-year-old Jesse disappears...  \n",
       "5184  After a divorce and fatal career move, a class...  \n",
       "\n",
       "[147 rows x 12 columns]"
      ]
     },
     "execution_count": 10,
     "metadata": {},
     "output_type": "execute_result"
    }
   ],
   "source": [
    "netflix_shows"
   ]
  },
  {
   "cell_type": "code",
   "execution_count": 11,
   "id": "98dc4422",
   "metadata": {},
   "outputs": [
    {
     "data": {
      "text/html": [
       "<div>\n",
       "<style scoped>\n",
       "    .dataframe tbody tr th:only-of-type {\n",
       "        vertical-align: middle;\n",
       "    }\n",
       "\n",
       "    .dataframe tbody tr th {\n",
       "        vertical-align: top;\n",
       "    }\n",
       "\n",
       "    .dataframe thead th {\n",
       "        text-align: right;\n",
       "    }\n",
       "</style>\n",
       "<table border=\"1\" class=\"dataframe\">\n",
       "  <thead>\n",
       "    <tr style=\"text-align: right;\">\n",
       "      <th></th>\n",
       "      <th>show_id</th>\n",
       "      <th>type</th>\n",
       "      <th>title</th>\n",
       "      <th>director</th>\n",
       "      <th>cast</th>\n",
       "      <th>country</th>\n",
       "      <th>date_added</th>\n",
       "      <th>release_year</th>\n",
       "      <th>rating</th>\n",
       "      <th>duration</th>\n",
       "      <th>listed_in</th>\n",
       "      <th>description</th>\n",
       "    </tr>\n",
       "  </thead>\n",
       "  <tbody>\n",
       "    <tr>\n",
       "      <th>0</th>\n",
       "      <td>s8</td>\n",
       "      <td>Movie</td>\n",
       "      <td>Sankofa</td>\n",
       "      <td>Haile Gerima</td>\n",
       "      <td>Kofi Ghanaba, Oyafunmike Ogunlano, Alexandra D...</td>\n",
       "      <td>United States, Ghana, Burkina Faso, United Kin...</td>\n",
       "      <td>September 24, 2021</td>\n",
       "      <td>1993</td>\n",
       "      <td>TV-MA</td>\n",
       "      <td>125 min</td>\n",
       "      <td>Dramas, Independent Movies, International Movies</td>\n",
       "      <td>On a photo shoot in Ghana, an American model s...</td>\n",
       "    </tr>\n",
       "    <tr>\n",
       "      <th>2</th>\n",
       "      <td>s10</td>\n",
       "      <td>Movie</td>\n",
       "      <td>The Starling</td>\n",
       "      <td>Theodore Melfi</td>\n",
       "      <td>Melissa McCarthy, Chris O'Dowd, Kevin Kline, T...</td>\n",
       "      <td>United States</td>\n",
       "      <td>September 24, 2021</td>\n",
       "      <td>2021</td>\n",
       "      <td>PG-13</td>\n",
       "      <td>104 min</td>\n",
       "      <td>Comedies, Dramas</td>\n",
       "      <td>A woman adjusting to life after a loss contend...</td>\n",
       "    </tr>\n",
       "    <tr>\n",
       "      <th>3</th>\n",
       "      <td>s13</td>\n",
       "      <td>Movie</td>\n",
       "      <td>Je Suis Karl</td>\n",
       "      <td>Christian Schwochow</td>\n",
       "      <td>Luna Wedler, Jannis Niewöhner, Milan Peschel, ...</td>\n",
       "      <td>Germany, Czech Republic</td>\n",
       "      <td>September 23, 2021</td>\n",
       "      <td>2021</td>\n",
       "      <td>TV-MA</td>\n",
       "      <td>127 min</td>\n",
       "      <td>Dramas, International Movies</td>\n",
       "      <td>After most of her family is murdered in a terr...</td>\n",
       "    </tr>\n",
       "    <tr>\n",
       "      <th>4</th>\n",
       "      <td>s25</td>\n",
       "      <td>Movie</td>\n",
       "      <td>Jeans</td>\n",
       "      <td>S. Shankar</td>\n",
       "      <td>Prashanth, Aishwarya Rai Bachchan, Sri Lakshmi...</td>\n",
       "      <td>India</td>\n",
       "      <td>September 21, 2021</td>\n",
       "      <td>1998</td>\n",
       "      <td>TV-14</td>\n",
       "      <td>166 min</td>\n",
       "      <td>Comedies, International Movies, Romantic Movies</td>\n",
       "      <td>When the father of the man she loves insists t...</td>\n",
       "    </tr>\n",
       "    <tr>\n",
       "      <th>5</th>\n",
       "      <td>s28</td>\n",
       "      <td>Movie</td>\n",
       "      <td>Grown Ups</td>\n",
       "      <td>Dennis Dugan</td>\n",
       "      <td>Adam Sandler, Kevin James, Chris Rock, David S...</td>\n",
       "      <td>United States</td>\n",
       "      <td>September 20, 2021</td>\n",
       "      <td>2010</td>\n",
       "      <td>PG-13</td>\n",
       "      <td>103 min</td>\n",
       "      <td>Comedies</td>\n",
       "      <td>Mourning the loss of their beloved junior high...</td>\n",
       "    </tr>\n",
       "    <tr>\n",
       "      <th>...</th>\n",
       "      <td>...</td>\n",
       "      <td>...</td>\n",
       "      <td>...</td>\n",
       "      <td>...</td>\n",
       "      <td>...</td>\n",
       "      <td>...</td>\n",
       "      <td>...</td>\n",
       "      <td>...</td>\n",
       "      <td>...</td>\n",
       "      <td>...</td>\n",
       "      <td>...</td>\n",
       "      <td>...</td>\n",
       "    </tr>\n",
       "    <tr>\n",
       "      <th>5327</th>\n",
       "      <td>s8802</td>\n",
       "      <td>Movie</td>\n",
       "      <td>Zinzana</td>\n",
       "      <td>Majid Al Ansari</td>\n",
       "      <td>Ali Suliman, Saleh Bakri, Yasa, Ali Al-Jabri, ...</td>\n",
       "      <td>United Arab Emirates, Jordan</td>\n",
       "      <td>March 9, 2016</td>\n",
       "      <td>2015</td>\n",
       "      <td>TV-MA</td>\n",
       "      <td>96 min</td>\n",
       "      <td>Dramas, International Movies, Thrillers</td>\n",
       "      <td>Recovering alcoholic Talal wakes up inside a s...</td>\n",
       "    </tr>\n",
       "    <tr>\n",
       "      <th>5328</th>\n",
       "      <td>s8803</td>\n",
       "      <td>Movie</td>\n",
       "      <td>Zodiac</td>\n",
       "      <td>David Fincher</td>\n",
       "      <td>Mark Ruffalo, Jake Gyllenhaal, Robert Downey J...</td>\n",
       "      <td>United States</td>\n",
       "      <td>November 20, 2019</td>\n",
       "      <td>2007</td>\n",
       "      <td>R</td>\n",
       "      <td>158 min</td>\n",
       "      <td>Cult Movies, Dramas, Thrillers</td>\n",
       "      <td>A political cartoonist, a crime reporter and a...</td>\n",
       "    </tr>\n",
       "    <tr>\n",
       "      <th>5329</th>\n",
       "      <td>s8805</td>\n",
       "      <td>Movie</td>\n",
       "      <td>Zombieland</td>\n",
       "      <td>Ruben Fleischer</td>\n",
       "      <td>Jesse Eisenberg, Woody Harrelson, Emma Stone, ...</td>\n",
       "      <td>United States</td>\n",
       "      <td>November 1, 2019</td>\n",
       "      <td>2009</td>\n",
       "      <td>R</td>\n",
       "      <td>88 min</td>\n",
       "      <td>Comedies, Horror Movies</td>\n",
       "      <td>Looking to survive in a world taken over by zo...</td>\n",
       "    </tr>\n",
       "    <tr>\n",
       "      <th>5330</th>\n",
       "      <td>s8806</td>\n",
       "      <td>Movie</td>\n",
       "      <td>Zoom</td>\n",
       "      <td>Peter Hewitt</td>\n",
       "      <td>Tim Allen, Courteney Cox, Chevy Chase, Kate Ma...</td>\n",
       "      <td>United States</td>\n",
       "      <td>January 11, 2020</td>\n",
       "      <td>2006</td>\n",
       "      <td>PG</td>\n",
       "      <td>88 min</td>\n",
       "      <td>Children &amp; Family Movies, Comedies</td>\n",
       "      <td>Dragged from civilian life, a former superhero...</td>\n",
       "    </tr>\n",
       "    <tr>\n",
       "      <th>5331</th>\n",
       "      <td>s8807</td>\n",
       "      <td>Movie</td>\n",
       "      <td>Zubaan</td>\n",
       "      <td>Mozez Singh</td>\n",
       "      <td>Vicky Kaushal, Sarah-Jane Dias, Raaghav Chanan...</td>\n",
       "      <td>India</td>\n",
       "      <td>March 2, 2019</td>\n",
       "      <td>2015</td>\n",
       "      <td>TV-14</td>\n",
       "      <td>111 min</td>\n",
       "      <td>Dramas, International Movies, Music &amp; Musicals</td>\n",
       "      <td>A scrappy but poor boy worms his way into a ty...</td>\n",
       "    </tr>\n",
       "  </tbody>\n",
       "</table>\n",
       "<p>5185 rows × 12 columns</p>\n",
       "</div>"
      ],
      "text/plain": [
       "     show_id   type         title             director  \\\n",
       "0         s8  Movie       Sankofa         Haile Gerima   \n",
       "2        s10  Movie  The Starling       Theodore Melfi   \n",
       "3        s13  Movie  Je Suis Karl  Christian Schwochow   \n",
       "4        s25  Movie         Jeans           S. Shankar   \n",
       "5        s28  Movie     Grown Ups         Dennis Dugan   \n",
       "...      ...    ...           ...                  ...   \n",
       "5327   s8802  Movie       Zinzana      Majid Al Ansari   \n",
       "5328   s8803  Movie        Zodiac        David Fincher   \n",
       "5329   s8805  Movie    Zombieland      Ruben Fleischer   \n",
       "5330   s8806  Movie          Zoom         Peter Hewitt   \n",
       "5331   s8807  Movie        Zubaan          Mozez Singh   \n",
       "\n",
       "                                                   cast  \\\n",
       "0     Kofi Ghanaba, Oyafunmike Ogunlano, Alexandra D...   \n",
       "2     Melissa McCarthy, Chris O'Dowd, Kevin Kline, T...   \n",
       "3     Luna Wedler, Jannis Niewöhner, Milan Peschel, ...   \n",
       "4     Prashanth, Aishwarya Rai Bachchan, Sri Lakshmi...   \n",
       "5     Adam Sandler, Kevin James, Chris Rock, David S...   \n",
       "...                                                 ...   \n",
       "5327  Ali Suliman, Saleh Bakri, Yasa, Ali Al-Jabri, ...   \n",
       "5328  Mark Ruffalo, Jake Gyllenhaal, Robert Downey J...   \n",
       "5329  Jesse Eisenberg, Woody Harrelson, Emma Stone, ...   \n",
       "5330  Tim Allen, Courteney Cox, Chevy Chase, Kate Ma...   \n",
       "5331  Vicky Kaushal, Sarah-Jane Dias, Raaghav Chanan...   \n",
       "\n",
       "                                                country          date_added  \\\n",
       "0     United States, Ghana, Burkina Faso, United Kin...  September 24, 2021   \n",
       "2                                         United States  September 24, 2021   \n",
       "3                               Germany, Czech Republic  September 23, 2021   \n",
       "4                                                 India  September 21, 2021   \n",
       "5                                         United States  September 20, 2021   \n",
       "...                                                 ...                 ...   \n",
       "5327                       United Arab Emirates, Jordan       March 9, 2016   \n",
       "5328                                      United States   November 20, 2019   \n",
       "5329                                      United States    November 1, 2019   \n",
       "5330                                      United States    January 11, 2020   \n",
       "5331                                              India       March 2, 2019   \n",
       "\n",
       "      release_year rating duration  \\\n",
       "0             1993  TV-MA  125 min   \n",
       "2             2021  PG-13  104 min   \n",
       "3             2021  TV-MA  127 min   \n",
       "4             1998  TV-14  166 min   \n",
       "5             2010  PG-13  103 min   \n",
       "...            ...    ...      ...   \n",
       "5327          2015  TV-MA   96 min   \n",
       "5328          2007      R  158 min   \n",
       "5329          2009      R   88 min   \n",
       "5330          2006     PG   88 min   \n",
       "5331          2015  TV-14  111 min   \n",
       "\n",
       "                                             listed_in  \\\n",
       "0     Dramas, Independent Movies, International Movies   \n",
       "2                                     Comedies, Dramas   \n",
       "3                         Dramas, International Movies   \n",
       "4      Comedies, International Movies, Romantic Movies   \n",
       "5                                             Comedies   \n",
       "...                                                ...   \n",
       "5327           Dramas, International Movies, Thrillers   \n",
       "5328                    Cult Movies, Dramas, Thrillers   \n",
       "5329                           Comedies, Horror Movies   \n",
       "5330                Children & Family Movies, Comedies   \n",
       "5331    Dramas, International Movies, Music & Musicals   \n",
       "\n",
       "                                            description  \n",
       "0     On a photo shoot in Ghana, an American model s...  \n",
       "2     A woman adjusting to life after a loss contend...  \n",
       "3     After most of her family is murdered in a terr...  \n",
       "4     When the father of the man she loves insists t...  \n",
       "5     Mourning the loss of their beloved junior high...  \n",
       "...                                                 ...  \n",
       "5327  Recovering alcoholic Talal wakes up inside a s...  \n",
       "5328  A political cartoonist, a crime reporter and a...  \n",
       "5329  Looking to survive in a world taken over by zo...  \n",
       "5330  Dragged from civilian life, a former superhero...  \n",
       "5331  A scrappy but poor boy worms his way into a ty...  \n",
       "\n",
       "[5185 rows x 12 columns]"
      ]
     },
     "execution_count": 11,
     "metadata": {},
     "output_type": "execute_result"
    }
   ],
   "source": [
    "netflix_movies"
   ]
  },
  {
   "cell_type": "code",
   "execution_count": 12,
   "id": "b0674565",
   "metadata": {},
   "outputs": [
    {
     "data": {
      "text/plain": [
       "Text(0.5, 1.0, 'TV Shows VS Movies')"
      ]
     },
     "execution_count": 12,
     "metadata": {},
     "output_type": "execute_result"
    },
    {
     "data": {
      "image/png": "[encoded data removed]",
      "text/plain": [
       "<Figure size 800x600 with 1 Axes>"
      ]
     },
     "metadata": {},
     "output_type": "display_data"
    }
   ],
   "source": [
    "plt.figure(figsize=(8,6))\n",
    "ax= sns.countplot(x = \"type\", data = movies,palette=\"Set1\")\n",
    "ax.set_title(\"TV Shows VS Movies\")"
   ]
  },
  {
   "cell_type": "markdown",
   "id": "71217d03",
   "metadata": {},
   "source": [
    "This shows that there are more Movies than TV Shows on Netflix"
   ]
  },
  {
   "cell_type": "markdown",
   "id": "82f11ef8",
   "metadata": {},
   "source": [
    "# Movie Ratings Analysis"
   ]
  },
  {
   "cell_type": "code",
   "execution_count": 13,
   "id": "a38327b1",
   "metadata": {},
   "outputs": [
    {
     "data": {
      "image/png": "[encoded data removed]",
      "text/plain": [
       "<Figure size 1200x1000 with 1 Axes>"
      ]
     },
     "metadata": {},
     "output_type": "display_data"
    }
   ],
   "source": [
    "#Movie Rating\n",
    "plt.figure(figsize=(12,10))\n",
    "ax = sns.countplot(x=\"rating\", data=movies,palette=\"Set1\",order=movies['rating'].value_counts().index[0:15]) "
   ]
  },
  {
   "cell_type": "markdown",
   "id": "2918ebcb",
   "metadata": {},
   "source": [
    "Most number of movies are made with the 'TV-MA' rating. This rating is assiged to a television program that is designed for mature audiences only.\n",
    "Second largest is the 'TV-14' stands for content that may be inappropriate for children younger than 14 years of age."
   ]
  },
  {
   "cell_type": "code",
   "execution_count": 14,
   "id": "36bea476",
   "metadata": {},
   "outputs": [
    {
     "data": {
      "image/png": "[encoded data removed]",
      "text/plain": [
       "<Figure size 2000x1000 with 1 Axes>"
      ]
     },
     "metadata": {},
     "output_type": "display_data"
    }
   ],
   "source": [
    "order =  ['G', 'TV-Y', 'TV-G', 'PG', 'TV-Y7', 'TV-Y7-FV', 'TV-PG', 'PG-13', 'TV-14', 'R', 'NC-17', 'TV-MA']\n",
    "plt.figure(figsize=(20,10))\n",
    "g = sns.countplot(movies.rating, hue=movies.type, order=order, palette=\"copper\");\n",
    "plt.title(\"Ratings for Movies & TV Shows\", fontsize=30)\n",
    "plt.xlabel(\"Rating\")\n",
    "plt.ylabel(\"Total Count\")\n",
    "plt.show()"
   ]
  },
  {
   "cell_type": "code",
   "execution_count": 15,
   "id": "71578a7e",
   "metadata": {},
   "outputs": [
    {
     "data": {
      "image/png": "[encoded data removed]",
      "text/plain": [
       "<Figure size 800x800 with 1 Axes>"
      ]
     },
     "metadata": {},
     "output_type": "display_data"
    }
   ],
   "source": [
    "IND = movies[movies.country == \"India\"]\n",
    "order =  ['G', 'TV-Y', 'TV-G', 'PG', 'TV-Y7', 'TV-Y7-FV', 'TV-PG', 'PG-13', 'TV-14', 'R', 'NC-17', 'TV-MA']\n",
    "plt.figure(figsize=(8,8))\n",
    "g = sns.countplot(IND.rating, hue=IND.type, order=order, palette=\"dark:brown\");\n",
    "plt.title(\"Ratings for Movies & TV Shows in Indonesia\")\n",
    "plt.xlabel(\"Rating\")\n",
    "plt.ylabel(\"Total Count\")\n",
    "plt.show()"
   ]
  },
  {
   "cell_type": "code",
   "execution_count": 16,
   "id": "19310d66",
   "metadata": {},
   "outputs": [
    {
     "data": {
      "image/png": "[encoded data removed]",
      "text/plain": [
       "<Figure size 800x800 with 1 Axes>"
      ]
     },
     "metadata": {},
     "output_type": "display_data"
    }
   ],
   "source": [
    "US = movies[movies.country == \"United States\"]\n",
    "order =  ['G', 'TV-Y', 'TV-G', 'PG', 'TV-Y7', 'TV-Y7-FV', 'TV-PG', 'PG-13', 'TV-14', 'R', 'NC-17', 'TV-MA']\n",
    "plt.figure(figsize=(8,8))\n",
    "g = sns.countplot(US.rating, hue=US.type, order=order, palette=\"dark:brown\");\n",
    "plt.title(\"Ratings for Movies & TV Shows in US\")\n",
    "plt.xlabel(\"Rating\")\n",
    "plt.ylabel(\"Total Count\")\n",
    "plt.show()"
   ]
  },
  {
   "cell_type": "code",
   "execution_count": 17,
   "id": "ce825458",
   "metadata": {},
   "outputs": [
    {
     "data": {
      "image/png": "[encoded data removed]",
      "text/plain": [
       "<Figure size 1000x800 with 1 Axes>"
      ]
     },
     "metadata": {},
     "output_type": "display_data"
    }
   ],
   "source": [
    "plt.figure(figsize=(10,8))\n",
    "netflix_cast = movies[movies.cast != 'cast unavailable'].set_index('title').cast.str.split(', ', expand=True).stack().reset_index(level=1, drop=True)\n",
    "sns.countplot(y = netflix_cast, order=netflix_cast.value_counts().index[:10], palette='magma_r', saturation=.2)\n",
    "plt.title('Top 10 Actors by Number of Titles', fontsize=21);\n",
    "plt.show()"
   ]
  },
  {
   "cell_type": "code",
   "execution_count": null,
   "id": "6816ec63",
   "metadata": {},
   "outputs": [],
   "source": []
  },
  {
   "cell_type": "code",
   "execution_count": 18,
   "id": "b1d43753",
   "metadata": {},
   "outputs": [],
   "source": [
    "#Analysing IMDB ratings to get top rated movies on Netflix\n",
    "imdb_ratings=pd.read_csv(\"IMDb ratings.csv\", usecols=['weighted_average_vote'])\n",
    "imdb_titles=pd.read_csv('IMDb movies.csv', usecols=['title','year','genre'])\n",
    "\n",
    "ratings = pd.DataFrame({'Title':imdb_titles.title,\n",
    "                    'Release Year':imdb_titles.year,\n",
    "                    'Rating': imdb_ratings.weighted_average_vote,\n",
    "                    'Genre':imdb_titles.genre})\n",
    "ratings.drop_duplicates(subset=['Title','Release Year','Rating'], inplace=True)"
   ]
  },
  {
   "cell_type": "code",
   "execution_count": 19,
   "id": "ebd36f01",
   "metadata": {},
   "outputs": [
    {
     "data": {
      "text/html": [
       "<div>\n",
       "<style scoped>\n",
       "    .dataframe tbody tr th:only-of-type {\n",
       "        vertical-align: middle;\n",
       "    }\n",
       "\n",
       "    .dataframe tbody tr th {\n",
       "        vertical-align: top;\n",
       "    }\n",
       "\n",
       "    .dataframe thead th {\n",
       "        text-align: right;\n",
       "    }\n",
       "</style>\n",
       "<table border=\"1\" class=\"dataframe\">\n",
       "  <thead>\n",
       "    <tr style=\"text-align: right;\">\n",
       "      <th></th>\n",
       "      <th>weighted_average_vote</th>\n",
       "    </tr>\n",
       "  </thead>\n",
       "  <tbody>\n",
       "    <tr>\n",
       "      <th>0</th>\n",
       "      <td>5.9</td>\n",
       "    </tr>\n",
       "    <tr>\n",
       "      <th>1</th>\n",
       "      <td>6.1</td>\n",
       "    </tr>\n",
       "    <tr>\n",
       "      <th>2</th>\n",
       "      <td>5.8</td>\n",
       "    </tr>\n",
       "    <tr>\n",
       "      <th>3</th>\n",
       "      <td>5.2</td>\n",
       "    </tr>\n",
       "    <tr>\n",
       "      <th>4</th>\n",
       "      <td>7.0</td>\n",
       "    </tr>\n",
       "  </tbody>\n",
       "</table>\n",
       "</div>"
      ],
      "text/plain": [
       "   weighted_average_vote\n",
       "0                    5.9\n",
       "1                    6.1\n",
       "2                    5.8\n",
       "3                    5.2\n",
       "4                    7.0"
      ]
     },
     "execution_count": 19,
     "metadata": {},
     "output_type": "execute_result"
    }
   ],
   "source": [
    "imdb_ratings.head()"
   ]
  },
  {
   "cell_type": "code",
   "execution_count": 20,
   "id": "72930396",
   "metadata": {},
   "outputs": [
    {
     "data": {
      "text/html": [
       "<div>\n",
       "<style scoped>\n",
       "    .dataframe tbody tr th:only-of-type {\n",
       "        vertical-align: middle;\n",
       "    }\n",
       "\n",
       "    .dataframe tbody tr th {\n",
       "        vertical-align: top;\n",
       "    }\n",
       "\n",
       "    .dataframe thead th {\n",
       "        text-align: right;\n",
       "    }\n",
       "</style>\n",
       "<table border=\"1\" class=\"dataframe\">\n",
       "  <thead>\n",
       "    <tr style=\"text-align: right;\">\n",
       "      <th></th>\n",
       "      <th>title</th>\n",
       "      <th>year</th>\n",
       "      <th>genre</th>\n",
       "    </tr>\n",
       "  </thead>\n",
       "  <tbody>\n",
       "    <tr>\n",
       "      <th>0</th>\n",
       "      <td>Miss Jerry</td>\n",
       "      <td>1894</td>\n",
       "      <td>Romance</td>\n",
       "    </tr>\n",
       "    <tr>\n",
       "      <th>1</th>\n",
       "      <td>The Story of the Kelly Gang</td>\n",
       "      <td>1906</td>\n",
       "      <td>Biography, Crime, Drama</td>\n",
       "    </tr>\n",
       "    <tr>\n",
       "      <th>2</th>\n",
       "      <td>Den sorte drøm</td>\n",
       "      <td>1911</td>\n",
       "      <td>Drama</td>\n",
       "    </tr>\n",
       "    <tr>\n",
       "      <th>3</th>\n",
       "      <td>Cleopatra</td>\n",
       "      <td>1912</td>\n",
       "      <td>Drama, History</td>\n",
       "    </tr>\n",
       "    <tr>\n",
       "      <th>4</th>\n",
       "      <td>L'Inferno</td>\n",
       "      <td>1911</td>\n",
       "      <td>Adventure, Drama, Fantasy</td>\n",
       "    </tr>\n",
       "  </tbody>\n",
       "</table>\n",
       "</div>"
      ],
      "text/plain": [
       "                         title  year                      genre\n",
       "0                   Miss Jerry  1894                    Romance\n",
       "1  The Story of the Kelly Gang  1906    Biography, Crime, Drama\n",
       "2               Den sorte drøm  1911                      Drama\n",
       "3                    Cleopatra  1912             Drama, History\n",
       "4                    L'Inferno  1911  Adventure, Drama, Fantasy"
      ]
     },
     "execution_count": 20,
     "metadata": {},
     "output_type": "execute_result"
    }
   ],
   "source": [
    "imdb_titles.head()"
   ]
  },
  {
   "cell_type": "code",
   "execution_count": 21,
   "id": "eb5bea23",
   "metadata": {},
   "outputs": [],
   "source": [
    "#joining netflix dataset and imdb dataset\n",
    "ratings.dropna()\n",
    "joint_data=ratings.merge(movies,left_on='Title',right_on='title',how='inner')\n",
    "joint_data=joint_data.sort_values(by='Rating', ascending=False)"
   ]
  },
  {
   "cell_type": "code",
   "execution_count": 22,
   "id": "6501719a",
   "metadata": {},
   "outputs": [
    {
     "data": {
      "text/html": [
       "<div>\n",
       "<style scoped>\n",
       "    .dataframe tbody tr th:only-of-type {\n",
       "        vertical-align: middle;\n",
       "    }\n",
       "\n",
       "    .dataframe tbody tr th {\n",
       "        vertical-align: top;\n",
       "    }\n",
       "\n",
       "    .dataframe thead th {\n",
       "        text-align: right;\n",
       "    }\n",
       "</style>\n",
       "<table border=\"1\" class=\"dataframe\">\n",
       "  <thead>\n",
       "    <tr style=\"text-align: right;\">\n",
       "      <th></th>\n",
       "      <th>Title</th>\n",
       "      <th>Release Year</th>\n",
       "      <th>Rating</th>\n",
       "      <th>Genre</th>\n",
       "      <th>show_id</th>\n",
       "      <th>type</th>\n",
       "      <th>title</th>\n",
       "      <th>director</th>\n",
       "      <th>cast</th>\n",
       "      <th>country</th>\n",
       "      <th>date_added</th>\n",
       "      <th>release_year</th>\n",
       "      <th>rating</th>\n",
       "      <th>duration</th>\n",
       "      <th>listed_in</th>\n",
       "      <th>description</th>\n",
       "    </tr>\n",
       "  </thead>\n",
       "  <tbody>\n",
       "    <tr>\n",
       "      <th>833</th>\n",
       "      <td>Innocent</td>\n",
       "      <td>2017</td>\n",
       "      <td>9.0</td>\n",
       "      <td>Comedy</td>\n",
       "      <td>s4175</td>\n",
       "      <td>TV Show</td>\n",
       "      <td>Innocent</td>\n",
       "      <td>Seren Yüce</td>\n",
       "      <td>Ali Atay, Haluk Bilginer, Nur Sürer, Okan Yala...</td>\n",
       "      <td>Turkey</td>\n",
       "      <td>January 23, 2019</td>\n",
       "      <td>2017</td>\n",
       "      <td>TV-MA</td>\n",
       "      <td>1 Season</td>\n",
       "      <td>Crime TV Shows, International TV Shows, TV Dramas</td>\n",
       "      <td>In a peaceful, rustic town, a retired officer ...</td>\n",
       "    </tr>\n",
       "    <tr>\n",
       "      <th>321</th>\n",
       "      <td>Pulp Fiction</td>\n",
       "      <td>1994</td>\n",
       "      <td>8.9</td>\n",
       "      <td>Crime, Drama</td>\n",
       "      <td>s7803</td>\n",
       "      <td>Movie</td>\n",
       "      <td>Pulp Fiction</td>\n",
       "      <td>Quentin Tarantino</td>\n",
       "      <td>John Travolta, Samuel L. Jackson, Uma Thurman,...</td>\n",
       "      <td>United States</td>\n",
       "      <td>January 1, 2019</td>\n",
       "      <td>1994</td>\n",
       "      <td>R</td>\n",
       "      <td>154 min</td>\n",
       "      <td>Classic Movies, Cult Movies, Dramas</td>\n",
       "      <td>This stylized crime caper weaves together stor...</td>\n",
       "    </tr>\n",
       "    <tr>\n",
       "      <th>310</th>\n",
       "      <td>Schindler's List</td>\n",
       "      <td>1993</td>\n",
       "      <td>8.9</td>\n",
       "      <td>Biography, Drama, History</td>\n",
       "      <td>s7958</td>\n",
       "      <td>Movie</td>\n",
       "      <td>Schindler's List</td>\n",
       "      <td>Steven Spielberg</td>\n",
       "      <td>Liam Neeson, Ben Kingsley, Ralph Fiennes, Caro...</td>\n",
       "      <td>United States</td>\n",
       "      <td>April 1, 2018</td>\n",
       "      <td>1993</td>\n",
       "      <td>R</td>\n",
       "      <td>195 min</td>\n",
       "      <td>Classic Movies, Dramas</td>\n",
       "      <td>Oskar Schindler becomes an unlikely humanitari...</td>\n",
       "    </tr>\n",
       "    <tr>\n",
       "      <th>1134</th>\n",
       "      <td>Inception</td>\n",
       "      <td>2010</td>\n",
       "      <td>8.8</td>\n",
       "      <td>Action, Adventure, Sci-Fi</td>\n",
       "      <td>s341</td>\n",
       "      <td>Movie</td>\n",
       "      <td>Inception</td>\n",
       "      <td>Christopher Nolan</td>\n",
       "      <td>Leonardo DiCaprio, Joseph Gordon-Levitt, Ellio...</td>\n",
       "      <td>United States, United Kingdom</td>\n",
       "      <td>August 1, 2021</td>\n",
       "      <td>2010</td>\n",
       "      <td>PG-13</td>\n",
       "      <td>148 min</td>\n",
       "      <td>Action &amp; Adventure, Sci-Fi &amp; Fantasy, Thrillers</td>\n",
       "      <td>A troubled thief who extracts secrets from peo...</td>\n",
       "    </tr>\n",
       "    <tr>\n",
       "      <th>515</th>\n",
       "      <td>Koshish</td>\n",
       "      <td>1972</td>\n",
       "      <td>8.6</td>\n",
       "      <td>Drama</td>\n",
       "      <td>s7225</td>\n",
       "      <td>Movie</td>\n",
       "      <td>Koshish</td>\n",
       "      <td>Gulzar</td>\n",
       "      <td>Sanjeev Kumar, Jaya Bhaduri, Asrani, Seema, Om...</td>\n",
       "      <td>India</td>\n",
       "      <td>December 31, 2019</td>\n",
       "      <td>1972</td>\n",
       "      <td>TV-14</td>\n",
       "      <td>115 min</td>\n",
       "      <td>International Movies, Romantic Movies</td>\n",
       "      <td>A speech and hearing-impaired couple persists ...</td>\n",
       "    </tr>\n",
       "    <tr>\n",
       "      <th>...</th>\n",
       "      <td>...</td>\n",
       "      <td>...</td>\n",
       "      <td>...</td>\n",
       "      <td>...</td>\n",
       "      <td>...</td>\n",
       "      <td>...</td>\n",
       "      <td>...</td>\n",
       "      <td>...</td>\n",
       "      <td>...</td>\n",
       "      <td>...</td>\n",
       "      <td>...</td>\n",
       "      <td>...</td>\n",
       "      <td>...</td>\n",
       "      <td>...</td>\n",
       "      <td>...</td>\n",
       "      <td>...</td>\n",
       "    </tr>\n",
       "    <tr>\n",
       "      <th>805</th>\n",
       "      <td>Ride or Die</td>\n",
       "      <td>2005</td>\n",
       "      <td>1.7</td>\n",
       "      <td>Action, Western</td>\n",
       "      <td>s1051</td>\n",
       "      <td>Movie</td>\n",
       "      <td>Ride or Die</td>\n",
       "      <td>Ryuichi Hiroki</td>\n",
       "      <td>Kiko Mizuhara, Honami Sato, Yoko Maki, Anne Su...</td>\n",
       "      <td>Japan</td>\n",
       "      <td>April 15, 2021</td>\n",
       "      <td>2021</td>\n",
       "      <td>TV-MA</td>\n",
       "      <td>143 min</td>\n",
       "      <td>Dramas, International Movies, LGBTQ Movies</td>\n",
       "      <td>Rei helps the woman she’s been in love with fo...</td>\n",
       "    </tr>\n",
       "    <tr>\n",
       "      <th>496</th>\n",
       "      <td>Himmatwala</td>\n",
       "      <td>2013</td>\n",
       "      <td>1.7</td>\n",
       "      <td>Action, Comedy</td>\n",
       "      <td>s4443</td>\n",
       "      <td>Movie</td>\n",
       "      <td>Himmatwala</td>\n",
       "      <td>Sajid Khan</td>\n",
       "      <td>Ajay Devgn, Tamannaah Bhatia, Paresh Rawal, Za...</td>\n",
       "      <td>India</td>\n",
       "      <td>November 1, 2018</td>\n",
       "      <td>2013</td>\n",
       "      <td>TV-14</td>\n",
       "      <td>140 min</td>\n",
       "      <td>Action &amp; Adventure, Comedies, International Mo...</td>\n",
       "      <td>A young man returns to his native village on a...</td>\n",
       "    </tr>\n",
       "    <tr>\n",
       "      <th>1509</th>\n",
       "      <td>Welcome to New York</td>\n",
       "      <td>2018</td>\n",
       "      <td>1.6</td>\n",
       "      <td>Comedy, Drama</td>\n",
       "      <td>s8716</td>\n",
       "      <td>Movie</td>\n",
       "      <td>Welcome to New York</td>\n",
       "      <td>Abel Ferrara</td>\n",
       "      <td>Gérard Depardieu, Jacqueline Bisset, Marie Mou...</td>\n",
       "      <td>United States, France</td>\n",
       "      <td>March 23, 2017</td>\n",
       "      <td>2014</td>\n",
       "      <td>R</td>\n",
       "      <td>108 min</td>\n",
       "      <td>Dramas, Independent Movies</td>\n",
       "      <td>A lecherous World Bank official sees his reput...</td>\n",
       "    </tr>\n",
       "    <tr>\n",
       "      <th>1040</th>\n",
       "      <td>Pink</td>\n",
       "      <td>2016</td>\n",
       "      <td>1.6</td>\n",
       "      <td>Comedy, Drama</td>\n",
       "      <td>s5630</td>\n",
       "      <td>Movie</td>\n",
       "      <td>Pink</td>\n",
       "      <td>Aniruddha Roy Chowdhury</td>\n",
       "      <td>Tapsee Pannu, Kirti Kulhari, Andrea Tariang, A...</td>\n",
       "      <td>India</td>\n",
       "      <td>January 20, 2017</td>\n",
       "      <td>2016</td>\n",
       "      <td>TV-14</td>\n",
       "      <td>130 min</td>\n",
       "      <td>Dramas, International Movies</td>\n",
       "      <td>A sexual assault victim, unjustly tried for th...</td>\n",
       "    </tr>\n",
       "    <tr>\n",
       "      <th>1994</th>\n",
       "      <td>Aerials</td>\n",
       "      <td>2016</td>\n",
       "      <td>1.6</td>\n",
       "      <td>Drama, Sci-Fi, Thriller</td>\n",
       "      <td>s2556</td>\n",
       "      <td>Movie</td>\n",
       "      <td>Aerials</td>\n",
       "      <td>S.A. Zaidi</td>\n",
       "      <td>Saga Alyasery, Ana Druzhynina, Mansour Al Fele...</td>\n",
       "      <td>United Arab Emirates</td>\n",
       "      <td>May 7, 2020</td>\n",
       "      <td>2016</td>\n",
       "      <td>TV-14</td>\n",
       "      <td>90 min</td>\n",
       "      <td>International Movies, Sci-Fi &amp; Fantasy</td>\n",
       "      <td>Dubai residents struggle to figure out why a f...</td>\n",
       "    </tr>\n",
       "  </tbody>\n",
       "</table>\n",
       "<p>2532 rows × 16 columns</p>\n",
       "</div>"
      ],
      "text/plain": [
       "                    Title Release Year  Rating                      Genre  \\\n",
       "833              Innocent         2017     9.0                     Comedy   \n",
       "321          Pulp Fiction         1994     8.9               Crime, Drama   \n",
       "310      Schindler's List         1993     8.9  Biography, Drama, History   \n",
       "1134            Inception         2010     8.8  Action, Adventure, Sci-Fi   \n",
       "515               Koshish         1972     8.6                      Drama   \n",
       "...                   ...          ...     ...                        ...   \n",
       "805           Ride or Die         2005     1.7            Action, Western   \n",
       "496            Himmatwala         2013     1.7             Action, Comedy   \n",
       "1509  Welcome to New York         2018     1.6              Comedy, Drama   \n",
       "1040                 Pink         2016     1.6              Comedy, Drama   \n",
       "1994              Aerials         2016     1.6    Drama, Sci-Fi, Thriller   \n",
       "\n",
       "     show_id     type                title                 director  \\\n",
       "833    s4175  TV Show             Innocent               Seren Yüce   \n",
       "321    s7803    Movie         Pulp Fiction        Quentin Tarantino   \n",
       "310    s7958    Movie     Schindler's List         Steven Spielberg   \n",
       "1134    s341    Movie            Inception        Christopher Nolan   \n",
       "515    s7225    Movie              Koshish                   Gulzar   \n",
       "...      ...      ...                  ...                      ...   \n",
       "805    s1051    Movie          Ride or Die           Ryuichi Hiroki   \n",
       "496    s4443    Movie           Himmatwala               Sajid Khan   \n",
       "1509   s8716    Movie  Welcome to New York             Abel Ferrara   \n",
       "1040   s5630    Movie                 Pink  Aniruddha Roy Chowdhury   \n",
       "1994   s2556    Movie              Aerials               S.A. Zaidi   \n",
       "\n",
       "                                                   cast  \\\n",
       "833   Ali Atay, Haluk Bilginer, Nur Sürer, Okan Yala...   \n",
       "321   John Travolta, Samuel L. Jackson, Uma Thurman,...   \n",
       "310   Liam Neeson, Ben Kingsley, Ralph Fiennes, Caro...   \n",
       "1134  Leonardo DiCaprio, Joseph Gordon-Levitt, Ellio...   \n",
       "515   Sanjeev Kumar, Jaya Bhaduri, Asrani, Seema, Om...   \n",
       "...                                                 ...   \n",
       "805   Kiko Mizuhara, Honami Sato, Yoko Maki, Anne Su...   \n",
       "496   Ajay Devgn, Tamannaah Bhatia, Paresh Rawal, Za...   \n",
       "1509  Gérard Depardieu, Jacqueline Bisset, Marie Mou...   \n",
       "1040  Tapsee Pannu, Kirti Kulhari, Andrea Tariang, A...   \n",
       "1994  Saga Alyasery, Ana Druzhynina, Mansour Al Fele...   \n",
       "\n",
       "                            country         date_added  release_year rating  \\\n",
       "833                          Turkey   January 23, 2019          2017  TV-MA   \n",
       "321                   United States    January 1, 2019          1994      R   \n",
       "310                   United States      April 1, 2018          1993      R   \n",
       "1134  United States, United Kingdom     August 1, 2021          2010  PG-13   \n",
       "515                           India  December 31, 2019          1972  TV-14   \n",
       "...                             ...                ...           ...    ...   \n",
       "805                           Japan     April 15, 2021          2021  TV-MA   \n",
       "496                           India   November 1, 2018          2013  TV-14   \n",
       "1509          United States, France     March 23, 2017          2014      R   \n",
       "1040                          India   January 20, 2017          2016  TV-14   \n",
       "1994           United Arab Emirates        May 7, 2020          2016  TV-14   \n",
       "\n",
       "      duration                                          listed_in  \\\n",
       "833   1 Season  Crime TV Shows, International TV Shows, TV Dramas   \n",
       "321    154 min                Classic Movies, Cult Movies, Dramas   \n",
       "310    195 min                             Classic Movies, Dramas   \n",
       "1134   148 min    Action & Adventure, Sci-Fi & Fantasy, Thrillers   \n",
       "515    115 min              International Movies, Romantic Movies   \n",
       "...        ...                                                ...   \n",
       "805    143 min         Dramas, International Movies, LGBTQ Movies   \n",
       "496    140 min  Action & Adventure, Comedies, International Mo...   \n",
       "1509   108 min                         Dramas, Independent Movies   \n",
       "1040   130 min                       Dramas, International Movies   \n",
       "1994    90 min             International Movies, Sci-Fi & Fantasy   \n",
       "\n",
       "                                            description  \n",
       "833   In a peaceful, rustic town, a retired officer ...  \n",
       "321   This stylized crime caper weaves together stor...  \n",
       "310   Oskar Schindler becomes an unlikely humanitari...  \n",
       "1134  A troubled thief who extracts secrets from peo...  \n",
       "515   A speech and hearing-impaired couple persists ...  \n",
       "...                                                 ...  \n",
       "805   Rei helps the woman she’s been in love with fo...  \n",
       "496   A young man returns to his native village on a...  \n",
       "1509  A lecherous World Bank official sees his reput...  \n",
       "1040  A sexual assault victim, unjustly tried for th...  \n",
       "1994  Dubai residents struggle to figure out why a f...  \n",
       "\n",
       "[2532 rows x 16 columns]"
      ]
     },
     "execution_count": 22,
     "metadata": {},
     "output_type": "execute_result"
    }
   ],
   "source": [
    "joint_data"
   ]
  },
  {
   "cell_type": "code",
   "execution_count": 23,
   "id": "b3c4c938",
   "metadata": {},
   "outputs": [
    {
     "data": {
      "image/png": "[encoded data removed]",
      "text/plain": [
       "<Figure size 1000x1000 with 1 Axes>"
      ]
     },
     "metadata": {},
     "output_type": "display_data"
    }
   ],
   "source": [
    "top_genres = joint_data.set_index('title').Genre.str.split(', ', expand=True).stack().reset_index(level=1, drop=True)\n",
    "plt.figure(figsize=(10, 10))\n",
    "sns.countplot(y=top_genres, order=top_genres.value_counts().index.to_list()[:10], palette='mako', saturation=.4)\n",
    "plt.title('Top 10 Genres with the Largest Number of Content Titles', fontsize=21);"
   ]
  },
  {
   "cell_type": "markdown",
   "id": "55a64997",
   "metadata": {},
   "source": [
    "# Top content creating countries"
   ]
  },
  {
   "cell_type": "code",
   "execution_count": 24,
   "id": "62b07167",
   "metadata": {},
   "outputs": [
    {
     "data": {
      "text/html": [
       "<div>\n",
       "<style scoped>\n",
       "    .dataframe tbody tr th:only-of-type {\n",
       "        vertical-align: middle;\n",
       "    }\n",
       "\n",
       "    .dataframe tbody tr th {\n",
       "        vertical-align: top;\n",
       "    }\n",
       "\n",
       "    .dataframe thead th {\n",
       "        text-align: right;\n",
       "    }\n",
       "</style>\n",
       "<table border=\"1\" class=\"dataframe\">\n",
       "  <thead>\n",
       "    <tr style=\"text-align: right;\">\n",
       "      <th></th>\n",
       "      <th>Country</th>\n",
       "      <th>Shows</th>\n",
       "    </tr>\n",
       "  </thead>\n",
       "  <tbody>\n",
       "    <tr>\n",
       "      <th>0</th>\n",
       "      <td>United States</td>\n",
       "      <td>774</td>\n",
       "    </tr>\n",
       "    <tr>\n",
       "      <th>1</th>\n",
       "      <td>India</td>\n",
       "      <td>704</td>\n",
       "    </tr>\n",
       "    <tr>\n",
       "      <th>2</th>\n",
       "      <td>United Kingdom</td>\n",
       "      <td>64</td>\n",
       "    </tr>\n",
       "    <tr>\n",
       "      <th>3</th>\n",
       "      <td>Philippines</td>\n",
       "      <td>50</td>\n",
       "    </tr>\n",
       "    <tr>\n",
       "      <th>4</th>\n",
       "      <td>Canada</td>\n",
       "      <td>46</td>\n",
       "    </tr>\n",
       "    <tr>\n",
       "      <th>5</th>\n",
       "      <td>Indonesia</td>\n",
       "      <td>38</td>\n",
       "    </tr>\n",
       "    <tr>\n",
       "      <th>6</th>\n",
       "      <td>Spain</td>\n",
       "      <td>35</td>\n",
       "    </tr>\n",
       "    <tr>\n",
       "      <th>7</th>\n",
       "      <td>Nigeria</td>\n",
       "      <td>31</td>\n",
       "    </tr>\n",
       "    <tr>\n",
       "      <th>8</th>\n",
       "      <td>United Kingdom, United States</td>\n",
       "      <td>29</td>\n",
       "    </tr>\n",
       "    <tr>\n",
       "      <th>9</th>\n",
       "      <td>France</td>\n",
       "      <td>25</td>\n",
       "    </tr>\n",
       "    <tr>\n",
       "      <th>10</th>\n",
       "      <td>United States, Canada</td>\n",
       "      <td>25</td>\n",
       "    </tr>\n",
       "  </tbody>\n",
       "</table>\n",
       "</div>"
      ],
      "text/plain": [
       "                          Country  Shows\n",
       "0                   United States    774\n",
       "1                           India    704\n",
       "2                  United Kingdom     64\n",
       "3                     Philippines     50\n",
       "4                          Canada     46\n",
       "5                       Indonesia     38\n",
       "6                           Spain     35\n",
       "7                         Nigeria     31\n",
       "8   United Kingdom, United States     29\n",
       "9                          France     25\n",
       "10          United States, Canada     25"
      ]
     },
     "execution_count": 24,
     "metadata": {},
     "output_type": "execute_result"
    }
   ],
   "source": [
    "country_count=joint_data['country'].value_counts().sort_values(ascending=False)\n",
    "country_count = pd.DataFrame({'Country': country_count.index, 'Shows': country_count.values})\n",
    "topcountries=country_count[0:11]\n",
    "topcountries"
   ]
  },
  {
   "cell_type": "code",
   "execution_count": 25,
   "id": "239baf6e",
   "metadata": {},
   "outputs": [
    {
     "data": {
      "image/png": "[encoded data removed]",
      "text/plain": [
       "<Figure size 1000x800 with 1 Axes>"
      ]
     },
     "metadata": {},
     "output_type": "display_data"
    }
   ],
   "source": [
    "Countries = movies.set_index('title').country.str.split(', ', expand=True).stack().reset_index(level=1, drop=True);\n",
    "Countries = Countries[Countries != 'production country unavailable']\n",
    "plt.figure(figsize=(10,8))\n",
    "g = sns.countplot(x = Countries, order=Countries.value_counts().index[:10], palette='dark:salmon')\n",
    "plt.title('Top 10 Content Producing Countries', fontsize=21)\n",
    "plt.xlabel('Country')\n",
    "plt.ylabel('Titles')\n",
    "plt.show()"
   ]
  },
  {
   "cell_type": "markdown",
   "id": "f29aa916",
   "metadata": {},
   "source": [
    "# Year wise analysis"
   ]
  },
  {
   "cell_type": "code",
   "execution_count": 26,
   "id": "831d419e",
   "metadata": {},
   "outputs": [
    {
     "data": {
      "text/html": [
       "<div>\n",
       "<style scoped>\n",
       "    .dataframe tbody tr th:only-of-type {\n",
       "        vertical-align: middle;\n",
       "    }\n",
       "\n",
       "    .dataframe tbody tr th {\n",
       "        vertical-align: top;\n",
       "    }\n",
       "\n",
       "    .dataframe thead th {\n",
       "        text-align: right;\n",
       "    }\n",
       "</style>\n",
       "<table border=\"1\" class=\"dataframe\">\n",
       "  <thead>\n",
       "    <tr style=\"text-align: right;\">\n",
       "      <th></th>\n",
       "      <th>show_id</th>\n",
       "      <th>type</th>\n",
       "      <th>title</th>\n",
       "      <th>director</th>\n",
       "      <th>cast</th>\n",
       "      <th>country</th>\n",
       "      <th>date_added</th>\n",
       "      <th>release_year</th>\n",
       "      <th>rating</th>\n",
       "      <th>duration</th>\n",
       "      <th>listed_in</th>\n",
       "      <th>description</th>\n",
       "    </tr>\n",
       "  </thead>\n",
       "  <tbody>\n",
       "    <tr>\n",
       "      <th>1</th>\n",
       "      <td>s9</td>\n",
       "      <td>TV Show</td>\n",
       "      <td>The Great British Baking Show</td>\n",
       "      <td>Andy Devonshire</td>\n",
       "      <td>Mel Giedroyc, Sue Perkins, Mary Berry, Paul Ho...</td>\n",
       "      <td>United Kingdom</td>\n",
       "      <td>September 24, 2021</td>\n",
       "      <td>2021</td>\n",
       "      <td>TV-14</td>\n",
       "      <td>9 Seasons</td>\n",
       "      <td>British TV Shows, Reality TV</td>\n",
       "      <td>A talented batch of amateur bakers face off in...</td>\n",
       "    </tr>\n",
       "    <tr>\n",
       "      <th>2</th>\n",
       "      <td>s10</td>\n",
       "      <td>Movie</td>\n",
       "      <td>The Starling</td>\n",
       "      <td>Theodore Melfi</td>\n",
       "      <td>Melissa McCarthy, Chris O'Dowd, Kevin Kline, T...</td>\n",
       "      <td>United States</td>\n",
       "      <td>September 24, 2021</td>\n",
       "      <td>2021</td>\n",
       "      <td>PG-13</td>\n",
       "      <td>104 min</td>\n",
       "      <td>Comedies, Dramas</td>\n",
       "      <td>A woman adjusting to life after a loss contend...</td>\n",
       "    </tr>\n",
       "    <tr>\n",
       "      <th>3</th>\n",
       "      <td>s13</td>\n",
       "      <td>Movie</td>\n",
       "      <td>Je Suis Karl</td>\n",
       "      <td>Christian Schwochow</td>\n",
       "      <td>Luna Wedler, Jannis Niewöhner, Milan Peschel, ...</td>\n",
       "      <td>Germany, Czech Republic</td>\n",
       "      <td>September 23, 2021</td>\n",
       "      <td>2021</td>\n",
       "      <td>TV-MA</td>\n",
       "      <td>127 min</td>\n",
       "      <td>Dramas, International Movies</td>\n",
       "      <td>After most of her family is murdered in a terr...</td>\n",
       "    </tr>\n",
       "    <tr>\n",
       "      <th>5</th>\n",
       "      <td>s28</td>\n",
       "      <td>Movie</td>\n",
       "      <td>Grown Ups</td>\n",
       "      <td>Dennis Dugan</td>\n",
       "      <td>Adam Sandler, Kevin James, Chris Rock, David S...</td>\n",
       "      <td>United States</td>\n",
       "      <td>September 20, 2021</td>\n",
       "      <td>2010</td>\n",
       "      <td>PG-13</td>\n",
       "      <td>103 min</td>\n",
       "      <td>Comedies</td>\n",
       "      <td>Mourning the loss of their beloved junior high...</td>\n",
       "    </tr>\n",
       "    <tr>\n",
       "      <th>6</th>\n",
       "      <td>s29</td>\n",
       "      <td>Movie</td>\n",
       "      <td>Dark Skies</td>\n",
       "      <td>Scott Stewart</td>\n",
       "      <td>Keri Russell, Josh Hamilton, J.K. Simmons, Dak...</td>\n",
       "      <td>United States</td>\n",
       "      <td>September 19, 2021</td>\n",
       "      <td>2013</td>\n",
       "      <td>PG-13</td>\n",
       "      <td>97 min</td>\n",
       "      <td>Horror Movies, Sci-Fi &amp; Fantasy</td>\n",
       "      <td>A family’s idyllic suburban life shatters when...</td>\n",
       "    </tr>\n",
       "  </tbody>\n",
       "</table>\n",
       "</div>"
      ],
      "text/plain": [
       "  show_id     type                          title             director  \\\n",
       "1      s9  TV Show  The Great British Baking Show      Andy Devonshire   \n",
       "2     s10    Movie                   The Starling       Theodore Melfi   \n",
       "3     s13    Movie                   Je Suis Karl  Christian Schwochow   \n",
       "5     s28    Movie                      Grown Ups         Dennis Dugan   \n",
       "6     s29    Movie                     Dark Skies        Scott Stewart   \n",
       "\n",
       "                                                cast                  country  \\\n",
       "1  Mel Giedroyc, Sue Perkins, Mary Berry, Paul Ho...           United Kingdom   \n",
       "2  Melissa McCarthy, Chris O'Dowd, Kevin Kline, T...            United States   \n",
       "3  Luna Wedler, Jannis Niewöhner, Milan Peschel, ...  Germany, Czech Republic   \n",
       "5  Adam Sandler, Kevin James, Chris Rock, David S...            United States   \n",
       "6  Keri Russell, Josh Hamilton, J.K. Simmons, Dak...            United States   \n",
       "\n",
       "           date_added  release_year rating   duration  \\\n",
       "1  September 24, 2021          2021  TV-14  9 Seasons   \n",
       "2  September 24, 2021          2021  PG-13    104 min   \n",
       "3  September 23, 2021          2021  TV-MA    127 min   \n",
       "5  September 20, 2021          2010  PG-13    103 min   \n",
       "6  September 19, 2021          2013  PG-13     97 min   \n",
       "\n",
       "                         listed_in  \\\n",
       "1     British TV Shows, Reality TV   \n",
       "2                 Comedies, Dramas   \n",
       "3     Dramas, International Movies   \n",
       "5                         Comedies   \n",
       "6  Horror Movies, Sci-Fi & Fantasy   \n",
       "\n",
       "                                         description  \n",
       "1  A talented batch of amateur bakers face off in...  \n",
       "2  A woman adjusting to life after a loss contend...  \n",
       "3  After most of her family is murdered in a terr...  \n",
       "5  Mourning the loss of their beloved junior high...  \n",
       "6  A family’s idyllic suburban life shatters when...  "
      ]
     },
     "execution_count": 26,
     "metadata": {},
     "output_type": "execute_result"
    }
   ],
   "source": [
    "Last_fifteen_years = movies[movies['release_year']>2005]\n",
    "Last_fifteen_years.head()"
   ]
  },
  {
   "cell_type": "code",
   "execution_count": 27,
   "id": "77611c39",
   "metadata": {},
   "outputs": [
    {
     "data": {
      "image/png": "[encoded data removed]",
      "text/plain": [
       "<Figure size 1200x1000 with 1 Axes>"
      ]
     },
     "metadata": {},
     "output_type": "display_data"
    }
   ],
   "source": [
    "#Year wise analysis in graph\n",
    "plt.figure(figsize=(12,10))\n",
    "sns.set(style=\"darkgrid\")\n",
    "ax = sns.countplot(y=\"release_year\", data=Last_fifteen_years, palette=\"Set2\", order=movies['release_year'].value_counts().index[0:15])"
   ]
  },
  {
   "cell_type": "markdown",
   "id": "e31479f1",
   "metadata": {},
   "source": [
    "# Analysis of duration of movies"
   ]
  },
  {
   "cell_type": "code",
   "execution_count": 28,
   "id": "8a8fe184",
   "metadata": {},
   "outputs": [
    {
     "data": {
      "text/plain": [
       "0       125\n",
       "2       104\n",
       "3       127\n",
       "4       166\n",
       "5       103\n",
       "       ... \n",
       "5327     96\n",
       "5328    158\n",
       "5329     88\n",
       "5330     88\n",
       "5331    111\n",
       "Name: duration, Length: 5185, dtype: int64"
      ]
     },
     "execution_count": 28,
     "metadata": {},
     "output_type": "execute_result"
    }
   ],
   "source": [
    "netflix_movies['duration']=netflix_movies['duration'].str.replace(' min','')\n",
    "netflix_movies['duration']\n",
    "netflix_movies['duration']=netflix_movies['duration'].astype(str).astype(int)\n",
    "netflix_movies['duration']"
   ]
  },
  {
   "cell_type": "code",
   "execution_count": 29,
   "id": "49091c99",
   "metadata": {},
   "outputs": [
    {
     "data": {
      "text/plain": [
       "(5185, 12)"
      ]
     },
     "execution_count": 29,
     "metadata": {},
     "output_type": "execute_result"
    }
   ],
   "source": [
    "netflix_movies.shape"
   ]
  },
  {
   "cell_type": "code",
   "execution_count": 30,
   "id": "6e53bc0e",
   "metadata": {},
   "outputs": [
    {
     "data": {
      "text/plain": [
       "(147, 12)"
      ]
     },
     "execution_count": 30,
     "metadata": {},
     "output_type": "execute_result"
    }
   ],
   "source": [
    "netflix_shows.shape"
   ]
  },
  {
   "cell_type": "code",
   "execution_count": 31,
   "id": "57487b60",
   "metadata": {},
   "outputs": [
    {
     "data": {
      "image/png": "[encoded data removed]",
      "text/plain": [
       "<Figure size 1200x800 with 1 Axes>"
      ]
     },
     "metadata": {},
     "output_type": "display_data"
    }
   ],
   "source": [
    "sns.set(style=\"darkgrid\")\n",
    "plt.figure(figsize=(12,8))\n",
    "ax=sns.kdeplot(data=netflix_movies['duration'], shade=True)"
   ]
  },
  {
   "cell_type": "markdown",
   "id": "8c0aae6b",
   "metadata": {},
   "source": [
    "# Analysis of duration of TV shows"
   ]
  },
  {
   "cell_type": "code",
   "execution_count": 32,
   "id": "fd40273d",
   "metadata": {},
   "outputs": [],
   "source": [
    "features=['title','duration']\n",
    "durations= netflix_shows[features]\n",
    "durations['no_of_seasons']=durations['duration'].str.replace(' Season','')\n",
    "durations['no_of_seasons']=durations['no_of_seasons'].str.replace('s','')"
   ]
  },
  {
   "cell_type": "code",
   "execution_count": 33,
   "id": "f628915e",
   "metadata": {},
   "outputs": [],
   "source": [
    "durations['no_of_seasons']=durations['no_of_seasons'].astype(str).astype(int)"
   ]
  },
  {
   "cell_type": "code",
   "execution_count": 34,
   "id": "2d216092",
   "metadata": {},
   "outputs": [],
   "source": [
    "#TV shows with largest number of seasons\n",
    "t=['title','no_of_seasons']\n",
    "top=durations[t]\n",
    "\n",
    "top=top.sort_values(by='no_of_seasons', ascending=False)"
   ]
  },
  {
   "cell_type": "code",
   "execution_count": 35,
   "id": "5da96021",
   "metadata": {},
   "outputs": [
    {
     "data": {
      "text/plain": [
       "<AxesSubplot: xlabel='title'>"
      ]
     },
     "execution_count": 35,
     "metadata": {},
     "output_type": "execute_result"
    },
    {
     "data": {
      "text/plain": [
       "<Figure size 1000x800 with 0 Axes>"
      ]
     },
     "metadata": {},
     "output_type": "display_data"
    },
    {
     "data": {
      "image/png": "[encoded data removed]",
      "text/plain": [
       "<Figure size 640x480 with 1 Axes>"
      ]
     },
     "metadata": {},
     "output_type": "display_data"
    }
   ],
   "source": [
    "top20=top[0:20]\n",
    "plt.figure(figsize=(10,8))\n",
    "top20.plot(kind='bar',x='title',y='no_of_seasons', color='orange')"
   ]
  },
  {
   "cell_type": "code",
   "execution_count": 36,
   "id": "a22ba94d",
   "metadata": {},
   "outputs": [],
   "source": [
    "# filtered_directors = netflix_df[netflix_df.director != 'No_Director'].set_index('title').director.str.split(', ', expand=True).stack().reset_index(level=1, drop=True)plt.figure(figsize=(13,7))plt.title('Top 10 Director Based on The Number of Titles')\n",
    "# sns.countplot(y = filtered_directors, order=filtered_directors.value_counts().index[:10], palette='Blues')\n",
    "# plt.show()"
   ]
  },
  {
   "cell_type": "markdown",
   "id": "d51f9cdf",
   "metadata": {},
   "source": [
    "# Content Based Recommendations"
   ]
  },
  {
   "cell_type": "code",
   "execution_count": 37,
   "id": "87d970ba",
   "metadata": {},
   "outputs": [
    {
     "data": {
      "text/plain": [
       "0    On a photo shoot in Ghana, an American model s...\n",
       "1    A talented batch of amateur bakers face off in...\n",
       "2    A woman adjusting to life after a loss contend...\n",
       "3    After most of her family is murdered in a terr...\n",
       "4    When the father of the man she loves insists t...\n",
       "Name: description, dtype: object"
      ]
     },
     "execution_count": 37,
     "metadata": {},
     "output_type": "execute_result"
    }
   ],
   "source": [
    "#Plot description based Recommender\n",
    "\n",
    "movies['description'].head()"
   ]
  },
  {
   "cell_type": "markdown",
   "id": "f889d833",
   "metadata": {},
   "source": [
    "This will give us a matrix where each column represents a word in the description vocabulary \n",
    "(all the words that appear in at least one document) and each row represents a movie, as before. \n",
    "This is done to reduce the importance of words that occur frequently in plot descriptions and therefore, \n",
    "their significance in computing the final similarity score"
   ]
  },
  {
   "cell_type": "code",
   "execution_count": 38,
   "id": "fdc7390b",
   "metadata": {},
   "outputs": [
    {
     "data": {
      "text/plain": [
       "(5332, 14298)"
      ]
     },
     "execution_count": 38,
     "metadata": {},
     "output_type": "execute_result"
    }
   ],
   "source": [
    "#Recommedation System(Content Based)\n",
    "\n",
    "#Import TfIdfVectorizer from scikit-learn\n",
    "from sklearn.feature_extraction.text import TfidfVectorizer\n",
    "\n",
    "#Define a TF-IDF Vectorizer Object. Remove all english stop words such as 'the', 'a', etc.\n",
    "tfidf = TfidfVectorizer(stop_words='english')\n",
    "\n",
    "#Replacing NaN with an empty string\n",
    "movies['description'] = movies['description'].fillna('')\n",
    "\n",
    "#Constructing the required TF-IDF matrix by fitting and transforming the data\n",
    "tfidf_matrix = tfidf.fit_transform(movies['description'])\n",
    "\n",
    "#Output the shape of tfidf_matrix\n",
    "tfidf_matrix.shape"
   ]
  },
  {
   "cell_type": "markdown",
   "id": "d8fa9d06",
   "metadata": {},
   "source": [
    "This means there are 14,298 different words describing the 5332 movies in our dataset."
   ]
  },
  {
   "cell_type": "markdown",
   "id": "78389980",
   "metadata": {},
   "source": [
    "This matric score will be used to genrate similarity score and to calculate that we will use cosine similatiry\n",
    "\n",
    "Since we have used the TF-IDF vectorizer, calculating the dot product will directly give us the cosine similarity score.\n",
    "\n",
    "Therefore, we will use sklearn's linear_kernel() instead of cosine_similarities() since it is faster."
   ]
  },
  {
   "cell_type": "code",
   "execution_count": 39,
   "id": "3f1882a1",
   "metadata": {},
   "outputs": [],
   "source": [
    "#tfidf_matrix.nonzero()\n",
    "from sklearn.metrics.pairwise import linear_kernel\n",
    "\n",
    "#compute the cosine similarity matrix\n",
    "cosine_sim = linear_kernel(tfidf_matrix,tfidf_matrix)"
   ]
  },
  {
   "cell_type": "code",
   "execution_count": 40,
   "id": "3f9aca2f",
   "metadata": {},
   "outputs": [
    {
     "data": {
      "text/plain": [
       "array([[1.        , 0.        , 0.        , ..., 0.        , 0.        ,\n",
       "        0.03618611],\n",
       "       [0.        , 1.        , 0.        , ..., 0.        , 0.        ,\n",
       "        0.        ],\n",
       "       [0.        , 0.        , 1.        , ..., 0.06198003, 0.01775014,\n",
       "        0.0446703 ],\n",
       "       ...,\n",
       "       [0.        , 0.        , 0.06198003, ..., 1.        , 0.        ,\n",
       "        0.        ],\n",
       "       [0.        , 0.        , 0.01775014, ..., 0.        , 1.        ,\n",
       "        0.        ],\n",
       "       [0.03618611, 0.        , 0.0446703 , ..., 0.        , 0.        ,\n",
       "        1.        ]])"
      ]
     },
     "execution_count": 40,
     "metadata": {},
     "output_type": "execute_result"
    }
   ],
   "source": [
    "cosine_sim"
   ]
  },
  {
   "cell_type": "markdown",
   "id": "0b2e4bea",
   "metadata": {},
   "source": [
    "We are going to define a function that takes in a movie title as an input and outputs a list of the 10 most similar movies. \n",
    "Firstly, for this, we need a reverse mapping of movie titles and DataFrame indices. \n",
    "In other words, we need a mechanism to identify the index of a movie in our netflix DataFrame, given its title"
   ]
  },
  {
   "cell_type": "code",
   "execution_count": 41,
   "id": "e0d45012",
   "metadata": {},
   "outputs": [],
   "source": [
    "#construct a reverse map if indices and mivie titles\n",
    "indices = pd.Series(movies.index, index = movies['title']).drop_duplicates()"
   ]
  },
  {
   "cell_type": "code",
   "execution_count": 42,
   "id": "7676cd4c",
   "metadata": {},
   "outputs": [
    {
     "data": {
      "text/plain": [
       "title\n",
       "Sankofa                             0\n",
       "The Great British Baking Show       1\n",
       "The Starling                        2\n",
       "Je Suis Karl                        3\n",
       "Jeans                               4\n",
       "                                 ... \n",
       "Zinzana                          5327\n",
       "Zodiac                           5328\n",
       "Zombieland                       5329\n",
       "Zoom                             5330\n",
       "Zubaan                           5331\n",
       "Length: 5332, dtype: int64"
      ]
     },
     "execution_count": 42,
     "metadata": {},
     "output_type": "execute_result"
    }
   ],
   "source": [
    "# Given every movies or show an index number\n",
    "indices"
   ]
  },
  {
   "cell_type": "markdown",
   "id": "eef78a3f",
   "metadata": {},
   "source": [
    "# Defining our recommendation system"
   ]
  },
  {
   "cell_type": "code",
   "execution_count": 43,
   "id": "7476fae9",
   "metadata": {},
   "outputs": [],
   "source": [
    "# Function that takes in movie title as input and outputs most similar movies\n",
    "# we will use cosine similarity instead of Euclidian distance. because what will be used for calculation is the angle between the vectors \n",
    "def get_recommendations(title, cosine_sim=cosine_sim):\n",
    "    # Get the index of the movie that matches the title\n",
    "    idx = indices[title]\n",
    "\n",
    "    # Get the pairwsie similarity scores of all movies with that movie\n",
    "    sim_scores = list(enumerate(cosine_sim[idx]))\n",
    "\n",
    "    # Sort the movies based on the similarity scores\n",
    "    sim_scores = sorted(sim_scores, key=lambda x: x[1], reverse=True)\n",
    "\n",
    "    # Get the scores of the 10 most similar movies\n",
    "    sim_scores = sim_scores[1:11]\n",
    "\n",
    "    # Get the movie indices\n",
    "    movie_indices = [i[0] for i in sim_scores]\n",
    "\n",
    "    # Return the top 10 most similar movies\n",
    "    return movies['title'].iloc[movie_indices]"
   ]
  },
  {
   "cell_type": "code",
   "execution_count": 44,
   "id": "8218f712",
   "metadata": {},
   "outputs": [
    {
     "data": {
      "text/plain": [
       "110                                 The November Man\n",
       "1374                                      John Henry\n",
       "3648                                            Cake\n",
       "3762                           Daughters of the Dust\n",
       "4890                         The Angry Birds Movie 2\n",
       "21      Naruto Shippûden the Movie: The Will of Fire\n",
       "2598           The Legacy of a Whitetail Deer Hunter\n",
       "4033                                             Her\n",
       "1274                                     Da 5 Bloods\n",
       "2377                           Christmas With A View\n",
       "Name: title, dtype: object"
      ]
     },
     "execution_count": 44,
     "metadata": {},
     "output_type": "execute_result"
    }
   ],
   "source": [
    "get_recommendations('Black Panther')"
   ]
  },
  {
   "cell_type": "code",
   "execution_count": 45,
   "id": "2faf5d4b",
   "metadata": {},
   "outputs": [
    {
     "data": {
      "text/plain": [
       "2678                                Candy Jar\n",
       "116                                    Pahuna\n",
       "1463                              Moms at War\n",
       "3011                                 Lovesong\n",
       "422                           Never Back Down\n",
       "549                               A Week Away\n",
       "5089                          The Prince & Me\n",
       "3539                     Barrio Universitario\n",
       "2686                                     Dude\n",
       "1210    Hunter in the Blue Side of Manchester\n",
       "Name: title, dtype: object"
      ]
     },
     "execution_count": 45,
     "metadata": {},
     "output_type": "execute_result"
    }
   ],
   "source": [
    "get_recommendations('3 Idiots')"
   ]
  },
  {
   "cell_type": "markdown",
   "id": "f5349a29",
   "metadata": {},
   "source": [
    "Therefore, more metrics should be added to the model to improve performance.\n",
    "\n",
    "Content based filtering on multiple metrics Content based filtering on the following factors:\n",
    "\n",
    "1 Title\n",
    "2 Cast\n",
    "3 Director\n",
    "4 Listed in\n",
    "5 Plot"
   ]
  },
  {
   "cell_type": "code",
   "execution_count": 46,
   "id": "300a561b",
   "metadata": {},
   "outputs": [],
   "source": [
    "#Filling null values with empty string.\n",
    "filledna=movies.fillna('')"
   ]
  },
  {
   "cell_type": "code",
   "execution_count": 47,
   "id": "2b03ab10",
   "metadata": {},
   "outputs": [
    {
     "data": {
      "text/html": [
       "<div>\n",
       "<style scoped>\n",
       "    .dataframe tbody tr th:only-of-type {\n",
       "        vertical-align: middle;\n",
       "    }\n",
       "\n",
       "    .dataframe tbody tr th {\n",
       "        vertical-align: top;\n",
       "    }\n",
       "\n",
       "    .dataframe thead th {\n",
       "        text-align: right;\n",
       "    }\n",
       "</style>\n",
       "<table border=\"1\" class=\"dataframe\">\n",
       "  <thead>\n",
       "    <tr style=\"text-align: right;\">\n",
       "      <th></th>\n",
       "      <th>show_id</th>\n",
       "      <th>type</th>\n",
       "      <th>title</th>\n",
       "      <th>director</th>\n",
       "      <th>cast</th>\n",
       "      <th>country</th>\n",
       "      <th>date_added</th>\n",
       "      <th>release_year</th>\n",
       "      <th>rating</th>\n",
       "      <th>duration</th>\n",
       "      <th>listed_in</th>\n",
       "      <th>description</th>\n",
       "    </tr>\n",
       "  </thead>\n",
       "  <tbody>\n",
       "    <tr>\n",
       "      <th>0</th>\n",
       "      <td>s8</td>\n",
       "      <td>Movie</td>\n",
       "      <td>Sankofa</td>\n",
       "      <td>Haile Gerima</td>\n",
       "      <td>Kofi Ghanaba, Oyafunmike Ogunlano, Alexandra D...</td>\n",
       "      <td>United States, Ghana, Burkina Faso, United Kin...</td>\n",
       "      <td>September 24, 2021</td>\n",
       "      <td>1993</td>\n",
       "      <td>TV-MA</td>\n",
       "      <td>125 min</td>\n",
       "      <td>Dramas, Independent Movies, International Movies</td>\n",
       "      <td>On a photo shoot in Ghana, an American model s...</td>\n",
       "    </tr>\n",
       "    <tr>\n",
       "      <th>1</th>\n",
       "      <td>s9</td>\n",
       "      <td>TV Show</td>\n",
       "      <td>The Great British Baking Show</td>\n",
       "      <td>Andy Devonshire</td>\n",
       "      <td>Mel Giedroyc, Sue Perkins, Mary Berry, Paul Ho...</td>\n",
       "      <td>United Kingdom</td>\n",
       "      <td>September 24, 2021</td>\n",
       "      <td>2021</td>\n",
       "      <td>TV-14</td>\n",
       "      <td>9 Seasons</td>\n",
       "      <td>British TV Shows, Reality TV</td>\n",
       "      <td>A talented batch of amateur bakers face off in...</td>\n",
       "    </tr>\n",
       "    <tr>\n",
       "      <th>2</th>\n",
       "      <td>s10</td>\n",
       "      <td>Movie</td>\n",
       "      <td>The Starling</td>\n",
       "      <td>Theodore Melfi</td>\n",
       "      <td>Melissa McCarthy, Chris O'Dowd, Kevin Kline, T...</td>\n",
       "      <td>United States</td>\n",
       "      <td>September 24, 2021</td>\n",
       "      <td>2021</td>\n",
       "      <td>PG-13</td>\n",
       "      <td>104 min</td>\n",
       "      <td>Comedies, Dramas</td>\n",
       "      <td>A woman adjusting to life after a loss contend...</td>\n",
       "    </tr>\n",
       "    <tr>\n",
       "      <th>3</th>\n",
       "      <td>s13</td>\n",
       "      <td>Movie</td>\n",
       "      <td>Je Suis Karl</td>\n",
       "      <td>Christian Schwochow</td>\n",
       "      <td>Luna Wedler, Jannis Niewöhner, Milan Peschel, ...</td>\n",
       "      <td>Germany, Czech Republic</td>\n",
       "      <td>September 23, 2021</td>\n",
       "      <td>2021</td>\n",
       "      <td>TV-MA</td>\n",
       "      <td>127 min</td>\n",
       "      <td>Dramas, International Movies</td>\n",
       "      <td>After most of her family is murdered in a terr...</td>\n",
       "    </tr>\n",
       "    <tr>\n",
       "      <th>4</th>\n",
       "      <td>s25</td>\n",
       "      <td>Movie</td>\n",
       "      <td>Jeans</td>\n",
       "      <td>S. Shankar</td>\n",
       "      <td>Prashanth, Aishwarya Rai Bachchan, Sri Lakshmi...</td>\n",
       "      <td>India</td>\n",
       "      <td>September 21, 2021</td>\n",
       "      <td>1998</td>\n",
       "      <td>TV-14</td>\n",
       "      <td>166 min</td>\n",
       "      <td>Comedies, International Movies, Romantic Movies</td>\n",
       "      <td>When the father of the man she loves insists t...</td>\n",
       "    </tr>\n",
       "    <tr>\n",
       "      <th>...</th>\n",
       "      <td>...</td>\n",
       "      <td>...</td>\n",
       "      <td>...</td>\n",
       "      <td>...</td>\n",
       "      <td>...</td>\n",
       "      <td>...</td>\n",
       "      <td>...</td>\n",
       "      <td>...</td>\n",
       "      <td>...</td>\n",
       "      <td>...</td>\n",
       "      <td>...</td>\n",
       "      <td>...</td>\n",
       "    </tr>\n",
       "    <tr>\n",
       "      <th>5327</th>\n",
       "      <td>s8802</td>\n",
       "      <td>Movie</td>\n",
       "      <td>Zinzana</td>\n",
       "      <td>Majid Al Ansari</td>\n",
       "      <td>Ali Suliman, Saleh Bakri, Yasa, Ali Al-Jabri, ...</td>\n",
       "      <td>United Arab Emirates, Jordan</td>\n",
       "      <td>March 9, 2016</td>\n",
       "      <td>2015</td>\n",
       "      <td>TV-MA</td>\n",
       "      <td>96 min</td>\n",
       "      <td>Dramas, International Movies, Thrillers</td>\n",
       "      <td>Recovering alcoholic Talal wakes up inside a s...</td>\n",
       "    </tr>\n",
       "    <tr>\n",
       "      <th>5328</th>\n",
       "      <td>s8803</td>\n",
       "      <td>Movie</td>\n",
       "      <td>Zodiac</td>\n",
       "      <td>David Fincher</td>\n",
       "      <td>Mark Ruffalo, Jake Gyllenhaal, Robert Downey J...</td>\n",
       "      <td>United States</td>\n",
       "      <td>November 20, 2019</td>\n",
       "      <td>2007</td>\n",
       "      <td>R</td>\n",
       "      <td>158 min</td>\n",
       "      <td>Cult Movies, Dramas, Thrillers</td>\n",
       "      <td>A political cartoonist, a crime reporter and a...</td>\n",
       "    </tr>\n",
       "    <tr>\n",
       "      <th>5329</th>\n",
       "      <td>s8805</td>\n",
       "      <td>Movie</td>\n",
       "      <td>Zombieland</td>\n",
       "      <td>Ruben Fleischer</td>\n",
       "      <td>Jesse Eisenberg, Woody Harrelson, Emma Stone, ...</td>\n",
       "      <td>United States</td>\n",
       "      <td>November 1, 2019</td>\n",
       "      <td>2009</td>\n",
       "      <td>R</td>\n",
       "      <td>88 min</td>\n",
       "      <td>Comedies, Horror Movies</td>\n",
       "      <td>Looking to survive in a world taken over by zo...</td>\n",
       "    </tr>\n",
       "    <tr>\n",
       "      <th>5330</th>\n",
       "      <td>s8806</td>\n",
       "      <td>Movie</td>\n",
       "      <td>Zoom</td>\n",
       "      <td>Peter Hewitt</td>\n",
       "      <td>Tim Allen, Courteney Cox, Chevy Chase, Kate Ma...</td>\n",
       "      <td>United States</td>\n",
       "      <td>January 11, 2020</td>\n",
       "      <td>2006</td>\n",
       "      <td>PG</td>\n",
       "      <td>88 min</td>\n",
       "      <td>Children &amp; Family Movies, Comedies</td>\n",
       "      <td>Dragged from civilian life, a former superhero...</td>\n",
       "    </tr>\n",
       "    <tr>\n",
       "      <th>5331</th>\n",
       "      <td>s8807</td>\n",
       "      <td>Movie</td>\n",
       "      <td>Zubaan</td>\n",
       "      <td>Mozez Singh</td>\n",
       "      <td>Vicky Kaushal, Sarah-Jane Dias, Raaghav Chanan...</td>\n",
       "      <td>India</td>\n",
       "      <td>March 2, 2019</td>\n",
       "      <td>2015</td>\n",
       "      <td>TV-14</td>\n",
       "      <td>111 min</td>\n",
       "      <td>Dramas, International Movies, Music &amp; Musicals</td>\n",
       "      <td>A scrappy but poor boy worms his way into a ty...</td>\n",
       "    </tr>\n",
       "  </tbody>\n",
       "</table>\n",
       "<p>5332 rows × 12 columns</p>\n",
       "</div>"
      ],
      "text/plain": [
       "     show_id     type                          title             director  \\\n",
       "0         s8    Movie                        Sankofa         Haile Gerima   \n",
       "1         s9  TV Show  The Great British Baking Show      Andy Devonshire   \n",
       "2        s10    Movie                   The Starling       Theodore Melfi   \n",
       "3        s13    Movie                   Je Suis Karl  Christian Schwochow   \n",
       "4        s25    Movie                          Jeans           S. Shankar   \n",
       "...      ...      ...                            ...                  ...   \n",
       "5327   s8802    Movie                        Zinzana      Majid Al Ansari   \n",
       "5328   s8803    Movie                         Zodiac        David Fincher   \n",
       "5329   s8805    Movie                     Zombieland      Ruben Fleischer   \n",
       "5330   s8806    Movie                           Zoom         Peter Hewitt   \n",
       "5331   s8807    Movie                         Zubaan          Mozez Singh   \n",
       "\n",
       "                                                   cast  \\\n",
       "0     Kofi Ghanaba, Oyafunmike Ogunlano, Alexandra D...   \n",
       "1     Mel Giedroyc, Sue Perkins, Mary Berry, Paul Ho...   \n",
       "2     Melissa McCarthy, Chris O'Dowd, Kevin Kline, T...   \n",
       "3     Luna Wedler, Jannis Niewöhner, Milan Peschel, ...   \n",
       "4     Prashanth, Aishwarya Rai Bachchan, Sri Lakshmi...   \n",
       "...                                                 ...   \n",
       "5327  Ali Suliman, Saleh Bakri, Yasa, Ali Al-Jabri, ...   \n",
       "5328  Mark Ruffalo, Jake Gyllenhaal, Robert Downey J...   \n",
       "5329  Jesse Eisenberg, Woody Harrelson, Emma Stone, ...   \n",
       "5330  Tim Allen, Courteney Cox, Chevy Chase, Kate Ma...   \n",
       "5331  Vicky Kaushal, Sarah-Jane Dias, Raaghav Chanan...   \n",
       "\n",
       "                                                country          date_added  \\\n",
       "0     United States, Ghana, Burkina Faso, United Kin...  September 24, 2021   \n",
       "1                                        United Kingdom  September 24, 2021   \n",
       "2                                         United States  September 24, 2021   \n",
       "3                               Germany, Czech Republic  September 23, 2021   \n",
       "4                                                 India  September 21, 2021   \n",
       "...                                                 ...                 ...   \n",
       "5327                       United Arab Emirates, Jordan       March 9, 2016   \n",
       "5328                                      United States   November 20, 2019   \n",
       "5329                                      United States    November 1, 2019   \n",
       "5330                                      United States    January 11, 2020   \n",
       "5331                                              India       March 2, 2019   \n",
       "\n",
       "      release_year rating   duration  \\\n",
       "0             1993  TV-MA    125 min   \n",
       "1             2021  TV-14  9 Seasons   \n",
       "2             2021  PG-13    104 min   \n",
       "3             2021  TV-MA    127 min   \n",
       "4             1998  TV-14    166 min   \n",
       "...            ...    ...        ...   \n",
       "5327          2015  TV-MA     96 min   \n",
       "5328          2007      R    158 min   \n",
       "5329          2009      R     88 min   \n",
       "5330          2006     PG     88 min   \n",
       "5331          2015  TV-14    111 min   \n",
       "\n",
       "                                             listed_in  \\\n",
       "0     Dramas, Independent Movies, International Movies   \n",
       "1                         British TV Shows, Reality TV   \n",
       "2                                     Comedies, Dramas   \n",
       "3                         Dramas, International Movies   \n",
       "4      Comedies, International Movies, Romantic Movies   \n",
       "...                                                ...   \n",
       "5327           Dramas, International Movies, Thrillers   \n",
       "5328                    Cult Movies, Dramas, Thrillers   \n",
       "5329                           Comedies, Horror Movies   \n",
       "5330                Children & Family Movies, Comedies   \n",
       "5331    Dramas, International Movies, Music & Musicals   \n",
       "\n",
       "                                            description  \n",
       "0     On a photo shoot in Ghana, an American model s...  \n",
       "1     A talented batch of amateur bakers face off in...  \n",
       "2     A woman adjusting to life after a loss contend...  \n",
       "3     After most of her family is murdered in a terr...  \n",
       "4     When the father of the man she loves insists t...  \n",
       "...                                                 ...  \n",
       "5327  Recovering alcoholic Talal wakes up inside a s...  \n",
       "5328  A political cartoonist, a crime reporter and a...  \n",
       "5329  Looking to survive in a world taken over by zo...  \n",
       "5330  Dragged from civilian life, a former superhero...  \n",
       "5331  A scrappy but poor boy worms his way into a ty...  \n",
       "\n",
       "[5332 rows x 12 columns]"
      ]
     },
     "execution_count": 47,
     "metadata": {},
     "output_type": "execute_result"
    }
   ],
   "source": [
    "filledna"
   ]
  },
  {
   "cell_type": "markdown",
   "id": "d0614daf",
   "metadata": {},
   "source": [
    "Now we need to convert the names and keyword instances into lowercase and strip all the spaces between them. This is done so that our vectorizer doesn't count the Tony of \"Tony Stark\" and \"Tony Anthony\" as the same"
   ]
  },
  {
   "cell_type": "code",
   "execution_count": 48,
   "id": "64320113",
   "metadata": {},
   "outputs": [],
   "source": [
    "#Cleaning the data - making all the words lower case\n",
    "def clean_data(x):\n",
    "        return str.lower(x.replace(\" \", \"\"))"
   ]
  },
  {
   "cell_type": "code",
   "execution_count": 49,
   "id": "026f49e6",
   "metadata": {},
   "outputs": [],
   "source": [
    "# movies['director'].apply(lambda x:[i.replace(\" \",\"\") for i in x]) and rest we can do the same for all the other features"
   ]
  },
  {
   "cell_type": "code",
   "execution_count": 50,
   "id": "82b768cb",
   "metadata": {},
   "outputs": [],
   "source": [
    "#Identifying features on which the model is to be filtered.\n",
    "features=['title','director','cast','listed_in','description']\n",
    "filledna=filledna[features]"
   ]
  },
  {
   "cell_type": "code",
   "execution_count": 51,
   "id": "614ba5f1",
   "metadata": {},
   "outputs": [
    {
     "data": {
      "text/html": [
       "<div>\n",
       "<style scoped>\n",
       "    .dataframe tbody tr th:only-of-type {\n",
       "        vertical-align: middle;\n",
       "    }\n",
       "\n",
       "    .dataframe tbody tr th {\n",
       "        vertical-align: top;\n",
       "    }\n",
       "\n",
       "    .dataframe thead th {\n",
       "        text-align: right;\n",
       "    }\n",
       "</style>\n",
       "<table border=\"1\" class=\"dataframe\">\n",
       "  <thead>\n",
       "    <tr style=\"text-align: right;\">\n",
       "      <th></th>\n",
       "      <th>title</th>\n",
       "      <th>director</th>\n",
       "      <th>cast</th>\n",
       "      <th>listed_in</th>\n",
       "      <th>description</th>\n",
       "    </tr>\n",
       "  </thead>\n",
       "  <tbody>\n",
       "    <tr>\n",
       "      <th>0</th>\n",
       "      <td>sankofa</td>\n",
       "      <td>hailegerima</td>\n",
       "      <td>kofighanaba,oyafunmikeogunlano,alexandraduah,n...</td>\n",
       "      <td>dramas,independentmovies,internationalmovies</td>\n",
       "      <td>onaphotoshootinghana,anamericanmodelslipsbacki...</td>\n",
       "    </tr>\n",
       "    <tr>\n",
       "      <th>1</th>\n",
       "      <td>thegreatbritishbakingshow</td>\n",
       "      <td>andydevonshire</td>\n",
       "      <td>melgiedroyc,sueperkins,maryberry,paulhollywood</td>\n",
       "      <td>britishtvshows,realitytv</td>\n",
       "      <td>atalentedbatchofamateurbakersfaceoffina10-week...</td>\n",
       "    </tr>\n",
       "    <tr>\n",
       "      <th>2</th>\n",
       "      <td>thestarling</td>\n",
       "      <td>theodoremelfi</td>\n",
       "      <td>melissamccarthy,chriso'dowd,kevinkline,timothy...</td>\n",
       "      <td>comedies,dramas</td>\n",
       "      <td>awomanadjustingtolifeafteralosscontendswithafe...</td>\n",
       "    </tr>\n",
       "    <tr>\n",
       "      <th>3</th>\n",
       "      <td>jesuiskarl</td>\n",
       "      <td>christianschwochow</td>\n",
       "      <td>lunawedler,jannisniewöhner,milanpeschel,edinha...</td>\n",
       "      <td>dramas,internationalmovies</td>\n",
       "      <td>aftermostofherfamilyismurderedinaterroristbomb...</td>\n",
       "    </tr>\n",
       "    <tr>\n",
       "      <th>4</th>\n",
       "      <td>jeans</td>\n",
       "      <td>s.shankar</td>\n",
       "      <td>prashanth,aishwaryaraibachchan,srilakshmi,nassar</td>\n",
       "      <td>comedies,internationalmovies,romanticmovies</td>\n",
       "      <td>whenthefatherofthemanshelovesinsiststhathistwi...</td>\n",
       "    </tr>\n",
       "    <tr>\n",
       "      <th>...</th>\n",
       "      <td>...</td>\n",
       "      <td>...</td>\n",
       "      <td>...</td>\n",
       "      <td>...</td>\n",
       "      <td>...</td>\n",
       "    </tr>\n",
       "    <tr>\n",
       "      <th>5327</th>\n",
       "      <td>zinzana</td>\n",
       "      <td>majidalansari</td>\n",
       "      <td>alisuliman,salehbakri,yasa,alial-jabri,mansoor...</td>\n",
       "      <td>dramas,internationalmovies,thrillers</td>\n",
       "      <td>recoveringalcoholictalalwakesupinsideasmall-to...</td>\n",
       "    </tr>\n",
       "    <tr>\n",
       "      <th>5328</th>\n",
       "      <td>zodiac</td>\n",
       "      <td>davidfincher</td>\n",
       "      <td>markruffalo,jakegyllenhaal,robertdowneyjr.,ant...</td>\n",
       "      <td>cultmovies,dramas,thrillers</td>\n",
       "      <td>apoliticalcartoonist,acrimereporterandapairofc...</td>\n",
       "    </tr>\n",
       "    <tr>\n",
       "      <th>5329</th>\n",
       "      <td>zombieland</td>\n",
       "      <td>rubenfleischer</td>\n",
       "      <td>jesseeisenberg,woodyharrelson,emmastone,abigai...</td>\n",
       "      <td>comedies,horrormovies</td>\n",
       "      <td>lookingtosurviveinaworldtakenoverbyzombies,ado...</td>\n",
       "    </tr>\n",
       "    <tr>\n",
       "      <th>5330</th>\n",
       "      <td>zoom</td>\n",
       "      <td>peterhewitt</td>\n",
       "      <td>timallen,courteneycox,chevychase,katemara,ryan...</td>\n",
       "      <td>children&amp;familymovies,comedies</td>\n",
       "      <td>draggedfromcivilianlife,aformersuperheromusttr...</td>\n",
       "    </tr>\n",
       "    <tr>\n",
       "      <th>5331</th>\n",
       "      <td>zubaan</td>\n",
       "      <td>mozezsingh</td>\n",
       "      <td>vickykaushal,sarah-janedias,raaghavchanana,man...</td>\n",
       "      <td>dramas,internationalmovies,music&amp;musicals</td>\n",
       "      <td>ascrappybutpoorboywormshiswayintoatycoon'sdysf...</td>\n",
       "    </tr>\n",
       "  </tbody>\n",
       "</table>\n",
       "<p>5332 rows × 5 columns</p>\n",
       "</div>"
      ],
      "text/plain": [
       "                          title            director  \\\n",
       "0                       sankofa         hailegerima   \n",
       "1     thegreatbritishbakingshow      andydevonshire   \n",
       "2                   thestarling       theodoremelfi   \n",
       "3                    jesuiskarl  christianschwochow   \n",
       "4                         jeans           s.shankar   \n",
       "...                         ...                 ...   \n",
       "5327                    zinzana       majidalansari   \n",
       "5328                     zodiac        davidfincher   \n",
       "5329                 zombieland      rubenfleischer   \n",
       "5330                       zoom         peterhewitt   \n",
       "5331                     zubaan          mozezsingh   \n",
       "\n",
       "                                                   cast  \\\n",
       "0     kofighanaba,oyafunmikeogunlano,alexandraduah,n...   \n",
       "1        melgiedroyc,sueperkins,maryberry,paulhollywood   \n",
       "2     melissamccarthy,chriso'dowd,kevinkline,timothy...   \n",
       "3     lunawedler,jannisniewöhner,milanpeschel,edinha...   \n",
       "4      prashanth,aishwaryaraibachchan,srilakshmi,nassar   \n",
       "...                                                 ...   \n",
       "5327  alisuliman,salehbakri,yasa,alial-jabri,mansoor...   \n",
       "5328  markruffalo,jakegyllenhaal,robertdowneyjr.,ant...   \n",
       "5329  jesseeisenberg,woodyharrelson,emmastone,abigai...   \n",
       "5330  timallen,courteneycox,chevychase,katemara,ryan...   \n",
       "5331  vickykaushal,sarah-janedias,raaghavchanana,man...   \n",
       "\n",
       "                                         listed_in  \\\n",
       "0     dramas,independentmovies,internationalmovies   \n",
       "1                         britishtvshows,realitytv   \n",
       "2                                  comedies,dramas   \n",
       "3                       dramas,internationalmovies   \n",
       "4      comedies,internationalmovies,romanticmovies   \n",
       "...                                            ...   \n",
       "5327          dramas,internationalmovies,thrillers   \n",
       "5328                   cultmovies,dramas,thrillers   \n",
       "5329                         comedies,horrormovies   \n",
       "5330                children&familymovies,comedies   \n",
       "5331     dramas,internationalmovies,music&musicals   \n",
       "\n",
       "                                            description  \n",
       "0     onaphotoshootinghana,anamericanmodelslipsbacki...  \n",
       "1     atalentedbatchofamateurbakersfaceoffina10-week...  \n",
       "2     awomanadjustingtolifeafteralosscontendswithafe...  \n",
       "3     aftermostofherfamilyismurderedinaterroristbomb...  \n",
       "4     whenthefatherofthemanshelovesinsiststhathistwi...  \n",
       "...                                                 ...  \n",
       "5327  recoveringalcoholictalalwakesupinsideasmall-to...  \n",
       "5328  apoliticalcartoonist,acrimereporterandapairofc...  \n",
       "5329  lookingtosurviveinaworldtakenoverbyzombies,ado...  \n",
       "5330  draggedfromcivilianlife,aformersuperheromusttr...  \n",
       "5331  ascrappybutpoorboywormshiswayintoatycoon'sdysf...  \n",
       "\n",
       "[5332 rows x 5 columns]"
      ]
     },
     "execution_count": 51,
     "metadata": {},
     "output_type": "execute_result"
    }
   ],
   "source": [
    "for feature in features:\n",
    "    filledna[feature] = filledna[feature].apply(clean_data)\n",
    "    \n",
    "filledna"
   ]
  },
  {
   "cell_type": "markdown",
   "id": "f9106269",
   "metadata": {},
   "source": [
    "Here we can see all the words are joined to make a big string.\n",
    "\n",
    "which is a string that contains all the metadata that we want to feed to our vectorizer (namely actors, director and keywords)."
   ]
  },
  {
   "cell_type": "code",
   "execution_count": 52,
   "id": "72a270e6",
   "metadata": {},
   "outputs": [],
   "source": [
    "def create_soup(x):\n",
    "    return x['title']+ ' ' + x['director'] + ' ' + x['cast'] + ' ' +x['listed_in']+' '+ x['description']\n",
    "\n",
    "filledna['soup'] = filledna.apply(create_soup, axis=1)"
   ]
  },
  {
   "cell_type": "code",
   "execution_count": 53,
   "id": "aa154c91",
   "metadata": {},
   "outputs": [
    {
     "data": {
      "text/plain": [
       "1     thegreatbritishbakingshow andydevonshire melgi...\n",
       "2     thestarling theodoremelfi melissamccarthy,chri...\n",
       "3     jesuiskarl christianschwochow lunawedler,janni...\n",
       "4     jeans s.shankar prashanth,aishwaryaraibachchan...\n",
       "5     grownups dennisdugan adamsandler,kevinjames,ch...\n",
       "6     darkskies scottstewart kerirussell,joshhamilto...\n",
       "7     paranoia robertluketic liamhemsworth,garyoldma...\n",
       "8     birthofthedragon georgenolfi billymagnussen,ro...\n",
       "9     jaws stevenspielberg royscheider,robertshaw,ri...\n",
       "10    jaws2 jeannotszwarc royscheider,lorrainegary,m...\n",
       "Name: soup, dtype: object"
      ]
     },
     "execution_count": 53,
     "metadata": {},
     "output_type": "execute_result"
    }
   ],
   "source": [
    "filledna['soup'][1:11]"
   ]
  },
  {
   "cell_type": "markdown",
   "id": "728631be",
   "metadata": {},
   "source": [
    "The next steps are the same as what we did with our plot description based recommender.\n",
    "\n",
    "One important difference is that we use the CountVectorizer() instead of TF-IDF. This is because we do not want to down-weight the presence of an actor/director if he or she has acted or directed in relatively more movies. It doesn't make much intuitive sense.\n",
    "\n",
    "other techniques are \n",
    "1. Bag of words \n",
    "2. TF-IDF\n",
    "3. word to wac "
   ]
  },
  {
   "cell_type": "code",
   "execution_count": 54,
   "id": "c8712580",
   "metadata": {},
   "outputs": [],
   "source": [
    "# TAGS creation\n",
    "\n",
    "# Import CountVectorizer and create the count matrix\n",
    "from sklearn.feature_extraction.text import CountVectorizer\n",
    "\n",
    "# Remove Stop-words\n",
    "count = CountVectorizer(stop_words='english')\n",
    "count_matrix = count.fit_transform(filledna['soup'])\n",
    "\n",
    "# Compute the Cosine Similarity matrix based on the count_matrix\n",
    "from sklearn.metrics.pairwise import cosine_similarity\n",
    "\n",
    "cosine_sim2 = cosine_similarity(count_matrix, count_matrix)\n",
    "\n",
    "# Reset index of our main DataFrame and construct reverse mapping as before\n",
    "filledna=filledna.reset_index()\n",
    "indices = pd.Series(filledna.index, index=filledna['title'])"
   ]
  },
  {
   "cell_type": "code",
   "execution_count": 55,
   "id": "7271674d",
   "metadata": {},
   "outputs": [
    {
     "data": {
      "text/plain": [
       "title\n",
       "sankofa                         0\n",
       "thegreatbritishbakingshow       1\n",
       "thestarling                     2\n",
       "jesuiskarl                      3\n",
       "jeans                           4\n",
       "                             ... \n",
       "zinzana                      5327\n",
       "zodiac                       5328\n",
       "zombieland                   5329\n",
       "zoom                         5330\n",
       "zubaan                       5331\n",
       "Length: 5332, dtype: int64"
      ]
     },
     "execution_count": 55,
     "metadata": {},
     "output_type": "execute_result"
    }
   ],
   "source": [
    "# Given every movies or show an index number\n",
    "indices"
   ]
  },
  {
   "cell_type": "code",
   "execution_count": 56,
   "id": "42a1b412",
   "metadata": {},
   "outputs": [],
   "source": [
    "def get_recommendations_new(title, cosine_sim=cosine_sim):\n",
    "    title=title.replace(' ','').lower()\n",
    "    idx = indices[title]\n",
    "\n",
    "    # Get the pairwsie similarity scores of all movies with that movie\n",
    "    sim_scores = list(enumerate(cosine_sim[idx]))\n",
    "\n",
    "    # Sort the movies based on the similarity scores\n",
    "    sim_scores = sorted(sim_scores, key=lambda x: x[1], reverse=True)\n",
    "\n",
    "    # Get the scores of the 10 most similar movies\n",
    "    sim_scores = sim_scores[1:11]\n",
    "\n",
    "    # Get the movie indices\n",
    "    movie_indices = [i[0] for i in sim_scores]\n",
    "\n",
    "    # Return the top 10 most similar movies\n",
    "    return movies['title'].iloc[movie_indices]"
   ]
  },
  {
   "cell_type": "code",
   "execution_count": 57,
   "id": "09e08b39",
   "metadata": {},
   "outputs": [
    {
     "data": {
      "text/plain": [
       "4871            Tees Maar Khan\n",
       "5117             The Shaukeens\n",
       "2380        Dhoondte Reh Jaoge\n",
       "2568                     Joker\n",
       "4077    Humko Deewana Kar Gaye\n",
       "2576                 Thank You\n",
       "3427                   Aitraaz\n",
       "964            Phir Hera Pheri\n",
       "2495                      Race\n",
       "4327     Maine Pyaar Kyun Kiya\n",
       "Name: title, dtype: object"
      ]
     },
     "execution_count": 57,
     "metadata": {},
     "output_type": "execute_result"
    }
   ],
   "source": [
    "get_recommendations_new('Welcome', cosine_sim2)"
   ]
  },
  {
   "cell_type": "code",
   "execution_count": 58,
   "id": "e156c76b",
   "metadata": {},
   "outputs": [
    {
     "data": {
      "text/plain": [
       "54                   Green Lantern\n",
       "2593                   How It Ends\n",
       "334              Battlefield Earth\n",
       "4119                      Inkheart\n",
       "428               The Darkest Hour\n",
       "4771                   Singularity\n",
       "3789    Di Renjie zhi Sidatianwang\n",
       "4000       Halo: The Fall of Reach\n",
       "4464                          Next\n",
       "5124          The Space Between Us\n",
       "Name: title, dtype: object"
      ]
     },
     "execution_count": 58,
     "metadata": {},
     "output_type": "execute_result"
    }
   ],
   "source": [
    "get_recommendations_new('Black Panther', cosine_sim2)"
   ]
  },
  {
   "cell_type": "code",
   "execution_count": 59,
   "id": "ab4f85bb",
   "metadata": {},
   "outputs": [
    {
     "data": {
      "text/plain": [
       "2540       Bareilly Ki Barfi\n",
       "2556    Brij Mohan Amar Rahe\n",
       "3672         Chal Dhar Pakad\n",
       "2136              Bombairiya\n",
       "4545          Papa the Great\n",
       "1084                 Soldier\n",
       "2305               Kita Kita\n",
       "3486                Arisan 2\n",
       "4130             Irada Pakka\n",
       "505                  Mandela\n",
       "Name: title, dtype: object"
      ]
     },
     "execution_count": 59,
     "metadata": {},
     "output_type": "execute_result"
    }
   ],
   "source": [
    "get_recommendations_new('Andhadhun', cosine_sim2)"
   ]
  },
  {
   "cell_type": "code",
   "execution_count": 60,
   "id": "7662bceb",
   "metadata": {},
   "outputs": [],
   "source": [
    "# Text Classifier Product/System:\n",
    "# --Title + Rating  \n",
    "# -- Desc + Rating "
   ]
  },
  {
   "cell_type": "code",
   "execution_count": 61,
   "id": "ab488910",
   "metadata": {},
   "outputs": [
    {
     "data": {
      "text/html": [
       "<div>\n",
       "<style scoped>\n",
       "    .dataframe tbody tr th:only-of-type {\n",
       "        vertical-align: middle;\n",
       "    }\n",
       "\n",
       "    .dataframe tbody tr th {\n",
       "        vertical-align: top;\n",
       "    }\n",
       "\n",
       "    .dataframe thead th {\n",
       "        text-align: right;\n",
       "    }\n",
       "</style>\n",
       "<table border=\"1\" class=\"dataframe\">\n",
       "  <thead>\n",
       "    <tr style=\"text-align: right;\">\n",
       "      <th></th>\n",
       "      <th>show_id</th>\n",
       "      <th>type</th>\n",
       "      <th>title</th>\n",
       "      <th>director</th>\n",
       "      <th>cast</th>\n",
       "      <th>country</th>\n",
       "      <th>date_added</th>\n",
       "      <th>release_year</th>\n",
       "      <th>rating</th>\n",
       "      <th>duration</th>\n",
       "      <th>listed_in</th>\n",
       "      <th>description</th>\n",
       "    </tr>\n",
       "  </thead>\n",
       "  <tbody>\n",
       "    <tr>\n",
       "      <th>0</th>\n",
       "      <td>s8</td>\n",
       "      <td>Movie</td>\n",
       "      <td>Sankofa</td>\n",
       "      <td>Haile Gerima</td>\n",
       "      <td>Kofi Ghanaba, Oyafunmike Ogunlano, Alexandra D...</td>\n",
       "      <td>United States, Ghana, Burkina Faso, United Kin...</td>\n",
       "      <td>September 24, 2021</td>\n",
       "      <td>1993</td>\n",
       "      <td>TV-MA</td>\n",
       "      <td>125 min</td>\n",
       "      <td>Dramas, Independent Movies, International Movies</td>\n",
       "      <td>On a photo shoot in Ghana, an American model s...</td>\n",
       "    </tr>\n",
       "    <tr>\n",
       "      <th>1</th>\n",
       "      <td>s9</td>\n",
       "      <td>TV Show</td>\n",
       "      <td>The Great British Baking Show</td>\n",
       "      <td>Andy Devonshire</td>\n",
       "      <td>Mel Giedroyc, Sue Perkins, Mary Berry, Paul Ho...</td>\n",
       "      <td>United Kingdom</td>\n",
       "      <td>September 24, 2021</td>\n",
       "      <td>2021</td>\n",
       "      <td>TV-14</td>\n",
       "      <td>9 Seasons</td>\n",
       "      <td>British TV Shows, Reality TV</td>\n",
       "      <td>A talented batch of amateur bakers face off in...</td>\n",
       "    </tr>\n",
       "    <tr>\n",
       "      <th>2</th>\n",
       "      <td>s10</td>\n",
       "      <td>Movie</td>\n",
       "      <td>The Starling</td>\n",
       "      <td>Theodore Melfi</td>\n",
       "      <td>Melissa McCarthy, Chris O'Dowd, Kevin Kline, T...</td>\n",
       "      <td>United States</td>\n",
       "      <td>September 24, 2021</td>\n",
       "      <td>2021</td>\n",
       "      <td>PG-13</td>\n",
       "      <td>104 min</td>\n",
       "      <td>Comedies, Dramas</td>\n",
       "      <td>A woman adjusting to life after a loss contend...</td>\n",
       "    </tr>\n",
       "    <tr>\n",
       "      <th>3</th>\n",
       "      <td>s13</td>\n",
       "      <td>Movie</td>\n",
       "      <td>Je Suis Karl</td>\n",
       "      <td>Christian Schwochow</td>\n",
       "      <td>Luna Wedler, Jannis Niewöhner, Milan Peschel, ...</td>\n",
       "      <td>Germany, Czech Republic</td>\n",
       "      <td>September 23, 2021</td>\n",
       "      <td>2021</td>\n",
       "      <td>TV-MA</td>\n",
       "      <td>127 min</td>\n",
       "      <td>Dramas, International Movies</td>\n",
       "      <td>After most of her family is murdered in a terr...</td>\n",
       "    </tr>\n",
       "    <tr>\n",
       "      <th>4</th>\n",
       "      <td>s25</td>\n",
       "      <td>Movie</td>\n",
       "      <td>Jeans</td>\n",
       "      <td>S. Shankar</td>\n",
       "      <td>Prashanth, Aishwarya Rai Bachchan, Sri Lakshmi...</td>\n",
       "      <td>India</td>\n",
       "      <td>September 21, 2021</td>\n",
       "      <td>1998</td>\n",
       "      <td>TV-14</td>\n",
       "      <td>166 min</td>\n",
       "      <td>Comedies, International Movies, Romantic Movies</td>\n",
       "      <td>When the father of the man she loves insists t...</td>\n",
       "    </tr>\n",
       "  </tbody>\n",
       "</table>\n",
       "</div>"
      ],
      "text/plain": [
       "  show_id     type                          title             director  \\\n",
       "0      s8    Movie                        Sankofa         Haile Gerima   \n",
       "1      s9  TV Show  The Great British Baking Show      Andy Devonshire   \n",
       "2     s10    Movie                   The Starling       Theodore Melfi   \n",
       "3     s13    Movie                   Je Suis Karl  Christian Schwochow   \n",
       "4     s25    Movie                          Jeans           S. Shankar   \n",
       "\n",
       "                                                cast  \\\n",
       "0  Kofi Ghanaba, Oyafunmike Ogunlano, Alexandra D...   \n",
       "1  Mel Giedroyc, Sue Perkins, Mary Berry, Paul Ho...   \n",
       "2  Melissa McCarthy, Chris O'Dowd, Kevin Kline, T...   \n",
       "3  Luna Wedler, Jannis Niewöhner, Milan Peschel, ...   \n",
       "4  Prashanth, Aishwarya Rai Bachchan, Sri Lakshmi...   \n",
       "\n",
       "                                             country          date_added  \\\n",
       "0  United States, Ghana, Burkina Faso, United Kin...  September 24, 2021   \n",
       "1                                     United Kingdom  September 24, 2021   \n",
       "2                                      United States  September 24, 2021   \n",
       "3                            Germany, Czech Republic  September 23, 2021   \n",
       "4                                              India  September 21, 2021   \n",
       "\n",
       "   release_year rating   duration  \\\n",
       "0          1993  TV-MA    125 min   \n",
       "1          2021  TV-14  9 Seasons   \n",
       "2          2021  PG-13    104 min   \n",
       "3          2021  TV-MA    127 min   \n",
       "4          1998  TV-14    166 min   \n",
       "\n",
       "                                          listed_in  \\\n",
       "0  Dramas, Independent Movies, International Movies   \n",
       "1                      British TV Shows, Reality TV   \n",
       "2                                  Comedies, Dramas   \n",
       "3                      Dramas, International Movies   \n",
       "4   Comedies, International Movies, Romantic Movies   \n",
       "\n",
       "                                         description  \n",
       "0  On a photo shoot in Ghana, an American model s...  \n",
       "1  A talented batch of amateur bakers face off in...  \n",
       "2  A woman adjusting to life after a loss contend...  \n",
       "3  After most of her family is murdered in a terr...  \n",
       "4  When the father of the man she loves insists t...  "
      ]
     },
     "execution_count": 61,
     "metadata": {},
     "output_type": "execute_result"
    }
   ],
   "source": [
    "movies.head()"
   ]
  },
  {
   "cell_type": "code",
   "execution_count": 62,
   "id": "28d1bff1",
   "metadata": {},
   "outputs": [
    {
     "data": {
      "text/plain": [
       "array(['TV-MA', 'TV-14', 'PG-13', 'PG', 'R', 'TV-PG', 'G', 'TV-Y7',\n",
       "       'TV-G', 'TV-Y', 'NC-17', 'NR', 'TV-Y7-FV', 'UR'], dtype=object)"
      ]
     },
     "execution_count": 62,
     "metadata": {},
     "output_type": "execute_result"
    }
   ],
   "source": [
    "movies['rating'].unique()"
   ]
  },
  {
   "cell_type": "code",
   "execution_count": 63,
   "id": "17cce3bf",
   "metadata": {},
   "outputs": [
    {
     "data": {
      "text/plain": [
       "<AxesSubplot: xlabel='rating', ylabel='count'>"
      ]
     },
     "execution_count": 63,
     "metadata": {},
     "output_type": "execute_result"
    },
    {
     "data": {
      "image/png": "[encoded data removed]",
      "text/plain": [
       "<Figure size 1200x1000 with 1 Axes>"
      ]
     },
     "metadata": {},
     "output_type": "display_data"
    }
   ],
   "source": [
    "plt.figure(figsize=(12,10))\n",
    "sns.countplot(x='rating',data=movies)"
   ]
  },
  {
   "cell_type": "code",
   "execution_count": 64,
   "id": "402ee166",
   "metadata": {},
   "outputs": [],
   "source": [
    "# Pipeline Approach "
   ]
  },
  {
   "cell_type": "code",
   "execution_count": 65,
   "id": "a6702b1b",
   "metadata": {},
   "outputs": [],
   "source": [
    "# Features & Labels\n",
    "X_features = movies['title'] # titles of the movies and tv shows\n",
    "y_labels = movies[['type','rating']] # type of the movies and tv shows and their ratings too"
   ]
  },
  {
   "cell_type": "code",
   "execution_count": 66,
   "id": "007d2319",
   "metadata": {},
   "outputs": [],
   "source": [
    "X_train, X_test, y_train, y_test = train_test_split(X_features,y_labels,test_size =0.3,random_state=42)"
   ]
  },
  {
   "cell_type": "code",
   "execution_count": 67,
   "id": "f1504a4f",
   "metadata": {},
   "outputs": [],
   "source": [
    "# Multi-Label Text Classifier Product/System:\n",
    "# Title + Listed In\n",
    "# Desc + Listed In"
   ]
  },
  {
   "cell_type": "code",
   "execution_count": 68,
   "id": "2a88edc6",
   "metadata": {},
   "outputs": [],
   "source": [
    "# Pipeline for the Logistic Regression by using multipleoutputclassifier\n",
    "pipe_lr = Pipeline(steps=[('cv',CountVectorizer()),('lr',MultiOutputClassifier(LogisticRegression()))])\n",
    "\n",
    "# Pipeline for the Naive Bayes by using multipleoutputclassifier and for quick predictions\n",
    "pipe_nb = Pipeline(steps=[('cv',CountVectorizer()),('nb',MultiOutputClassifier(MultinomialNB()))])"
   ]
  },
  {
   "cell_type": "code",
   "execution_count": 69,
   "id": "71ea508e",
   "metadata": {},
   "outputs": [
    {
     "data": {
      "text/html": [
       "<style>#sk-container-id-1 {color: black;background-color: white;}#sk-container-id-1 pre{padding: 0;}#sk-container-id-1 div.sk-toggleable {background-color: white;}#sk-container-id-1 label.sk-toggleable__label {cursor: pointer;display: block;width: 100%;margin-bottom: 0;padding: 0.3em;box-sizing: border-box;text-align: center;}#sk-container-id-1 label.sk-toggleable__label-arrow:before {content: \"▸\";float: left;margin-right: 0.25em;color: #696969;}#sk-container-id-1 label.sk-toggleable__label-arrow:hover:before {color: black;}#sk-container-id-1 div.sk-estimator:hover label.sk-toggleable__label-arrow:before {color: black;}#sk-container-id-1 div.sk-toggleable__content {max-height: 0;max-width: 0;overflow: hidden;text-align: left;background-color: #f0f8ff;}#sk-container-id-1 div.sk-toggleable__content pre {margin: 0.2em;color: black;border-radius: 0.25em;background-color: #f0f8ff;}#sk-container-id-1 input.sk-toggleable__control:checked~div.sk-toggleable__content {max-height: 200px;max-width: 100%;overflow: auto;}#sk-container-id-1 input.sk-toggleable__control:checked~label.sk-toggleable__label-arrow:before {content: \"▾\";}#sk-container-id-1 div.sk-estimator input.sk-toggleable__control:checked~label.sk-toggleable__label {background-color: #d4ebff;}#sk-container-id-1 div.sk-label input.sk-toggleable__control:checked~label.sk-toggleable__label {background-color: #d4ebff;}#sk-container-id-1 input.sk-hidden--visually {border: 0;clip: rect(1px 1px 1px 1px);clip: rect(1px, 1px, 1px, 1px);height: 1px;margin: -1px;overflow: hidden;padding: 0;position: absolute;width: 1px;}#sk-container-id-1 div.sk-estimator {font-family: monospace;background-color: #f0f8ff;border: 1px dotted black;border-radius: 0.25em;box-sizing: border-box;margin-bottom: 0.5em;}#sk-container-id-1 div.sk-estimator:hover {background-color: #d4ebff;}#sk-container-id-1 div.sk-parallel-item::after {content: \"\";width: 100%;border-bottom: 1px solid gray;flex-grow: 1;}#sk-container-id-1 div.sk-label:hover label.sk-toggleable__label {background-color: #d4ebff;}#sk-container-id-1 div.sk-serial::before {content: \"\";position: absolute;border-left: 1px solid gray;box-sizing: border-box;top: 0;bottom: 0;left: 50%;z-index: 0;}#sk-container-id-1 div.sk-serial {display: flex;flex-direction: column;align-items: center;background-color: white;padding-right: 0.2em;padding-left: 0.2em;position: relative;}#sk-container-id-1 div.sk-item {position: relative;z-index: 1;}#sk-container-id-1 div.sk-parallel {display: flex;align-items: stretch;justify-content: center;background-color: white;position: relative;}#sk-container-id-1 div.sk-item::before, #sk-container-id-1 div.sk-parallel-item::before {content: \"\";position: absolute;border-left: 1px solid gray;box-sizing: border-box;top: 0;bottom: 0;left: 50%;z-index: -1;}#sk-container-id-1 div.sk-parallel-item {display: flex;flex-direction: column;z-index: 1;position: relative;background-color: white;}#sk-container-id-1 div.sk-parallel-item:first-child::after {align-self: flex-end;width: 50%;}#sk-container-id-1 div.sk-parallel-item:last-child::after {align-self: flex-start;width: 50%;}#sk-container-id-1 div.sk-parallel-item:only-child::after {width: 0;}#sk-container-id-1 div.sk-dashed-wrapped {border: 1px dashed gray;margin: 0 0.4em 0.5em 0.4em;box-sizing: border-box;padding-bottom: 0.4em;background-color: white;}#sk-container-id-1 div.sk-label label {font-family: monospace;font-weight: bold;display: inline-block;line-height: 1.2em;}#sk-container-id-1 div.sk-label-container {text-align: center;}#sk-container-id-1 div.sk-container {/* jupyter's `normalize.less` sets `[hidden] { display: none; }` but bootstrap.min.css set `[hidden] { display: none !important; }` so we also need the `!important` here to be able to override the default hidden behavior on the sphinx rendered scikit-learn.org. See: https://github.com/scikit-learn/scikit-learn/issues/21755 */display: inline-block !important;position: relative;}#sk-container-id-1 div.sk-text-repr-fallback {display: none;}</style><div id=\"sk-container-id-1\" class=\"sk-top-container\"><div class=\"sk-text-repr-fallback\"><pre>Pipeline(steps=[(&#x27;cv&#x27;, CountVectorizer()),\n",
       "                (&#x27;lr&#x27;, MultiOutputClassifier(estimator=LogisticRegression()))])</pre><b>In a Jupyter environment, please rerun this cell to show the HTML representation or trust the notebook. <br />On GitHub, the HTML representation is unable to render, please try loading this page with nbviewer.org.</b></div><div class=\"sk-container\" hidden><div class=\"sk-item sk-dashed-wrapped\"><div class=\"sk-label-container\"><div class=\"sk-label sk-toggleable\"><input class=\"sk-toggleable__control sk-hidden--visually\" id=\"sk-estimator-id-1\" type=\"checkbox\" ><label for=\"sk-estimator-id-1\" class=\"sk-toggleable__label sk-toggleable__label-arrow\">Pipeline</label><div class=\"sk-toggleable__content\"><pre>Pipeline(steps=[(&#x27;cv&#x27;, CountVectorizer()),\n",
       "                (&#x27;lr&#x27;, MultiOutputClassifier(estimator=LogisticRegression()))])</pre></div></div></div><div class=\"sk-serial\"><div class=\"sk-item\"><div class=\"sk-estimator sk-toggleable\"><input class=\"sk-toggleable__control sk-hidden--visually\" id=\"sk-estimator-id-2\" type=\"checkbox\" ><label for=\"sk-estimator-id-2\" class=\"sk-toggleable__label sk-toggleable__label-arrow\">CountVectorizer</label><div class=\"sk-toggleable__content\"><pre>CountVectorizer()</pre></div></div></div><div class=\"sk-item sk-dashed-wrapped\"><div class=\"sk-label-container\"><div class=\"sk-label sk-toggleable\"><input class=\"sk-toggleable__control sk-hidden--visually\" id=\"sk-estimator-id-3\" type=\"checkbox\" ><label for=\"sk-estimator-id-3\" class=\"sk-toggleable__label sk-toggleable__label-arrow\">lr: MultiOutputClassifier</label><div class=\"sk-toggleable__content\"><pre>MultiOutputClassifier(estimator=LogisticRegression())</pre></div></div></div><div class=\"sk-parallel\"><div class=\"sk-parallel-item\"><div class=\"sk-item\"><div class=\"sk-label-container\"><div class=\"sk-label sk-toggleable\"><input class=\"sk-toggleable__control sk-hidden--visually\" id=\"sk-estimator-id-4\" type=\"checkbox\" ><label for=\"sk-estimator-id-4\" class=\"sk-toggleable__label sk-toggleable__label-arrow\">estimator: LogisticRegression</label><div class=\"sk-toggleable__content\"><pre>LogisticRegression()</pre></div></div></div><div class=\"sk-serial\"><div class=\"sk-item\"><div class=\"sk-estimator sk-toggleable\"><input class=\"sk-toggleable__control sk-hidden--visually\" id=\"sk-estimator-id-5\" type=\"checkbox\" ><label for=\"sk-estimator-id-5\" class=\"sk-toggleable__label sk-toggleable__label-arrow\">LogisticRegression</label><div class=\"sk-toggleable__content\"><pre>LogisticRegression()</pre></div></div></div></div></div></div></div></div></div></div></div></div>"
      ],
      "text/plain": [
       "Pipeline(steps=[('cv', CountVectorizer()),\n",
       "                ('lr', MultiOutputClassifier(estimator=LogisticRegression()))])"
      ]
     },
     "execution_count": 69,
     "metadata": {},
     "output_type": "execute_result"
    }
   ],
   "source": [
    "pipe_lr"
   ]
  },
  {
   "cell_type": "code",
   "execution_count": 70,
   "id": "e57ad417",
   "metadata": {},
   "outputs": [
    {
     "data": {
      "text/html": [
       "<style>#sk-container-id-2 {color: black;background-color: white;}#sk-container-id-2 pre{padding: 0;}#sk-container-id-2 div.sk-toggleable {background-color: white;}#sk-container-id-2 label.sk-toggleable__label {cursor: pointer;display: block;width: 100%;margin-bottom: 0;padding: 0.3em;box-sizing: border-box;text-align: center;}#sk-container-id-2 label.sk-toggleable__label-arrow:before {content: \"▸\";float: left;margin-right: 0.25em;color: #696969;}#sk-container-id-2 label.sk-toggleable__label-arrow:hover:before {color: black;}#sk-container-id-2 div.sk-estimator:hover label.sk-toggleable__label-arrow:before {color: black;}#sk-container-id-2 div.sk-toggleable__content {max-height: 0;max-width: 0;overflow: hidden;text-align: left;background-color: #f0f8ff;}#sk-container-id-2 div.sk-toggleable__content pre {margin: 0.2em;color: black;border-radius: 0.25em;background-color: #f0f8ff;}#sk-container-id-2 input.sk-toggleable__control:checked~div.sk-toggleable__content {max-height: 200px;max-width: 100%;overflow: auto;}#sk-container-id-2 input.sk-toggleable__control:checked~label.sk-toggleable__label-arrow:before {content: \"▾\";}#sk-container-id-2 div.sk-estimator input.sk-toggleable__control:checked~label.sk-toggleable__label {background-color: #d4ebff;}#sk-container-id-2 div.sk-label input.sk-toggleable__control:checked~label.sk-toggleable__label {background-color: #d4ebff;}#sk-container-id-2 input.sk-hidden--visually {border: 0;clip: rect(1px 1px 1px 1px);clip: rect(1px, 1px, 1px, 1px);height: 1px;margin: -1px;overflow: hidden;padding: 0;position: absolute;width: 1px;}#sk-container-id-2 div.sk-estimator {font-family: monospace;background-color: #f0f8ff;border: 1px dotted black;border-radius: 0.25em;box-sizing: border-box;margin-bottom: 0.5em;}#sk-container-id-2 div.sk-estimator:hover {background-color: #d4ebff;}#sk-container-id-2 div.sk-parallel-item::after {content: \"\";width: 100%;border-bottom: 1px solid gray;flex-grow: 1;}#sk-container-id-2 div.sk-label:hover label.sk-toggleable__label {background-color: #d4ebff;}#sk-container-id-2 div.sk-serial::before {content: \"\";position: absolute;border-left: 1px solid gray;box-sizing: border-box;top: 0;bottom: 0;left: 50%;z-index: 0;}#sk-container-id-2 div.sk-serial {display: flex;flex-direction: column;align-items: center;background-color: white;padding-right: 0.2em;padding-left: 0.2em;position: relative;}#sk-container-id-2 div.sk-item {position: relative;z-index: 1;}#sk-container-id-2 div.sk-parallel {display: flex;align-items: stretch;justify-content: center;background-color: white;position: relative;}#sk-container-id-2 div.sk-item::before, #sk-container-id-2 div.sk-parallel-item::before {content: \"\";position: absolute;border-left: 1px solid gray;box-sizing: border-box;top: 0;bottom: 0;left: 50%;z-index: -1;}#sk-container-id-2 div.sk-parallel-item {display: flex;flex-direction: column;z-index: 1;position: relative;background-color: white;}#sk-container-id-2 div.sk-parallel-item:first-child::after {align-self: flex-end;width: 50%;}#sk-container-id-2 div.sk-parallel-item:last-child::after {align-self: flex-start;width: 50%;}#sk-container-id-2 div.sk-parallel-item:only-child::after {width: 0;}#sk-container-id-2 div.sk-dashed-wrapped {border: 1px dashed gray;margin: 0 0.4em 0.5em 0.4em;box-sizing: border-box;padding-bottom: 0.4em;background-color: white;}#sk-container-id-2 div.sk-label label {font-family: monospace;font-weight: bold;display: inline-block;line-height: 1.2em;}#sk-container-id-2 div.sk-label-container {text-align: center;}#sk-container-id-2 div.sk-container {/* jupyter's `normalize.less` sets `[hidden] { display: none; }` but bootstrap.min.css set `[hidden] { display: none !important; }` so we also need the `!important` here to be able to override the default hidden behavior on the sphinx rendered scikit-learn.org. See: https://github.com/scikit-learn/scikit-learn/issues/21755 */display: inline-block !important;position: relative;}#sk-container-id-2 div.sk-text-repr-fallback {display: none;}</style><div id=\"sk-container-id-2\" class=\"sk-top-container\"><div class=\"sk-text-repr-fallback\"><pre>Pipeline(steps=[(&#x27;cv&#x27;, CountVectorizer()),\n",
       "                (&#x27;nb&#x27;, MultiOutputClassifier(estimator=MultinomialNB()))])</pre><b>In a Jupyter environment, please rerun this cell to show the HTML representation or trust the notebook. <br />On GitHub, the HTML representation is unable to render, please try loading this page with nbviewer.org.</b></div><div class=\"sk-container\" hidden><div class=\"sk-item sk-dashed-wrapped\"><div class=\"sk-label-container\"><div class=\"sk-label sk-toggleable\"><input class=\"sk-toggleable__control sk-hidden--visually\" id=\"sk-estimator-id-6\" type=\"checkbox\" ><label for=\"sk-estimator-id-6\" class=\"sk-toggleable__label sk-toggleable__label-arrow\">Pipeline</label><div class=\"sk-toggleable__content\"><pre>Pipeline(steps=[(&#x27;cv&#x27;, CountVectorizer()),\n",
       "                (&#x27;nb&#x27;, MultiOutputClassifier(estimator=MultinomialNB()))])</pre></div></div></div><div class=\"sk-serial\"><div class=\"sk-item\"><div class=\"sk-estimator sk-toggleable\"><input class=\"sk-toggleable__control sk-hidden--visually\" id=\"sk-estimator-id-7\" type=\"checkbox\" ><label for=\"sk-estimator-id-7\" class=\"sk-toggleable__label sk-toggleable__label-arrow\">CountVectorizer</label><div class=\"sk-toggleable__content\"><pre>CountVectorizer()</pre></div></div></div><div class=\"sk-item sk-dashed-wrapped\"><div class=\"sk-label-container\"><div class=\"sk-label sk-toggleable\"><input class=\"sk-toggleable__control sk-hidden--visually\" id=\"sk-estimator-id-8\" type=\"checkbox\" ><label for=\"sk-estimator-id-8\" class=\"sk-toggleable__label sk-toggleable__label-arrow\">nb: MultiOutputClassifier</label><div class=\"sk-toggleable__content\"><pre>MultiOutputClassifier(estimator=MultinomialNB())</pre></div></div></div><div class=\"sk-parallel\"><div class=\"sk-parallel-item\"><div class=\"sk-item\"><div class=\"sk-label-container\"><div class=\"sk-label sk-toggleable\"><input class=\"sk-toggleable__control sk-hidden--visually\" id=\"sk-estimator-id-9\" type=\"checkbox\" ><label for=\"sk-estimator-id-9\" class=\"sk-toggleable__label sk-toggleable__label-arrow\">estimator: MultinomialNB</label><div class=\"sk-toggleable__content\"><pre>MultinomialNB()</pre></div></div></div><div class=\"sk-serial\"><div class=\"sk-item\"><div class=\"sk-estimator sk-toggleable\"><input class=\"sk-toggleable__control sk-hidden--visually\" id=\"sk-estimator-id-10\" type=\"checkbox\" ><label for=\"sk-estimator-id-10\" class=\"sk-toggleable__label sk-toggleable__label-arrow\">MultinomialNB</label><div class=\"sk-toggleable__content\"><pre>MultinomialNB()</pre></div></div></div></div></div></div></div></div></div></div></div></div>"
      ],
      "text/plain": [
       "Pipeline(steps=[('cv', CountVectorizer()),\n",
       "                ('nb', MultiOutputClassifier(estimator=MultinomialNB()))])"
      ]
     },
     "execution_count": 70,
     "metadata": {},
     "output_type": "execute_result"
    }
   ],
   "source": [
    "pipe_nb"
   ]
  },
  {
   "cell_type": "code",
   "execution_count": 71,
   "id": "54a6d30c",
   "metadata": {},
   "outputs": [],
   "source": [
    "# visualize pipeline \n",
    "from sklearn import set_config\n",
    "set_config(display='diagram')"
   ]
  },
  {
   "cell_type": "code",
   "execution_count": 72,
   "id": "00bc05af",
   "metadata": {},
   "outputs": [
    {
     "data": {
      "text/html": [
       "<style>#sk-container-id-3 {color: black;background-color: white;}#sk-container-id-3 pre{padding: 0;}#sk-container-id-3 div.sk-toggleable {background-color: white;}#sk-container-id-3 label.sk-toggleable__label {cursor: pointer;display: block;width: 100%;margin-bottom: 0;padding: 0.3em;box-sizing: border-box;text-align: center;}#sk-container-id-3 label.sk-toggleable__label-arrow:before {content: \"▸\";float: left;margin-right: 0.25em;color: #696969;}#sk-container-id-3 label.sk-toggleable__label-arrow:hover:before {color: black;}#sk-container-id-3 div.sk-estimator:hover label.sk-toggleable__label-arrow:before {color: black;}#sk-container-id-3 div.sk-toggleable__content {max-height: 0;max-width: 0;overflow: hidden;text-align: left;background-color: #f0f8ff;}#sk-container-id-3 div.sk-toggleable__content pre {margin: 0.2em;color: black;border-radius: 0.25em;background-color: #f0f8ff;}#sk-container-id-3 input.sk-toggleable__control:checked~div.sk-toggleable__content {max-height: 200px;max-width: 100%;overflow: auto;}#sk-container-id-3 input.sk-toggleable__control:checked~label.sk-toggleable__label-arrow:before {content: \"▾\";}#sk-container-id-3 div.sk-estimator input.sk-toggleable__control:checked~label.sk-toggleable__label {background-color: #d4ebff;}#sk-container-id-3 div.sk-label input.sk-toggleable__control:checked~label.sk-toggleable__label {background-color: #d4ebff;}#sk-container-id-3 input.sk-hidden--visually {border: 0;clip: rect(1px 1px 1px 1px);clip: rect(1px, 1px, 1px, 1px);height: 1px;margin: -1px;overflow: hidden;padding: 0;position: absolute;width: 1px;}#sk-container-id-3 div.sk-estimator {font-family: monospace;background-color: #f0f8ff;border: 1px dotted black;border-radius: 0.25em;box-sizing: border-box;margin-bottom: 0.5em;}#sk-container-id-3 div.sk-estimator:hover {background-color: #d4ebff;}#sk-container-id-3 div.sk-parallel-item::after {content: \"\";width: 100%;border-bottom: 1px solid gray;flex-grow: 1;}#sk-container-id-3 div.sk-label:hover label.sk-toggleable__label {background-color: #d4ebff;}#sk-container-id-3 div.sk-serial::before {content: \"\";position: absolute;border-left: 1px solid gray;box-sizing: border-box;top: 0;bottom: 0;left: 50%;z-index: 0;}#sk-container-id-3 div.sk-serial {display: flex;flex-direction: column;align-items: center;background-color: white;padding-right: 0.2em;padding-left: 0.2em;position: relative;}#sk-container-id-3 div.sk-item {position: relative;z-index: 1;}#sk-container-id-3 div.sk-parallel {display: flex;align-items: stretch;justify-content: center;background-color: white;position: relative;}#sk-container-id-3 div.sk-item::before, #sk-container-id-3 div.sk-parallel-item::before {content: \"\";position: absolute;border-left: 1px solid gray;box-sizing: border-box;top: 0;bottom: 0;left: 50%;z-index: -1;}#sk-container-id-3 div.sk-parallel-item {display: flex;flex-direction: column;z-index: 1;position: relative;background-color: white;}#sk-container-id-3 div.sk-parallel-item:first-child::after {align-self: flex-end;width: 50%;}#sk-container-id-3 div.sk-parallel-item:last-child::after {align-self: flex-start;width: 50%;}#sk-container-id-3 div.sk-parallel-item:only-child::after {width: 0;}#sk-container-id-3 div.sk-dashed-wrapped {border: 1px dashed gray;margin: 0 0.4em 0.5em 0.4em;box-sizing: border-box;padding-bottom: 0.4em;background-color: white;}#sk-container-id-3 div.sk-label label {font-family: monospace;font-weight: bold;display: inline-block;line-height: 1.2em;}#sk-container-id-3 div.sk-label-container {text-align: center;}#sk-container-id-3 div.sk-container {/* jupyter's `normalize.less` sets `[hidden] { display: none; }` but bootstrap.min.css set `[hidden] { display: none !important; }` so we also need the `!important` here to be able to override the default hidden behavior on the sphinx rendered scikit-learn.org. See: https://github.com/scikit-learn/scikit-learn/issues/21755 */display: inline-block !important;position: relative;}#sk-container-id-3 div.sk-text-repr-fallback {display: none;}</style><div id=\"sk-container-id-3\" class=\"sk-top-container\"><div class=\"sk-text-repr-fallback\"><pre>Pipeline(steps=[(&#x27;cv&#x27;, CountVectorizer()),\n",
       "                (&#x27;lr&#x27;, MultiOutputClassifier(estimator=LogisticRegression()))])</pre><b>In a Jupyter environment, please rerun this cell to show the HTML representation or trust the notebook. <br />On GitHub, the HTML representation is unable to render, please try loading this page with nbviewer.org.</b></div><div class=\"sk-container\" hidden><div class=\"sk-item sk-dashed-wrapped\"><div class=\"sk-label-container\"><div class=\"sk-label sk-toggleable\"><input class=\"sk-toggleable__control sk-hidden--visually\" id=\"sk-estimator-id-11\" type=\"checkbox\" ><label for=\"sk-estimator-id-11\" class=\"sk-toggleable__label sk-toggleable__label-arrow\">Pipeline</label><div class=\"sk-toggleable__content\"><pre>Pipeline(steps=[(&#x27;cv&#x27;, CountVectorizer()),\n",
       "                (&#x27;lr&#x27;, MultiOutputClassifier(estimator=LogisticRegression()))])</pre></div></div></div><div class=\"sk-serial\"><div class=\"sk-item\"><div class=\"sk-estimator sk-toggleable\"><input class=\"sk-toggleable__control sk-hidden--visually\" id=\"sk-estimator-id-12\" type=\"checkbox\" ><label for=\"sk-estimator-id-12\" class=\"sk-toggleable__label sk-toggleable__label-arrow\">CountVectorizer</label><div class=\"sk-toggleable__content\"><pre>CountVectorizer()</pre></div></div></div><div class=\"sk-item sk-dashed-wrapped\"><div class=\"sk-label-container\"><div class=\"sk-label sk-toggleable\"><input class=\"sk-toggleable__control sk-hidden--visually\" id=\"sk-estimator-id-13\" type=\"checkbox\" ><label for=\"sk-estimator-id-13\" class=\"sk-toggleable__label sk-toggleable__label-arrow\">lr: MultiOutputClassifier</label><div class=\"sk-toggleable__content\"><pre>MultiOutputClassifier(estimator=LogisticRegression())</pre></div></div></div><div class=\"sk-parallel\"><div class=\"sk-parallel-item\"><div class=\"sk-item\"><div class=\"sk-label-container\"><div class=\"sk-label sk-toggleable\"><input class=\"sk-toggleable__control sk-hidden--visually\" id=\"sk-estimator-id-14\" type=\"checkbox\" ><label for=\"sk-estimator-id-14\" class=\"sk-toggleable__label sk-toggleable__label-arrow\">estimator: LogisticRegression</label><div class=\"sk-toggleable__content\"><pre>LogisticRegression()</pre></div></div></div><div class=\"sk-serial\"><div class=\"sk-item\"><div class=\"sk-estimator sk-toggleable\"><input class=\"sk-toggleable__control sk-hidden--visually\" id=\"sk-estimator-id-15\" type=\"checkbox\" ><label for=\"sk-estimator-id-15\" class=\"sk-toggleable__label sk-toggleable__label-arrow\">LogisticRegression</label><div class=\"sk-toggleable__content\"><pre>LogisticRegression()</pre></div></div></div></div></div></div></div></div></div></div></div></div>"
      ],
      "text/plain": [
       "Pipeline(steps=[('cv', CountVectorizer()),\n",
       "                ('lr', MultiOutputClassifier(estimator=LogisticRegression()))])"
      ]
     },
     "execution_count": 72,
     "metadata": {},
     "output_type": "execute_result"
    }
   ],
   "source": [
    "pipe_lr"
   ]
  },
  {
   "cell_type": "code",
   "execution_count": 73,
   "id": "cb9e47cd",
   "metadata": {},
   "outputs": [
    {
     "data": {
      "text/plain": [
       "[('cv', CountVectorizer()),\n",
       " ('lr', MultiOutputClassifier(estimator=LogisticRegression()))]"
      ]
     },
     "execution_count": 73,
     "metadata": {},
     "output_type": "execute_result"
    }
   ],
   "source": [
    "pipe_lr.steps"
   ]
  },
  {
   "cell_type": "code",
   "execution_count": 74,
   "id": "d4a677af",
   "metadata": {},
   "outputs": [
    {
     "data": {
      "text/plain": [
       "{'memory': None,\n",
       " 'steps': [('cv', CountVectorizer()),\n",
       "  ('lr', MultiOutputClassifier(estimator=LogisticRegression()))],\n",
       " 'verbose': False,\n",
       " 'cv': CountVectorizer(),\n",
       " 'lr': MultiOutputClassifier(estimator=LogisticRegression()),\n",
       " 'cv__analyzer': 'word',\n",
       " 'cv__binary': False,\n",
       " 'cv__decode_error': 'strict',\n",
       " 'cv__dtype': numpy.int64,\n",
       " 'cv__encoding': 'utf-8',\n",
       " 'cv__input': 'content',\n",
       " 'cv__lowercase': True,\n",
       " 'cv__max_df': 1.0,\n",
       " 'cv__max_features': None,\n",
       " 'cv__min_df': 1,\n",
       " 'cv__ngram_range': (1, 1),\n",
       " 'cv__preprocessor': None,\n",
       " 'cv__stop_words': None,\n",
       " 'cv__strip_accents': None,\n",
       " 'cv__token_pattern': '(?u)\\\\b\\\\w\\\\w+\\\\b',\n",
       " 'cv__tokenizer': None,\n",
       " 'cv__vocabulary': None,\n",
       " 'lr__estimator__C': 1.0,\n",
       " 'lr__estimator__class_weight': None,\n",
       " 'lr__estimator__dual': False,\n",
       " 'lr__estimator__fit_intercept': True,\n",
       " 'lr__estimator__intercept_scaling': 1,\n",
       " 'lr__estimator__l1_ratio': None,\n",
       " 'lr__estimator__max_iter': 100,\n",
       " 'lr__estimator__multi_class': 'auto',\n",
       " 'lr__estimator__n_jobs': None,\n",
       " 'lr__estimator__penalty': 'l2',\n",
       " 'lr__estimator__random_state': None,\n",
       " 'lr__estimator__solver': 'lbfgs',\n",
       " 'lr__estimator__tol': 0.0001,\n",
       " 'lr__estimator__verbose': 0,\n",
       " 'lr__estimator__warm_start': False,\n",
       " 'lr__estimator': LogisticRegression(),\n",
       " 'lr__n_jobs': None}"
      ]
     },
     "execution_count": 74,
     "metadata": {},
     "output_type": "execute_result"
    }
   ],
   "source": [
    "# get paramns\n",
    "pipe_lr.get_params()"
   ]
  },
  {
   "cell_type": "code",
   "execution_count": 75,
   "id": "bbbe93d7",
   "metadata": {},
   "outputs": [
    {
     "data": {
      "text/plain": [
       "(3732,)"
      ]
     },
     "execution_count": 75,
     "metadata": {},
     "output_type": "execute_result"
    }
   ],
   "source": [
    "X_train.shape"
   ]
  },
  {
   "cell_type": "code",
   "execution_count": 76,
   "id": "7c6c5f68",
   "metadata": {},
   "outputs": [
    {
     "data": {
      "text/plain": [
       "(3732, 2)"
      ]
     },
     "execution_count": 76,
     "metadata": {},
     "output_type": "execute_result"
    }
   ],
   "source": [
    "y_train.shape"
   ]
  },
  {
   "cell_type": "code",
   "execution_count": 77,
   "id": "d87f6645",
   "metadata": {},
   "outputs": [
    {
     "data": {
      "text/html": [
       "<style>#sk-container-id-4 {color: black;background-color: white;}#sk-container-id-4 pre{padding: 0;}#sk-container-id-4 div.sk-toggleable {background-color: white;}#sk-container-id-4 label.sk-toggleable__label {cursor: pointer;display: block;width: 100%;margin-bottom: 0;padding: 0.3em;box-sizing: border-box;text-align: center;}#sk-container-id-4 label.sk-toggleable__label-arrow:before {content: \"▸\";float: left;margin-right: 0.25em;color: #696969;}#sk-container-id-4 label.sk-toggleable__label-arrow:hover:before {color: black;}#sk-container-id-4 div.sk-estimator:hover label.sk-toggleable__label-arrow:before {color: black;}#sk-container-id-4 div.sk-toggleable__content {max-height: 0;max-width: 0;overflow: hidden;text-align: left;background-color: #f0f8ff;}#sk-container-id-4 div.sk-toggleable__content pre {margin: 0.2em;color: black;border-radius: 0.25em;background-color: #f0f8ff;}#sk-container-id-4 input.sk-toggleable__control:checked~div.sk-toggleable__content {max-height: 200px;max-width: 100%;overflow: auto;}#sk-container-id-4 input.sk-toggleable__control:checked~label.sk-toggleable__label-arrow:before {content: \"▾\";}#sk-container-id-4 div.sk-estimator input.sk-toggleable__control:checked~label.sk-toggleable__label {background-color: #d4ebff;}#sk-container-id-4 div.sk-label input.sk-toggleable__control:checked~label.sk-toggleable__label {background-color: #d4ebff;}#sk-container-id-4 input.sk-hidden--visually {border: 0;clip: rect(1px 1px 1px 1px);clip: rect(1px, 1px, 1px, 1px);height: 1px;margin: -1px;overflow: hidden;padding: 0;position: absolute;width: 1px;}#sk-container-id-4 div.sk-estimator {font-family: monospace;background-color: #f0f8ff;border: 1px dotted black;border-radius: 0.25em;box-sizing: border-box;margin-bottom: 0.5em;}#sk-container-id-4 div.sk-estimator:hover {background-color: #d4ebff;}#sk-container-id-4 div.sk-parallel-item::after {content: \"\";width: 100%;border-bottom: 1px solid gray;flex-grow: 1;}#sk-container-id-4 div.sk-label:hover label.sk-toggleable__label {background-color: #d4ebff;}#sk-container-id-4 div.sk-serial::before {content: \"\";position: absolute;border-left: 1px solid gray;box-sizing: border-box;top: 0;bottom: 0;left: 50%;z-index: 0;}#sk-container-id-4 div.sk-serial {display: flex;flex-direction: column;align-items: center;background-color: white;padding-right: 0.2em;padding-left: 0.2em;position: relative;}#sk-container-id-4 div.sk-item {position: relative;z-index: 1;}#sk-container-id-4 div.sk-parallel {display: flex;align-items: stretch;justify-content: center;background-color: white;position: relative;}#sk-container-id-4 div.sk-item::before, #sk-container-id-4 div.sk-parallel-item::before {content: \"\";position: absolute;border-left: 1px solid gray;box-sizing: border-box;top: 0;bottom: 0;left: 50%;z-index: -1;}#sk-container-id-4 div.sk-parallel-item {display: flex;flex-direction: column;z-index: 1;position: relative;background-color: white;}#sk-container-id-4 div.sk-parallel-item:first-child::after {align-self: flex-end;width: 50%;}#sk-container-id-4 div.sk-parallel-item:last-child::after {align-self: flex-start;width: 50%;}#sk-container-id-4 div.sk-parallel-item:only-child::after {width: 0;}#sk-container-id-4 div.sk-dashed-wrapped {border: 1px dashed gray;margin: 0 0.4em 0.5em 0.4em;box-sizing: border-box;padding-bottom: 0.4em;background-color: white;}#sk-container-id-4 div.sk-label label {font-family: monospace;font-weight: bold;display: inline-block;line-height: 1.2em;}#sk-container-id-4 div.sk-label-container {text-align: center;}#sk-container-id-4 div.sk-container {/* jupyter's `normalize.less` sets `[hidden] { display: none; }` but bootstrap.min.css set `[hidden] { display: none !important; }` so we also need the `!important` here to be able to override the default hidden behavior on the sphinx rendered scikit-learn.org. See: https://github.com/scikit-learn/scikit-learn/issues/21755 */display: inline-block !important;position: relative;}#sk-container-id-4 div.sk-text-repr-fallback {display: none;}</style><div id=\"sk-container-id-4\" class=\"sk-top-container\"><div class=\"sk-text-repr-fallback\"><pre>Pipeline(steps=[(&#x27;cv&#x27;, CountVectorizer()),\n",
       "                (&#x27;lr&#x27;, MultiOutputClassifier(estimator=LogisticRegression()))])</pre><b>In a Jupyter environment, please rerun this cell to show the HTML representation or trust the notebook. <br />On GitHub, the HTML representation is unable to render, please try loading this page with nbviewer.org.</b></div><div class=\"sk-container\" hidden><div class=\"sk-item sk-dashed-wrapped\"><div class=\"sk-label-container\"><div class=\"sk-label sk-toggleable\"><input class=\"sk-toggleable__control sk-hidden--visually\" id=\"sk-estimator-id-16\" type=\"checkbox\" ><label for=\"sk-estimator-id-16\" class=\"sk-toggleable__label sk-toggleable__label-arrow\">Pipeline</label><div class=\"sk-toggleable__content\"><pre>Pipeline(steps=[(&#x27;cv&#x27;, CountVectorizer()),\n",
       "                (&#x27;lr&#x27;, MultiOutputClassifier(estimator=LogisticRegression()))])</pre></div></div></div><div class=\"sk-serial\"><div class=\"sk-item\"><div class=\"sk-estimator sk-toggleable\"><input class=\"sk-toggleable__control sk-hidden--visually\" id=\"sk-estimator-id-17\" type=\"checkbox\" ><label for=\"sk-estimator-id-17\" class=\"sk-toggleable__label sk-toggleable__label-arrow\">CountVectorizer</label><div class=\"sk-toggleable__content\"><pre>CountVectorizer()</pre></div></div></div><div class=\"sk-item sk-dashed-wrapped\"><div class=\"sk-label-container\"><div class=\"sk-label sk-toggleable\"><input class=\"sk-toggleable__control sk-hidden--visually\" id=\"sk-estimator-id-18\" type=\"checkbox\" ><label for=\"sk-estimator-id-18\" class=\"sk-toggleable__label sk-toggleable__label-arrow\">lr: MultiOutputClassifier</label><div class=\"sk-toggleable__content\"><pre>MultiOutputClassifier(estimator=LogisticRegression())</pre></div></div></div><div class=\"sk-parallel\"><div class=\"sk-parallel-item\"><div class=\"sk-item\"><div class=\"sk-label-container\"><div class=\"sk-label sk-toggleable\"><input class=\"sk-toggleable__control sk-hidden--visually\" id=\"sk-estimator-id-19\" type=\"checkbox\" ><label for=\"sk-estimator-id-19\" class=\"sk-toggleable__label sk-toggleable__label-arrow\">estimator: LogisticRegression</label><div class=\"sk-toggleable__content\"><pre>LogisticRegression()</pre></div></div></div><div class=\"sk-serial\"><div class=\"sk-item\"><div class=\"sk-estimator sk-toggleable\"><input class=\"sk-toggleable__control sk-hidden--visually\" id=\"sk-estimator-id-20\" type=\"checkbox\" ><label for=\"sk-estimator-id-20\" class=\"sk-toggleable__label sk-toggleable__label-arrow\">LogisticRegression</label><div class=\"sk-toggleable__content\"><pre>LogisticRegression()</pre></div></div></div></div></div></div></div></div></div></div></div></div>"
      ],
      "text/plain": [
       "Pipeline(steps=[('cv', CountVectorizer()),\n",
       "                ('lr', MultiOutputClassifier(estimator=LogisticRegression()))])"
      ]
     },
     "execution_count": 77,
     "metadata": {},
     "output_type": "execute_result"
    }
   ],
   "source": [
    "pipe_lr.fit(X_train,y_train)"
   ]
  },
  {
   "cell_type": "code",
   "execution_count": 78,
   "id": "3fc398ea",
   "metadata": {},
   "outputs": [
    {
     "data": {
      "text/plain": [
       "0.33125"
      ]
     },
     "execution_count": 78,
     "metadata": {},
     "output_type": "execute_result"
    }
   ],
   "source": [
    "# Accuracy\n",
    "pipe_lr.score(X_test,y_test)"
   ]
  },
  {
   "cell_type": "code",
   "execution_count": 79,
   "id": "ba4bdea6",
   "metadata": {},
   "outputs": [
    {
     "data": {
      "text/plain": [
       "1181                           Aiyyaa\n",
       "5001    The Haunting of Molly Hartley\n",
       "4586            Postcards from London\n",
       "1321                           Ne Zha\n",
       "168             The Edge of Seventeen\n",
       "                    ...              \n",
       "3576                         Big Kill\n",
       "1383                      Arctic Dogs\n",
       "3963                       God of War\n",
       "4590                  Premachi Goshta\n",
       "4328                  Maine Pyar Kiya\n",
       "Name: title, Length: 1600, dtype: object"
      ]
     },
     "execution_count": 79,
     "metadata": {},
     "output_type": "execute_result"
    }
   ],
   "source": [
    "X_test"
   ]
  },
  {
   "cell_type": "code",
   "execution_count": 80,
   "id": "f56a3645",
   "metadata": {},
   "outputs": [
    {
     "name": "stdout",
     "output_type": "stream",
     "text": [
      "Aiyyaa\n",
      "Actual Prediction: type      Movie\n",
      "rating    TV-14\n",
      "Name: 1181, dtype: object\n"
     ]
    }
   ],
   "source": [
    "# Make a prediction of the rating \n",
    "# Sample Prediction\n",
    "print(X_test.iloc[0])\n",
    "print(\"Actual Prediction:\",y_test.iloc[0])"
   ]
  },
  {
   "cell_type": "code",
   "execution_count": 81,
   "id": "4f40a623",
   "metadata": {},
   "outputs": [],
   "source": [
    "ex1 = X_test.iloc[0]"
   ]
  },
  {
   "cell_type": "code",
   "execution_count": 82,
   "id": "e65631c4",
   "metadata": {},
   "outputs": [
    {
     "data": {
      "text/plain": [
       "'Aiyyaa'"
      ]
     },
     "execution_count": 82,
     "metadata": {},
     "output_type": "execute_result"
    }
   ],
   "source": [
    "ex1"
   ]
  },
  {
   "cell_type": "code",
   "execution_count": 83,
   "id": "7176fae8",
   "metadata": {},
   "outputs": [
    {
     "data": {
      "text/plain": [
       "array([['Movie', 'TV-MA']], dtype=object)"
      ]
     },
     "execution_count": 83,
     "metadata": {},
     "output_type": "execute_result"
    }
   ],
   "source": [
    "pipe_lr.predict([ex1])"
   ]
  },
  {
   "cell_type": "code",
   "execution_count": 84,
   "id": "e4ff24ff",
   "metadata": {},
   "outputs": [
    {
     "name": "stdout",
     "output_type": "stream",
     "text": [
      "[array(['Movie', 'TV Show'], dtype=object), array(['G', 'NC-17', 'NR', 'PG', 'PG-13', 'R', 'TV-14', 'TV-G', 'TV-MA',\n",
      "       'TV-PG', 'TV-Y', 'TV-Y7', 'TV-Y7-FV', 'UR'], dtype=object)]\n"
     ]
    },
    {
     "data": {
      "text/plain": [
       "[array([[0.97640894, 0.02359106]]),\n",
       " array([[4.75909118e-03, 2.90298198e-05, 1.14840647e-02, 4.23004186e-02,\n",
       "         8.43650123e-02, 1.41139314e-01, 2.51586225e-01, 1.16043246e-02,\n",
       "         3.58566055e-01, 7.54326577e-02, 7.72715903e-03, 1.01460735e-02,\n",
       "         3.02031277e-05, 8.30371275e-04]])]"
      ]
     },
     "execution_count": 84,
     "metadata": {},
     "output_type": "execute_result"
    }
   ],
   "source": [
    "# Prediction Prob\n",
    "print(pipe_lr.classes_)\n",
    "pipe_lr.predict_proba([ex1])"
   ]
  },
  {
   "cell_type": "code",
   "execution_count": 85,
   "id": "b3fbd617",
   "metadata": {},
   "outputs": [
    {
     "data": {
      "text/html": [
       "<style>#sk-container-id-5 {color: black;background-color: white;}#sk-container-id-5 pre{padding: 0;}#sk-container-id-5 div.sk-toggleable {background-color: white;}#sk-container-id-5 label.sk-toggleable__label {cursor: pointer;display: block;width: 100%;margin-bottom: 0;padding: 0.3em;box-sizing: border-box;text-align: center;}#sk-container-id-5 label.sk-toggleable__label-arrow:before {content: \"▸\";float: left;margin-right: 0.25em;color: #696969;}#sk-container-id-5 label.sk-toggleable__label-arrow:hover:before {color: black;}#sk-container-id-5 div.sk-estimator:hover label.sk-toggleable__label-arrow:before {color: black;}#sk-container-id-5 div.sk-toggleable__content {max-height: 0;max-width: 0;overflow: hidden;text-align: left;background-color: #f0f8ff;}#sk-container-id-5 div.sk-toggleable__content pre {margin: 0.2em;color: black;border-radius: 0.25em;background-color: #f0f8ff;}#sk-container-id-5 input.sk-toggleable__control:checked~div.sk-toggleable__content {max-height: 200px;max-width: 100%;overflow: auto;}#sk-container-id-5 input.sk-toggleable__control:checked~label.sk-toggleable__label-arrow:before {content: \"▾\";}#sk-container-id-5 div.sk-estimator input.sk-toggleable__control:checked~label.sk-toggleable__label {background-color: #d4ebff;}#sk-container-id-5 div.sk-label input.sk-toggleable__control:checked~label.sk-toggleable__label {background-color: #d4ebff;}#sk-container-id-5 input.sk-hidden--visually {border: 0;clip: rect(1px 1px 1px 1px);clip: rect(1px, 1px, 1px, 1px);height: 1px;margin: -1px;overflow: hidden;padding: 0;position: absolute;width: 1px;}#sk-container-id-5 div.sk-estimator {font-family: monospace;background-color: #f0f8ff;border: 1px dotted black;border-radius: 0.25em;box-sizing: border-box;margin-bottom: 0.5em;}#sk-container-id-5 div.sk-estimator:hover {background-color: #d4ebff;}#sk-container-id-5 div.sk-parallel-item::after {content: \"\";width: 100%;border-bottom: 1px solid gray;flex-grow: 1;}#sk-container-id-5 div.sk-label:hover label.sk-toggleable__label {background-color: #d4ebff;}#sk-container-id-5 div.sk-serial::before {content: \"\";position: absolute;border-left: 1px solid gray;box-sizing: border-box;top: 0;bottom: 0;left: 50%;z-index: 0;}#sk-container-id-5 div.sk-serial {display: flex;flex-direction: column;align-items: center;background-color: white;padding-right: 0.2em;padding-left: 0.2em;position: relative;}#sk-container-id-5 div.sk-item {position: relative;z-index: 1;}#sk-container-id-5 div.sk-parallel {display: flex;align-items: stretch;justify-content: center;background-color: white;position: relative;}#sk-container-id-5 div.sk-item::before, #sk-container-id-5 div.sk-parallel-item::before {content: \"\";position: absolute;border-left: 1px solid gray;box-sizing: border-box;top: 0;bottom: 0;left: 50%;z-index: -1;}#sk-container-id-5 div.sk-parallel-item {display: flex;flex-direction: column;z-index: 1;position: relative;background-color: white;}#sk-container-id-5 div.sk-parallel-item:first-child::after {align-self: flex-end;width: 50%;}#sk-container-id-5 div.sk-parallel-item:last-child::after {align-self: flex-start;width: 50%;}#sk-container-id-5 div.sk-parallel-item:only-child::after {width: 0;}#sk-container-id-5 div.sk-dashed-wrapped {border: 1px dashed gray;margin: 0 0.4em 0.5em 0.4em;box-sizing: border-box;padding-bottom: 0.4em;background-color: white;}#sk-container-id-5 div.sk-label label {font-family: monospace;font-weight: bold;display: inline-block;line-height: 1.2em;}#sk-container-id-5 div.sk-label-container {text-align: center;}#sk-container-id-5 div.sk-container {/* jupyter's `normalize.less` sets `[hidden] { display: none; }` but bootstrap.min.css set `[hidden] { display: none !important; }` so we also need the `!important` here to be able to override the default hidden behavior on the sphinx rendered scikit-learn.org. See: https://github.com/scikit-learn/scikit-learn/issues/21755 */display: inline-block !important;position: relative;}#sk-container-id-5 div.sk-text-repr-fallback {display: none;}</style><div id=\"sk-container-id-5\" class=\"sk-top-container\"><div class=\"sk-text-repr-fallback\"><pre>Pipeline(steps=[(&#x27;cv&#x27;, CountVectorizer()),\n",
       "                (&#x27;nb&#x27;, MultiOutputClassifier(estimator=MultinomialNB()))])</pre><b>In a Jupyter environment, please rerun this cell to show the HTML representation or trust the notebook. <br />On GitHub, the HTML representation is unable to render, please try loading this page with nbviewer.org.</b></div><div class=\"sk-container\" hidden><div class=\"sk-item sk-dashed-wrapped\"><div class=\"sk-label-container\"><div class=\"sk-label sk-toggleable\"><input class=\"sk-toggleable__control sk-hidden--visually\" id=\"sk-estimator-id-21\" type=\"checkbox\" ><label for=\"sk-estimator-id-21\" class=\"sk-toggleable__label sk-toggleable__label-arrow\">Pipeline</label><div class=\"sk-toggleable__content\"><pre>Pipeline(steps=[(&#x27;cv&#x27;, CountVectorizer()),\n",
       "                (&#x27;nb&#x27;, MultiOutputClassifier(estimator=MultinomialNB()))])</pre></div></div></div><div class=\"sk-serial\"><div class=\"sk-item\"><div class=\"sk-estimator sk-toggleable\"><input class=\"sk-toggleable__control sk-hidden--visually\" id=\"sk-estimator-id-22\" type=\"checkbox\" ><label for=\"sk-estimator-id-22\" class=\"sk-toggleable__label sk-toggleable__label-arrow\">CountVectorizer</label><div class=\"sk-toggleable__content\"><pre>CountVectorizer()</pre></div></div></div><div class=\"sk-item sk-dashed-wrapped\"><div class=\"sk-label-container\"><div class=\"sk-label sk-toggleable\"><input class=\"sk-toggleable__control sk-hidden--visually\" id=\"sk-estimator-id-23\" type=\"checkbox\" ><label for=\"sk-estimator-id-23\" class=\"sk-toggleable__label sk-toggleable__label-arrow\">nb: MultiOutputClassifier</label><div class=\"sk-toggleable__content\"><pre>MultiOutputClassifier(estimator=MultinomialNB())</pre></div></div></div><div class=\"sk-parallel\"><div class=\"sk-parallel-item\"><div class=\"sk-item\"><div class=\"sk-label-container\"><div class=\"sk-label sk-toggleable\"><input class=\"sk-toggleable__control sk-hidden--visually\" id=\"sk-estimator-id-24\" type=\"checkbox\" ><label for=\"sk-estimator-id-24\" class=\"sk-toggleable__label sk-toggleable__label-arrow\">estimator: MultinomialNB</label><div class=\"sk-toggleable__content\"><pre>MultinomialNB()</pre></div></div></div><div class=\"sk-serial\"><div class=\"sk-item\"><div class=\"sk-estimator sk-toggleable\"><input class=\"sk-toggleable__control sk-hidden--visually\" id=\"sk-estimator-id-25\" type=\"checkbox\" ><label for=\"sk-estimator-id-25\" class=\"sk-toggleable__label sk-toggleable__label-arrow\">MultinomialNB</label><div class=\"sk-toggleable__content\"><pre>MultinomialNB()</pre></div></div></div></div></div></div></div></div></div></div></div></div>"
      ],
      "text/plain": [
       "Pipeline(steps=[('cv', CountVectorizer()),\n",
       "                ('nb', MultiOutputClassifier(estimator=MultinomialNB()))])"
      ]
     },
     "execution_count": 85,
     "metadata": {},
     "output_type": "execute_result"
    }
   ],
   "source": [
    "pipe_nb"
   ]
  },
  {
   "cell_type": "code",
   "execution_count": 86,
   "id": "0e21b884",
   "metadata": {},
   "outputs": [
    {
     "data": {
      "text/html": [
       "<style>#sk-container-id-6 {color: black;background-color: white;}#sk-container-id-6 pre{padding: 0;}#sk-container-id-6 div.sk-toggleable {background-color: white;}#sk-container-id-6 label.sk-toggleable__label {cursor: pointer;display: block;width: 100%;margin-bottom: 0;padding: 0.3em;box-sizing: border-box;text-align: center;}#sk-container-id-6 label.sk-toggleable__label-arrow:before {content: \"▸\";float: left;margin-right: 0.25em;color: #696969;}#sk-container-id-6 label.sk-toggleable__label-arrow:hover:before {color: black;}#sk-container-id-6 div.sk-estimator:hover label.sk-toggleable__label-arrow:before {color: black;}#sk-container-id-6 div.sk-toggleable__content {max-height: 0;max-width: 0;overflow: hidden;text-align: left;background-color: #f0f8ff;}#sk-container-id-6 div.sk-toggleable__content pre {margin: 0.2em;color: black;border-radius: 0.25em;background-color: #f0f8ff;}#sk-container-id-6 input.sk-toggleable__control:checked~div.sk-toggleable__content {max-height: 200px;max-width: 100%;overflow: auto;}#sk-container-id-6 input.sk-toggleable__control:checked~label.sk-toggleable__label-arrow:before {content: \"▾\";}#sk-container-id-6 div.sk-estimator input.sk-toggleable__control:checked~label.sk-toggleable__label {background-color: #d4ebff;}#sk-container-id-6 div.sk-label input.sk-toggleable__control:checked~label.sk-toggleable__label {background-color: #d4ebff;}#sk-container-id-6 input.sk-hidden--visually {border: 0;clip: rect(1px 1px 1px 1px);clip: rect(1px, 1px, 1px, 1px);height: 1px;margin: -1px;overflow: hidden;padding: 0;position: absolute;width: 1px;}#sk-container-id-6 div.sk-estimator {font-family: monospace;background-color: #f0f8ff;border: 1px dotted black;border-radius: 0.25em;box-sizing: border-box;margin-bottom: 0.5em;}#sk-container-id-6 div.sk-estimator:hover {background-color: #d4ebff;}#sk-container-id-6 div.sk-parallel-item::after {content: \"\";width: 100%;border-bottom: 1px solid gray;flex-grow: 1;}#sk-container-id-6 div.sk-label:hover label.sk-toggleable__label {background-color: #d4ebff;}#sk-container-id-6 div.sk-serial::before {content: \"\";position: absolute;border-left: 1px solid gray;box-sizing: border-box;top: 0;bottom: 0;left: 50%;z-index: 0;}#sk-container-id-6 div.sk-serial {display: flex;flex-direction: column;align-items: center;background-color: white;padding-right: 0.2em;padding-left: 0.2em;position: relative;}#sk-container-id-6 div.sk-item {position: relative;z-index: 1;}#sk-container-id-6 div.sk-parallel {display: flex;align-items: stretch;justify-content: center;background-color: white;position: relative;}#sk-container-id-6 div.sk-item::before, #sk-container-id-6 div.sk-parallel-item::before {content: \"\";position: absolute;border-left: 1px solid gray;box-sizing: border-box;top: 0;bottom: 0;left: 50%;z-index: -1;}#sk-container-id-6 div.sk-parallel-item {display: flex;flex-direction: column;z-index: 1;position: relative;background-color: white;}#sk-container-id-6 div.sk-parallel-item:first-child::after {align-self: flex-end;width: 50%;}#sk-container-id-6 div.sk-parallel-item:last-child::after {align-self: flex-start;width: 50%;}#sk-container-id-6 div.sk-parallel-item:only-child::after {width: 0;}#sk-container-id-6 div.sk-dashed-wrapped {border: 1px dashed gray;margin: 0 0.4em 0.5em 0.4em;box-sizing: border-box;padding-bottom: 0.4em;background-color: white;}#sk-container-id-6 div.sk-label label {font-family: monospace;font-weight: bold;display: inline-block;line-height: 1.2em;}#sk-container-id-6 div.sk-label-container {text-align: center;}#sk-container-id-6 div.sk-container {/* jupyter's `normalize.less` sets `[hidden] { display: none; }` but bootstrap.min.css set `[hidden] { display: none !important; }` so we also need the `!important` here to be able to override the default hidden behavior on the sphinx rendered scikit-learn.org. See: https://github.com/scikit-learn/scikit-learn/issues/21755 */display: inline-block !important;position: relative;}#sk-container-id-6 div.sk-text-repr-fallback {display: none;}</style><div id=\"sk-container-id-6\" class=\"sk-top-container\"><div class=\"sk-text-repr-fallback\"><pre>Pipeline(steps=[(&#x27;cv&#x27;, CountVectorizer()),\n",
       "                (&#x27;nb&#x27;, MultiOutputClassifier(estimator=MultinomialNB()))])</pre><b>In a Jupyter environment, please rerun this cell to show the HTML representation or trust the notebook. <br />On GitHub, the HTML representation is unable to render, please try loading this page with nbviewer.org.</b></div><div class=\"sk-container\" hidden><div class=\"sk-item sk-dashed-wrapped\"><div class=\"sk-label-container\"><div class=\"sk-label sk-toggleable\"><input class=\"sk-toggleable__control sk-hidden--visually\" id=\"sk-estimator-id-26\" type=\"checkbox\" ><label for=\"sk-estimator-id-26\" class=\"sk-toggleable__label sk-toggleable__label-arrow\">Pipeline</label><div class=\"sk-toggleable__content\"><pre>Pipeline(steps=[(&#x27;cv&#x27;, CountVectorizer()),\n",
       "                (&#x27;nb&#x27;, MultiOutputClassifier(estimator=MultinomialNB()))])</pre></div></div></div><div class=\"sk-serial\"><div class=\"sk-item\"><div class=\"sk-estimator sk-toggleable\"><input class=\"sk-toggleable__control sk-hidden--visually\" id=\"sk-estimator-id-27\" type=\"checkbox\" ><label for=\"sk-estimator-id-27\" class=\"sk-toggleable__label sk-toggleable__label-arrow\">CountVectorizer</label><div class=\"sk-toggleable__content\"><pre>CountVectorizer()</pre></div></div></div><div class=\"sk-item sk-dashed-wrapped\"><div class=\"sk-label-container\"><div class=\"sk-label sk-toggleable\"><input class=\"sk-toggleable__control sk-hidden--visually\" id=\"sk-estimator-id-28\" type=\"checkbox\" ><label for=\"sk-estimator-id-28\" class=\"sk-toggleable__label sk-toggleable__label-arrow\">nb: MultiOutputClassifier</label><div class=\"sk-toggleable__content\"><pre>MultiOutputClassifier(estimator=MultinomialNB())</pre></div></div></div><div class=\"sk-parallel\"><div class=\"sk-parallel-item\"><div class=\"sk-item\"><div class=\"sk-label-container\"><div class=\"sk-label sk-toggleable\"><input class=\"sk-toggleable__control sk-hidden--visually\" id=\"sk-estimator-id-29\" type=\"checkbox\" ><label for=\"sk-estimator-id-29\" class=\"sk-toggleable__label sk-toggleable__label-arrow\">estimator: MultinomialNB</label><div class=\"sk-toggleable__content\"><pre>MultinomialNB()</pre></div></div></div><div class=\"sk-serial\"><div class=\"sk-item\"><div class=\"sk-estimator sk-toggleable\"><input class=\"sk-toggleable__control sk-hidden--visually\" id=\"sk-estimator-id-30\" type=\"checkbox\" ><label for=\"sk-estimator-id-30\" class=\"sk-toggleable__label sk-toggleable__label-arrow\">MultinomialNB</label><div class=\"sk-toggleable__content\"><pre>MultinomialNB()</pre></div></div></div></div></div></div></div></div></div></div></div></div>"
      ],
      "text/plain": [
       "Pipeline(steps=[('cv', CountVectorizer()),\n",
       "                ('nb', MultiOutputClassifier(estimator=MultinomialNB()))])"
      ]
     },
     "execution_count": 86,
     "metadata": {},
     "output_type": "execute_result"
    }
   ],
   "source": [
    "pipe_nb.fit(X_train,y_train)"
   ]
  },
  {
   "cell_type": "code",
   "execution_count": 87,
   "id": "4a7b42ac",
   "metadata": {},
   "outputs": [
    {
     "data": {
      "text/plain": [
       "0.333125"
      ]
     },
     "execution_count": 87,
     "metadata": {},
     "output_type": "execute_result"
    }
   ],
   "source": [
    "# Accuracy\n",
    "pipe_nb.score(X_test,y_test)"
   ]
  },
  {
   "cell_type": "code",
   "execution_count": 88,
   "id": "c4175531",
   "metadata": {},
   "outputs": [
    {
     "name": "stdout",
     "output_type": "stream",
     "text": [
      "Aiyyaa\n",
      "Actual Prediction: type      Movie\n",
      "rating    TV-14\n",
      "Name: 1181, dtype: object\n"
     ]
    }
   ],
   "source": [
    "# Make a prediction of the rating \n",
    "# Sample Prediction\n",
    "print(X_test.iloc[0])\n",
    "print(\"Actual Prediction:\",y_test.iloc[0])"
   ]
  },
  {
   "cell_type": "code",
   "execution_count": 89,
   "id": "494619e4",
   "metadata": {},
   "outputs": [],
   "source": [
    "ex1_2 = X_test.iloc[0]"
   ]
  },
  {
   "cell_type": "code",
   "execution_count": 90,
   "id": "55c2c055",
   "metadata": {},
   "outputs": [
    {
     "data": {
      "text/plain": [
       "'Aiyyaa'"
      ]
     },
     "execution_count": 90,
     "metadata": {},
     "output_type": "execute_result"
    }
   ],
   "source": [
    "ex1_2"
   ]
  },
  {
   "cell_type": "code",
   "execution_count": 91,
   "id": "670b4745",
   "metadata": {},
   "outputs": [
    {
     "data": {
      "text/plain": [
       "array([['Movie', 'TV-MA']], dtype='<U8')"
      ]
     },
     "execution_count": 91,
     "metadata": {},
     "output_type": "execute_result"
    }
   ],
   "source": [
    "pipe_nb.predict([ex1_2])"
   ]
  },
  {
   "cell_type": "code",
   "execution_count": 92,
   "id": "e872775f",
   "metadata": {},
   "outputs": [
    {
     "name": "stdout",
     "output_type": "stream",
     "text": [
      "[array(['Movie', 'TV Show'], dtype='<U7'), array(['G', 'NC-17', 'NR', 'PG', 'PG-13', 'R', 'TV-14', 'TV-G', 'TV-MA',\n",
      "       'TV-PG', 'TV-Y', 'TV-Y7', 'TV-Y7-FV', 'UR'], dtype='<U8')]\n"
     ]
    },
    {
     "data": {
      "text/plain": [
       "[array([[0.97293676, 0.02706324]]),\n",
       " array([[6.43086817e-03, 2.67952840e-04, 1.01822079e-02, 4.98392283e-02,\n",
       "         8.81564845e-02, 1.43354770e-01, 2.27759914e-01, 1.63451233e-02,\n",
       "         3.42175777e-01, 8.60128617e-02, 1.44694534e-02, 1.42015005e-02,\n",
       "         2.67952840e-04, 5.35905681e-04]])]"
      ]
     },
     "execution_count": 92,
     "metadata": {},
     "output_type": "execute_result"
    }
   ],
   "source": [
    "# Prediction Prob\n",
    "print(pipe_nb.classes_)\n",
    "pipe_nb.predict_proba([ex1_2])"
   ]
  },
  {
   "cell_type": "code",
   "execution_count": 93,
   "id": "70657aa0",
   "metadata": {},
   "outputs": [],
   "source": [
    "# joblib.dump(pipe_lr,pipe_lr_cv_title_type_prediction_model.pkl)\n",
    "# joblib.dump(pipe_lr,pipe_lr_cv_type_desc_prediction_model.pkl)\n",
    "# joblib.dump(pipe_lr,pipe_nb_desc_rating_model.pkl)"
   ]
  },
  {
   "cell_type": "code",
   "execution_count": null,
   "id": "44ea1800",
   "metadata": {},
   "outputs": [],
   "source": []
  }
 ],
 "metadata": {
  "kernelspec": {
   "display_name": "Python 3 (ipykernel)",
   "language": "python",
   "name": "python3"
  },
  "language_info": {
   "codemirror_mode": {
    "name": "ipython",
    "version": 3
   },
   "file_extension": ".py",
   "mimetype": "text/x-python",
   "name": "python",
   "nbconvert_exporter": "python",
   "pygments_lexer": "ipython3",
   "version": "3.10.6"
  }
 },
 "nbformat": 4,
 "nbformat_minor": 5
}
