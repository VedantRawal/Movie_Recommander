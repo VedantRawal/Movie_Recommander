{
 "cells": [
  {
   "cell_type": "code",
   "execution_count": 1,
   "id": "d43bef7e",
   "metadata": {},
   "outputs": [],
   "source": [
    "import numpy as np\n",
    "import pandas as pd\n",
    "import matplotlib.pyplot as plt\n",
    "import seaborn as sns\n",
    "import warnings\n",
    "warnings.filterwarnings(\"ignore\")\n",
    "\n",
    "import neattext.functions as nfx\n",
    "from sklearn.feature_extraction.text import CountVectorizer,TfidfVectorizer\n",
    "from sklearn.model_selection import train_test_split,cross_val_score\n",
    "from sklearn.pipeline import Pipeline\n",
    "from sklearn.naive_bayes import MultinomialNB\n",
    "from sklearn.linear_model import LogisticRegression\n",
    "from sklearn.neural_network import MLPClassifier\n",
    "from sklearn.tree import DecisionTreeClassifier\n",
    "\n",
    "from sklearn.metrics import accuracy_score, classification_report\n",
    "from sklearn.metrics import confusion_matrix\n",
    "from sklearn.model_selection import train_test_split,cross_val_score\n",
    "from sklearn.multioutput import MultiOutputClassifier\n",
    "import joblib"
   ]
  },
  {
   "cell_type": "code",
   "execution_count": 2,
   "id": "027852ce",
   "metadata": {},
   "outputs": [],
   "source": [
    "movies = pd.read_csv('netflix_titles.csv')"
   ]
  },
  {
   "cell_type": "code",
   "execution_count": 3,
   "id": "36dfd075",
   "metadata": {},
   "outputs": [
    {
     "data": {
      "text/html": [
       "<div>\n",
       "<style scoped>\n",
       "    .dataframe tbody tr th:only-of-type {\n",
       "        vertical-align: middle;\n",
       "    }\n",
       "\n",
       "    .dataframe tbody tr th {\n",
       "        vertical-align: top;\n",
       "    }\n",
       "\n",
       "    .dataframe thead th {\n",
       "        text-align: right;\n",
       "    }\n",
       "</style>\n",
       "<table border=\"1\" class=\"dataframe\">\n",
       "  <thead>\n",
       "    <tr style=\"text-align: right;\">\n",
       "      <th></th>\n",
       "      <th>show_id</th>\n",
       "      <th>type</th>\n",
       "      <th>title</th>\n",
       "      <th>director</th>\n",
       "      <th>cast</th>\n",
       "      <th>country</th>\n",
       "      <th>date_added</th>\n",
       "      <th>release_year</th>\n",
       "      <th>rating</th>\n",
       "      <th>duration</th>\n",
       "      <th>listed_in</th>\n",
       "      <th>description</th>\n",
       "    </tr>\n",
       "  </thead>\n",
       "  <tbody>\n",
       "    <tr>\n",
       "      <th>0</th>\n",
       "      <td>s1</td>\n",
       "      <td>Movie</td>\n",
       "      <td>Dick Johnson Is Dead</td>\n",
       "      <td>Kirsten Johnson</td>\n",
       "      <td>NaN</td>\n",
       "      <td>United States</td>\n",
       "      <td>September 25, 2021</td>\n",
       "      <td>2020</td>\n",
       "      <td>PG-13</td>\n",
       "      <td>90 min</td>\n",
       "      <td>Documentaries</td>\n",
       "      <td>As her father nears the end of his life, filmm...</td>\n",
       "    </tr>\n",
       "    <tr>\n",
       "      <th>1</th>\n",
       "      <td>s2</td>\n",
       "      <td>TV Show</td>\n",
       "      <td>Blood &amp; Water</td>\n",
       "      <td>NaN</td>\n",
       "      <td>Ama Qamata, Khosi Ngema, Gail Mabalane, Thaban...</td>\n",
       "      <td>South Africa</td>\n",
       "      <td>September 24, 2021</td>\n",
       "      <td>2021</td>\n",
       "      <td>TV-MA</td>\n",
       "      <td>2 Seasons</td>\n",
       "      <td>International TV Shows, TV Dramas, TV Mysteries</td>\n",
       "      <td>After crossing paths at a party, a Cape Town t...</td>\n",
       "    </tr>\n",
       "    <tr>\n",
       "      <th>2</th>\n",
       "      <td>s3</td>\n",
       "      <td>TV Show</td>\n",
       "      <td>Ganglands</td>\n",
       "      <td>Julien Leclercq</td>\n",
       "      <td>Sami Bouajila, Tracy Gotoas, Samuel Jouy, Nabi...</td>\n",
       "      <td>NaN</td>\n",
       "      <td>September 24, 2021</td>\n",
       "      <td>2021</td>\n",
       "      <td>TV-MA</td>\n",
       "      <td>1 Season</td>\n",
       "      <td>Crime TV Shows, International TV Shows, TV Act...</td>\n",
       "      <td>To protect his family from a powerful drug lor...</td>\n",
       "    </tr>\n",
       "    <tr>\n",
       "      <th>3</th>\n",
       "      <td>s4</td>\n",
       "      <td>TV Show</td>\n",
       "      <td>Jailbirds New Orleans</td>\n",
       "      <td>NaN</td>\n",
       "      <td>NaN</td>\n",
       "      <td>NaN</td>\n",
       "      <td>September 24, 2021</td>\n",
       "      <td>2021</td>\n",
       "      <td>TV-MA</td>\n",
       "      <td>1 Season</td>\n",
       "      <td>Docuseries, Reality TV</td>\n",
       "      <td>Feuds, flirtations and toilet talk go down amo...</td>\n",
       "    </tr>\n",
       "    <tr>\n",
       "      <th>4</th>\n",
       "      <td>s5</td>\n",
       "      <td>TV Show</td>\n",
       "      <td>Kota Factory</td>\n",
       "      <td>NaN</td>\n",
       "      <td>Mayur More, Jitendra Kumar, Ranjan Raj, Alam K...</td>\n",
       "      <td>India</td>\n",
       "      <td>September 24, 2021</td>\n",
       "      <td>2021</td>\n",
       "      <td>TV-MA</td>\n",
       "      <td>2 Seasons</td>\n",
       "      <td>International TV Shows, Romantic TV Shows, TV ...</td>\n",
       "      <td>In a city of coaching centers known to train I...</td>\n",
       "    </tr>\n",
       "    <tr>\n",
       "      <th>...</th>\n",
       "      <td>...</td>\n",
       "      <td>...</td>\n",
       "      <td>...</td>\n",
       "      <td>...</td>\n",
       "      <td>...</td>\n",
       "      <td>...</td>\n",
       "      <td>...</td>\n",
       "      <td>...</td>\n",
       "      <td>...</td>\n",
       "      <td>...</td>\n",
       "      <td>...</td>\n",
       "      <td>...</td>\n",
       "    </tr>\n",
       "    <tr>\n",
       "      <th>8802</th>\n",
       "      <td>s8803</td>\n",
       "      <td>Movie</td>\n",
       "      <td>Zodiac</td>\n",
       "      <td>David Fincher</td>\n",
       "      <td>Mark Ruffalo, Jake Gyllenhaal, Robert Downey J...</td>\n",
       "      <td>United States</td>\n",
       "      <td>November 20, 2019</td>\n",
       "      <td>2007</td>\n",
       "      <td>R</td>\n",
       "      <td>158 min</td>\n",
       "      <td>Cult Movies, Dramas, Thrillers</td>\n",
       "      <td>A political cartoonist, a crime reporter and a...</td>\n",
       "    </tr>\n",
       "    <tr>\n",
       "      <th>8803</th>\n",
       "      <td>s8804</td>\n",
       "      <td>TV Show</td>\n",
       "      <td>Zombie Dumb</td>\n",
       "      <td>NaN</td>\n",
       "      <td>NaN</td>\n",
       "      <td>NaN</td>\n",
       "      <td>July 1, 2019</td>\n",
       "      <td>2018</td>\n",
       "      <td>TV-Y7</td>\n",
       "      <td>2 Seasons</td>\n",
       "      <td>Kids' TV, Korean TV Shows, TV Comedies</td>\n",
       "      <td>While living alone in a spooky town, a young g...</td>\n",
       "    </tr>\n",
       "    <tr>\n",
       "      <th>8804</th>\n",
       "      <td>s8805</td>\n",
       "      <td>Movie</td>\n",
       "      <td>Zombieland</td>\n",
       "      <td>Ruben Fleischer</td>\n",
       "      <td>Jesse Eisenberg, Woody Harrelson, Emma Stone, ...</td>\n",
       "      <td>United States</td>\n",
       "      <td>November 1, 2019</td>\n",
       "      <td>2009</td>\n",
       "      <td>R</td>\n",
       "      <td>88 min</td>\n",
       "      <td>Comedies, Horror Movies</td>\n",
       "      <td>Looking to survive in a world taken over by zo...</td>\n",
       "    </tr>\n",
       "    <tr>\n",
       "      <th>8805</th>\n",
       "      <td>s8806</td>\n",
       "      <td>Movie</td>\n",
       "      <td>Zoom</td>\n",
       "      <td>Peter Hewitt</td>\n",
       "      <td>Tim Allen, Courteney Cox, Chevy Chase, Kate Ma...</td>\n",
       "      <td>United States</td>\n",
       "      <td>January 11, 2020</td>\n",
       "      <td>2006</td>\n",
       "      <td>PG</td>\n",
       "      <td>88 min</td>\n",
       "      <td>Children &amp; Family Movies, Comedies</td>\n",
       "      <td>Dragged from civilian life, a former superhero...</td>\n",
       "    </tr>\n",
       "    <tr>\n",
       "      <th>8806</th>\n",
       "      <td>s8807</td>\n",
       "      <td>Movie</td>\n",
       "      <td>Zubaan</td>\n",
       "      <td>Mozez Singh</td>\n",
       "      <td>Vicky Kaushal, Sarah-Jane Dias, Raaghav Chanan...</td>\n",
       "      <td>India</td>\n",
       "      <td>March 2, 2019</td>\n",
       "      <td>2015</td>\n",
       "      <td>TV-14</td>\n",
       "      <td>111 min</td>\n",
       "      <td>Dramas, International Movies, Music &amp; Musicals</td>\n",
       "      <td>A scrappy but poor boy worms his way into a ty...</td>\n",
       "    </tr>\n",
       "  </tbody>\n",
       "</table>\n",
       "<p>8807 rows × 12 columns</p>\n",
       "</div>"
      ],
      "text/plain": [
       "     show_id     type                  title         director  \\\n",
       "0         s1    Movie   Dick Johnson Is Dead  Kirsten Johnson   \n",
       "1         s2  TV Show          Blood & Water              NaN   \n",
       "2         s3  TV Show              Ganglands  Julien Leclercq   \n",
       "3         s4  TV Show  Jailbirds New Orleans              NaN   \n",
       "4         s5  TV Show           Kota Factory              NaN   \n",
       "...      ...      ...                    ...              ...   \n",
       "8802   s8803    Movie                 Zodiac    David Fincher   \n",
       "8803   s8804  TV Show            Zombie Dumb              NaN   \n",
       "8804   s8805    Movie             Zombieland  Ruben Fleischer   \n",
       "8805   s8806    Movie                   Zoom     Peter Hewitt   \n",
       "8806   s8807    Movie                 Zubaan      Mozez Singh   \n",
       "\n",
       "                                                   cast        country  \\\n",
       "0                                                   NaN  United States   \n",
       "1     Ama Qamata, Khosi Ngema, Gail Mabalane, Thaban...   South Africa   \n",
       "2     Sami Bouajila, Tracy Gotoas, Samuel Jouy, Nabi...            NaN   \n",
       "3                                                   NaN            NaN   \n",
       "4     Mayur More, Jitendra Kumar, Ranjan Raj, Alam K...          India   \n",
       "...                                                 ...            ...   \n",
       "8802  Mark Ruffalo, Jake Gyllenhaal, Robert Downey J...  United States   \n",
       "8803                                                NaN            NaN   \n",
       "8804  Jesse Eisenberg, Woody Harrelson, Emma Stone, ...  United States   \n",
       "8805  Tim Allen, Courteney Cox, Chevy Chase, Kate Ma...  United States   \n",
       "8806  Vicky Kaushal, Sarah-Jane Dias, Raaghav Chanan...          India   \n",
       "\n",
       "              date_added  release_year rating   duration  \\\n",
       "0     September 25, 2021          2020  PG-13     90 min   \n",
       "1     September 24, 2021          2021  TV-MA  2 Seasons   \n",
       "2     September 24, 2021          2021  TV-MA   1 Season   \n",
       "3     September 24, 2021          2021  TV-MA   1 Season   \n",
       "4     September 24, 2021          2021  TV-MA  2 Seasons   \n",
       "...                  ...           ...    ...        ...   \n",
       "8802   November 20, 2019          2007      R    158 min   \n",
       "8803        July 1, 2019          2018  TV-Y7  2 Seasons   \n",
       "8804    November 1, 2019          2009      R     88 min   \n",
       "8805    January 11, 2020          2006     PG     88 min   \n",
       "8806       March 2, 2019          2015  TV-14    111 min   \n",
       "\n",
       "                                              listed_in  \\\n",
       "0                                         Documentaries   \n",
       "1       International TV Shows, TV Dramas, TV Mysteries   \n",
       "2     Crime TV Shows, International TV Shows, TV Act...   \n",
       "3                                Docuseries, Reality TV   \n",
       "4     International TV Shows, Romantic TV Shows, TV ...   \n",
       "...                                                 ...   \n",
       "8802                     Cult Movies, Dramas, Thrillers   \n",
       "8803             Kids' TV, Korean TV Shows, TV Comedies   \n",
       "8804                            Comedies, Horror Movies   \n",
       "8805                 Children & Family Movies, Comedies   \n",
       "8806     Dramas, International Movies, Music & Musicals   \n",
       "\n",
       "                                            description  \n",
       "0     As her father nears the end of his life, filmm...  \n",
       "1     After crossing paths at a party, a Cape Town t...  \n",
       "2     To protect his family from a powerful drug lor...  \n",
       "3     Feuds, flirtations and toilet talk go down amo...  \n",
       "4     In a city of coaching centers known to train I...  \n",
       "...                                                 ...  \n",
       "8802  A political cartoonist, a crime reporter and a...  \n",
       "8803  While living alone in a spooky town, a young g...  \n",
       "8804  Looking to survive in a world taken over by zo...  \n",
       "8805  Dragged from civilian life, a former superhero...  \n",
       "8806  A scrappy but poor boy worms his way into a ty...  \n",
       "\n",
       "[8807 rows x 12 columns]"
      ]
     },
     "execution_count": 3,
     "metadata": {},
     "output_type": "execute_result"
    }
   ],
   "source": [
    "movies"
   ]
  },
  {
   "cell_type": "code",
   "execution_count": 4,
   "id": "9fdef505",
   "metadata": {},
   "outputs": [
    {
     "name": "stdout",
     "output_type": "stream",
     "text": [
      "<class 'pandas.core.frame.DataFrame'>\n",
      "RangeIndex: 8807 entries, 0 to 8806\n",
      "Data columns (total 12 columns):\n",
      " #   Column        Non-Null Count  Dtype \n",
      "---  ------        --------------  ----- \n",
      " 0   show_id       8807 non-null   object\n",
      " 1   type          8807 non-null   object\n",
      " 2   title         8807 non-null   object\n",
      " 3   director      6173 non-null   object\n",
      " 4   cast          7982 non-null   object\n",
      " 5   country       7976 non-null   object\n",
      " 6   date_added    8797 non-null   object\n",
      " 7   release_year  8807 non-null   int64 \n",
      " 8   rating        8803 non-null   object\n",
      " 9   duration      8804 non-null   object\n",
      " 10  listed_in     8807 non-null   object\n",
      " 11  description   8807 non-null   object\n",
      "dtypes: int64(1), object(11)\n",
      "memory usage: 825.8+ KB\n"
     ]
    }
   ],
   "source": [
    "movies.info()"
   ]
  },
  {
   "cell_type": "code",
   "execution_count": 5,
   "id": "a85e0a3d",
   "metadata": {},
   "outputs": [],
   "source": [
    "# Drop Null Values\n",
    "movies=movies.dropna().reset_index(drop=True)"
   ]
  },
  {
   "cell_type": "code",
   "execution_count": 6,
   "id": "8a8f0364",
   "metadata": {},
   "outputs": [
    {
     "data": {
      "text/html": [
       "<div>\n",
       "<style scoped>\n",
       "    .dataframe tbody tr th:only-of-type {\n",
       "        vertical-align: middle;\n",
       "    }\n",
       "\n",
       "    .dataframe tbody tr th {\n",
       "        vertical-align: top;\n",
       "    }\n",
       "\n",
       "    .dataframe thead th {\n",
       "        text-align: right;\n",
       "    }\n",
       "</style>\n",
       "<table border=\"1\" class=\"dataframe\">\n",
       "  <thead>\n",
       "    <tr style=\"text-align: right;\">\n",
       "      <th></th>\n",
       "      <th>show_id</th>\n",
       "      <th>type</th>\n",
       "      <th>title</th>\n",
       "      <th>director</th>\n",
       "      <th>cast</th>\n",
       "      <th>country</th>\n",
       "      <th>date_added</th>\n",
       "      <th>release_year</th>\n",
       "      <th>rating</th>\n",
       "      <th>duration</th>\n",
       "      <th>listed_in</th>\n",
       "      <th>description</th>\n",
       "    </tr>\n",
       "  </thead>\n",
       "  <tbody>\n",
       "    <tr>\n",
       "      <th>0</th>\n",
       "      <td>s8</td>\n",
       "      <td>Movie</td>\n",
       "      <td>Sankofa</td>\n",
       "      <td>Haile Gerima</td>\n",
       "      <td>Kofi Ghanaba, Oyafunmike Ogunlano, Alexandra D...</td>\n",
       "      <td>United States, Ghana, Burkina Faso, United Kin...</td>\n",
       "      <td>September 24, 2021</td>\n",
       "      <td>1993</td>\n",
       "      <td>TV-MA</td>\n",
       "      <td>125 min</td>\n",
       "      <td>Dramas, Independent Movies, International Movies</td>\n",
       "      <td>On a photo shoot in Ghana, an American model s...</td>\n",
       "    </tr>\n",
       "    <tr>\n",
       "      <th>1</th>\n",
       "      <td>s9</td>\n",
       "      <td>TV Show</td>\n",
       "      <td>The Great British Baking Show</td>\n",
       "      <td>Andy Devonshire</td>\n",
       "      <td>Mel Giedroyc, Sue Perkins, Mary Berry, Paul Ho...</td>\n",
       "      <td>United Kingdom</td>\n",
       "      <td>September 24, 2021</td>\n",
       "      <td>2021</td>\n",
       "      <td>TV-14</td>\n",
       "      <td>9 Seasons</td>\n",
       "      <td>British TV Shows, Reality TV</td>\n",
       "      <td>A talented batch of amateur bakers face off in...</td>\n",
       "    </tr>\n",
       "    <tr>\n",
       "      <th>2</th>\n",
       "      <td>s10</td>\n",
       "      <td>Movie</td>\n",
       "      <td>The Starling</td>\n",
       "      <td>Theodore Melfi</td>\n",
       "      <td>Melissa McCarthy, Chris O'Dowd, Kevin Kline, T...</td>\n",
       "      <td>United States</td>\n",
       "      <td>September 24, 2021</td>\n",
       "      <td>2021</td>\n",
       "      <td>PG-13</td>\n",
       "      <td>104 min</td>\n",
       "      <td>Comedies, Dramas</td>\n",
       "      <td>A woman adjusting to life after a loss contend...</td>\n",
       "    </tr>\n",
       "    <tr>\n",
       "      <th>3</th>\n",
       "      <td>s13</td>\n",
       "      <td>Movie</td>\n",
       "      <td>Je Suis Karl</td>\n",
       "      <td>Christian Schwochow</td>\n",
       "      <td>Luna Wedler, Jannis Niewöhner, Milan Peschel, ...</td>\n",
       "      <td>Germany, Czech Republic</td>\n",
       "      <td>September 23, 2021</td>\n",
       "      <td>2021</td>\n",
       "      <td>TV-MA</td>\n",
       "      <td>127 min</td>\n",
       "      <td>Dramas, International Movies</td>\n",
       "      <td>After most of her family is murdered in a terr...</td>\n",
       "    </tr>\n",
       "    <tr>\n",
       "      <th>4</th>\n",
       "      <td>s25</td>\n",
       "      <td>Movie</td>\n",
       "      <td>Jeans</td>\n",
       "      <td>S. Shankar</td>\n",
       "      <td>Prashanth, Aishwarya Rai Bachchan, Sri Lakshmi...</td>\n",
       "      <td>India</td>\n",
       "      <td>September 21, 2021</td>\n",
       "      <td>1998</td>\n",
       "      <td>TV-14</td>\n",
       "      <td>166 min</td>\n",
       "      <td>Comedies, International Movies, Romantic Movies</td>\n",
       "      <td>When the father of the man she loves insists t...</td>\n",
       "    </tr>\n",
       "    <tr>\n",
       "      <th>...</th>\n",
       "      <td>...</td>\n",
       "      <td>...</td>\n",
       "      <td>...</td>\n",
       "      <td>...</td>\n",
       "      <td>...</td>\n",
       "      <td>...</td>\n",
       "      <td>...</td>\n",
       "      <td>...</td>\n",
       "      <td>...</td>\n",
       "      <td>...</td>\n",
       "      <td>...</td>\n",
       "      <td>...</td>\n",
       "    </tr>\n",
       "    <tr>\n",
       "      <th>5327</th>\n",
       "      <td>s8802</td>\n",
       "      <td>Movie</td>\n",
       "      <td>Zinzana</td>\n",
       "      <td>Majid Al Ansari</td>\n",
       "      <td>Ali Suliman, Saleh Bakri, Yasa, Ali Al-Jabri, ...</td>\n",
       "      <td>United Arab Emirates, Jordan</td>\n",
       "      <td>March 9, 2016</td>\n",
       "      <td>2015</td>\n",
       "      <td>TV-MA</td>\n",
       "      <td>96 min</td>\n",
       "      <td>Dramas, International Movies, Thrillers</td>\n",
       "      <td>Recovering alcoholic Talal wakes up inside a s...</td>\n",
       "    </tr>\n",
       "    <tr>\n",
       "      <th>5328</th>\n",
       "      <td>s8803</td>\n",
       "      <td>Movie</td>\n",
       "      <td>Zodiac</td>\n",
       "      <td>David Fincher</td>\n",
       "      <td>Mark Ruffalo, Jake Gyllenhaal, Robert Downey J...</td>\n",
       "      <td>United States</td>\n",
       "      <td>November 20, 2019</td>\n",
       "      <td>2007</td>\n",
       "      <td>R</td>\n",
       "      <td>158 min</td>\n",
       "      <td>Cult Movies, Dramas, Thrillers</td>\n",
       "      <td>A political cartoonist, a crime reporter and a...</td>\n",
       "    </tr>\n",
       "    <tr>\n",
       "      <th>5329</th>\n",
       "      <td>s8805</td>\n",
       "      <td>Movie</td>\n",
       "      <td>Zombieland</td>\n",
       "      <td>Ruben Fleischer</td>\n",
       "      <td>Jesse Eisenberg, Woody Harrelson, Emma Stone, ...</td>\n",
       "      <td>United States</td>\n",
       "      <td>November 1, 2019</td>\n",
       "      <td>2009</td>\n",
       "      <td>R</td>\n",
       "      <td>88 min</td>\n",
       "      <td>Comedies, Horror Movies</td>\n",
       "      <td>Looking to survive in a world taken over by zo...</td>\n",
       "    </tr>\n",
       "    <tr>\n",
       "      <th>5330</th>\n",
       "      <td>s8806</td>\n",
       "      <td>Movie</td>\n",
       "      <td>Zoom</td>\n",
       "      <td>Peter Hewitt</td>\n",
       "      <td>Tim Allen, Courteney Cox, Chevy Chase, Kate Ma...</td>\n",
       "      <td>United States</td>\n",
       "      <td>January 11, 2020</td>\n",
       "      <td>2006</td>\n",
       "      <td>PG</td>\n",
       "      <td>88 min</td>\n",
       "      <td>Children &amp; Family Movies, Comedies</td>\n",
       "      <td>Dragged from civilian life, a former superhero...</td>\n",
       "    </tr>\n",
       "    <tr>\n",
       "      <th>5331</th>\n",
       "      <td>s8807</td>\n",
       "      <td>Movie</td>\n",
       "      <td>Zubaan</td>\n",
       "      <td>Mozez Singh</td>\n",
       "      <td>Vicky Kaushal, Sarah-Jane Dias, Raaghav Chanan...</td>\n",
       "      <td>India</td>\n",
       "      <td>March 2, 2019</td>\n",
       "      <td>2015</td>\n",
       "      <td>TV-14</td>\n",
       "      <td>111 min</td>\n",
       "      <td>Dramas, International Movies, Music &amp; Musicals</td>\n",
       "      <td>A scrappy but poor boy worms his way into a ty...</td>\n",
       "    </tr>\n",
       "  </tbody>\n",
       "</table>\n",
       "<p>5332 rows × 12 columns</p>\n",
       "</div>"
      ],
      "text/plain": [
       "     show_id     type                          title             director  \\\n",
       "0         s8    Movie                        Sankofa         Haile Gerima   \n",
       "1         s9  TV Show  The Great British Baking Show      Andy Devonshire   \n",
       "2        s10    Movie                   The Starling       Theodore Melfi   \n",
       "3        s13    Movie                   Je Suis Karl  Christian Schwochow   \n",
       "4        s25    Movie                          Jeans           S. Shankar   \n",
       "...      ...      ...                            ...                  ...   \n",
       "5327   s8802    Movie                        Zinzana      Majid Al Ansari   \n",
       "5328   s8803    Movie                         Zodiac        David Fincher   \n",
       "5329   s8805    Movie                     Zombieland      Ruben Fleischer   \n",
       "5330   s8806    Movie                           Zoom         Peter Hewitt   \n",
       "5331   s8807    Movie                         Zubaan          Mozez Singh   \n",
       "\n",
       "                                                   cast  \\\n",
       "0     Kofi Ghanaba, Oyafunmike Ogunlano, Alexandra D...   \n",
       "1     Mel Giedroyc, Sue Perkins, Mary Berry, Paul Ho...   \n",
       "2     Melissa McCarthy, Chris O'Dowd, Kevin Kline, T...   \n",
       "3     Luna Wedler, Jannis Niewöhner, Milan Peschel, ...   \n",
       "4     Prashanth, Aishwarya Rai Bachchan, Sri Lakshmi...   \n",
       "...                                                 ...   \n",
       "5327  Ali Suliman, Saleh Bakri, Yasa, Ali Al-Jabri, ...   \n",
       "5328  Mark Ruffalo, Jake Gyllenhaal, Robert Downey J...   \n",
       "5329  Jesse Eisenberg, Woody Harrelson, Emma Stone, ...   \n",
       "5330  Tim Allen, Courteney Cox, Chevy Chase, Kate Ma...   \n",
       "5331  Vicky Kaushal, Sarah-Jane Dias, Raaghav Chanan...   \n",
       "\n",
       "                                                country          date_added  \\\n",
       "0     United States, Ghana, Burkina Faso, United Kin...  September 24, 2021   \n",
       "1                                        United Kingdom  September 24, 2021   \n",
       "2                                         United States  September 24, 2021   \n",
       "3                               Germany, Czech Republic  September 23, 2021   \n",
       "4                                                 India  September 21, 2021   \n",
       "...                                                 ...                 ...   \n",
       "5327                       United Arab Emirates, Jordan       March 9, 2016   \n",
       "5328                                      United States   November 20, 2019   \n",
       "5329                                      United States    November 1, 2019   \n",
       "5330                                      United States    January 11, 2020   \n",
       "5331                                              India       March 2, 2019   \n",
       "\n",
       "      release_year rating   duration  \\\n",
       "0             1993  TV-MA    125 min   \n",
       "1             2021  TV-14  9 Seasons   \n",
       "2             2021  PG-13    104 min   \n",
       "3             2021  TV-MA    127 min   \n",
       "4             1998  TV-14    166 min   \n",
       "...            ...    ...        ...   \n",
       "5327          2015  TV-MA     96 min   \n",
       "5328          2007      R    158 min   \n",
       "5329          2009      R     88 min   \n",
       "5330          2006     PG     88 min   \n",
       "5331          2015  TV-14    111 min   \n",
       "\n",
       "                                             listed_in  \\\n",
       "0     Dramas, Independent Movies, International Movies   \n",
       "1                         British TV Shows, Reality TV   \n",
       "2                                     Comedies, Dramas   \n",
       "3                         Dramas, International Movies   \n",
       "4      Comedies, International Movies, Romantic Movies   \n",
       "...                                                ...   \n",
       "5327           Dramas, International Movies, Thrillers   \n",
       "5328                    Cult Movies, Dramas, Thrillers   \n",
       "5329                           Comedies, Horror Movies   \n",
       "5330                Children & Family Movies, Comedies   \n",
       "5331    Dramas, International Movies, Music & Musicals   \n",
       "\n",
       "                                            description  \n",
       "0     On a photo shoot in Ghana, an American model s...  \n",
       "1     A talented batch of amateur bakers face off in...  \n",
       "2     A woman adjusting to life after a loss contend...  \n",
       "3     After most of her family is murdered in a terr...  \n",
       "4     When the father of the man she loves insists t...  \n",
       "...                                                 ...  \n",
       "5327  Recovering alcoholic Talal wakes up inside a s...  \n",
       "5328  A political cartoonist, a crime reporter and a...  \n",
       "5329  Looking to survive in a world taken over by zo...  \n",
       "5330  Dragged from civilian life, a former superhero...  \n",
       "5331  A scrappy but poor boy worms his way into a ty...  \n",
       "\n",
       "[5332 rows x 12 columns]"
      ]
     },
     "execution_count": 6,
     "metadata": {},
     "output_type": "execute_result"
    }
   ],
   "source": [
    "movies"
   ]
  },
  {
   "cell_type": "code",
   "execution_count": 7,
   "id": "46438bdb",
   "metadata": {},
   "outputs": [],
   "source": [
    "#Analysing IMDB ratings to get top rated movies on Netflix\n",
    "imdb_ratings=pd.read_csv(\"IMDb ratings.csv\", usecols=['weighted_average_vote'])\n",
    "imdb_titles=pd.read_csv('IMDb movies.csv', usecols=['title','year','genre'])\n",
    "\n",
    "ratings = pd.DataFrame({'Title':imdb_titles.title,\n",
    "                    'Release Year':imdb_titles.year,\n",
    "                    'Rating': imdb_ratings.weighted_average_vote,\n",
    "                    'Genre':imdb_titles.genre})\n",
    "ratings.drop_duplicates(subset=['Title','Release Year','Rating'], inplace=True)"
   ]
  },
  {
   "cell_type": "code",
   "execution_count": 8,
   "id": "4d7ea1ef",
   "metadata": {},
   "outputs": [],
   "source": [
    "#joining netflix dataset and imdb dataset\n",
    "ratings.dropna()\n",
    "joint_data=ratings.merge(movies,left_on='Title',right_on='title',how='inner')\n",
    "final_data=joint_data.sort_values(by='Rating', ascending=False)"
   ]
  },
  {
   "cell_type": "code",
   "execution_count": 9,
   "id": "f33f0369",
   "metadata": {},
   "outputs": [
    {
     "data": {
      "text/html": [
       "<div>\n",
       "<style scoped>\n",
       "    .dataframe tbody tr th:only-of-type {\n",
       "        vertical-align: middle;\n",
       "    }\n",
       "\n",
       "    .dataframe tbody tr th {\n",
       "        vertical-align: top;\n",
       "    }\n",
       "\n",
       "    .dataframe thead th {\n",
       "        text-align: right;\n",
       "    }\n",
       "</style>\n",
       "<table border=\"1\" class=\"dataframe\">\n",
       "  <thead>\n",
       "    <tr style=\"text-align: right;\">\n",
       "      <th></th>\n",
       "      <th>Title</th>\n",
       "      <th>Release Year</th>\n",
       "      <th>Rating</th>\n",
       "      <th>Genre</th>\n",
       "      <th>show_id</th>\n",
       "      <th>type</th>\n",
       "      <th>title</th>\n",
       "      <th>director</th>\n",
       "      <th>cast</th>\n",
       "      <th>country</th>\n",
       "      <th>date_added</th>\n",
       "      <th>release_year</th>\n",
       "      <th>rating</th>\n",
       "      <th>duration</th>\n",
       "      <th>listed_in</th>\n",
       "      <th>description</th>\n",
       "    </tr>\n",
       "  </thead>\n",
       "  <tbody>\n",
       "    <tr>\n",
       "      <th>833</th>\n",
       "      <td>Innocent</td>\n",
       "      <td>2017</td>\n",
       "      <td>9.0</td>\n",
       "      <td>Comedy</td>\n",
       "      <td>s4175</td>\n",
       "      <td>TV Show</td>\n",
       "      <td>Innocent</td>\n",
       "      <td>Seren Yüce</td>\n",
       "      <td>Ali Atay, Haluk Bilginer, Nur Sürer, Okan Yala...</td>\n",
       "      <td>Turkey</td>\n",
       "      <td>January 23, 2019</td>\n",
       "      <td>2017</td>\n",
       "      <td>TV-MA</td>\n",
       "      <td>1 Season</td>\n",
       "      <td>Crime TV Shows, International TV Shows, TV Dramas</td>\n",
       "      <td>In a peaceful, rustic town, a retired officer ...</td>\n",
       "    </tr>\n",
       "    <tr>\n",
       "      <th>321</th>\n",
       "      <td>Pulp Fiction</td>\n",
       "      <td>1994</td>\n",
       "      <td>8.9</td>\n",
       "      <td>Crime, Drama</td>\n",
       "      <td>s7803</td>\n",
       "      <td>Movie</td>\n",
       "      <td>Pulp Fiction</td>\n",
       "      <td>Quentin Tarantino</td>\n",
       "      <td>John Travolta, Samuel L. Jackson, Uma Thurman,...</td>\n",
       "      <td>United States</td>\n",
       "      <td>January 1, 2019</td>\n",
       "      <td>1994</td>\n",
       "      <td>R</td>\n",
       "      <td>154 min</td>\n",
       "      <td>Classic Movies, Cult Movies, Dramas</td>\n",
       "      <td>This stylized crime caper weaves together stor...</td>\n",
       "    </tr>\n",
       "    <tr>\n",
       "      <th>310</th>\n",
       "      <td>Schindler's List</td>\n",
       "      <td>1993</td>\n",
       "      <td>8.9</td>\n",
       "      <td>Biography, Drama, History</td>\n",
       "      <td>s7958</td>\n",
       "      <td>Movie</td>\n",
       "      <td>Schindler's List</td>\n",
       "      <td>Steven Spielberg</td>\n",
       "      <td>Liam Neeson, Ben Kingsley, Ralph Fiennes, Caro...</td>\n",
       "      <td>United States</td>\n",
       "      <td>April 1, 2018</td>\n",
       "      <td>1993</td>\n",
       "      <td>R</td>\n",
       "      <td>195 min</td>\n",
       "      <td>Classic Movies, Dramas</td>\n",
       "      <td>Oskar Schindler becomes an unlikely humanitari...</td>\n",
       "    </tr>\n",
       "    <tr>\n",
       "      <th>1134</th>\n",
       "      <td>Inception</td>\n",
       "      <td>2010</td>\n",
       "      <td>8.8</td>\n",
       "      <td>Action, Adventure, Sci-Fi</td>\n",
       "      <td>s341</td>\n",
       "      <td>Movie</td>\n",
       "      <td>Inception</td>\n",
       "      <td>Christopher Nolan</td>\n",
       "      <td>Leonardo DiCaprio, Joseph Gordon-Levitt, Ellio...</td>\n",
       "      <td>United States, United Kingdom</td>\n",
       "      <td>August 1, 2021</td>\n",
       "      <td>2010</td>\n",
       "      <td>PG-13</td>\n",
       "      <td>148 min</td>\n",
       "      <td>Action &amp; Adventure, Sci-Fi &amp; Fantasy, Thrillers</td>\n",
       "      <td>A troubled thief who extracts secrets from peo...</td>\n",
       "    </tr>\n",
       "    <tr>\n",
       "      <th>515</th>\n",
       "      <td>Koshish</td>\n",
       "      <td>1972</td>\n",
       "      <td>8.6</td>\n",
       "      <td>Drama</td>\n",
       "      <td>s7225</td>\n",
       "      <td>Movie</td>\n",
       "      <td>Koshish</td>\n",
       "      <td>Gulzar</td>\n",
       "      <td>Sanjeev Kumar, Jaya Bhaduri, Asrani, Seema, Om...</td>\n",
       "      <td>India</td>\n",
       "      <td>December 31, 2019</td>\n",
       "      <td>1972</td>\n",
       "      <td>TV-14</td>\n",
       "      <td>115 min</td>\n",
       "      <td>International Movies, Romantic Movies</td>\n",
       "      <td>A speech and hearing-impaired couple persists ...</td>\n",
       "    </tr>\n",
       "    <tr>\n",
       "      <th>...</th>\n",
       "      <td>...</td>\n",
       "      <td>...</td>\n",
       "      <td>...</td>\n",
       "      <td>...</td>\n",
       "      <td>...</td>\n",
       "      <td>...</td>\n",
       "      <td>...</td>\n",
       "      <td>...</td>\n",
       "      <td>...</td>\n",
       "      <td>...</td>\n",
       "      <td>...</td>\n",
       "      <td>...</td>\n",
       "      <td>...</td>\n",
       "      <td>...</td>\n",
       "      <td>...</td>\n",
       "      <td>...</td>\n",
       "    </tr>\n",
       "    <tr>\n",
       "      <th>805</th>\n",
       "      <td>Ride or Die</td>\n",
       "      <td>2005</td>\n",
       "      <td>1.7</td>\n",
       "      <td>Action, Western</td>\n",
       "      <td>s1051</td>\n",
       "      <td>Movie</td>\n",
       "      <td>Ride or Die</td>\n",
       "      <td>Ryuichi Hiroki</td>\n",
       "      <td>Kiko Mizuhara, Honami Sato, Yoko Maki, Anne Su...</td>\n",
       "      <td>Japan</td>\n",
       "      <td>April 15, 2021</td>\n",
       "      <td>2021</td>\n",
       "      <td>TV-MA</td>\n",
       "      <td>143 min</td>\n",
       "      <td>Dramas, International Movies, LGBTQ Movies</td>\n",
       "      <td>Rei helps the woman she’s been in love with fo...</td>\n",
       "    </tr>\n",
       "    <tr>\n",
       "      <th>496</th>\n",
       "      <td>Himmatwala</td>\n",
       "      <td>2013</td>\n",
       "      <td>1.7</td>\n",
       "      <td>Action, Comedy</td>\n",
       "      <td>s4443</td>\n",
       "      <td>Movie</td>\n",
       "      <td>Himmatwala</td>\n",
       "      <td>Sajid Khan</td>\n",
       "      <td>Ajay Devgn, Tamannaah Bhatia, Paresh Rawal, Za...</td>\n",
       "      <td>India</td>\n",
       "      <td>November 1, 2018</td>\n",
       "      <td>2013</td>\n",
       "      <td>TV-14</td>\n",
       "      <td>140 min</td>\n",
       "      <td>Action &amp; Adventure, Comedies, International Mo...</td>\n",
       "      <td>A young man returns to his native village on a...</td>\n",
       "    </tr>\n",
       "    <tr>\n",
       "      <th>1509</th>\n",
       "      <td>Welcome to New York</td>\n",
       "      <td>2018</td>\n",
       "      <td>1.6</td>\n",
       "      <td>Comedy, Drama</td>\n",
       "      <td>s8716</td>\n",
       "      <td>Movie</td>\n",
       "      <td>Welcome to New York</td>\n",
       "      <td>Abel Ferrara</td>\n",
       "      <td>Gérard Depardieu, Jacqueline Bisset, Marie Mou...</td>\n",
       "      <td>United States, France</td>\n",
       "      <td>March 23, 2017</td>\n",
       "      <td>2014</td>\n",
       "      <td>R</td>\n",
       "      <td>108 min</td>\n",
       "      <td>Dramas, Independent Movies</td>\n",
       "      <td>A lecherous World Bank official sees his reput...</td>\n",
       "    </tr>\n",
       "    <tr>\n",
       "      <th>1040</th>\n",
       "      <td>Pink</td>\n",
       "      <td>2016</td>\n",
       "      <td>1.6</td>\n",
       "      <td>Comedy, Drama</td>\n",
       "      <td>s5630</td>\n",
       "      <td>Movie</td>\n",
       "      <td>Pink</td>\n",
       "      <td>Aniruddha Roy Chowdhury</td>\n",
       "      <td>Tapsee Pannu, Kirti Kulhari, Andrea Tariang, A...</td>\n",
       "      <td>India</td>\n",
       "      <td>January 20, 2017</td>\n",
       "      <td>2016</td>\n",
       "      <td>TV-14</td>\n",
       "      <td>130 min</td>\n",
       "      <td>Dramas, International Movies</td>\n",
       "      <td>A sexual assault victim, unjustly tried for th...</td>\n",
       "    </tr>\n",
       "    <tr>\n",
       "      <th>1994</th>\n",
       "      <td>Aerials</td>\n",
       "      <td>2016</td>\n",
       "      <td>1.6</td>\n",
       "      <td>Drama, Sci-Fi, Thriller</td>\n",
       "      <td>s2556</td>\n",
       "      <td>Movie</td>\n",
       "      <td>Aerials</td>\n",
       "      <td>S.A. Zaidi</td>\n",
       "      <td>Saga Alyasery, Ana Druzhynina, Mansour Al Fele...</td>\n",
       "      <td>United Arab Emirates</td>\n",
       "      <td>May 7, 2020</td>\n",
       "      <td>2016</td>\n",
       "      <td>TV-14</td>\n",
       "      <td>90 min</td>\n",
       "      <td>International Movies, Sci-Fi &amp; Fantasy</td>\n",
       "      <td>Dubai residents struggle to figure out why a f...</td>\n",
       "    </tr>\n",
       "  </tbody>\n",
       "</table>\n",
       "<p>2532 rows × 16 columns</p>\n",
       "</div>"
      ],
      "text/plain": [
       "                    Title Release Year  Rating                      Genre  \\\n",
       "833              Innocent         2017     9.0                     Comedy   \n",
       "321          Pulp Fiction         1994     8.9               Crime, Drama   \n",
       "310      Schindler's List         1993     8.9  Biography, Drama, History   \n",
       "1134            Inception         2010     8.8  Action, Adventure, Sci-Fi   \n",
       "515               Koshish         1972     8.6                      Drama   \n",
       "...                   ...          ...     ...                        ...   \n",
       "805           Ride or Die         2005     1.7            Action, Western   \n",
       "496            Himmatwala         2013     1.7             Action, Comedy   \n",
       "1509  Welcome to New York         2018     1.6              Comedy, Drama   \n",
       "1040                 Pink         2016     1.6              Comedy, Drama   \n",
       "1994              Aerials         2016     1.6    Drama, Sci-Fi, Thriller   \n",
       "\n",
       "     show_id     type                title                 director  \\\n",
       "833    s4175  TV Show             Innocent               Seren Yüce   \n",
       "321    s7803    Movie         Pulp Fiction        Quentin Tarantino   \n",
       "310    s7958    Movie     Schindler's List         Steven Spielberg   \n",
       "1134    s341    Movie            Inception        Christopher Nolan   \n",
       "515    s7225    Movie              Koshish                   Gulzar   \n",
       "...      ...      ...                  ...                      ...   \n",
       "805    s1051    Movie          Ride or Die           Ryuichi Hiroki   \n",
       "496    s4443    Movie           Himmatwala               Sajid Khan   \n",
       "1509   s8716    Movie  Welcome to New York             Abel Ferrara   \n",
       "1040   s5630    Movie                 Pink  Aniruddha Roy Chowdhury   \n",
       "1994   s2556    Movie              Aerials               S.A. Zaidi   \n",
       "\n",
       "                                                   cast  \\\n",
       "833   Ali Atay, Haluk Bilginer, Nur Sürer, Okan Yala...   \n",
       "321   John Travolta, Samuel L. Jackson, Uma Thurman,...   \n",
       "310   Liam Neeson, Ben Kingsley, Ralph Fiennes, Caro...   \n",
       "1134  Leonardo DiCaprio, Joseph Gordon-Levitt, Ellio...   \n",
       "515   Sanjeev Kumar, Jaya Bhaduri, Asrani, Seema, Om...   \n",
       "...                                                 ...   \n",
       "805   Kiko Mizuhara, Honami Sato, Yoko Maki, Anne Su...   \n",
       "496   Ajay Devgn, Tamannaah Bhatia, Paresh Rawal, Za...   \n",
       "1509  Gérard Depardieu, Jacqueline Bisset, Marie Mou...   \n",
       "1040  Tapsee Pannu, Kirti Kulhari, Andrea Tariang, A...   \n",
       "1994  Saga Alyasery, Ana Druzhynina, Mansour Al Fele...   \n",
       "\n",
       "                            country         date_added  release_year rating  \\\n",
       "833                          Turkey   January 23, 2019          2017  TV-MA   \n",
       "321                   United States    January 1, 2019          1994      R   \n",
       "310                   United States      April 1, 2018          1993      R   \n",
       "1134  United States, United Kingdom     August 1, 2021          2010  PG-13   \n",
       "515                           India  December 31, 2019          1972  TV-14   \n",
       "...                             ...                ...           ...    ...   \n",
       "805                           Japan     April 15, 2021          2021  TV-MA   \n",
       "496                           India   November 1, 2018          2013  TV-14   \n",
       "1509          United States, France     March 23, 2017          2014      R   \n",
       "1040                          India   January 20, 2017          2016  TV-14   \n",
       "1994           United Arab Emirates        May 7, 2020          2016  TV-14   \n",
       "\n",
       "      duration                                          listed_in  \\\n",
       "833   1 Season  Crime TV Shows, International TV Shows, TV Dramas   \n",
       "321    154 min                Classic Movies, Cult Movies, Dramas   \n",
       "310    195 min                             Classic Movies, Dramas   \n",
       "1134   148 min    Action & Adventure, Sci-Fi & Fantasy, Thrillers   \n",
       "515    115 min              International Movies, Romantic Movies   \n",
       "...        ...                                                ...   \n",
       "805    143 min         Dramas, International Movies, LGBTQ Movies   \n",
       "496    140 min  Action & Adventure, Comedies, International Mo...   \n",
       "1509   108 min                         Dramas, Independent Movies   \n",
       "1040   130 min                       Dramas, International Movies   \n",
       "1994    90 min             International Movies, Sci-Fi & Fantasy   \n",
       "\n",
       "                                            description  \n",
       "833   In a peaceful, rustic town, a retired officer ...  \n",
       "321   This stylized crime caper weaves together stor...  \n",
       "310   Oskar Schindler becomes an unlikely humanitari...  \n",
       "1134  A troubled thief who extracts secrets from peo...  \n",
       "515   A speech and hearing-impaired couple persists ...  \n",
       "...                                                 ...  \n",
       "805   Rei helps the woman she’s been in love with fo...  \n",
       "496   A young man returns to his native village on a...  \n",
       "1509  A lecherous World Bank official sees his reput...  \n",
       "1040  A sexual assault victim, unjustly tried for th...  \n",
       "1994  Dubai residents struggle to figure out why a f...  \n",
       "\n",
       "[2532 rows x 16 columns]"
      ]
     },
     "execution_count": 9,
     "metadata": {},
     "output_type": "execute_result"
    }
   ],
   "source": [
    "final_data"
   ]
  },
  {
   "cell_type": "code",
   "execution_count": 10,
   "id": "b3c34aed",
   "metadata": {},
   "outputs": [
    {
     "name": "stdout",
     "output_type": "stream",
     "text": [
      "              Unique counts\n",
      "Title                  2091\n",
      "Release Year            101\n",
      "Rating                   73\n",
      "Genre                   305\n",
      "show_id                2091\n",
      "type                      2\n",
      "title                  2091\n",
      "director               1729\n",
      "cast                   2090\n",
      "country                 303\n",
      "date_added              862\n",
      "release_year             59\n",
      "rating                   13\n",
      "duration                136\n",
      "listed_in               205\n",
      "description            2090\n"
     ]
    }
   ],
   "source": [
    "#Identify the unique values\n",
    "dict = {}\n",
    "for i in list(final_data.columns):\n",
    "    dict[i] = final_data[i].value_counts().shape[0]\n",
    "    \n",
    "print(pd.DataFrame(dict,index = [\"Unique counts\"]).transpose())"
   ]
  },
  {
   "cell_type": "code",
   "execution_count": 11,
   "id": "cc2790f6",
   "metadata": {},
   "outputs": [
    {
     "data": {
      "text/html": [
       "<div>\n",
       "<style scoped>\n",
       "    .dataframe tbody tr th:only-of-type {\n",
       "        vertical-align: middle;\n",
       "    }\n",
       "\n",
       "    .dataframe tbody tr th {\n",
       "        vertical-align: top;\n",
       "    }\n",
       "\n",
       "    .dataframe thead th {\n",
       "        text-align: right;\n",
       "    }\n",
       "</style>\n",
       "<table border=\"1\" class=\"dataframe\">\n",
       "  <thead>\n",
       "    <tr style=\"text-align: right;\">\n",
       "      <th></th>\n",
       "      <th>Columns</th>\n",
       "      <th>Missing values</th>\n",
       "    </tr>\n",
       "  </thead>\n",
       "  <tbody>\n",
       "    <tr>\n",
       "      <th>0</th>\n",
       "      <td>Title</td>\n",
       "      <td>0</td>\n",
       "    </tr>\n",
       "    <tr>\n",
       "      <th>1</th>\n",
       "      <td>Release Year</td>\n",
       "      <td>0</td>\n",
       "    </tr>\n",
       "    <tr>\n",
       "      <th>2</th>\n",
       "      <td>Rating</td>\n",
       "      <td>0</td>\n",
       "    </tr>\n",
       "    <tr>\n",
       "      <th>3</th>\n",
       "      <td>Genre</td>\n",
       "      <td>0</td>\n",
       "    </tr>\n",
       "    <tr>\n",
       "      <th>4</th>\n",
       "      <td>show_id</td>\n",
       "      <td>0</td>\n",
       "    </tr>\n",
       "    <tr>\n",
       "      <th>5</th>\n",
       "      <td>type</td>\n",
       "      <td>0</td>\n",
       "    </tr>\n",
       "    <tr>\n",
       "      <th>6</th>\n",
       "      <td>title</td>\n",
       "      <td>0</td>\n",
       "    </tr>\n",
       "    <tr>\n",
       "      <th>7</th>\n",
       "      <td>director</td>\n",
       "      <td>0</td>\n",
       "    </tr>\n",
       "    <tr>\n",
       "      <th>8</th>\n",
       "      <td>cast</td>\n",
       "      <td>0</td>\n",
       "    </tr>\n",
       "    <tr>\n",
       "      <th>9</th>\n",
       "      <td>country</td>\n",
       "      <td>0</td>\n",
       "    </tr>\n",
       "    <tr>\n",
       "      <th>10</th>\n",
       "      <td>date_added</td>\n",
       "      <td>0</td>\n",
       "    </tr>\n",
       "    <tr>\n",
       "      <th>11</th>\n",
       "      <td>release_year</td>\n",
       "      <td>0</td>\n",
       "    </tr>\n",
       "    <tr>\n",
       "      <th>12</th>\n",
       "      <td>rating</td>\n",
       "      <td>0</td>\n",
       "    </tr>\n",
       "    <tr>\n",
       "      <th>13</th>\n",
       "      <td>duration</td>\n",
       "      <td>0</td>\n",
       "    </tr>\n",
       "    <tr>\n",
       "      <th>14</th>\n",
       "      <td>listed_in</td>\n",
       "      <td>0</td>\n",
       "    </tr>\n",
       "    <tr>\n",
       "      <th>15</th>\n",
       "      <td>description</td>\n",
       "      <td>0</td>\n",
       "    </tr>\n",
       "  </tbody>\n",
       "</table>\n",
       "</div>"
      ],
      "text/plain": [
       "         Columns  Missing values\n",
       "0          Title               0\n",
       "1   Release Year               0\n",
       "2         Rating               0\n",
       "3          Genre               0\n",
       "4        show_id               0\n",
       "5           type               0\n",
       "6          title               0\n",
       "7       director               0\n",
       "8           cast               0\n",
       "9        country               0\n",
       "10    date_added               0\n",
       "11  release_year               0\n",
       "12        rating               0\n",
       "13      duration               0\n",
       "14     listed_in               0\n",
       "15   description               0"
      ]
     },
     "execution_count": 11,
     "metadata": {},
     "output_type": "execute_result"
    }
   ],
   "source": [
    "#Identify the missing values\n",
    "\n",
    "temp = final_data.isnull().sum()\n",
    "uniq = pd.DataFrame({'Columns': temp.index, 'Missing values': temp.values})\n",
    "uniq"
   ]
  },
  {
   "cell_type": "code",
   "execution_count": 12,
   "id": "e4f2cb9d",
   "metadata": {},
   "outputs": [],
   "source": [
    "netflix_shows=final_data[final_data['type']=='TV Show']\n",
    "netflix_movies=final_data[final_data['type']=='Movie']"
   ]
  },
  {
   "cell_type": "code",
   "execution_count": 13,
   "id": "4f62660d",
   "metadata": {},
   "outputs": [
    {
     "data": {
      "text/plain": [
       "Text(0.5, 1.0, 'TV Shows VS Movies')"
      ]
     },
     "execution_count": 13,
     "metadata": {},
     "output_type": "execute_result"
    },
    {
     "data": {
      "image/png": "[encoded data removed]",
      "text/plain": [
       "<Figure size 800x600 with 1 Axes>"
      ]
     },
     "metadata": {},
     "output_type": "display_data"
    }
   ],
   "source": [
    "plt.figure(figsize=(8,6))\n",
    "ax= sns.countplot(x = \"type\", data = final_data,palette=\"Set1\")\n",
    "ax.set_title(\"TV Shows VS Movies\")"
   ]
  },
  {
   "cell_type": "code",
   "execution_count": 14,
   "id": "84fae6f4",
   "metadata": {},
   "outputs": [
    {
     "data": {
      "image/png": "[encoded data removed]",
      "text/plain": [
       "<Figure size 1200x1000 with 1 Axes>"
      ]
     },
     "metadata": {},
     "output_type": "display_data"
    }
   ],
   "source": [
    "#Movie Rating\n",
    "plt.figure(figsize=(12,10))\n",
    "ax = sns.countplot(x=\"rating\", data=final_data,palette=\"Set1\",order=final_data['rating'].value_counts().index[0:15]) "
   ]
  },
  {
   "cell_type": "code",
   "execution_count": 15,
   "id": "b8be0bb0",
   "metadata": {},
   "outputs": [
    {
     "data": {
      "image/png": "[encoded data removed]",
      "text/plain": [
       "<Figure size 2000x1000 with 1 Axes>"
      ]
     },
     "metadata": {},
     "output_type": "display_data"
    }
   ],
   "source": [
    "order =  ['G', 'TV-Y', 'TV-G', 'PG', 'TV-Y7', 'TV-Y7-FV', 'TV-PG', 'PG-13', 'TV-14', 'R', 'NC-17', 'TV-MA']\n",
    "plt.figure(figsize=(20,10))\n",
    "g = sns.countplot(final_data.rating, hue=final_data.type, order=order, palette=\"copper\");\n",
    "plt.title(\"Ratings for Movies & TV Shows\", fontsize=30)\n",
    "plt.xlabel(\"Rating\")\n",
    "plt.ylabel(\"Total Count\")\n",
    "plt.show()"
   ]
  },
  {
   "cell_type": "code",
   "execution_count": 16,
   "id": "6e5a0f93",
   "metadata": {},
   "outputs": [
    {
     "data": {
      "image/png": "[encoded data removed]",
      "text/plain": [
       "<Figure size 800x800 with 1 Axes>"
      ]
     },
     "metadata": {},
     "output_type": "display_data"
    }
   ],
   "source": [
    "IND = final_data[final_data.country == \"India\"]\n",
    "order =  ['G', 'TV-Y', 'TV-G', 'PG', 'TV-Y7', 'TV-Y7-FV', 'TV-PG', 'PG-13', 'TV-14', 'R', 'NC-17', 'TV-MA']\n",
    "plt.figure(figsize=(8,8))\n",
    "g = sns.countplot(IND.rating, hue=IND.type, order=order, palette=\"dark:brown\");\n",
    "plt.title(\"Ratings for Movies & TV Shows in Indonesia\")\n",
    "plt.xlabel(\"Rating\")\n",
    "plt.ylabel(\"Total Count\")\n",
    "plt.show()"
   ]
  },
  {
   "cell_type": "code",
   "execution_count": 17,
   "id": "9b4730dc",
   "metadata": {},
   "outputs": [
    {
     "data": {
      "image/png": "[encoded data removed]",
      "text/plain": [
       "<Figure size 800x800 with 1 Axes>"
      ]
     },
     "metadata": {},
     "output_type": "display_data"
    }
   ],
   "source": [
    "US = final_data[final_data.country == \"United States\"]\n",
    "order =  ['G', 'TV-Y', 'TV-G', 'PG', 'TV-Y7', 'TV-Y7-FV', 'TV-PG', 'PG-13', 'TV-14', 'R', 'NC-17', 'TV-MA']\n",
    "plt.figure(figsize=(8,8))\n",
    "g = sns.countplot(US.rating, hue=US.type, order=order, palette=\"dark:brown\");\n",
    "plt.title(\"Ratings for Movies & TV Shows in US\")\n",
    "plt.xlabel(\"Rating\")\n",
    "plt.ylabel(\"Total Count\")\n",
    "plt.show()"
   ]
  },
  {
   "cell_type": "code",
   "execution_count": 18,
   "id": "156cc640",
   "metadata": {},
   "outputs": [
    {
     "data": {
      "image/png": "[encoded data removed]",
      "text/plain": [
       "<Figure size 1300x700 with 1 Axes>"
      ]
     },
     "metadata": {},
     "output_type": "display_data"
    }
   ],
   "source": [
    "filtered_directors = final_data[final_data.director != 'No Director'].set_index('title').director.str.split(', ', expand=True).stack().reset_index(level=1, drop=True)\n",
    "plt.figure(figsize=(13,7))\n",
    "plt.title('Top 10 Director Based on The Number of Titles')\n",
    "sns.countplot(y = filtered_directors, order=filtered_directors.value_counts().index[:10], palette='Blues')\n",
    "plt.show()"
   ]
  },
  {
   "cell_type": "code",
   "execution_count": 19,
   "id": "0f462e08",
   "metadata": {},
   "outputs": [
    {
     "data": {
      "image/png": "[encoded data removed]",
      "text/plain": [
       "<Figure size 1000x800 with 1 Axes>"
      ]
     },
     "metadata": {},
     "output_type": "display_data"
    }
   ],
   "source": [
    "plt.figure(figsize=(10,8))\n",
    "netflix_cast = final_data[final_data.cast != 'cast unavailable'].set_index('title').cast.str.split(', ', expand=True).stack().reset_index(level=1, drop=True)\n",
    "sns.countplot(y = netflix_cast, order=netflix_cast.value_counts().index[:10], palette='magma_r', saturation=.2)\n",
    "plt.title('Top 10 Actors by Number of Titles', fontsize=21);\n",
    "plt.show()"
   ]
  },
  {
   "cell_type": "code",
   "execution_count": 20,
   "id": "e1f69124",
   "metadata": {},
   "outputs": [
    {
     "data": {
      "image/png": "[encoded data removed]",
      "text/plain": [
       "<Figure size 1000x1000 with 1 Axes>"
      ]
     },
     "metadata": {},
     "output_type": "display_data"
    }
   ],
   "source": [
    "top_genres = final_data.set_index('title').Genre.str.split(', ', expand=True).stack().reset_index(level=1, drop=True)\n",
    "plt.figure(figsize=(10, 10))\n",
    "sns.countplot(y=top_genres, order=top_genres.value_counts().index.to_list()[:10], palette='mako', saturation=.4)\n",
    "plt.title('Top 10 Genres with the Largest Number of Content Titles', fontsize=21);"
   ]
  },
  {
   "cell_type": "code",
   "execution_count": 21,
   "id": "8baae464",
   "metadata": {},
   "outputs": [
    {
     "data": {
      "text/html": [
       "<div>\n",
       "<style scoped>\n",
       "    .dataframe tbody tr th:only-of-type {\n",
       "        vertical-align: middle;\n",
       "    }\n",
       "\n",
       "    .dataframe tbody tr th {\n",
       "        vertical-align: top;\n",
       "    }\n",
       "\n",
       "    .dataframe thead th {\n",
       "        text-align: right;\n",
       "    }\n",
       "</style>\n",
       "<table border=\"1\" class=\"dataframe\">\n",
       "  <thead>\n",
       "    <tr style=\"text-align: right;\">\n",
       "      <th></th>\n",
       "      <th>Country</th>\n",
       "      <th>Shows</th>\n",
       "    </tr>\n",
       "  </thead>\n",
       "  <tbody>\n",
       "    <tr>\n",
       "      <th>0</th>\n",
       "      <td>United States</td>\n",
       "      <td>774</td>\n",
       "    </tr>\n",
       "    <tr>\n",
       "      <th>1</th>\n",
       "      <td>India</td>\n",
       "      <td>704</td>\n",
       "    </tr>\n",
       "    <tr>\n",
       "      <th>2</th>\n",
       "      <td>United Kingdom</td>\n",
       "      <td>64</td>\n",
       "    </tr>\n",
       "    <tr>\n",
       "      <th>3</th>\n",
       "      <td>Philippines</td>\n",
       "      <td>50</td>\n",
       "    </tr>\n",
       "    <tr>\n",
       "      <th>4</th>\n",
       "      <td>Canada</td>\n",
       "      <td>46</td>\n",
       "    </tr>\n",
       "    <tr>\n",
       "      <th>5</th>\n",
       "      <td>Indonesia</td>\n",
       "      <td>38</td>\n",
       "    </tr>\n",
       "    <tr>\n",
       "      <th>6</th>\n",
       "      <td>Spain</td>\n",
       "      <td>35</td>\n",
       "    </tr>\n",
       "    <tr>\n",
       "      <th>7</th>\n",
       "      <td>Nigeria</td>\n",
       "      <td>31</td>\n",
       "    </tr>\n",
       "    <tr>\n",
       "      <th>8</th>\n",
       "      <td>United Kingdom, United States</td>\n",
       "      <td>29</td>\n",
       "    </tr>\n",
       "    <tr>\n",
       "      <th>9</th>\n",
       "      <td>France</td>\n",
       "      <td>25</td>\n",
       "    </tr>\n",
       "    <tr>\n",
       "      <th>10</th>\n",
       "      <td>United States, Canada</td>\n",
       "      <td>25</td>\n",
       "    </tr>\n",
       "  </tbody>\n",
       "</table>\n",
       "</div>"
      ],
      "text/plain": [
       "                          Country  Shows\n",
       "0                   United States    774\n",
       "1                           India    704\n",
       "2                  United Kingdom     64\n",
       "3                     Philippines     50\n",
       "4                          Canada     46\n",
       "5                       Indonesia     38\n",
       "6                           Spain     35\n",
       "7                         Nigeria     31\n",
       "8   United Kingdom, United States     29\n",
       "9                          France     25\n",
       "10          United States, Canada     25"
      ]
     },
     "execution_count": 21,
     "metadata": {},
     "output_type": "execute_result"
    }
   ],
   "source": [
    "country_count=final_data['country'].value_counts().sort_values(ascending=False)\n",
    "country_count = pd.DataFrame({'Country': country_count.index, 'Shows': country_count.values})\n",
    "topcountries=country_count[0:11]\n",
    "topcountries"
   ]
  },
  {
   "cell_type": "code",
   "execution_count": 22,
   "id": "3a6c0278",
   "metadata": {},
   "outputs": [
    {
     "data": {
      "image/png": "[encoded data removed]",
      "text/plain": [
       "<Figure size 1200x800 with 1 Axes>"
      ]
     },
     "metadata": {},
     "output_type": "display_data"
    }
   ],
   "source": [
    "Countries = final_data.set_index('title').country.str.split(', ', expand=True).stack().reset_index(level=1, drop=True);\n",
    "Countries = Countries[Countries != 'production country unavailable']\n",
    "plt.figure(figsize=(12,8))\n",
    "g = sns.countplot(x = Countries, order=Countries.value_counts().index[:10], palette='dark:salmon')\n",
    "plt.title('Top 10 Content Producing Countries', fontsize=21)\n",
    "plt.xlabel('Country')\n",
    "plt.ylabel('Titles')\n",
    "plt.show()"
   ]
  },
  {
   "cell_type": "code",
   "execution_count": 23,
   "id": "1aadfc96",
   "metadata": {},
   "outputs": [
    {
     "data": {
      "text/html": [
       "<div>\n",
       "<style scoped>\n",
       "    .dataframe tbody tr th:only-of-type {\n",
       "        vertical-align: middle;\n",
       "    }\n",
       "\n",
       "    .dataframe tbody tr th {\n",
       "        vertical-align: top;\n",
       "    }\n",
       "\n",
       "    .dataframe thead th {\n",
       "        text-align: right;\n",
       "    }\n",
       "</style>\n",
       "<table border=\"1\" class=\"dataframe\">\n",
       "  <thead>\n",
       "    <tr style=\"text-align: right;\">\n",
       "      <th></th>\n",
       "      <th>Title</th>\n",
       "      <th>Release Year</th>\n",
       "      <th>Rating</th>\n",
       "      <th>Genre</th>\n",
       "      <th>show_id</th>\n",
       "      <th>type</th>\n",
       "      <th>title</th>\n",
       "      <th>director</th>\n",
       "      <th>cast</th>\n",
       "      <th>country</th>\n",
       "      <th>date_added</th>\n",
       "      <th>release_year</th>\n",
       "      <th>rating</th>\n",
       "      <th>duration</th>\n",
       "      <th>listed_in</th>\n",
       "      <th>description</th>\n",
       "    </tr>\n",
       "  </thead>\n",
       "  <tbody>\n",
       "    <tr>\n",
       "      <th>833</th>\n",
       "      <td>Innocent</td>\n",
       "      <td>2017</td>\n",
       "      <td>9.0</td>\n",
       "      <td>Comedy</td>\n",
       "      <td>s4175</td>\n",
       "      <td>TV Show</td>\n",
       "      <td>Innocent</td>\n",
       "      <td>Seren Yüce</td>\n",
       "      <td>Ali Atay, Haluk Bilginer, Nur Sürer, Okan Yala...</td>\n",
       "      <td>Turkey</td>\n",
       "      <td>January 23, 2019</td>\n",
       "      <td>2017</td>\n",
       "      <td>TV-MA</td>\n",
       "      <td>1 Season</td>\n",
       "      <td>Crime TV Shows, International TV Shows, TV Dramas</td>\n",
       "      <td>In a peaceful, rustic town, a retired officer ...</td>\n",
       "    </tr>\n",
       "    <tr>\n",
       "      <th>1134</th>\n",
       "      <td>Inception</td>\n",
       "      <td>2010</td>\n",
       "      <td>8.8</td>\n",
       "      <td>Action, Adventure, Sci-Fi</td>\n",
       "      <td>s341</td>\n",
       "      <td>Movie</td>\n",
       "      <td>Inception</td>\n",
       "      <td>Christopher Nolan</td>\n",
       "      <td>Leonardo DiCaprio, Joseph Gordon-Levitt, Ellio...</td>\n",
       "      <td>United States, United Kingdom</td>\n",
       "      <td>August 1, 2021</td>\n",
       "      <td>2010</td>\n",
       "      <td>PG-13</td>\n",
       "      <td>148 min</td>\n",
       "      <td>Action &amp; Adventure, Sci-Fi &amp; Fantasy, Thrillers</td>\n",
       "      <td>A troubled thief who extracts secrets from peo...</td>\n",
       "    </tr>\n",
       "    <tr>\n",
       "      <th>946</th>\n",
       "      <td>Oththa Seruppu Size 7</td>\n",
       "      <td>2019</td>\n",
       "      <td>8.6</td>\n",
       "      <td>Drama</td>\n",
       "      <td>s3313</td>\n",
       "      <td>Movie</td>\n",
       "      <td>Oththa Seruppu Size 7</td>\n",
       "      <td>Parthiban</td>\n",
       "      <td>Parthiban</td>\n",
       "      <td>India</td>\n",
       "      <td>November 4, 2019</td>\n",
       "      <td>2019</td>\n",
       "      <td>TV-MA</td>\n",
       "      <td>103 min</td>\n",
       "      <td>Dramas, International Movies, Thrillers</td>\n",
       "      <td>Taken into custody, a murder suspect's theatri...</td>\n",
       "    </tr>\n",
       "    <tr>\n",
       "      <th>1777</th>\n",
       "      <td>Eh Janam Tumhare Lekhe</td>\n",
       "      <td>2015</td>\n",
       "      <td>8.6</td>\n",
       "      <td>Biography</td>\n",
       "      <td>s6668</td>\n",
       "      <td>Movie</td>\n",
       "      <td>Eh Janam Tumhare Lekhe</td>\n",
       "      <td>Harjit Singh</td>\n",
       "      <td>Pavan Malhotra, Sudhanshu Aggarwal, Arjuna Bha...</td>\n",
       "      <td>India</td>\n",
       "      <td>December 1, 2017</td>\n",
       "      <td>2015</td>\n",
       "      <td>TV-14</td>\n",
       "      <td>124 min</td>\n",
       "      <td>Dramas, International Movies</td>\n",
       "      <td>Driven by the lessons he learned from his moth...</td>\n",
       "    </tr>\n",
       "    <tr>\n",
       "      <th>2460</th>\n",
       "      <td>Ani... Dr. Kashinath Ghanekar</td>\n",
       "      <td>2018</td>\n",
       "      <td>8.6</td>\n",
       "      <td>Drama</td>\n",
       "      <td>s2017</td>\n",
       "      <td>Movie</td>\n",
       "      <td>Ani... Dr. Kashinath Ghanekar</td>\n",
       "      <td>Abhijeet Deshpande</td>\n",
       "      <td>Subodh Bhave, Vaidehi Parshurami, Nandita Patk...</td>\n",
       "      <td>India</td>\n",
       "      <td>September 10, 2020</td>\n",
       "      <td>2018</td>\n",
       "      <td>TV-14</td>\n",
       "      <td>157 min</td>\n",
       "      <td>Dramas, International Movies</td>\n",
       "      <td>From his singular career to his personal demon...</td>\n",
       "    </tr>\n",
       "  </tbody>\n",
       "</table>\n",
       "</div>"
      ],
      "text/plain": [
       "                              Title Release Year  Rating  \\\n",
       "833                        Innocent         2017     9.0   \n",
       "1134                      Inception         2010     8.8   \n",
       "946           Oththa Seruppu Size 7         2019     8.6   \n",
       "1777         Eh Janam Tumhare Lekhe         2015     8.6   \n",
       "2460  Ani... Dr. Kashinath Ghanekar         2018     8.6   \n",
       "\n",
       "                          Genre show_id     type  \\\n",
       "833                      Comedy   s4175  TV Show   \n",
       "1134  Action, Adventure, Sci-Fi    s341    Movie   \n",
       "946                       Drama   s3313    Movie   \n",
       "1777                  Biography   s6668    Movie   \n",
       "2460                      Drama   s2017    Movie   \n",
       "\n",
       "                              title            director  \\\n",
       "833                        Innocent          Seren Yüce   \n",
       "1134                      Inception   Christopher Nolan   \n",
       "946           Oththa Seruppu Size 7           Parthiban   \n",
       "1777         Eh Janam Tumhare Lekhe        Harjit Singh   \n",
       "2460  Ani... Dr. Kashinath Ghanekar  Abhijeet Deshpande   \n",
       "\n",
       "                                                   cast  \\\n",
       "833   Ali Atay, Haluk Bilginer, Nur Sürer, Okan Yala...   \n",
       "1134  Leonardo DiCaprio, Joseph Gordon-Levitt, Ellio...   \n",
       "946                                           Parthiban   \n",
       "1777  Pavan Malhotra, Sudhanshu Aggarwal, Arjuna Bha...   \n",
       "2460  Subodh Bhave, Vaidehi Parshurami, Nandita Patk...   \n",
       "\n",
       "                            country          date_added  release_year rating  \\\n",
       "833                          Turkey    January 23, 2019          2017  TV-MA   \n",
       "1134  United States, United Kingdom      August 1, 2021          2010  PG-13   \n",
       "946                           India    November 4, 2019          2019  TV-MA   \n",
       "1777                          India    December 1, 2017          2015  TV-14   \n",
       "2460                          India  September 10, 2020          2018  TV-14   \n",
       "\n",
       "      duration                                          listed_in  \\\n",
       "833   1 Season  Crime TV Shows, International TV Shows, TV Dramas   \n",
       "1134   148 min    Action & Adventure, Sci-Fi & Fantasy, Thrillers   \n",
       "946    103 min            Dramas, International Movies, Thrillers   \n",
       "1777   124 min                       Dramas, International Movies   \n",
       "2460   157 min                       Dramas, International Movies   \n",
       "\n",
       "                                            description  \n",
       "833   In a peaceful, rustic town, a retired officer ...  \n",
       "1134  A troubled thief who extracts secrets from peo...  \n",
       "946   Taken into custody, a murder suspect's theatri...  \n",
       "1777  Driven by the lessons he learned from his moth...  \n",
       "2460  From his singular career to his personal demon...  "
      ]
     },
     "execution_count": 23,
     "metadata": {},
     "output_type": "execute_result"
    }
   ],
   "source": [
    "Last_fifteen_years = final_data[final_data['release_year']>2000 ]\n",
    "Last_fifteen_years.head()"
   ]
  },
  {
   "cell_type": "code",
   "execution_count": 24,
   "id": "d739dc2f",
   "metadata": {},
   "outputs": [
    {
     "data": {
      "image/png": "[encoded data removed]",
      "text/plain": [
       "<Figure size 1200x1000 with 1 Axes>"
      ]
     },
     "metadata": {},
     "output_type": "display_data"
    }
   ],
   "source": [
    "#Year wise analysis in graph\n",
    "plt.figure(figsize=(12,10))\n",
    "sns.set(style=\"darkgrid\")\n",
    "ax = sns.countplot(y=\"release_year\", data=Last_fifteen_years, palette=\"Set2\", order=movies['release_year'].value_counts().index[0:15])"
   ]
  },
  {
   "cell_type": "code",
   "execution_count": 25,
   "id": "22c2564f",
   "metadata": {},
   "outputs": [
    {
     "data": {
      "text/plain": [
       "321     154\n",
       "310     195\n",
       "1134    148\n",
       "515     115\n",
       "946     103\n",
       "       ... \n",
       "805     143\n",
       "496     140\n",
       "1509    108\n",
       "1040    130\n",
       "1994     90\n",
       "Name: duration, Length: 2502, dtype: int64"
      ]
     },
     "execution_count": 25,
     "metadata": {},
     "output_type": "execute_result"
    }
   ],
   "source": [
    "netflix_movies['duration']=netflix_movies['duration'].str.replace(' min','')\n",
    "netflix_movies['duration']\n",
    "netflix_movies['duration']=netflix_movies['duration'].astype(str).astype(int)\n",
    "netflix_movies['duration']"
   ]
  },
  {
   "cell_type": "code",
   "execution_count": 26,
   "id": "5e5ce8e1",
   "metadata": {},
   "outputs": [
    {
     "data": {
      "image/png": "[encoded data removed]",
      "text/plain": [
       "<Figure size 1200x800 with 1 Axes>"
      ]
     },
     "metadata": {},
     "output_type": "display_data"
    }
   ],
   "source": [
    "sns.set(style=\"darkgrid\")\n",
    "plt.figure(figsize=(12,8))\n",
    "ax=sns.kdeplot(data=netflix_movies['duration'], shade=True)"
   ]
  },
  {
   "cell_type": "code",
   "execution_count": 27,
   "id": "bfaae35a",
   "metadata": {},
   "outputs": [],
   "source": [
    "features=['title','duration']\n",
    "durations= netflix_shows[features]\n",
    "durations['no_of_seasons']=durations['duration'].str.replace(' Season','')\n",
    "durations['no_of_seasons']=durations['no_of_seasons'].str.replace('s','')"
   ]
  },
  {
   "cell_type": "code",
   "execution_count": 28,
   "id": "e1f669c1",
   "metadata": {},
   "outputs": [],
   "source": [
    "durations['no_of_seasons']=durations['no_of_seasons'].astype(str).astype(int)"
   ]
  },
  {
   "cell_type": "code",
   "execution_count": 29,
   "id": "84f3d5c3",
   "metadata": {},
   "outputs": [],
   "source": [
    "#TV shows with largest number of seasons\n",
    "t=['title','no_of_seasons']\n",
    "top=durations[t]\n",
    "\n",
    "top=top.sort_values(by='no_of_seasons', ascending=False)"
   ]
  },
  {
   "cell_type": "code",
   "execution_count": 30,
   "id": "76f69a08",
   "metadata": {},
   "outputs": [
    {
     "data": {
      "text/plain": [
       "<AxesSubplot: xlabel='title'>"
      ]
     },
     "execution_count": 30,
     "metadata": {},
     "output_type": "execute_result"
    },
    {
     "data": {
      "text/plain": [
       "<Figure size 1000x800 with 0 Axes>"
      ]
     },
     "metadata": {},
     "output_type": "display_data"
    },
    {
     "data": {
      "image/png": "[encoded data removed]",
      "text/plain": [
       "<Figure size 640x480 with 1 Axes>"
      ]
     },
     "metadata": {},
     "output_type": "display_data"
    }
   ],
   "source": [
    "top20=top[0:20]\n",
    "plt.figure(figsize=(10,8))\n",
    "top20.plot(kind='bar',x='title',y='no_of_seasons', color='orange')"
   ]
  },
  {
   "cell_type": "code",
   "execution_count": 31,
   "id": "0362dd4f",
   "metadata": {},
   "outputs": [
    {
     "data": {
      "text/plain": [
       "833     In a peaceful, rustic town, a retired officer ...\n",
       "321     This stylized crime caper weaves together stor...\n",
       "310     Oskar Schindler becomes an unlikely humanitari...\n",
       "1134    A troubled thief who extracts secrets from peo...\n",
       "515     A speech and hearing-impaired couple persists ...\n",
       "Name: description, dtype: object"
      ]
     },
     "execution_count": 31,
     "metadata": {},
     "output_type": "execute_result"
    }
   ],
   "source": [
    "#Plot description based Recommender\n",
    "\n",
    "final_data['description'].head()"
   ]
  },
  {
   "cell_type": "code",
   "execution_count": 32,
   "id": "f2ad40b0",
   "metadata": {},
   "outputs": [
    {
     "data": {
      "text/plain": [
       "(2532, 7962)"
      ]
     },
     "execution_count": 32,
     "metadata": {},
     "output_type": "execute_result"
    }
   ],
   "source": [
    "#Recommedation System(Content Based)\n",
    "\n",
    "#Import TfIdfVectorizer from scikit-learn\n",
    "from sklearn.feature_extraction.text import TfidfVectorizer\n",
    "\n",
    "#Define a TF-IDF Vectorizer Object. Remove all english stop words such as 'the', 'a', etc.\n",
    "tfidf = TfidfVectorizer(stop_words='english')\n",
    "\n",
    "#Replacing NaN with an empty string\n",
    "final_data['description'] = final_data['description'].fillna('')\n",
    "\n",
    "#Constructing the required TF-IDF matrix by fitting and transforming the data\n",
    "tfidf_matrix = tfidf.fit_transform(final_data['description'])\n",
    "\n",
    "#Output the shape of tfidf_matrix\n",
    "tfidf_matrix.shape"
   ]
  },
  {
   "cell_type": "code",
   "execution_count": 33,
   "id": "1c9f87d6",
   "metadata": {},
   "outputs": [],
   "source": [
    "#tfidf_matrix.nonzero()\n",
    "from sklearn.metrics.pairwise import linear_kernel\n",
    "\n",
    "#compute the cosine similarity matrix\n",
    "cosine_sim = linear_kernel(tfidf_matrix,tfidf_matrix)"
   ]
  },
  {
   "cell_type": "code",
   "execution_count": 34,
   "id": "268987e0",
   "metadata": {},
   "outputs": [
    {
     "data": {
      "text/plain": [
       "array([[1.        , 0.        , 0.        , ..., 0.        , 0.10467979,\n",
       "        0.        ],\n",
       "       [0.        , 1.        , 0.        , ..., 0.        , 0.        ,\n",
       "        0.        ],\n",
       "       [0.        , 0.        , 1.        , ..., 0.02881154, 0.        ,\n",
       "        0.02823733],\n",
       "       ...,\n",
       "       [0.        , 0.        , 0.02881154, ..., 1.        , 0.        ,\n",
       "        0.031196  ],\n",
       "       [0.10467979, 0.        , 0.        , ..., 0.        , 1.        ,\n",
       "        0.        ],\n",
       "       [0.        , 0.        , 0.02823733, ..., 0.031196  , 0.        ,\n",
       "        1.        ]])"
      ]
     },
     "execution_count": 34,
     "metadata": {},
     "output_type": "execute_result"
    }
   ],
   "source": [
    "cosine_sim"
   ]
  },
  {
   "cell_type": "code",
   "execution_count": 35,
   "id": "c38888c1",
   "metadata": {},
   "outputs": [],
   "source": [
    "#construct a reverse map if indices and mivie titles\n",
    "indices = pd.Series(final_data.index, index = final_data['title']).drop_duplicates()"
   ]
  },
  {
   "cell_type": "code",
   "execution_count": 36,
   "id": "a3209492",
   "metadata": {},
   "outputs": [
    {
     "data": {
      "text/plain": [
       "title\n",
       "Innocent                833\n",
       "Pulp Fiction            321\n",
       "Schindler's List        310\n",
       "Inception              1134\n",
       "Koshish                 515\n",
       "                       ... \n",
       "Ride or Die             805\n",
       "Himmatwala              496\n",
       "Welcome to New York    1509\n",
       "Pink                   1040\n",
       "Aerials                1994\n",
       "Length: 2532, dtype: int64"
      ]
     },
     "execution_count": 36,
     "metadata": {},
     "output_type": "execute_result"
    }
   ],
   "source": [
    "indices"
   ]
  },
  {
   "cell_type": "code",
   "execution_count": 37,
   "id": "88713996",
   "metadata": {},
   "outputs": [],
   "source": [
    "# Function that takes in movie title as input and outputs most similar movies\n",
    "# we will use cosine similarity instead of Euclidian distance. because what will be used for calculation is the angle between the vectors \n",
    "def get_recommendations(title, cosine_sim=cosine_sim):\n",
    "    # Get the index of the movie that matches the title\n",
    "    idx = indices[title]\n",
    "\n",
    "    # Get the pairwsie similarity scores of all movies with that movie\n",
    "    sim_scores = list(enumerate(cosine_sim[idx]))\n",
    "\n",
    "    # Sort the movies based on the similarity scores\n",
    "    sim_scores = sorted(sim_scores, key=lambda x: x[1], reverse=True)\n",
    "\n",
    "    # Get the scores of the 10 most similar movies\n",
    "    sim_scores = sim_scores[1:11]\n",
    "\n",
    "    # Get the movie indices\n",
    "    movie_indices = [i[0] for i in sim_scores]\n",
    "\n",
    "    # Return the top 10 most similar movies\n",
    "    return final_data['title'].iloc[movie_indices]"
   ]
  },
  {
   "cell_type": "code",
   "execution_count": 38,
   "id": "d94f264d",
   "metadata": {},
   "outputs": [
    {
     "data": {
      "text/plain": [
       "1659              Hungerford\n",
       "320     Kabhi Haan Kabhi Naa\n",
       "1135                  Race 2\n",
       "1473          Sweet Virginia\n",
       "630                  Justice\n",
       "631                  Justice\n",
       "273                   Ghayal\n",
       "912            The Lovebirds\n",
       "911            The Lovebirds\n",
       "2310      The Burial of Kojo\n",
       "Name: title, dtype: object"
      ]
     },
     "execution_count": 38,
     "metadata": {},
     "output_type": "execute_result"
    }
   ],
   "source": [
    "get_recommendations('Black Panther')"
   ]
  },
  {
   "cell_type": "code",
   "execution_count": 39,
   "id": "b4ba229f",
   "metadata": {},
   "outputs": [],
   "source": [
    "#Filling null values with empty string.\n",
    "filledna=final_data.fillna('')"
   ]
  },
  {
   "cell_type": "code",
   "execution_count": 40,
   "id": "f994e70d",
   "metadata": {},
   "outputs": [
    {
     "data": {
      "text/html": [
       "<div>\n",
       "<style scoped>\n",
       "    .dataframe tbody tr th:only-of-type {\n",
       "        vertical-align: middle;\n",
       "    }\n",
       "\n",
       "    .dataframe tbody tr th {\n",
       "        vertical-align: top;\n",
       "    }\n",
       "\n",
       "    .dataframe thead th {\n",
       "        text-align: right;\n",
       "    }\n",
       "</style>\n",
       "<table border=\"1\" class=\"dataframe\">\n",
       "  <thead>\n",
       "    <tr style=\"text-align: right;\">\n",
       "      <th></th>\n",
       "      <th>Title</th>\n",
       "      <th>Release Year</th>\n",
       "      <th>Rating</th>\n",
       "      <th>Genre</th>\n",
       "      <th>show_id</th>\n",
       "      <th>type</th>\n",
       "      <th>title</th>\n",
       "      <th>director</th>\n",
       "      <th>cast</th>\n",
       "      <th>country</th>\n",
       "      <th>date_added</th>\n",
       "      <th>release_year</th>\n",
       "      <th>rating</th>\n",
       "      <th>duration</th>\n",
       "      <th>listed_in</th>\n",
       "      <th>description</th>\n",
       "    </tr>\n",
       "  </thead>\n",
       "  <tbody>\n",
       "    <tr>\n",
       "      <th>833</th>\n",
       "      <td>Innocent</td>\n",
       "      <td>2017</td>\n",
       "      <td>9.0</td>\n",
       "      <td>Comedy</td>\n",
       "      <td>s4175</td>\n",
       "      <td>TV Show</td>\n",
       "      <td>Innocent</td>\n",
       "      <td>Seren Yüce</td>\n",
       "      <td>Ali Atay, Haluk Bilginer, Nur Sürer, Okan Yala...</td>\n",
       "      <td>Turkey</td>\n",
       "      <td>January 23, 2019</td>\n",
       "      <td>2017</td>\n",
       "      <td>TV-MA</td>\n",
       "      <td>1 Season</td>\n",
       "      <td>Crime TV Shows, International TV Shows, TV Dramas</td>\n",
       "      <td>In a peaceful, rustic town, a retired officer ...</td>\n",
       "    </tr>\n",
       "    <tr>\n",
       "      <th>321</th>\n",
       "      <td>Pulp Fiction</td>\n",
       "      <td>1994</td>\n",
       "      <td>8.9</td>\n",
       "      <td>Crime, Drama</td>\n",
       "      <td>s7803</td>\n",
       "      <td>Movie</td>\n",
       "      <td>Pulp Fiction</td>\n",
       "      <td>Quentin Tarantino</td>\n",
       "      <td>John Travolta, Samuel L. Jackson, Uma Thurman,...</td>\n",
       "      <td>United States</td>\n",
       "      <td>January 1, 2019</td>\n",
       "      <td>1994</td>\n",
       "      <td>R</td>\n",
       "      <td>154 min</td>\n",
       "      <td>Classic Movies, Cult Movies, Dramas</td>\n",
       "      <td>This stylized crime caper weaves together stor...</td>\n",
       "    </tr>\n",
       "    <tr>\n",
       "      <th>310</th>\n",
       "      <td>Schindler's List</td>\n",
       "      <td>1993</td>\n",
       "      <td>8.9</td>\n",
       "      <td>Biography, Drama, History</td>\n",
       "      <td>s7958</td>\n",
       "      <td>Movie</td>\n",
       "      <td>Schindler's List</td>\n",
       "      <td>Steven Spielberg</td>\n",
       "      <td>Liam Neeson, Ben Kingsley, Ralph Fiennes, Caro...</td>\n",
       "      <td>United States</td>\n",
       "      <td>April 1, 2018</td>\n",
       "      <td>1993</td>\n",
       "      <td>R</td>\n",
       "      <td>195 min</td>\n",
       "      <td>Classic Movies, Dramas</td>\n",
       "      <td>Oskar Schindler becomes an unlikely humanitari...</td>\n",
       "    </tr>\n",
       "    <tr>\n",
       "      <th>1134</th>\n",
       "      <td>Inception</td>\n",
       "      <td>2010</td>\n",
       "      <td>8.8</td>\n",
       "      <td>Action, Adventure, Sci-Fi</td>\n",
       "      <td>s341</td>\n",
       "      <td>Movie</td>\n",
       "      <td>Inception</td>\n",
       "      <td>Christopher Nolan</td>\n",
       "      <td>Leonardo DiCaprio, Joseph Gordon-Levitt, Ellio...</td>\n",
       "      <td>United States, United Kingdom</td>\n",
       "      <td>August 1, 2021</td>\n",
       "      <td>2010</td>\n",
       "      <td>PG-13</td>\n",
       "      <td>148 min</td>\n",
       "      <td>Action &amp; Adventure, Sci-Fi &amp; Fantasy, Thrillers</td>\n",
       "      <td>A troubled thief who extracts secrets from peo...</td>\n",
       "    </tr>\n",
       "    <tr>\n",
       "      <th>515</th>\n",
       "      <td>Koshish</td>\n",
       "      <td>1972</td>\n",
       "      <td>8.6</td>\n",
       "      <td>Drama</td>\n",
       "      <td>s7225</td>\n",
       "      <td>Movie</td>\n",
       "      <td>Koshish</td>\n",
       "      <td>Gulzar</td>\n",
       "      <td>Sanjeev Kumar, Jaya Bhaduri, Asrani, Seema, Om...</td>\n",
       "      <td>India</td>\n",
       "      <td>December 31, 2019</td>\n",
       "      <td>1972</td>\n",
       "      <td>TV-14</td>\n",
       "      <td>115 min</td>\n",
       "      <td>International Movies, Romantic Movies</td>\n",
       "      <td>A speech and hearing-impaired couple persists ...</td>\n",
       "    </tr>\n",
       "    <tr>\n",
       "      <th>...</th>\n",
       "      <td>...</td>\n",
       "      <td>...</td>\n",
       "      <td>...</td>\n",
       "      <td>...</td>\n",
       "      <td>...</td>\n",
       "      <td>...</td>\n",
       "      <td>...</td>\n",
       "      <td>...</td>\n",
       "      <td>...</td>\n",
       "      <td>...</td>\n",
       "      <td>...</td>\n",
       "      <td>...</td>\n",
       "      <td>...</td>\n",
       "      <td>...</td>\n",
       "      <td>...</td>\n",
       "      <td>...</td>\n",
       "    </tr>\n",
       "    <tr>\n",
       "      <th>805</th>\n",
       "      <td>Ride or Die</td>\n",
       "      <td>2005</td>\n",
       "      <td>1.7</td>\n",
       "      <td>Action, Western</td>\n",
       "      <td>s1051</td>\n",
       "      <td>Movie</td>\n",
       "      <td>Ride or Die</td>\n",
       "      <td>Ryuichi Hiroki</td>\n",
       "      <td>Kiko Mizuhara, Honami Sato, Yoko Maki, Anne Su...</td>\n",
       "      <td>Japan</td>\n",
       "      <td>April 15, 2021</td>\n",
       "      <td>2021</td>\n",
       "      <td>TV-MA</td>\n",
       "      <td>143 min</td>\n",
       "      <td>Dramas, International Movies, LGBTQ Movies</td>\n",
       "      <td>Rei helps the woman she’s been in love with fo...</td>\n",
       "    </tr>\n",
       "    <tr>\n",
       "      <th>496</th>\n",
       "      <td>Himmatwala</td>\n",
       "      <td>2013</td>\n",
       "      <td>1.7</td>\n",
       "      <td>Action, Comedy</td>\n",
       "      <td>s4443</td>\n",
       "      <td>Movie</td>\n",
       "      <td>Himmatwala</td>\n",
       "      <td>Sajid Khan</td>\n",
       "      <td>Ajay Devgn, Tamannaah Bhatia, Paresh Rawal, Za...</td>\n",
       "      <td>India</td>\n",
       "      <td>November 1, 2018</td>\n",
       "      <td>2013</td>\n",
       "      <td>TV-14</td>\n",
       "      <td>140 min</td>\n",
       "      <td>Action &amp; Adventure, Comedies, International Mo...</td>\n",
       "      <td>A young man returns to his native village on a...</td>\n",
       "    </tr>\n",
       "    <tr>\n",
       "      <th>1509</th>\n",
       "      <td>Welcome to New York</td>\n",
       "      <td>2018</td>\n",
       "      <td>1.6</td>\n",
       "      <td>Comedy, Drama</td>\n",
       "      <td>s8716</td>\n",
       "      <td>Movie</td>\n",
       "      <td>Welcome to New York</td>\n",
       "      <td>Abel Ferrara</td>\n",
       "      <td>Gérard Depardieu, Jacqueline Bisset, Marie Mou...</td>\n",
       "      <td>United States, France</td>\n",
       "      <td>March 23, 2017</td>\n",
       "      <td>2014</td>\n",
       "      <td>R</td>\n",
       "      <td>108 min</td>\n",
       "      <td>Dramas, Independent Movies</td>\n",
       "      <td>A lecherous World Bank official sees his reput...</td>\n",
       "    </tr>\n",
       "    <tr>\n",
       "      <th>1040</th>\n",
       "      <td>Pink</td>\n",
       "      <td>2016</td>\n",
       "      <td>1.6</td>\n",
       "      <td>Comedy, Drama</td>\n",
       "      <td>s5630</td>\n",
       "      <td>Movie</td>\n",
       "      <td>Pink</td>\n",
       "      <td>Aniruddha Roy Chowdhury</td>\n",
       "      <td>Tapsee Pannu, Kirti Kulhari, Andrea Tariang, A...</td>\n",
       "      <td>India</td>\n",
       "      <td>January 20, 2017</td>\n",
       "      <td>2016</td>\n",
       "      <td>TV-14</td>\n",
       "      <td>130 min</td>\n",
       "      <td>Dramas, International Movies</td>\n",
       "      <td>A sexual assault victim, unjustly tried for th...</td>\n",
       "    </tr>\n",
       "    <tr>\n",
       "      <th>1994</th>\n",
       "      <td>Aerials</td>\n",
       "      <td>2016</td>\n",
       "      <td>1.6</td>\n",
       "      <td>Drama, Sci-Fi, Thriller</td>\n",
       "      <td>s2556</td>\n",
       "      <td>Movie</td>\n",
       "      <td>Aerials</td>\n",
       "      <td>S.A. Zaidi</td>\n",
       "      <td>Saga Alyasery, Ana Druzhynina, Mansour Al Fele...</td>\n",
       "      <td>United Arab Emirates</td>\n",
       "      <td>May 7, 2020</td>\n",
       "      <td>2016</td>\n",
       "      <td>TV-14</td>\n",
       "      <td>90 min</td>\n",
       "      <td>International Movies, Sci-Fi &amp; Fantasy</td>\n",
       "      <td>Dubai residents struggle to figure out why a f...</td>\n",
       "    </tr>\n",
       "  </tbody>\n",
       "</table>\n",
       "<p>2532 rows × 16 columns</p>\n",
       "</div>"
      ],
      "text/plain": [
       "                    Title Release Year  Rating                      Genre  \\\n",
       "833              Innocent         2017     9.0                     Comedy   \n",
       "321          Pulp Fiction         1994     8.9               Crime, Drama   \n",
       "310      Schindler's List         1993     8.9  Biography, Drama, History   \n",
       "1134            Inception         2010     8.8  Action, Adventure, Sci-Fi   \n",
       "515               Koshish         1972     8.6                      Drama   \n",
       "...                   ...          ...     ...                        ...   \n",
       "805           Ride or Die         2005     1.7            Action, Western   \n",
       "496            Himmatwala         2013     1.7             Action, Comedy   \n",
       "1509  Welcome to New York         2018     1.6              Comedy, Drama   \n",
       "1040                 Pink         2016     1.6              Comedy, Drama   \n",
       "1994              Aerials         2016     1.6    Drama, Sci-Fi, Thriller   \n",
       "\n",
       "     show_id     type                title                 director  \\\n",
       "833    s4175  TV Show             Innocent               Seren Yüce   \n",
       "321    s7803    Movie         Pulp Fiction        Quentin Tarantino   \n",
       "310    s7958    Movie     Schindler's List         Steven Spielberg   \n",
       "1134    s341    Movie            Inception        Christopher Nolan   \n",
       "515    s7225    Movie              Koshish                   Gulzar   \n",
       "...      ...      ...                  ...                      ...   \n",
       "805    s1051    Movie          Ride or Die           Ryuichi Hiroki   \n",
       "496    s4443    Movie           Himmatwala               Sajid Khan   \n",
       "1509   s8716    Movie  Welcome to New York             Abel Ferrara   \n",
       "1040   s5630    Movie                 Pink  Aniruddha Roy Chowdhury   \n",
       "1994   s2556    Movie              Aerials               S.A. Zaidi   \n",
       "\n",
       "                                                   cast  \\\n",
       "833   Ali Atay, Haluk Bilginer, Nur Sürer, Okan Yala...   \n",
       "321   John Travolta, Samuel L. Jackson, Uma Thurman,...   \n",
       "310   Liam Neeson, Ben Kingsley, Ralph Fiennes, Caro...   \n",
       "1134  Leonardo DiCaprio, Joseph Gordon-Levitt, Ellio...   \n",
       "515   Sanjeev Kumar, Jaya Bhaduri, Asrani, Seema, Om...   \n",
       "...                                                 ...   \n",
       "805   Kiko Mizuhara, Honami Sato, Yoko Maki, Anne Su...   \n",
       "496   Ajay Devgn, Tamannaah Bhatia, Paresh Rawal, Za...   \n",
       "1509  Gérard Depardieu, Jacqueline Bisset, Marie Mou...   \n",
       "1040  Tapsee Pannu, Kirti Kulhari, Andrea Tariang, A...   \n",
       "1994  Saga Alyasery, Ana Druzhynina, Mansour Al Fele...   \n",
       "\n",
       "                            country         date_added  release_year rating  \\\n",
       "833                          Turkey   January 23, 2019          2017  TV-MA   \n",
       "321                   United States    January 1, 2019          1994      R   \n",
       "310                   United States      April 1, 2018          1993      R   \n",
       "1134  United States, United Kingdom     August 1, 2021          2010  PG-13   \n",
       "515                           India  December 31, 2019          1972  TV-14   \n",
       "...                             ...                ...           ...    ...   \n",
       "805                           Japan     April 15, 2021          2021  TV-MA   \n",
       "496                           India   November 1, 2018          2013  TV-14   \n",
       "1509          United States, France     March 23, 2017          2014      R   \n",
       "1040                          India   January 20, 2017          2016  TV-14   \n",
       "1994           United Arab Emirates        May 7, 2020          2016  TV-14   \n",
       "\n",
       "      duration                                          listed_in  \\\n",
       "833   1 Season  Crime TV Shows, International TV Shows, TV Dramas   \n",
       "321    154 min                Classic Movies, Cult Movies, Dramas   \n",
       "310    195 min                             Classic Movies, Dramas   \n",
       "1134   148 min    Action & Adventure, Sci-Fi & Fantasy, Thrillers   \n",
       "515    115 min              International Movies, Romantic Movies   \n",
       "...        ...                                                ...   \n",
       "805    143 min         Dramas, International Movies, LGBTQ Movies   \n",
       "496    140 min  Action & Adventure, Comedies, International Mo...   \n",
       "1509   108 min                         Dramas, Independent Movies   \n",
       "1040   130 min                       Dramas, International Movies   \n",
       "1994    90 min             International Movies, Sci-Fi & Fantasy   \n",
       "\n",
       "                                            description  \n",
       "833   In a peaceful, rustic town, a retired officer ...  \n",
       "321   This stylized crime caper weaves together stor...  \n",
       "310   Oskar Schindler becomes an unlikely humanitari...  \n",
       "1134  A troubled thief who extracts secrets from peo...  \n",
       "515   A speech and hearing-impaired couple persists ...  \n",
       "...                                                 ...  \n",
       "805   Rei helps the woman she’s been in love with fo...  \n",
       "496   A young man returns to his native village on a...  \n",
       "1509  A lecherous World Bank official sees his reput...  \n",
       "1040  A sexual assault victim, unjustly tried for th...  \n",
       "1994  Dubai residents struggle to figure out why a f...  \n",
       "\n",
       "[2532 rows x 16 columns]"
      ]
     },
     "execution_count": 40,
     "metadata": {},
     "output_type": "execute_result"
    }
   ],
   "source": [
    "filledna"
   ]
  },
  {
   "cell_type": "code",
   "execution_count": 41,
   "id": "ff5f5928",
   "metadata": {},
   "outputs": [],
   "source": [
    "#Cleaning the data - making all the words lower case\n",
    "def clean_data(x):\n",
    "        return str.lower(x.replace(\" \", \"\"))"
   ]
  },
  {
   "cell_type": "code",
   "execution_count": 42,
   "id": "cbd1e870",
   "metadata": {},
   "outputs": [],
   "source": [
    "#Identifying features on which the model is to be filtered.\n",
    "features=['title','director','cast','listed_in','description']\n",
    "filledna=filledna[features]"
   ]
  },
  {
   "cell_type": "code",
   "execution_count": 43,
   "id": "210d33d4",
   "metadata": {},
   "outputs": [
    {
     "data": {
      "text/html": [
       "<div>\n",
       "<style scoped>\n",
       "    .dataframe tbody tr th:only-of-type {\n",
       "        vertical-align: middle;\n",
       "    }\n",
       "\n",
       "    .dataframe tbody tr th {\n",
       "        vertical-align: top;\n",
       "    }\n",
       "\n",
       "    .dataframe thead th {\n",
       "        text-align: right;\n",
       "    }\n",
       "</style>\n",
       "<table border=\"1\" class=\"dataframe\">\n",
       "  <thead>\n",
       "    <tr style=\"text-align: right;\">\n",
       "      <th></th>\n",
       "      <th>title</th>\n",
       "      <th>director</th>\n",
       "      <th>cast</th>\n",
       "      <th>listed_in</th>\n",
       "      <th>description</th>\n",
       "    </tr>\n",
       "  </thead>\n",
       "  <tbody>\n",
       "    <tr>\n",
       "      <th>833</th>\n",
       "      <td>innocent</td>\n",
       "      <td>serenyüce</td>\n",
       "      <td>aliatay,halukbilginer,nursürer,okanyalabık,tül...</td>\n",
       "      <td>crimetvshows,internationaltvshows,tvdramas</td>\n",
       "      <td>inapeaceful,rustictown,aretiredofficerandhisfa...</td>\n",
       "    </tr>\n",
       "    <tr>\n",
       "      <th>321</th>\n",
       "      <td>pulpfiction</td>\n",
       "      <td>quentintarantino</td>\n",
       "      <td>johntravolta,samuell.jackson,umathurman,harvey...</td>\n",
       "      <td>classicmovies,cultmovies,dramas</td>\n",
       "      <td>thisstylizedcrimecaperweavestogetherstoriesfea...</td>\n",
       "    </tr>\n",
       "    <tr>\n",
       "      <th>310</th>\n",
       "      <td>schindler'slist</td>\n",
       "      <td>stevenspielberg</td>\n",
       "      <td>liamneeson,benkingsley,ralphfiennes,carolinego...</td>\n",
       "      <td>classicmovies,dramas</td>\n",
       "      <td>oskarschindlerbecomesanunlikelyhumanitarian,sp...</td>\n",
       "    </tr>\n",
       "    <tr>\n",
       "      <th>1134</th>\n",
       "      <td>inception</td>\n",
       "      <td>christophernolan</td>\n",
       "      <td>leonardodicaprio,josephgordon-levitt,elliotpag...</td>\n",
       "      <td>action&amp;adventure,sci-fi&amp;fantasy,thrillers</td>\n",
       "      <td>atroubledthiefwhoextractssecretsfrompeople'sdr...</td>\n",
       "    </tr>\n",
       "    <tr>\n",
       "      <th>515</th>\n",
       "      <td>koshish</td>\n",
       "      <td>gulzar</td>\n",
       "      <td>sanjeevkumar,jayabhaduri,asrani,seema,omshivpu...</td>\n",
       "      <td>internationalmovies,romanticmovies</td>\n",
       "      <td>aspeechandhearing-impairedcouplepersiststhroug...</td>\n",
       "    </tr>\n",
       "    <tr>\n",
       "      <th>...</th>\n",
       "      <td>...</td>\n",
       "      <td>...</td>\n",
       "      <td>...</td>\n",
       "      <td>...</td>\n",
       "      <td>...</td>\n",
       "    </tr>\n",
       "    <tr>\n",
       "      <th>805</th>\n",
       "      <td>rideordie</td>\n",
       "      <td>ryuichihiroki</td>\n",
       "      <td>kikomizuhara,honamisato,yokomaki,annesuzuki,te...</td>\n",
       "      <td>dramas,internationalmovies,lgbtqmovies</td>\n",
       "      <td>reihelpsthewomanshe’sbeeninlovewithforyearsesc...</td>\n",
       "    </tr>\n",
       "    <tr>\n",
       "      <th>496</th>\n",
       "      <td>himmatwala</td>\n",
       "      <td>sajidkhan</td>\n",
       "      <td>ajaydevgn,tamannaahbhatia,pareshrawal,zarinawa...</td>\n",
       "      <td>action&amp;adventure,comedies,internationalmovies</td>\n",
       "      <td>ayoungmanreturnstohisnativevillageonamissionof...</td>\n",
       "    </tr>\n",
       "    <tr>\n",
       "      <th>1509</th>\n",
       "      <td>welcometonewyork</td>\n",
       "      <td>abelferrara</td>\n",
       "      <td>gérarddepardieu,jacquelinebisset,mariemouté,pa...</td>\n",
       "      <td>dramas,independentmovies</td>\n",
       "      <td>alecherousworldbankofficialseeshisreputationcr...</td>\n",
       "    </tr>\n",
       "    <tr>\n",
       "      <th>1040</th>\n",
       "      <td>pink</td>\n",
       "      <td>aniruddharoychowdhury</td>\n",
       "      <td>tapseepannu,kirtikulhari,andreatariang,amitabh...</td>\n",
       "      <td>dramas,internationalmovies</td>\n",
       "      <td>asexualassaultvictim,unjustlytriedfortheattemp...</td>\n",
       "    </tr>\n",
       "    <tr>\n",
       "      <th>1994</th>\n",
       "      <td>aerials</td>\n",
       "      <td>s.a.zaidi</td>\n",
       "      <td>sagaalyasery,anadruzhynina,mansouralfelei,moha...</td>\n",
       "      <td>internationalmovies,sci-fi&amp;fantasy</td>\n",
       "      <td>dubairesidentsstruggletofigureoutwhyafleetofal...</td>\n",
       "    </tr>\n",
       "  </tbody>\n",
       "</table>\n",
       "<p>2532 rows × 5 columns</p>\n",
       "</div>"
      ],
      "text/plain": [
       "                 title               director  \\\n",
       "833           innocent              serenyüce   \n",
       "321        pulpfiction       quentintarantino   \n",
       "310    schindler'slist        stevenspielberg   \n",
       "1134         inception       christophernolan   \n",
       "515            koshish                 gulzar   \n",
       "...                ...                    ...   \n",
       "805          rideordie          ryuichihiroki   \n",
       "496         himmatwala              sajidkhan   \n",
       "1509  welcometonewyork            abelferrara   \n",
       "1040              pink  aniruddharoychowdhury   \n",
       "1994           aerials              s.a.zaidi   \n",
       "\n",
       "                                                   cast  \\\n",
       "833   aliatay,halukbilginer,nursürer,okanyalabık,tül...   \n",
       "321   johntravolta,samuell.jackson,umathurman,harvey...   \n",
       "310   liamneeson,benkingsley,ralphfiennes,carolinego...   \n",
       "1134  leonardodicaprio,josephgordon-levitt,elliotpag...   \n",
       "515   sanjeevkumar,jayabhaduri,asrani,seema,omshivpu...   \n",
       "...                                                 ...   \n",
       "805   kikomizuhara,honamisato,yokomaki,annesuzuki,te...   \n",
       "496   ajaydevgn,tamannaahbhatia,pareshrawal,zarinawa...   \n",
       "1509  gérarddepardieu,jacquelinebisset,mariemouté,pa...   \n",
       "1040  tapseepannu,kirtikulhari,andreatariang,amitabh...   \n",
       "1994  sagaalyasery,anadruzhynina,mansouralfelei,moha...   \n",
       "\n",
       "                                          listed_in  \\\n",
       "833      crimetvshows,internationaltvshows,tvdramas   \n",
       "321                 classicmovies,cultmovies,dramas   \n",
       "310                            classicmovies,dramas   \n",
       "1134      action&adventure,sci-fi&fantasy,thrillers   \n",
       "515              internationalmovies,romanticmovies   \n",
       "...                                             ...   \n",
       "805          dramas,internationalmovies,lgbtqmovies   \n",
       "496   action&adventure,comedies,internationalmovies   \n",
       "1509                       dramas,independentmovies   \n",
       "1040                     dramas,internationalmovies   \n",
       "1994             internationalmovies,sci-fi&fantasy   \n",
       "\n",
       "                                            description  \n",
       "833   inapeaceful,rustictown,aretiredofficerandhisfa...  \n",
       "321   thisstylizedcrimecaperweavestogetherstoriesfea...  \n",
       "310   oskarschindlerbecomesanunlikelyhumanitarian,sp...  \n",
       "1134  atroubledthiefwhoextractssecretsfrompeople'sdr...  \n",
       "515   aspeechandhearing-impairedcouplepersiststhroug...  \n",
       "...                                                 ...  \n",
       "805   reihelpsthewomanshe’sbeeninlovewithforyearsesc...  \n",
       "496   ayoungmanreturnstohisnativevillageonamissionof...  \n",
       "1509  alecherousworldbankofficialseeshisreputationcr...  \n",
       "1040  asexualassaultvictim,unjustlytriedfortheattemp...  \n",
       "1994  dubairesidentsstruggletofigureoutwhyafleetofal...  \n",
       "\n",
       "[2532 rows x 5 columns]"
      ]
     },
     "execution_count": 43,
     "metadata": {},
     "output_type": "execute_result"
    }
   ],
   "source": [
    "for feature in features:\n",
    "    filledna[feature] = filledna[feature].apply(clean_data)\n",
    "    \n",
    "filledna"
   ]
  },
  {
   "cell_type": "code",
   "execution_count": 44,
   "id": "f5b649df",
   "metadata": {},
   "outputs": [],
   "source": [
    "def create_soup(x):\n",
    "    return x['title']+ ' ' + x['director'] + ' ' + x['cast'] + ' ' +x['listed_in']+' '+ x['description']\n",
    "\n",
    "filledna['soup'] = filledna.apply(create_soup, axis=1)"
   ]
  },
  {
   "cell_type": "code",
   "execution_count": 45,
   "id": "b339bc57",
   "metadata": {},
   "outputs": [
    {
     "data": {
      "text/plain": [
       "321     pulpfiction quentintarantino johntravolta,samu...\n",
       "310     schindler'slist stevenspielberg liamneeson,ben...\n",
       "1134    inception christophernolan leonardodicaprio,jo...\n",
       "515     koshish gulzar sanjeevkumar,jayabhaduri,asrani...\n",
       "946     oththaseruppusize7 parthiban parthiban dramas,...\n",
       "174     golmaal hrishikeshmukherjee amolpalekar,bindiy...\n",
       "1777    ehjanamtumharelekhe harjitsingh pavanmalhotra,...\n",
       "2460    ani...dr.kashinathghanekar abhijeetdeshpande s...\n",
       "610     cityofgod fernandomeirelles,katialund alexandr...\n",
       "1488    muchadoaboutnothing alejandrofernándezalmendra...\n",
       "Name: soup, dtype: object"
      ]
     },
     "execution_count": 45,
     "metadata": {},
     "output_type": "execute_result"
    }
   ],
   "source": [
    "filledna['soup'][1:11]"
   ]
  },
  {
   "cell_type": "code",
   "execution_count": 46,
   "id": "35abd1ba",
   "metadata": {},
   "outputs": [
    {
     "data": {
      "text/html": [
       "<div>\n",
       "<style scoped>\n",
       "    .dataframe tbody tr th:only-of-type {\n",
       "        vertical-align: middle;\n",
       "    }\n",
       "\n",
       "    .dataframe tbody tr th {\n",
       "        vertical-align: top;\n",
       "    }\n",
       "\n",
       "    .dataframe thead th {\n",
       "        text-align: right;\n",
       "    }\n",
       "</style>\n",
       "<table border=\"1\" class=\"dataframe\">\n",
       "  <thead>\n",
       "    <tr style=\"text-align: right;\">\n",
       "      <th></th>\n",
       "      <th>title</th>\n",
       "      <th>director</th>\n",
       "      <th>cast</th>\n",
       "      <th>listed_in</th>\n",
       "      <th>description</th>\n",
       "      <th>soup</th>\n",
       "    </tr>\n",
       "  </thead>\n",
       "  <tbody>\n",
       "    <tr>\n",
       "      <th>833</th>\n",
       "      <td>innocent</td>\n",
       "      <td>serenyüce</td>\n",
       "      <td>aliatay,halukbilginer,nursürer,okanyalabık,tül...</td>\n",
       "      <td>crimetvshows,internationaltvshows,tvdramas</td>\n",
       "      <td>inapeaceful,rustictown,aretiredofficerandhisfa...</td>\n",
       "      <td>innocent serenyüce aliatay,halukbilginer,nursü...</td>\n",
       "    </tr>\n",
       "    <tr>\n",
       "      <th>321</th>\n",
       "      <td>pulpfiction</td>\n",
       "      <td>quentintarantino</td>\n",
       "      <td>johntravolta,samuell.jackson,umathurman,harvey...</td>\n",
       "      <td>classicmovies,cultmovies,dramas</td>\n",
       "      <td>thisstylizedcrimecaperweavestogetherstoriesfea...</td>\n",
       "      <td>pulpfiction quentintarantino johntravolta,samu...</td>\n",
       "    </tr>\n",
       "    <tr>\n",
       "      <th>310</th>\n",
       "      <td>schindler'slist</td>\n",
       "      <td>stevenspielberg</td>\n",
       "      <td>liamneeson,benkingsley,ralphfiennes,carolinego...</td>\n",
       "      <td>classicmovies,dramas</td>\n",
       "      <td>oskarschindlerbecomesanunlikelyhumanitarian,sp...</td>\n",
       "      <td>schindler'slist stevenspielberg liamneeson,ben...</td>\n",
       "    </tr>\n",
       "    <tr>\n",
       "      <th>1134</th>\n",
       "      <td>inception</td>\n",
       "      <td>christophernolan</td>\n",
       "      <td>leonardodicaprio,josephgordon-levitt,elliotpag...</td>\n",
       "      <td>action&amp;adventure,sci-fi&amp;fantasy,thrillers</td>\n",
       "      <td>atroubledthiefwhoextractssecretsfrompeople'sdr...</td>\n",
       "      <td>inception christophernolan leonardodicaprio,jo...</td>\n",
       "    </tr>\n",
       "    <tr>\n",
       "      <th>515</th>\n",
       "      <td>koshish</td>\n",
       "      <td>gulzar</td>\n",
       "      <td>sanjeevkumar,jayabhaduri,asrani,seema,omshivpu...</td>\n",
       "      <td>internationalmovies,romanticmovies</td>\n",
       "      <td>aspeechandhearing-impairedcouplepersiststhroug...</td>\n",
       "      <td>koshish gulzar sanjeevkumar,jayabhaduri,asrani...</td>\n",
       "    </tr>\n",
       "    <tr>\n",
       "      <th>...</th>\n",
       "      <td>...</td>\n",
       "      <td>...</td>\n",
       "      <td>...</td>\n",
       "      <td>...</td>\n",
       "      <td>...</td>\n",
       "      <td>...</td>\n",
       "    </tr>\n",
       "    <tr>\n",
       "      <th>805</th>\n",
       "      <td>rideordie</td>\n",
       "      <td>ryuichihiroki</td>\n",
       "      <td>kikomizuhara,honamisato,yokomaki,annesuzuki,te...</td>\n",
       "      <td>dramas,internationalmovies,lgbtqmovies</td>\n",
       "      <td>reihelpsthewomanshe’sbeeninlovewithforyearsesc...</td>\n",
       "      <td>rideordie ryuichihiroki kikomizuhara,honamisat...</td>\n",
       "    </tr>\n",
       "    <tr>\n",
       "      <th>496</th>\n",
       "      <td>himmatwala</td>\n",
       "      <td>sajidkhan</td>\n",
       "      <td>ajaydevgn,tamannaahbhatia,pareshrawal,zarinawa...</td>\n",
       "      <td>action&amp;adventure,comedies,internationalmovies</td>\n",
       "      <td>ayoungmanreturnstohisnativevillageonamissionof...</td>\n",
       "      <td>himmatwala sajidkhan ajaydevgn,tamannaahbhatia...</td>\n",
       "    </tr>\n",
       "    <tr>\n",
       "      <th>1509</th>\n",
       "      <td>welcometonewyork</td>\n",
       "      <td>abelferrara</td>\n",
       "      <td>gérarddepardieu,jacquelinebisset,mariemouté,pa...</td>\n",
       "      <td>dramas,independentmovies</td>\n",
       "      <td>alecherousworldbankofficialseeshisreputationcr...</td>\n",
       "      <td>welcometonewyork abelferrara gérarddepardieu,j...</td>\n",
       "    </tr>\n",
       "    <tr>\n",
       "      <th>1040</th>\n",
       "      <td>pink</td>\n",
       "      <td>aniruddharoychowdhury</td>\n",
       "      <td>tapseepannu,kirtikulhari,andreatariang,amitabh...</td>\n",
       "      <td>dramas,internationalmovies</td>\n",
       "      <td>asexualassaultvictim,unjustlytriedfortheattemp...</td>\n",
       "      <td>pink aniruddharoychowdhury tapseepannu,kirtiku...</td>\n",
       "    </tr>\n",
       "    <tr>\n",
       "      <th>1994</th>\n",
       "      <td>aerials</td>\n",
       "      <td>s.a.zaidi</td>\n",
       "      <td>sagaalyasery,anadruzhynina,mansouralfelei,moha...</td>\n",
       "      <td>internationalmovies,sci-fi&amp;fantasy</td>\n",
       "      <td>dubairesidentsstruggletofigureoutwhyafleetofal...</td>\n",
       "      <td>aerials s.a.zaidi sagaalyasery,anadruzhynina,m...</td>\n",
       "    </tr>\n",
       "  </tbody>\n",
       "</table>\n",
       "<p>2532 rows × 6 columns</p>\n",
       "</div>"
      ],
      "text/plain": [
       "                 title               director  \\\n",
       "833           innocent              serenyüce   \n",
       "321        pulpfiction       quentintarantino   \n",
       "310    schindler'slist        stevenspielberg   \n",
       "1134         inception       christophernolan   \n",
       "515            koshish                 gulzar   \n",
       "...                ...                    ...   \n",
       "805          rideordie          ryuichihiroki   \n",
       "496         himmatwala              sajidkhan   \n",
       "1509  welcometonewyork            abelferrara   \n",
       "1040              pink  aniruddharoychowdhury   \n",
       "1994           aerials              s.a.zaidi   \n",
       "\n",
       "                                                   cast  \\\n",
       "833   aliatay,halukbilginer,nursürer,okanyalabık,tül...   \n",
       "321   johntravolta,samuell.jackson,umathurman,harvey...   \n",
       "310   liamneeson,benkingsley,ralphfiennes,carolinego...   \n",
       "1134  leonardodicaprio,josephgordon-levitt,elliotpag...   \n",
       "515   sanjeevkumar,jayabhaduri,asrani,seema,omshivpu...   \n",
       "...                                                 ...   \n",
       "805   kikomizuhara,honamisato,yokomaki,annesuzuki,te...   \n",
       "496   ajaydevgn,tamannaahbhatia,pareshrawal,zarinawa...   \n",
       "1509  gérarddepardieu,jacquelinebisset,mariemouté,pa...   \n",
       "1040  tapseepannu,kirtikulhari,andreatariang,amitabh...   \n",
       "1994  sagaalyasery,anadruzhynina,mansouralfelei,moha...   \n",
       "\n",
       "                                          listed_in  \\\n",
       "833      crimetvshows,internationaltvshows,tvdramas   \n",
       "321                 classicmovies,cultmovies,dramas   \n",
       "310                            classicmovies,dramas   \n",
       "1134      action&adventure,sci-fi&fantasy,thrillers   \n",
       "515              internationalmovies,romanticmovies   \n",
       "...                                             ...   \n",
       "805          dramas,internationalmovies,lgbtqmovies   \n",
       "496   action&adventure,comedies,internationalmovies   \n",
       "1509                       dramas,independentmovies   \n",
       "1040                     dramas,internationalmovies   \n",
       "1994             internationalmovies,sci-fi&fantasy   \n",
       "\n",
       "                                            description  \\\n",
       "833   inapeaceful,rustictown,aretiredofficerandhisfa...   \n",
       "321   thisstylizedcrimecaperweavestogetherstoriesfea...   \n",
       "310   oskarschindlerbecomesanunlikelyhumanitarian,sp...   \n",
       "1134  atroubledthiefwhoextractssecretsfrompeople'sdr...   \n",
       "515   aspeechandhearing-impairedcouplepersiststhroug...   \n",
       "...                                                 ...   \n",
       "805   reihelpsthewomanshe’sbeeninlovewithforyearsesc...   \n",
       "496   ayoungmanreturnstohisnativevillageonamissionof...   \n",
       "1509  alecherousworldbankofficialseeshisreputationcr...   \n",
       "1040  asexualassaultvictim,unjustlytriedfortheattemp...   \n",
       "1994  dubairesidentsstruggletofigureoutwhyafleetofal...   \n",
       "\n",
       "                                                   soup  \n",
       "833   innocent serenyüce aliatay,halukbilginer,nursü...  \n",
       "321   pulpfiction quentintarantino johntravolta,samu...  \n",
       "310   schindler'slist stevenspielberg liamneeson,ben...  \n",
       "1134  inception christophernolan leonardodicaprio,jo...  \n",
       "515   koshish gulzar sanjeevkumar,jayabhaduri,asrani...  \n",
       "...                                                 ...  \n",
       "805   rideordie ryuichihiroki kikomizuhara,honamisat...  \n",
       "496   himmatwala sajidkhan ajaydevgn,tamannaahbhatia...  \n",
       "1509  welcometonewyork abelferrara gérarddepardieu,j...  \n",
       "1040  pink aniruddharoychowdhury tapseepannu,kirtiku...  \n",
       "1994  aerials s.a.zaidi sagaalyasery,anadruzhynina,m...  \n",
       "\n",
       "[2532 rows x 6 columns]"
      ]
     },
     "execution_count": 46,
     "metadata": {},
     "output_type": "execute_result"
    }
   ],
   "source": [
    "filledna"
   ]
  },
  {
   "cell_type": "code",
   "execution_count": 47,
   "id": "75bfbbbd",
   "metadata": {},
   "outputs": [],
   "source": [
    "# TAGS creation\n",
    "\n",
    "# Import CountVectorizer and create the count matrix\n",
    "from sklearn.feature_extraction.text import CountVectorizer\n",
    "\n",
    "# Remove Stop-words\n",
    "count = CountVectorizer(stop_words='english')\n",
    "count_matrix = count.fit_transform(filledna['soup'])\n",
    "\n",
    "# Compute the Cosine Similarity matrix based on the count_matrix\n",
    "from sklearn.metrics.pairwise import cosine_similarity\n",
    "\n",
    "cosine_sim2 = cosine_similarity(count_matrix, count_matrix)\n",
    "\n",
    "# Reset index of our main DataFrame and construct reverse mapping as before\n",
    "filledna=filledna.reset_index()\n",
    "indices = pd.Series(filledna.index, index=filledna['title'])"
   ]
  },
  {
   "cell_type": "code",
   "execution_count": 48,
   "id": "14effda2",
   "metadata": {},
   "outputs": [
    {
     "data": {
      "text/plain": [
       "title\n",
       "innocent               0\n",
       "pulpfiction            1\n",
       "schindler'slist        2\n",
       "inception              3\n",
       "koshish                4\n",
       "                    ... \n",
       "rideordie           2527\n",
       "himmatwala          2528\n",
       "welcometonewyork    2529\n",
       "pink                2530\n",
       "aerials             2531\n",
       "Length: 2532, dtype: int64"
      ]
     },
     "execution_count": 48,
     "metadata": {},
     "output_type": "execute_result"
    }
   ],
   "source": [
    "# Given every movies or show an index number\n",
    "indices"
   ]
  },
  {
   "cell_type": "code",
   "execution_count": 49,
   "id": "2a3f8449",
   "metadata": {},
   "outputs": [],
   "source": [
    "def get_recommendations_new(title, cosine_sim=cosine_sim):\n",
    "    title=title.replace(' ','').lower()\n",
    "    idx = indices[title]\n",
    "\n",
    "    # Get the pairwsie similarity scores of all movies with that movie\n",
    "    sim_scores = list(enumerate(cosine_sim[idx]))\n",
    "\n",
    "    # Sort the movies based on the similarity scores\n",
    "    sim_scores = sorted(sim_scores, key=lambda x: x[1], reverse=True)\n",
    "\n",
    "    # Get the scores of the 10 most similar movies\n",
    "    sim_scores = sim_scores[1:11]\n",
    "\n",
    "    # Get the movie indices\n",
    "    movie_indices = [i[0] for i in sim_scores]\n",
    "\n",
    "    # Return the top 10 most similar movies\n",
    "    return final_data['title'].iloc[movie_indices]"
   ]
  },
  {
   "cell_type": "code",
   "execution_count": 50,
   "id": "0895b216",
   "metadata": {},
   "outputs": [
    {
     "data": {
      "text/plain": [
       "1202        Tees Maar Khan\n",
       "1709         The Shaukeens\n",
       "284                  Joker\n",
       "283                  Joker\n",
       "1139    Dhoondte Reh Jaoge\n",
       "281                  Joker\n",
       "282                  Joker\n",
       "743                Aitraaz\n",
       "1256             Thank You\n",
       "745        Phir Hera Pheri\n",
       "Name: title, dtype: object"
      ]
     },
     "execution_count": 50,
     "metadata": {},
     "output_type": "execute_result"
    }
   ],
   "source": [
    "get_recommendations_new('Welcome', cosine_sim2)"
   ]
  },
  {
   "cell_type": "code",
   "execution_count": 51,
   "id": "78478b69",
   "metadata": {},
   "outputs": [
    {
     "data": {
      "text/plain": [
       "2293                      Singularity\n",
       "757                              Next\n",
       "346                       Dragonheart\n",
       "186               Alibaba Aur 40 Chor\n",
       "1263              Season of the Witch\n",
       "531                       Equilibrium\n",
       "324                          Stargate\n",
       "244                        Underworld\n",
       "2031    Kingsglaive: Final Fantasy XV\n",
       "408                   Men in Black II\n",
       "Name: title, dtype: object"
      ]
     },
     "execution_count": 51,
     "metadata": {},
     "output_type": "execute_result"
    }
   ],
   "source": [
    "get_recommendations_new('Black Panther', cosine_sim2)"
   ]
  },
  {
   "cell_type": "code",
   "execution_count": 52,
   "id": "f56dd2e5",
   "metadata": {},
   "outputs": [
    {
     "data": {
      "text/plain": [
       "2252               Bareilly Ki Barfi\n",
       "1910                      Bombairiya\n",
       "399                          Soldier\n",
       "398                          Soldier\n",
       "2329             Sudani from Nigeria\n",
       "2272                         Muramba\n",
       "1692                 Jatt James Bond\n",
       "1592    The Legend of Michael Mishra\n",
       "1095                     Bittersweet\n",
       "1625                          Haider\n",
       "Name: title, dtype: object"
      ]
     },
     "execution_count": 52,
     "metadata": {},
     "output_type": "execute_result"
    }
   ],
   "source": [
    "get_recommendations_new('Andhadhun', cosine_sim2)"
   ]
  },
  {
   "cell_type": "code",
   "execution_count": 53,
   "id": "be6678e2",
   "metadata": {},
   "outputs": [],
   "source": [
    "# Pipeline Approach "
   ]
  },
  {
   "cell_type": "code",
   "execution_count": 54,
   "id": "1884c3b6",
   "metadata": {},
   "outputs": [],
   "source": [
    "# Features & Labels\n",
    "X_features = final_data['title'] # titles of the movies and tv shows\n",
    "y_labels = final_data[['type','rating']] # type of the movies and tv shows and their ratings too"
   ]
  },
  {
   "cell_type": "code",
   "execution_count": 55,
   "id": "adb89800",
   "metadata": {},
   "outputs": [],
   "source": [
    "X_train, X_test, y_train, y_test = train_test_split(X_features,y_labels,test_size =0.3,random_state=42)"
   ]
  },
  {
   "cell_type": "code",
   "execution_count": 56,
   "id": "b7622df8",
   "metadata": {},
   "outputs": [],
   "source": [
    "# Pipeline for the Logistic Regression by using multipleoutputclassifier\n",
    "pipe_lr = Pipeline(steps=[('cv',CountVectorizer()),('lr',MultiOutputClassifier(LogisticRegression()))])\n",
    "\n",
    "# Pipeline for the Naive Bayes by using multipleoutputclassifier and for quick predictions\n",
    "pipe_nb = Pipeline(steps=[('cv',CountVectorizer()),('nb',MultiOutputClassifier(MultinomialNB()))])"
   ]
  },
  {
   "cell_type": "code",
   "execution_count": 57,
   "id": "6ef5c397",
   "metadata": {},
   "outputs": [
    {
     "data": {
      "text/html": [
       "<style>#sk-container-id-1 {color: black;background-color: white;}#sk-container-id-1 pre{padding: 0;}#sk-container-id-1 div.sk-toggleable {background-color: white;}#sk-container-id-1 label.sk-toggleable__label {cursor: pointer;display: block;width: 100%;margin-bottom: 0;padding: 0.3em;box-sizing: border-box;text-align: center;}#sk-container-id-1 label.sk-toggleable__label-arrow:before {content: \"▸\";float: left;margin-right: 0.25em;color: #696969;}#sk-container-id-1 label.sk-toggleable__label-arrow:hover:before {color: black;}#sk-container-id-1 div.sk-estimator:hover label.sk-toggleable__label-arrow:before {color: black;}#sk-container-id-1 div.sk-toggleable__content {max-height: 0;max-width: 0;overflow: hidden;text-align: left;background-color: #f0f8ff;}#sk-container-id-1 div.sk-toggleable__content pre {margin: 0.2em;color: black;border-radius: 0.25em;background-color: #f0f8ff;}#sk-container-id-1 input.sk-toggleable__control:checked~div.sk-toggleable__content {max-height: 200px;max-width: 100%;overflow: auto;}#sk-container-id-1 input.sk-toggleable__control:checked~label.sk-toggleable__label-arrow:before {content: \"▾\";}#sk-container-id-1 div.sk-estimator input.sk-toggleable__control:checked~label.sk-toggleable__label {background-color: #d4ebff;}#sk-container-id-1 div.sk-label input.sk-toggleable__control:checked~label.sk-toggleable__label {background-color: #d4ebff;}#sk-container-id-1 input.sk-hidden--visually {border: 0;clip: rect(1px 1px 1px 1px);clip: rect(1px, 1px, 1px, 1px);height: 1px;margin: -1px;overflow: hidden;padding: 0;position: absolute;width: 1px;}#sk-container-id-1 div.sk-estimator {font-family: monospace;background-color: #f0f8ff;border: 1px dotted black;border-radius: 0.25em;box-sizing: border-box;margin-bottom: 0.5em;}#sk-container-id-1 div.sk-estimator:hover {background-color: #d4ebff;}#sk-container-id-1 div.sk-parallel-item::after {content: \"\";width: 100%;border-bottom: 1px solid gray;flex-grow: 1;}#sk-container-id-1 div.sk-label:hover label.sk-toggleable__label {background-color: #d4ebff;}#sk-container-id-1 div.sk-serial::before {content: \"\";position: absolute;border-left: 1px solid gray;box-sizing: border-box;top: 0;bottom: 0;left: 50%;z-index: 0;}#sk-container-id-1 div.sk-serial {display: flex;flex-direction: column;align-items: center;background-color: white;padding-right: 0.2em;padding-left: 0.2em;position: relative;}#sk-container-id-1 div.sk-item {position: relative;z-index: 1;}#sk-container-id-1 div.sk-parallel {display: flex;align-items: stretch;justify-content: center;background-color: white;position: relative;}#sk-container-id-1 div.sk-item::before, #sk-container-id-1 div.sk-parallel-item::before {content: \"\";position: absolute;border-left: 1px solid gray;box-sizing: border-box;top: 0;bottom: 0;left: 50%;z-index: -1;}#sk-container-id-1 div.sk-parallel-item {display: flex;flex-direction: column;z-index: 1;position: relative;background-color: white;}#sk-container-id-1 div.sk-parallel-item:first-child::after {align-self: flex-end;width: 50%;}#sk-container-id-1 div.sk-parallel-item:last-child::after {align-self: flex-start;width: 50%;}#sk-container-id-1 div.sk-parallel-item:only-child::after {width: 0;}#sk-container-id-1 div.sk-dashed-wrapped {border: 1px dashed gray;margin: 0 0.4em 0.5em 0.4em;box-sizing: border-box;padding-bottom: 0.4em;background-color: white;}#sk-container-id-1 div.sk-label label {font-family: monospace;font-weight: bold;display: inline-block;line-height: 1.2em;}#sk-container-id-1 div.sk-label-container {text-align: center;}#sk-container-id-1 div.sk-container {/* jupyter's `normalize.less` sets `[hidden] { display: none; }` but bootstrap.min.css set `[hidden] { display: none !important; }` so we also need the `!important` here to be able to override the default hidden behavior on the sphinx rendered scikit-learn.org. See: https://github.com/scikit-learn/scikit-learn/issues/21755 */display: inline-block !important;position: relative;}#sk-container-id-1 div.sk-text-repr-fallback {display: none;}</style><div id=\"sk-container-id-1\" class=\"sk-top-container\"><div class=\"sk-text-repr-fallback\"><pre>Pipeline(steps=[(&#x27;cv&#x27;, CountVectorizer()),\n",
       "                (&#x27;lr&#x27;, MultiOutputClassifier(estimator=LogisticRegression()))])</pre><b>In a Jupyter environment, please rerun this cell to show the HTML representation or trust the notebook. <br />On GitHub, the HTML representation is unable to render, please try loading this page with nbviewer.org.</b></div><div class=\"sk-container\" hidden><div class=\"sk-item sk-dashed-wrapped\"><div class=\"sk-label-container\"><div class=\"sk-label sk-toggleable\"><input class=\"sk-toggleable__control sk-hidden--visually\" id=\"sk-estimator-id-1\" type=\"checkbox\" ><label for=\"sk-estimator-id-1\" class=\"sk-toggleable__label sk-toggleable__label-arrow\">Pipeline</label><div class=\"sk-toggleable__content\"><pre>Pipeline(steps=[(&#x27;cv&#x27;, CountVectorizer()),\n",
       "                (&#x27;lr&#x27;, MultiOutputClassifier(estimator=LogisticRegression()))])</pre></div></div></div><div class=\"sk-serial\"><div class=\"sk-item\"><div class=\"sk-estimator sk-toggleable\"><input class=\"sk-toggleable__control sk-hidden--visually\" id=\"sk-estimator-id-2\" type=\"checkbox\" ><label for=\"sk-estimator-id-2\" class=\"sk-toggleable__label sk-toggleable__label-arrow\">CountVectorizer</label><div class=\"sk-toggleable__content\"><pre>CountVectorizer()</pre></div></div></div><div class=\"sk-item sk-dashed-wrapped\"><div class=\"sk-label-container\"><div class=\"sk-label sk-toggleable\"><input class=\"sk-toggleable__control sk-hidden--visually\" id=\"sk-estimator-id-3\" type=\"checkbox\" ><label for=\"sk-estimator-id-3\" class=\"sk-toggleable__label sk-toggleable__label-arrow\">lr: MultiOutputClassifier</label><div class=\"sk-toggleable__content\"><pre>MultiOutputClassifier(estimator=LogisticRegression())</pre></div></div></div><div class=\"sk-parallel\"><div class=\"sk-parallel-item\"><div class=\"sk-item\"><div class=\"sk-label-container\"><div class=\"sk-label sk-toggleable\"><input class=\"sk-toggleable__control sk-hidden--visually\" id=\"sk-estimator-id-4\" type=\"checkbox\" ><label for=\"sk-estimator-id-4\" class=\"sk-toggleable__label sk-toggleable__label-arrow\">estimator: LogisticRegression</label><div class=\"sk-toggleable__content\"><pre>LogisticRegression()</pre></div></div></div><div class=\"sk-serial\"><div class=\"sk-item\"><div class=\"sk-estimator sk-toggleable\"><input class=\"sk-toggleable__control sk-hidden--visually\" id=\"sk-estimator-id-5\" type=\"checkbox\" ><label for=\"sk-estimator-id-5\" class=\"sk-toggleable__label sk-toggleable__label-arrow\">LogisticRegression</label><div class=\"sk-toggleable__content\"><pre>LogisticRegression()</pre></div></div></div></div></div></div></div></div></div></div></div></div>"
      ],
      "text/plain": [
       "Pipeline(steps=[('cv', CountVectorizer()),\n",
       "                ('lr', MultiOutputClassifier(estimator=LogisticRegression()))])"
      ]
     },
     "execution_count": 57,
     "metadata": {},
     "output_type": "execute_result"
    }
   ],
   "source": [
    "pipe_lr"
   ]
  },
  {
   "cell_type": "code",
   "execution_count": 58,
   "id": "8f6392b1",
   "metadata": {},
   "outputs": [
    {
     "data": {
      "text/html": [
       "<style>#sk-container-id-2 {color: black;background-color: white;}#sk-container-id-2 pre{padding: 0;}#sk-container-id-2 div.sk-toggleable {background-color: white;}#sk-container-id-2 label.sk-toggleable__label {cursor: pointer;display: block;width: 100%;margin-bottom: 0;padding: 0.3em;box-sizing: border-box;text-align: center;}#sk-container-id-2 label.sk-toggleable__label-arrow:before {content: \"▸\";float: left;margin-right: 0.25em;color: #696969;}#sk-container-id-2 label.sk-toggleable__label-arrow:hover:before {color: black;}#sk-container-id-2 div.sk-estimator:hover label.sk-toggleable__label-arrow:before {color: black;}#sk-container-id-2 div.sk-toggleable__content {max-height: 0;max-width: 0;overflow: hidden;text-align: left;background-color: #f0f8ff;}#sk-container-id-2 div.sk-toggleable__content pre {margin: 0.2em;color: black;border-radius: 0.25em;background-color: #f0f8ff;}#sk-container-id-2 input.sk-toggleable__control:checked~div.sk-toggleable__content {max-height: 200px;max-width: 100%;overflow: auto;}#sk-container-id-2 input.sk-toggleable__control:checked~label.sk-toggleable__label-arrow:before {content: \"▾\";}#sk-container-id-2 div.sk-estimator input.sk-toggleable__control:checked~label.sk-toggleable__label {background-color: #d4ebff;}#sk-container-id-2 div.sk-label input.sk-toggleable__control:checked~label.sk-toggleable__label {background-color: #d4ebff;}#sk-container-id-2 input.sk-hidden--visually {border: 0;clip: rect(1px 1px 1px 1px);clip: rect(1px, 1px, 1px, 1px);height: 1px;margin: -1px;overflow: hidden;padding: 0;position: absolute;width: 1px;}#sk-container-id-2 div.sk-estimator {font-family: monospace;background-color: #f0f8ff;border: 1px dotted black;border-radius: 0.25em;box-sizing: border-box;margin-bottom: 0.5em;}#sk-container-id-2 div.sk-estimator:hover {background-color: #d4ebff;}#sk-container-id-2 div.sk-parallel-item::after {content: \"\";width: 100%;border-bottom: 1px solid gray;flex-grow: 1;}#sk-container-id-2 div.sk-label:hover label.sk-toggleable__label {background-color: #d4ebff;}#sk-container-id-2 div.sk-serial::before {content: \"\";position: absolute;border-left: 1px solid gray;box-sizing: border-box;top: 0;bottom: 0;left: 50%;z-index: 0;}#sk-container-id-2 div.sk-serial {display: flex;flex-direction: column;align-items: center;background-color: white;padding-right: 0.2em;padding-left: 0.2em;position: relative;}#sk-container-id-2 div.sk-item {position: relative;z-index: 1;}#sk-container-id-2 div.sk-parallel {display: flex;align-items: stretch;justify-content: center;background-color: white;position: relative;}#sk-container-id-2 div.sk-item::before, #sk-container-id-2 div.sk-parallel-item::before {content: \"\";position: absolute;border-left: 1px solid gray;box-sizing: border-box;top: 0;bottom: 0;left: 50%;z-index: -1;}#sk-container-id-2 div.sk-parallel-item {display: flex;flex-direction: column;z-index: 1;position: relative;background-color: white;}#sk-container-id-2 div.sk-parallel-item:first-child::after {align-self: flex-end;width: 50%;}#sk-container-id-2 div.sk-parallel-item:last-child::after {align-self: flex-start;width: 50%;}#sk-container-id-2 div.sk-parallel-item:only-child::after {width: 0;}#sk-container-id-2 div.sk-dashed-wrapped {border: 1px dashed gray;margin: 0 0.4em 0.5em 0.4em;box-sizing: border-box;padding-bottom: 0.4em;background-color: white;}#sk-container-id-2 div.sk-label label {font-family: monospace;font-weight: bold;display: inline-block;line-height: 1.2em;}#sk-container-id-2 div.sk-label-container {text-align: center;}#sk-container-id-2 div.sk-container {/* jupyter's `normalize.less` sets `[hidden] { display: none; }` but bootstrap.min.css set `[hidden] { display: none !important; }` so we also need the `!important` here to be able to override the default hidden behavior on the sphinx rendered scikit-learn.org. See: https://github.com/scikit-learn/scikit-learn/issues/21755 */display: inline-block !important;position: relative;}#sk-container-id-2 div.sk-text-repr-fallback {display: none;}</style><div id=\"sk-container-id-2\" class=\"sk-top-container\"><div class=\"sk-text-repr-fallback\"><pre>Pipeline(steps=[(&#x27;cv&#x27;, CountVectorizer()),\n",
       "                (&#x27;nb&#x27;, MultiOutputClassifier(estimator=MultinomialNB()))])</pre><b>In a Jupyter environment, please rerun this cell to show the HTML representation or trust the notebook. <br />On GitHub, the HTML representation is unable to render, please try loading this page with nbviewer.org.</b></div><div class=\"sk-container\" hidden><div class=\"sk-item sk-dashed-wrapped\"><div class=\"sk-label-container\"><div class=\"sk-label sk-toggleable\"><input class=\"sk-toggleable__control sk-hidden--visually\" id=\"sk-estimator-id-6\" type=\"checkbox\" ><label for=\"sk-estimator-id-6\" class=\"sk-toggleable__label sk-toggleable__label-arrow\">Pipeline</label><div class=\"sk-toggleable__content\"><pre>Pipeline(steps=[(&#x27;cv&#x27;, CountVectorizer()),\n",
       "                (&#x27;nb&#x27;, MultiOutputClassifier(estimator=MultinomialNB()))])</pre></div></div></div><div class=\"sk-serial\"><div class=\"sk-item\"><div class=\"sk-estimator sk-toggleable\"><input class=\"sk-toggleable__control sk-hidden--visually\" id=\"sk-estimator-id-7\" type=\"checkbox\" ><label for=\"sk-estimator-id-7\" class=\"sk-toggleable__label sk-toggleable__label-arrow\">CountVectorizer</label><div class=\"sk-toggleable__content\"><pre>CountVectorizer()</pre></div></div></div><div class=\"sk-item sk-dashed-wrapped\"><div class=\"sk-label-container\"><div class=\"sk-label sk-toggleable\"><input class=\"sk-toggleable__control sk-hidden--visually\" id=\"sk-estimator-id-8\" type=\"checkbox\" ><label for=\"sk-estimator-id-8\" class=\"sk-toggleable__label sk-toggleable__label-arrow\">nb: MultiOutputClassifier</label><div class=\"sk-toggleable__content\"><pre>MultiOutputClassifier(estimator=MultinomialNB())</pre></div></div></div><div class=\"sk-parallel\"><div class=\"sk-parallel-item\"><div class=\"sk-item\"><div class=\"sk-label-container\"><div class=\"sk-label sk-toggleable\"><input class=\"sk-toggleable__control sk-hidden--visually\" id=\"sk-estimator-id-9\" type=\"checkbox\" ><label for=\"sk-estimator-id-9\" class=\"sk-toggleable__label sk-toggleable__label-arrow\">estimator: MultinomialNB</label><div class=\"sk-toggleable__content\"><pre>MultinomialNB()</pre></div></div></div><div class=\"sk-serial\"><div class=\"sk-item\"><div class=\"sk-estimator sk-toggleable\"><input class=\"sk-toggleable__control sk-hidden--visually\" id=\"sk-estimator-id-10\" type=\"checkbox\" ><label for=\"sk-estimator-id-10\" class=\"sk-toggleable__label sk-toggleable__label-arrow\">MultinomialNB</label><div class=\"sk-toggleable__content\"><pre>MultinomialNB()</pre></div></div></div></div></div></div></div></div></div></div></div></div>"
      ],
      "text/plain": [
       "Pipeline(steps=[('cv', CountVectorizer()),\n",
       "                ('nb', MultiOutputClassifier(estimator=MultinomialNB()))])"
      ]
     },
     "execution_count": 58,
     "metadata": {},
     "output_type": "execute_result"
    }
   ],
   "source": [
    "pipe_nb"
   ]
  },
  {
   "cell_type": "code",
   "execution_count": 59,
   "id": "040f4c59",
   "metadata": {},
   "outputs": [],
   "source": [
    "# visualize pipeline \n",
    "from sklearn import set_config\n",
    "set_config(display='diagram')"
   ]
  },
  {
   "cell_type": "code",
   "execution_count": 60,
   "id": "ee19c2c1",
   "metadata": {},
   "outputs": [
    {
     "data": {
      "text/html": [
       "<style>#sk-container-id-3 {color: black;background-color: white;}#sk-container-id-3 pre{padding: 0;}#sk-container-id-3 div.sk-toggleable {background-color: white;}#sk-container-id-3 label.sk-toggleable__label {cursor: pointer;display: block;width: 100%;margin-bottom: 0;padding: 0.3em;box-sizing: border-box;text-align: center;}#sk-container-id-3 label.sk-toggleable__label-arrow:before {content: \"▸\";float: left;margin-right: 0.25em;color: #696969;}#sk-container-id-3 label.sk-toggleable__label-arrow:hover:before {color: black;}#sk-container-id-3 div.sk-estimator:hover label.sk-toggleable__label-arrow:before {color: black;}#sk-container-id-3 div.sk-toggleable__content {max-height: 0;max-width: 0;overflow: hidden;text-align: left;background-color: #f0f8ff;}#sk-container-id-3 div.sk-toggleable__content pre {margin: 0.2em;color: black;border-radius: 0.25em;background-color: #f0f8ff;}#sk-container-id-3 input.sk-toggleable__control:checked~div.sk-toggleable__content {max-height: 200px;max-width: 100%;overflow: auto;}#sk-container-id-3 input.sk-toggleable__control:checked~label.sk-toggleable__label-arrow:before {content: \"▾\";}#sk-container-id-3 div.sk-estimator input.sk-toggleable__control:checked~label.sk-toggleable__label {background-color: #d4ebff;}#sk-container-id-3 div.sk-label input.sk-toggleable__control:checked~label.sk-toggleable__label {background-color: #d4ebff;}#sk-container-id-3 input.sk-hidden--visually {border: 0;clip: rect(1px 1px 1px 1px);clip: rect(1px, 1px, 1px, 1px);height: 1px;margin: -1px;overflow: hidden;padding: 0;position: absolute;width: 1px;}#sk-container-id-3 div.sk-estimator {font-family: monospace;background-color: #f0f8ff;border: 1px dotted black;border-radius: 0.25em;box-sizing: border-box;margin-bottom: 0.5em;}#sk-container-id-3 div.sk-estimator:hover {background-color: #d4ebff;}#sk-container-id-3 div.sk-parallel-item::after {content: \"\";width: 100%;border-bottom: 1px solid gray;flex-grow: 1;}#sk-container-id-3 div.sk-label:hover label.sk-toggleable__label {background-color: #d4ebff;}#sk-container-id-3 div.sk-serial::before {content: \"\";position: absolute;border-left: 1px solid gray;box-sizing: border-box;top: 0;bottom: 0;left: 50%;z-index: 0;}#sk-container-id-3 div.sk-serial {display: flex;flex-direction: column;align-items: center;background-color: white;padding-right: 0.2em;padding-left: 0.2em;position: relative;}#sk-container-id-3 div.sk-item {position: relative;z-index: 1;}#sk-container-id-3 div.sk-parallel {display: flex;align-items: stretch;justify-content: center;background-color: white;position: relative;}#sk-container-id-3 div.sk-item::before, #sk-container-id-3 div.sk-parallel-item::before {content: \"\";position: absolute;border-left: 1px solid gray;box-sizing: border-box;top: 0;bottom: 0;left: 50%;z-index: -1;}#sk-container-id-3 div.sk-parallel-item {display: flex;flex-direction: column;z-index: 1;position: relative;background-color: white;}#sk-container-id-3 div.sk-parallel-item:first-child::after {align-self: flex-end;width: 50%;}#sk-container-id-3 div.sk-parallel-item:last-child::after {align-self: flex-start;width: 50%;}#sk-container-id-3 div.sk-parallel-item:only-child::after {width: 0;}#sk-container-id-3 div.sk-dashed-wrapped {border: 1px dashed gray;margin: 0 0.4em 0.5em 0.4em;box-sizing: border-box;padding-bottom: 0.4em;background-color: white;}#sk-container-id-3 div.sk-label label {font-family: monospace;font-weight: bold;display: inline-block;line-height: 1.2em;}#sk-container-id-3 div.sk-label-container {text-align: center;}#sk-container-id-3 div.sk-container {/* jupyter's `normalize.less` sets `[hidden] { display: none; }` but bootstrap.min.css set `[hidden] { display: none !important; }` so we also need the `!important` here to be able to override the default hidden behavior on the sphinx rendered scikit-learn.org. See: https://github.com/scikit-learn/scikit-learn/issues/21755 */display: inline-block !important;position: relative;}#sk-container-id-3 div.sk-text-repr-fallback {display: none;}</style><div id=\"sk-container-id-3\" class=\"sk-top-container\"><div class=\"sk-text-repr-fallback\"><pre>Pipeline(steps=[(&#x27;cv&#x27;, CountVectorizer()),\n",
       "                (&#x27;lr&#x27;, MultiOutputClassifier(estimator=LogisticRegression()))])</pre><b>In a Jupyter environment, please rerun this cell to show the HTML representation or trust the notebook. <br />On GitHub, the HTML representation is unable to render, please try loading this page with nbviewer.org.</b></div><div class=\"sk-container\" hidden><div class=\"sk-item sk-dashed-wrapped\"><div class=\"sk-label-container\"><div class=\"sk-label sk-toggleable\"><input class=\"sk-toggleable__control sk-hidden--visually\" id=\"sk-estimator-id-11\" type=\"checkbox\" ><label for=\"sk-estimator-id-11\" class=\"sk-toggleable__label sk-toggleable__label-arrow\">Pipeline</label><div class=\"sk-toggleable__content\"><pre>Pipeline(steps=[(&#x27;cv&#x27;, CountVectorizer()),\n",
       "                (&#x27;lr&#x27;, MultiOutputClassifier(estimator=LogisticRegression()))])</pre></div></div></div><div class=\"sk-serial\"><div class=\"sk-item\"><div class=\"sk-estimator sk-toggleable\"><input class=\"sk-toggleable__control sk-hidden--visually\" id=\"sk-estimator-id-12\" type=\"checkbox\" ><label for=\"sk-estimator-id-12\" class=\"sk-toggleable__label sk-toggleable__label-arrow\">CountVectorizer</label><div class=\"sk-toggleable__content\"><pre>CountVectorizer()</pre></div></div></div><div class=\"sk-item sk-dashed-wrapped\"><div class=\"sk-label-container\"><div class=\"sk-label sk-toggleable\"><input class=\"sk-toggleable__control sk-hidden--visually\" id=\"sk-estimator-id-13\" type=\"checkbox\" ><label for=\"sk-estimator-id-13\" class=\"sk-toggleable__label sk-toggleable__label-arrow\">lr: MultiOutputClassifier</label><div class=\"sk-toggleable__content\"><pre>MultiOutputClassifier(estimator=LogisticRegression())</pre></div></div></div><div class=\"sk-parallel\"><div class=\"sk-parallel-item\"><div class=\"sk-item\"><div class=\"sk-label-container\"><div class=\"sk-label sk-toggleable\"><input class=\"sk-toggleable__control sk-hidden--visually\" id=\"sk-estimator-id-14\" type=\"checkbox\" ><label for=\"sk-estimator-id-14\" class=\"sk-toggleable__label sk-toggleable__label-arrow\">estimator: LogisticRegression</label><div class=\"sk-toggleable__content\"><pre>LogisticRegression()</pre></div></div></div><div class=\"sk-serial\"><div class=\"sk-item\"><div class=\"sk-estimator sk-toggleable\"><input class=\"sk-toggleable__control sk-hidden--visually\" id=\"sk-estimator-id-15\" type=\"checkbox\" ><label for=\"sk-estimator-id-15\" class=\"sk-toggleable__label sk-toggleable__label-arrow\">LogisticRegression</label><div class=\"sk-toggleable__content\"><pre>LogisticRegression()</pre></div></div></div></div></div></div></div></div></div></div></div></div>"
      ],
      "text/plain": [
       "Pipeline(steps=[('cv', CountVectorizer()),\n",
       "                ('lr', MultiOutputClassifier(estimator=LogisticRegression()))])"
      ]
     },
     "execution_count": 60,
     "metadata": {},
     "output_type": "execute_result"
    }
   ],
   "source": [
    "pipe_lr"
   ]
  },
  {
   "cell_type": "code",
   "execution_count": 61,
   "id": "d461c323",
   "metadata": {},
   "outputs": [
    {
     "data": {
      "text/plain": [
       "[('cv', CountVectorizer()),\n",
       " ('lr', MultiOutputClassifier(estimator=LogisticRegression()))]"
      ]
     },
     "execution_count": 61,
     "metadata": {},
     "output_type": "execute_result"
    }
   ],
   "source": [
    "pipe_lr.steps"
   ]
  },
  {
   "cell_type": "code",
   "execution_count": 62,
   "id": "16e05778",
   "metadata": {},
   "outputs": [
    {
     "data": {
      "text/plain": [
       "{'memory': None,\n",
       " 'steps': [('cv', CountVectorizer()),\n",
       "  ('lr', MultiOutputClassifier(estimator=LogisticRegression()))],\n",
       " 'verbose': False,\n",
       " 'cv': CountVectorizer(),\n",
       " 'lr': MultiOutputClassifier(estimator=LogisticRegression()),\n",
       " 'cv__analyzer': 'word',\n",
       " 'cv__binary': False,\n",
       " 'cv__decode_error': 'strict',\n",
       " 'cv__dtype': numpy.int64,\n",
       " 'cv__encoding': 'utf-8',\n",
       " 'cv__input': 'content',\n",
       " 'cv__lowercase': True,\n",
       " 'cv__max_df': 1.0,\n",
       " 'cv__max_features': None,\n",
       " 'cv__min_df': 1,\n",
       " 'cv__ngram_range': (1, 1),\n",
       " 'cv__preprocessor': None,\n",
       " 'cv__stop_words': None,\n",
       " 'cv__strip_accents': None,\n",
       " 'cv__token_pattern': '(?u)\\\\b\\\\w\\\\w+\\\\b',\n",
       " 'cv__tokenizer': None,\n",
       " 'cv__vocabulary': None,\n",
       " 'lr__estimator__C': 1.0,\n",
       " 'lr__estimator__class_weight': None,\n",
       " 'lr__estimator__dual': False,\n",
       " 'lr__estimator__fit_intercept': True,\n",
       " 'lr__estimator__intercept_scaling': 1,\n",
       " 'lr__estimator__l1_ratio': None,\n",
       " 'lr__estimator__max_iter': 100,\n",
       " 'lr__estimator__multi_class': 'auto',\n",
       " 'lr__estimator__n_jobs': None,\n",
       " 'lr__estimator__penalty': 'l2',\n",
       " 'lr__estimator__random_state': None,\n",
       " 'lr__estimator__solver': 'lbfgs',\n",
       " 'lr__estimator__tol': 0.0001,\n",
       " 'lr__estimator__verbose': 0,\n",
       " 'lr__estimator__warm_start': False,\n",
       " 'lr__estimator': LogisticRegression(),\n",
       " 'lr__n_jobs': None}"
      ]
     },
     "execution_count": 62,
     "metadata": {},
     "output_type": "execute_result"
    }
   ],
   "source": [
    "# get paramns\n",
    "pipe_lr.get_params()"
   ]
  },
  {
   "cell_type": "code",
   "execution_count": 63,
   "id": "a7a600f3",
   "metadata": {},
   "outputs": [],
   "source": [
    "# y_train_enco = pd.get_dummies(final_data[['type','description','rating','Rating']])"
   ]
  },
  {
   "cell_type": "code",
   "execution_count": 64,
   "id": "036395cb",
   "metadata": {},
   "outputs": [
    {
     "data": {
      "text/html": [
       "<style>#sk-container-id-4 {color: black;background-color: white;}#sk-container-id-4 pre{padding: 0;}#sk-container-id-4 div.sk-toggleable {background-color: white;}#sk-container-id-4 label.sk-toggleable__label {cursor: pointer;display: block;width: 100%;margin-bottom: 0;padding: 0.3em;box-sizing: border-box;text-align: center;}#sk-container-id-4 label.sk-toggleable__label-arrow:before {content: \"▸\";float: left;margin-right: 0.25em;color: #696969;}#sk-container-id-4 label.sk-toggleable__label-arrow:hover:before {color: black;}#sk-container-id-4 div.sk-estimator:hover label.sk-toggleable__label-arrow:before {color: black;}#sk-container-id-4 div.sk-toggleable__content {max-height: 0;max-width: 0;overflow: hidden;text-align: left;background-color: #f0f8ff;}#sk-container-id-4 div.sk-toggleable__content pre {margin: 0.2em;color: black;border-radius: 0.25em;background-color: #f0f8ff;}#sk-container-id-4 input.sk-toggleable__control:checked~div.sk-toggleable__content {max-height: 200px;max-width: 100%;overflow: auto;}#sk-container-id-4 input.sk-toggleable__control:checked~label.sk-toggleable__label-arrow:before {content: \"▾\";}#sk-container-id-4 div.sk-estimator input.sk-toggleable__control:checked~label.sk-toggleable__label {background-color: #d4ebff;}#sk-container-id-4 div.sk-label input.sk-toggleable__control:checked~label.sk-toggleable__label {background-color: #d4ebff;}#sk-container-id-4 input.sk-hidden--visually {border: 0;clip: rect(1px 1px 1px 1px);clip: rect(1px, 1px, 1px, 1px);height: 1px;margin: -1px;overflow: hidden;padding: 0;position: absolute;width: 1px;}#sk-container-id-4 div.sk-estimator {font-family: monospace;background-color: #f0f8ff;border: 1px dotted black;border-radius: 0.25em;box-sizing: border-box;margin-bottom: 0.5em;}#sk-container-id-4 div.sk-estimator:hover {background-color: #d4ebff;}#sk-container-id-4 div.sk-parallel-item::after {content: \"\";width: 100%;border-bottom: 1px solid gray;flex-grow: 1;}#sk-container-id-4 div.sk-label:hover label.sk-toggleable__label {background-color: #d4ebff;}#sk-container-id-4 div.sk-serial::before {content: \"\";position: absolute;border-left: 1px solid gray;box-sizing: border-box;top: 0;bottom: 0;left: 50%;z-index: 0;}#sk-container-id-4 div.sk-serial {display: flex;flex-direction: column;align-items: center;background-color: white;padding-right: 0.2em;padding-left: 0.2em;position: relative;}#sk-container-id-4 div.sk-item {position: relative;z-index: 1;}#sk-container-id-4 div.sk-parallel {display: flex;align-items: stretch;justify-content: center;background-color: white;position: relative;}#sk-container-id-4 div.sk-item::before, #sk-container-id-4 div.sk-parallel-item::before {content: \"\";position: absolute;border-left: 1px solid gray;box-sizing: border-box;top: 0;bottom: 0;left: 50%;z-index: -1;}#sk-container-id-4 div.sk-parallel-item {display: flex;flex-direction: column;z-index: 1;position: relative;background-color: white;}#sk-container-id-4 div.sk-parallel-item:first-child::after {align-self: flex-end;width: 50%;}#sk-container-id-4 div.sk-parallel-item:last-child::after {align-self: flex-start;width: 50%;}#sk-container-id-4 div.sk-parallel-item:only-child::after {width: 0;}#sk-container-id-4 div.sk-dashed-wrapped {border: 1px dashed gray;margin: 0 0.4em 0.5em 0.4em;box-sizing: border-box;padding-bottom: 0.4em;background-color: white;}#sk-container-id-4 div.sk-label label {font-family: monospace;font-weight: bold;display: inline-block;line-height: 1.2em;}#sk-container-id-4 div.sk-label-container {text-align: center;}#sk-container-id-4 div.sk-container {/* jupyter's `normalize.less` sets `[hidden] { display: none; }` but bootstrap.min.css set `[hidden] { display: none !important; }` so we also need the `!important` here to be able to override the default hidden behavior on the sphinx rendered scikit-learn.org. See: https://github.com/scikit-learn/scikit-learn/issues/21755 */display: inline-block !important;position: relative;}#sk-container-id-4 div.sk-text-repr-fallback {display: none;}</style><div id=\"sk-container-id-4\" class=\"sk-top-container\"><div class=\"sk-text-repr-fallback\"><pre>Pipeline(steps=[(&#x27;cv&#x27;, CountVectorizer()),\n",
       "                (&#x27;lr&#x27;, MultiOutputClassifier(estimator=LogisticRegression()))])</pre><b>In a Jupyter environment, please rerun this cell to show the HTML representation or trust the notebook. <br />On GitHub, the HTML representation is unable to render, please try loading this page with nbviewer.org.</b></div><div class=\"sk-container\" hidden><div class=\"sk-item sk-dashed-wrapped\"><div class=\"sk-label-container\"><div class=\"sk-label sk-toggleable\"><input class=\"sk-toggleable__control sk-hidden--visually\" id=\"sk-estimator-id-16\" type=\"checkbox\" ><label for=\"sk-estimator-id-16\" class=\"sk-toggleable__label sk-toggleable__label-arrow\">Pipeline</label><div class=\"sk-toggleable__content\"><pre>Pipeline(steps=[(&#x27;cv&#x27;, CountVectorizer()),\n",
       "                (&#x27;lr&#x27;, MultiOutputClassifier(estimator=LogisticRegression()))])</pre></div></div></div><div class=\"sk-serial\"><div class=\"sk-item\"><div class=\"sk-estimator sk-toggleable\"><input class=\"sk-toggleable__control sk-hidden--visually\" id=\"sk-estimator-id-17\" type=\"checkbox\" ><label for=\"sk-estimator-id-17\" class=\"sk-toggleable__label sk-toggleable__label-arrow\">CountVectorizer</label><div class=\"sk-toggleable__content\"><pre>CountVectorizer()</pre></div></div></div><div class=\"sk-item sk-dashed-wrapped\"><div class=\"sk-label-container\"><div class=\"sk-label sk-toggleable\"><input class=\"sk-toggleable__control sk-hidden--visually\" id=\"sk-estimator-id-18\" type=\"checkbox\" ><label for=\"sk-estimator-id-18\" class=\"sk-toggleable__label sk-toggleable__label-arrow\">lr: MultiOutputClassifier</label><div class=\"sk-toggleable__content\"><pre>MultiOutputClassifier(estimator=LogisticRegression())</pre></div></div></div><div class=\"sk-parallel\"><div class=\"sk-parallel-item\"><div class=\"sk-item\"><div class=\"sk-label-container\"><div class=\"sk-label sk-toggleable\"><input class=\"sk-toggleable__control sk-hidden--visually\" id=\"sk-estimator-id-19\" type=\"checkbox\" ><label for=\"sk-estimator-id-19\" class=\"sk-toggleable__label sk-toggleable__label-arrow\">estimator: LogisticRegression</label><div class=\"sk-toggleable__content\"><pre>LogisticRegression()</pre></div></div></div><div class=\"sk-serial\"><div class=\"sk-item\"><div class=\"sk-estimator sk-toggleable\"><input class=\"sk-toggleable__control sk-hidden--visually\" id=\"sk-estimator-id-20\" type=\"checkbox\" ><label for=\"sk-estimator-id-20\" class=\"sk-toggleable__label sk-toggleable__label-arrow\">LogisticRegression</label><div class=\"sk-toggleable__content\"><pre>LogisticRegression()</pre></div></div></div></div></div></div></div></div></div></div></div></div>"
      ],
      "text/plain": [
       "Pipeline(steps=[('cv', CountVectorizer()),\n",
       "                ('lr', MultiOutputClassifier(estimator=LogisticRegression()))])"
      ]
     },
     "execution_count": 64,
     "metadata": {},
     "output_type": "execute_result"
    }
   ],
   "source": [
    "pipe_lr.fit(X_train,y_train)"
   ]
  },
  {
   "cell_type": "code",
   "execution_count": 65,
   "id": "2b744ca9",
   "metadata": {},
   "outputs": [
    {
     "data": {
      "text/plain": [
       "0.45921052631578946"
      ]
     },
     "execution_count": 65,
     "metadata": {},
     "output_type": "execute_result"
    }
   ],
   "source": [
    "# Accuracy\n",
    "pipe_lr.score(X_test,y_test)"
   ]
  },
  {
   "cell_type": "code",
   "execution_count": 66,
   "id": "cb6b18b4",
   "metadata": {},
   "outputs": [
    {
     "data": {
      "text/plain": [
       "1544                  One by Two\n",
       "1188           The Vatican Tapes\n",
       "1639          The Gospel of John\n",
       "1263         Season of the Witch\n",
       "2368                       Grass\n",
       "                  ...           \n",
       "612     I'll Sleep When I'm Dead\n",
       "835                      Case 39\n",
       "2521                   Mallesham\n",
       "2198                    Noblemen\n",
       "1183                       Macho\n",
       "Name: title, Length: 760, dtype: object"
      ]
     },
     "execution_count": 66,
     "metadata": {},
     "output_type": "execute_result"
    }
   ],
   "source": [
    "X_test"
   ]
  },
  {
   "cell_type": "code",
   "execution_count": 67,
   "id": "1f2db1bd",
   "metadata": {},
   "outputs": [
    {
     "name": "stdout",
     "output_type": "stream",
     "text": [
      "One by Two\n",
      "Actual Prediction: type      Movie\n",
      "rating    TV-14\n",
      "Name: 1544, dtype: object\n"
     ]
    }
   ],
   "source": [
    "# Make a prediction of the rating \n",
    "# Sample Prediction\n",
    "print(X_test.iloc[0])\n",
    "print(\"Actual Prediction:\",y_test.iloc[0])"
   ]
  },
  {
   "cell_type": "code",
   "execution_count": 68,
   "id": "318f81c4",
   "metadata": {},
   "outputs": [
    {
     "data": {
      "text/plain": [
       "'One by Two'"
      ]
     },
     "execution_count": 68,
     "metadata": {},
     "output_type": "execute_result"
    }
   ],
   "source": [
    "ex1 = X_test.iloc[0]\n",
    "ex1"
   ]
  },
  {
   "cell_type": "code",
   "execution_count": 69,
   "id": "cb9e9b08",
   "metadata": {},
   "outputs": [
    {
     "data": {
      "text/plain": [
       "array([['Movie', 'TV-14']], dtype=object)"
      ]
     },
     "execution_count": 69,
     "metadata": {},
     "output_type": "execute_result"
    }
   ],
   "source": [
    "pipe_lr.predict([ex1])"
   ]
  },
  {
   "cell_type": "code",
   "execution_count": 70,
   "id": "80ab4d15",
   "metadata": {},
   "outputs": [
    {
     "name": "stdout",
     "output_type": "stream",
     "text": [
      "[array(['Movie', 'TV Show'], dtype=object), array(['G', 'NC-17', 'NR', 'PG', 'PG-13', 'R', 'TV-14', 'TV-G', 'TV-MA',\n",
      "       'TV-PG', 'TV-Y', 'TV-Y7', 'UR'], dtype=object)]\n"
     ]
    },
    {
     "data": {
      "text/plain": [
       "[array([[0.9925021, 0.0074979]]),\n",
       " array([[3.32565901e-03, 4.06513715e-04, 7.81043278e-03, 2.03595622e-02,\n",
       "         3.09883584e-02, 2.13025637e-01, 4.95429007e-01, 2.85317421e-03,\n",
       "         1.28708027e-01, 9.17083618e-02, 7.98173500e-04, 4.09069908e-03,\n",
       "         4.96394521e-04]])]"
      ]
     },
     "execution_count": 70,
     "metadata": {},
     "output_type": "execute_result"
    }
   ],
   "source": [
    "# Prediction Prob\n",
    "print(pipe_lr.classes_)\n",
    "pipe_lr.predict_proba([ex1])"
   ]
  },
  {
   "cell_type": "code",
   "execution_count": 71,
   "id": "3967cf0e",
   "metadata": {},
   "outputs": [
    {
     "data": {
      "text/html": [
       "<style>#sk-container-id-5 {color: black;background-color: white;}#sk-container-id-5 pre{padding: 0;}#sk-container-id-5 div.sk-toggleable {background-color: white;}#sk-container-id-5 label.sk-toggleable__label {cursor: pointer;display: block;width: 100%;margin-bottom: 0;padding: 0.3em;box-sizing: border-box;text-align: center;}#sk-container-id-5 label.sk-toggleable__label-arrow:before {content: \"▸\";float: left;margin-right: 0.25em;color: #696969;}#sk-container-id-5 label.sk-toggleable__label-arrow:hover:before {color: black;}#sk-container-id-5 div.sk-estimator:hover label.sk-toggleable__label-arrow:before {color: black;}#sk-container-id-5 div.sk-toggleable__content {max-height: 0;max-width: 0;overflow: hidden;text-align: left;background-color: #f0f8ff;}#sk-container-id-5 div.sk-toggleable__content pre {margin: 0.2em;color: black;border-radius: 0.25em;background-color: #f0f8ff;}#sk-container-id-5 input.sk-toggleable__control:checked~div.sk-toggleable__content {max-height: 200px;max-width: 100%;overflow: auto;}#sk-container-id-5 input.sk-toggleable__control:checked~label.sk-toggleable__label-arrow:before {content: \"▾\";}#sk-container-id-5 div.sk-estimator input.sk-toggleable__control:checked~label.sk-toggleable__label {background-color: #d4ebff;}#sk-container-id-5 div.sk-label input.sk-toggleable__control:checked~label.sk-toggleable__label {background-color: #d4ebff;}#sk-container-id-5 input.sk-hidden--visually {border: 0;clip: rect(1px 1px 1px 1px);clip: rect(1px, 1px, 1px, 1px);height: 1px;margin: -1px;overflow: hidden;padding: 0;position: absolute;width: 1px;}#sk-container-id-5 div.sk-estimator {font-family: monospace;background-color: #f0f8ff;border: 1px dotted black;border-radius: 0.25em;box-sizing: border-box;margin-bottom: 0.5em;}#sk-container-id-5 div.sk-estimator:hover {background-color: #d4ebff;}#sk-container-id-5 div.sk-parallel-item::after {content: \"\";width: 100%;border-bottom: 1px solid gray;flex-grow: 1;}#sk-container-id-5 div.sk-label:hover label.sk-toggleable__label {background-color: #d4ebff;}#sk-container-id-5 div.sk-serial::before {content: \"\";position: absolute;border-left: 1px solid gray;box-sizing: border-box;top: 0;bottom: 0;left: 50%;z-index: 0;}#sk-container-id-5 div.sk-serial {display: flex;flex-direction: column;align-items: center;background-color: white;padding-right: 0.2em;padding-left: 0.2em;position: relative;}#sk-container-id-5 div.sk-item {position: relative;z-index: 1;}#sk-container-id-5 div.sk-parallel {display: flex;align-items: stretch;justify-content: center;background-color: white;position: relative;}#sk-container-id-5 div.sk-item::before, #sk-container-id-5 div.sk-parallel-item::before {content: \"\";position: absolute;border-left: 1px solid gray;box-sizing: border-box;top: 0;bottom: 0;left: 50%;z-index: -1;}#sk-container-id-5 div.sk-parallel-item {display: flex;flex-direction: column;z-index: 1;position: relative;background-color: white;}#sk-container-id-5 div.sk-parallel-item:first-child::after {align-self: flex-end;width: 50%;}#sk-container-id-5 div.sk-parallel-item:last-child::after {align-self: flex-start;width: 50%;}#sk-container-id-5 div.sk-parallel-item:only-child::after {width: 0;}#sk-container-id-5 div.sk-dashed-wrapped {border: 1px dashed gray;margin: 0 0.4em 0.5em 0.4em;box-sizing: border-box;padding-bottom: 0.4em;background-color: white;}#sk-container-id-5 div.sk-label label {font-family: monospace;font-weight: bold;display: inline-block;line-height: 1.2em;}#sk-container-id-5 div.sk-label-container {text-align: center;}#sk-container-id-5 div.sk-container {/* jupyter's `normalize.less` sets `[hidden] { display: none; }` but bootstrap.min.css set `[hidden] { display: none !important; }` so we also need the `!important` here to be able to override the default hidden behavior on the sphinx rendered scikit-learn.org. See: https://github.com/scikit-learn/scikit-learn/issues/21755 */display: inline-block !important;position: relative;}#sk-container-id-5 div.sk-text-repr-fallback {display: none;}</style><div id=\"sk-container-id-5\" class=\"sk-top-container\"><div class=\"sk-text-repr-fallback\"><pre>Pipeline(steps=[(&#x27;cv&#x27;, CountVectorizer()),\n",
       "                (&#x27;nb&#x27;, MultiOutputClassifier(estimator=MultinomialNB()))])</pre><b>In a Jupyter environment, please rerun this cell to show the HTML representation or trust the notebook. <br />On GitHub, the HTML representation is unable to render, please try loading this page with nbviewer.org.</b></div><div class=\"sk-container\" hidden><div class=\"sk-item sk-dashed-wrapped\"><div class=\"sk-label-container\"><div class=\"sk-label sk-toggleable\"><input class=\"sk-toggleable__control sk-hidden--visually\" id=\"sk-estimator-id-21\" type=\"checkbox\" ><label for=\"sk-estimator-id-21\" class=\"sk-toggleable__label sk-toggleable__label-arrow\">Pipeline</label><div class=\"sk-toggleable__content\"><pre>Pipeline(steps=[(&#x27;cv&#x27;, CountVectorizer()),\n",
       "                (&#x27;nb&#x27;, MultiOutputClassifier(estimator=MultinomialNB()))])</pre></div></div></div><div class=\"sk-serial\"><div class=\"sk-item\"><div class=\"sk-estimator sk-toggleable\"><input class=\"sk-toggleable__control sk-hidden--visually\" id=\"sk-estimator-id-22\" type=\"checkbox\" ><label for=\"sk-estimator-id-22\" class=\"sk-toggleable__label sk-toggleable__label-arrow\">CountVectorizer</label><div class=\"sk-toggleable__content\"><pre>CountVectorizer()</pre></div></div></div><div class=\"sk-item sk-dashed-wrapped\"><div class=\"sk-label-container\"><div class=\"sk-label sk-toggleable\"><input class=\"sk-toggleable__control sk-hidden--visually\" id=\"sk-estimator-id-23\" type=\"checkbox\" ><label for=\"sk-estimator-id-23\" class=\"sk-toggleable__label sk-toggleable__label-arrow\">nb: MultiOutputClassifier</label><div class=\"sk-toggleable__content\"><pre>MultiOutputClassifier(estimator=MultinomialNB())</pre></div></div></div><div class=\"sk-parallel\"><div class=\"sk-parallel-item\"><div class=\"sk-item\"><div class=\"sk-label-container\"><div class=\"sk-label sk-toggleable\"><input class=\"sk-toggleable__control sk-hidden--visually\" id=\"sk-estimator-id-24\" type=\"checkbox\" ><label for=\"sk-estimator-id-24\" class=\"sk-toggleable__label sk-toggleable__label-arrow\">estimator: MultinomialNB</label><div class=\"sk-toggleable__content\"><pre>MultinomialNB()</pre></div></div></div><div class=\"sk-serial\"><div class=\"sk-item\"><div class=\"sk-estimator sk-toggleable\"><input class=\"sk-toggleable__control sk-hidden--visually\" id=\"sk-estimator-id-25\" type=\"checkbox\" ><label for=\"sk-estimator-id-25\" class=\"sk-toggleable__label sk-toggleable__label-arrow\">MultinomialNB</label><div class=\"sk-toggleable__content\"><pre>MultinomialNB()</pre></div></div></div></div></div></div></div></div></div></div></div></div>"
      ],
      "text/plain": [
       "Pipeline(steps=[('cv', CountVectorizer()),\n",
       "                ('nb', MultiOutputClassifier(estimator=MultinomialNB()))])"
      ]
     },
     "execution_count": 71,
     "metadata": {},
     "output_type": "execute_result"
    }
   ],
   "source": [
    "pipe_nb"
   ]
  },
  {
   "cell_type": "code",
   "execution_count": 72,
   "id": "e34121fc",
   "metadata": {},
   "outputs": [
    {
     "data": {
      "text/html": [
       "<style>#sk-container-id-6 {color: black;background-color: white;}#sk-container-id-6 pre{padding: 0;}#sk-container-id-6 div.sk-toggleable {background-color: white;}#sk-container-id-6 label.sk-toggleable__label {cursor: pointer;display: block;width: 100%;margin-bottom: 0;padding: 0.3em;box-sizing: border-box;text-align: center;}#sk-container-id-6 label.sk-toggleable__label-arrow:before {content: \"▸\";float: left;margin-right: 0.25em;color: #696969;}#sk-container-id-6 label.sk-toggleable__label-arrow:hover:before {color: black;}#sk-container-id-6 div.sk-estimator:hover label.sk-toggleable__label-arrow:before {color: black;}#sk-container-id-6 div.sk-toggleable__content {max-height: 0;max-width: 0;overflow: hidden;text-align: left;background-color: #f0f8ff;}#sk-container-id-6 div.sk-toggleable__content pre {margin: 0.2em;color: black;border-radius: 0.25em;background-color: #f0f8ff;}#sk-container-id-6 input.sk-toggleable__control:checked~div.sk-toggleable__content {max-height: 200px;max-width: 100%;overflow: auto;}#sk-container-id-6 input.sk-toggleable__control:checked~label.sk-toggleable__label-arrow:before {content: \"▾\";}#sk-container-id-6 div.sk-estimator input.sk-toggleable__control:checked~label.sk-toggleable__label {background-color: #d4ebff;}#sk-container-id-6 div.sk-label input.sk-toggleable__control:checked~label.sk-toggleable__label {background-color: #d4ebff;}#sk-container-id-6 input.sk-hidden--visually {border: 0;clip: rect(1px 1px 1px 1px);clip: rect(1px, 1px, 1px, 1px);height: 1px;margin: -1px;overflow: hidden;padding: 0;position: absolute;width: 1px;}#sk-container-id-6 div.sk-estimator {font-family: monospace;background-color: #f0f8ff;border: 1px dotted black;border-radius: 0.25em;box-sizing: border-box;margin-bottom: 0.5em;}#sk-container-id-6 div.sk-estimator:hover {background-color: #d4ebff;}#sk-container-id-6 div.sk-parallel-item::after {content: \"\";width: 100%;border-bottom: 1px solid gray;flex-grow: 1;}#sk-container-id-6 div.sk-label:hover label.sk-toggleable__label {background-color: #d4ebff;}#sk-container-id-6 div.sk-serial::before {content: \"\";position: absolute;border-left: 1px solid gray;box-sizing: border-box;top: 0;bottom: 0;left: 50%;z-index: 0;}#sk-container-id-6 div.sk-serial {display: flex;flex-direction: column;align-items: center;background-color: white;padding-right: 0.2em;padding-left: 0.2em;position: relative;}#sk-container-id-6 div.sk-item {position: relative;z-index: 1;}#sk-container-id-6 div.sk-parallel {display: flex;align-items: stretch;justify-content: center;background-color: white;position: relative;}#sk-container-id-6 div.sk-item::before, #sk-container-id-6 div.sk-parallel-item::before {content: \"\";position: absolute;border-left: 1px solid gray;box-sizing: border-box;top: 0;bottom: 0;left: 50%;z-index: -1;}#sk-container-id-6 div.sk-parallel-item {display: flex;flex-direction: column;z-index: 1;position: relative;background-color: white;}#sk-container-id-6 div.sk-parallel-item:first-child::after {align-self: flex-end;width: 50%;}#sk-container-id-6 div.sk-parallel-item:last-child::after {align-self: flex-start;width: 50%;}#sk-container-id-6 div.sk-parallel-item:only-child::after {width: 0;}#sk-container-id-6 div.sk-dashed-wrapped {border: 1px dashed gray;margin: 0 0.4em 0.5em 0.4em;box-sizing: border-box;padding-bottom: 0.4em;background-color: white;}#sk-container-id-6 div.sk-label label {font-family: monospace;font-weight: bold;display: inline-block;line-height: 1.2em;}#sk-container-id-6 div.sk-label-container {text-align: center;}#sk-container-id-6 div.sk-container {/* jupyter's `normalize.less` sets `[hidden] { display: none; }` but bootstrap.min.css set `[hidden] { display: none !important; }` so we also need the `!important` here to be able to override the default hidden behavior on the sphinx rendered scikit-learn.org. See: https://github.com/scikit-learn/scikit-learn/issues/21755 */display: inline-block !important;position: relative;}#sk-container-id-6 div.sk-text-repr-fallback {display: none;}</style><div id=\"sk-container-id-6\" class=\"sk-top-container\"><div class=\"sk-text-repr-fallback\"><pre>Pipeline(steps=[(&#x27;cv&#x27;, CountVectorizer()),\n",
       "                (&#x27;nb&#x27;, MultiOutputClassifier(estimator=MultinomialNB()))])</pre><b>In a Jupyter environment, please rerun this cell to show the HTML representation or trust the notebook. <br />On GitHub, the HTML representation is unable to render, please try loading this page with nbviewer.org.</b></div><div class=\"sk-container\" hidden><div class=\"sk-item sk-dashed-wrapped\"><div class=\"sk-label-container\"><div class=\"sk-label sk-toggleable\"><input class=\"sk-toggleable__control sk-hidden--visually\" id=\"sk-estimator-id-26\" type=\"checkbox\" ><label for=\"sk-estimator-id-26\" class=\"sk-toggleable__label sk-toggleable__label-arrow\">Pipeline</label><div class=\"sk-toggleable__content\"><pre>Pipeline(steps=[(&#x27;cv&#x27;, CountVectorizer()),\n",
       "                (&#x27;nb&#x27;, MultiOutputClassifier(estimator=MultinomialNB()))])</pre></div></div></div><div class=\"sk-serial\"><div class=\"sk-item\"><div class=\"sk-estimator sk-toggleable\"><input class=\"sk-toggleable__control sk-hidden--visually\" id=\"sk-estimator-id-27\" type=\"checkbox\" ><label for=\"sk-estimator-id-27\" class=\"sk-toggleable__label sk-toggleable__label-arrow\">CountVectorizer</label><div class=\"sk-toggleable__content\"><pre>CountVectorizer()</pre></div></div></div><div class=\"sk-item sk-dashed-wrapped\"><div class=\"sk-label-container\"><div class=\"sk-label sk-toggleable\"><input class=\"sk-toggleable__control sk-hidden--visually\" id=\"sk-estimator-id-28\" type=\"checkbox\" ><label for=\"sk-estimator-id-28\" class=\"sk-toggleable__label sk-toggleable__label-arrow\">nb: MultiOutputClassifier</label><div class=\"sk-toggleable__content\"><pre>MultiOutputClassifier(estimator=MultinomialNB())</pre></div></div></div><div class=\"sk-parallel\"><div class=\"sk-parallel-item\"><div class=\"sk-item\"><div class=\"sk-label-container\"><div class=\"sk-label sk-toggleable\"><input class=\"sk-toggleable__control sk-hidden--visually\" id=\"sk-estimator-id-29\" type=\"checkbox\" ><label for=\"sk-estimator-id-29\" class=\"sk-toggleable__label sk-toggleable__label-arrow\">estimator: MultinomialNB</label><div class=\"sk-toggleable__content\"><pre>MultinomialNB()</pre></div></div></div><div class=\"sk-serial\"><div class=\"sk-item\"><div class=\"sk-estimator sk-toggleable\"><input class=\"sk-toggleable__control sk-hidden--visually\" id=\"sk-estimator-id-30\" type=\"checkbox\" ><label for=\"sk-estimator-id-30\" class=\"sk-toggleable__label sk-toggleable__label-arrow\">MultinomialNB</label><div class=\"sk-toggleable__content\"><pre>MultinomialNB()</pre></div></div></div></div></div></div></div></div></div></div></div></div>"
      ],
      "text/plain": [
       "Pipeline(steps=[('cv', CountVectorizer()),\n",
       "                ('nb', MultiOutputClassifier(estimator=MultinomialNB()))])"
      ]
     },
     "execution_count": 72,
     "metadata": {},
     "output_type": "execute_result"
    }
   ],
   "source": [
    "pipe_nb.fit(X_train,y_train)"
   ]
  },
  {
   "cell_type": "code",
   "execution_count": 73,
   "id": "c7b7cfec",
   "metadata": {},
   "outputs": [
    {
     "data": {
      "text/plain": [
       "0.4394736842105263"
      ]
     },
     "execution_count": 73,
     "metadata": {},
     "output_type": "execute_result"
    }
   ],
   "source": [
    "# Accuracy\n",
    "pipe_nb.score(X_test,y_test)"
   ]
  },
  {
   "cell_type": "code",
   "execution_count": 74,
   "id": "5d554ba6",
   "metadata": {},
   "outputs": [
    {
     "name": "stdout",
     "output_type": "stream",
     "text": [
      "One by Two\n",
      "Actual Prediction: type      Movie\n",
      "rating    TV-14\n",
      "Name: 1544, dtype: object\n"
     ]
    }
   ],
   "source": [
    "# Make a prediction of the rating \n",
    "# Sample Prediction\n",
    "print(X_test.iloc[0])\n",
    "print(\"Actual Prediction:\",y_test.iloc[0])"
   ]
  },
  {
   "cell_type": "code",
   "execution_count": 75,
   "id": "38cb3bfe",
   "metadata": {},
   "outputs": [
    {
     "data": {
      "text/plain": [
       "'One by Two'"
      ]
     },
     "execution_count": 75,
     "metadata": {},
     "output_type": "execute_result"
    }
   ],
   "source": [
    "ex1_2 = X_test.iloc[0]\n",
    "ex1_2"
   ]
  },
  {
   "cell_type": "code",
   "execution_count": 76,
   "id": "cf52fce5",
   "metadata": {},
   "outputs": [
    {
     "data": {
      "text/plain": [
       "array([['Movie', 'TV-14']], dtype='<U7')"
      ]
     },
     "execution_count": 76,
     "metadata": {},
     "output_type": "execute_result"
    }
   ],
   "source": [
    "pipe_nb.predict([ex1_2])"
   ]
  },
  {
   "cell_type": "code",
   "execution_count": 77,
   "id": "b869e273",
   "metadata": {},
   "outputs": [
    {
     "name": "stdout",
     "output_type": "stream",
     "text": [
      "[array(['Movie', 'TV Show'], dtype='<U7'), array(['G', 'NC-17', 'NR', 'PG', 'PG-13', 'R', 'TV-14', 'TV-G', 'TV-MA',\n",
      "       'TV-PG', 'TV-Y', 'TV-Y7', 'UR'], dtype='<U5')]\n"
     ]
    },
    {
     "data": {
      "text/plain": [
       "[array([[0.99697647, 0.00302353]]),\n",
       " array([[1.92117816e-03, 2.78023467e-04, 4.81493465e-03, 1.55148612e-02,\n",
       "         3.03827385e-02, 3.14017858e-01, 4.27839756e-01, 2.15524186e-03,\n",
       "         1.34098765e-01, 6.49588872e-02, 5.52065707e-04, 3.18726597e-03,\n",
       "         2.78423885e-04]])]"
      ]
     },
     "execution_count": 77,
     "metadata": {},
     "output_type": "execute_result"
    }
   ],
   "source": [
    "# Prediction Prob\n",
    "print(pipe_nb.classes_)\n",
    "pipe_nb.predict_proba([ex1_2])"
   ]
  },
  {
   "cell_type": "code",
   "execution_count": null,
   "id": "e60209a1",
   "metadata": {},
   "outputs": [],
   "source": []
  },
  {
   "cell_type": "code",
   "execution_count": null,
   "id": "280e0477",
   "metadata": {},
   "outputs": [],
   "source": []
  },
  {
   "cell_type": "code",
   "execution_count": null,
   "id": "08344e65",
   "metadata": {},
   "outputs": [],
   "source": []
  },
  {
   "cell_type": "code",
   "execution_count": null,
   "id": "6e7cdac8",
   "metadata": {},
   "outputs": [],
   "source": []
  }
 ],
 "metadata": {
  "kernelspec": {
   "display_name": "Python 3 (ipykernel)",
   "language": "python",
   "name": "python3"
  },
  "language_info": {
   "codemirror_mode": {
    "name": "ipython",
    "version": 3
   },
   "file_extension": ".py",
   "mimetype": "text/x-python",
   "name": "python",
   "nbconvert_exporter": "python",
   "pygments_lexer": "ipython3",
   "version": "3.10.6"
  }
 },
 "nbformat": 4,
 "nbformat_minor": 5
}
